{
 "cells": [
  {
   "cell_type": "markdown",
   "metadata": {},
   "source": [
    "# Test 13: Jet and MET\n",
    "Test `jet_MET` function which collects the information of $\\Delta\\phi$ between jet and MET for each event by using SVJ with CKKW-L and without decay data."
   ]
  },
  {
   "cell_type": "markdown",
   "metadata": {},
   "source": [
    "## 1. Import Packages"
   ]
  },
  {
   "cell_type": "code",
   "execution_count": 1,
   "metadata": {},
   "outputs": [],
   "source": [
    "# The Python Standard Library\n",
    "import os\n",
    "import sys\n",
    "import time\n",
    "import datetime\n",
    "import glob\n",
    "import multiprocessing as mp\n",
    "\n",
    "# The Third-Party Library\n",
    "import math\n",
    "import numpy as np\n",
    "import pandas as pd\n",
    "import matplotlib.pyplot as plt\n",
    "import tqdm\n",
    "import prettytable\n",
    "import uproot\n",
    "import pyjet\n",
    "import importlib\n",
    "\n",
    "# My Packages\n",
    "import myhep.particle_information_v2 as mypInfo_v2\n",
    "import myhep.analytical_function_v2 as myaFun_v2\n",
    "import myhep.analysis_v3 as myAnal_v3\n",
    "# import myhep.particleinfo_v1 as mypiv1\n",
    "# import myhep.particlefun_v1 as myafv1\n",
    "\n",
    "# increase figure showing resolution\n",
    "%config InlineBackend.figure_format = 'retina'"
   ]
  },
  {
   "cell_type": "markdown",
   "metadata": {},
   "source": [
    "## 2. Import .root File and Load the Data via class\n",
    "Skip:  \n",
    "2-1. Check the number of events for each branch  \n",
    "2-2. Define mass quantities"
   ]
  },
  {
   "cell_type": "code",
   "execution_count": 2,
   "metadata": {},
   "outputs": [],
   "source": [
    "INPUT_FILE = '/youwei_u3/svj_data_master/scheme_1/root/ckkwl_wo.root'\n",
    "\n",
    "DATA = uproot.open(INPUT_FILE)['Delphes;1']\n",
    "GP = mypInfo_v2.classGenParticle(DATA)\n",
    "Jet = mypInfo_v2.classJet(DATA)\n",
    "Event = mypInfo_v2.classEvent(DATA)"
   ]
  },
  {
   "cell_type": "markdown",
   "metadata": {},
   "source": [
    "## 3. Analyze the Dark Sector in the Parton and Truth Levels\n",
    "Skip"
   ]
  },
  {
   "cell_type": "markdown",
   "metadata": {},
   "source": [
    "## 4. Jet Clustering"
   ]
  },
  {
   "cell_type": "markdown",
   "metadata": {},
   "source": [
    "### 4-1. Select stable final state particles without/with filtering out dark sector"
   ]
  },
  {
   "cell_type": "code",
   "execution_count": 3,
   "metadata": {},
   "outputs": [
    {
     "name": "stdout",
     "output_type": "stream",
     "text": [
      "The PID of dark matter are [51, -51, 53, -53, 4900211, -4900211, 4900213, -4900213, 4900101, -4900101, 4900021, 12, -12, 14, -14, 16, -16].\n",
      "19373 events are stable final state.\n",
      "19373 events are stable final state without DM.\n"
     ]
    }
   ],
   "source": [
    "SFSP, SFSP_filterDM = myAnal_v3.selectStableFinalStateParticle(\n",
    "    GP, filter=[51, -51, 53, -53, 4900211, -4900211, 4900213, -4900213,\n",
    "                4900101, -4900101, 4900021,\n",
    "                12, -12, 14, -14, 16, -16])"
   ]
  },
  {
   "cell_type": "markdown",
   "metadata": {},
   "source": [
    "### 4-2. Let's do the jet clustering!!"
   ]
  },
  {
   "cell_type": "code",
   "execution_count": 4,
   "metadata": {},
   "outputs": [
    {
     "name": "stdout",
     "output_type": "stream",
     "text": [
      "Done\n"
     ]
    }
   ],
   "source": [
    "R, JetClusteringAlgorithm, pTmin_pyjet = 0.4, -1, 0\n",
    "\n",
    "PseudoJet = myAnal_v3.jetClustering_v1(SFSP, R=R,\n",
    "                                       p=JetClusteringAlgorithm,\n",
    "                                       pTmin=pTmin_pyjet)\n",
    "PseudoJet_filterDM = myAnal_v3.jetClustering_v1(SFSP_filterDM, R=R,\n",
    "                                                p=JetClusteringAlgorithm,\n",
    "                                                pTmin=pTmin_pyjet)\n",
    "print('Done')"
   ]
  },
  {
   "cell_type": "markdown",
   "metadata": {},
   "source": [
    "## 5. Analyze the Jet in the Truth Level"
   ]
  },
  {
   "cell_type": "markdown",
   "metadata": {},
   "source": [
    "### 5-1. Preselection version 1"
   ]
  },
  {
   "cell_type": "code",
   "execution_count": 5,
   "metadata": {},
   "outputs": [
    {
     "name": "stdout",
     "output_type": "stream",
     "text": [
      "19373 events before preselection\n",
      "19373 events after pT preselection\n",
      "19373 events after pT & eta preselections\n",
      "--------------------------------------------------------------------------------\n",
      "0 events without PseudoJet before preselection\n",
      "364 events without PseudoJet after pT preselection\n",
      "526 events without PseudoJet after pT & eta preselections\n"
     ]
    }
   ],
   "source": [
    "presel_bef, presel_pt, presel_pt_eta, presel_idx = myAnal_v3.preselection_v1(PseudoJet_filterDM, pT_min=20, eta_max=2.5)"
   ]
  },
  {
   "cell_type": "markdown",
   "metadata": {},
   "source": [
    "### 5-2. MET"
   ]
  },
  {
   "cell_type": "code",
   "execution_count": 6,
   "metadata": {},
   "outputs": [
    {
     "name": "stdout",
     "output_type": "stream",
     "text": [
      "19373 events in MET data.\n"
     ]
    }
   ],
   "source": [
    "arr_MET, df_MET = myAnal_v3.MET_visParticles_v1(SFSP_filterDM)"
   ]
  },
  {
   "cell_type": "markdown",
   "metadata": {},
   "source": [
    "### 5-3. Jet and MET"
   ]
  },
  {
   "cell_type": "code",
   "execution_count": 7,
   "metadata": {},
   "outputs": [
    {
     "name": "stdout",
     "output_type": "stream",
     "text": [
      "19373 events.\n",
      "Azimuthal angle difference between 4 leading jets and MET, and minimum azimuthal angle between all jets and MET.\n"
     ]
    }
   ],
   "source": [
    "df_jet_MET = myAnal_v3.jet_MET(presel_pt_eta, arr_MET)"
   ]
  },
  {
   "cell_type": "code",
   "execution_count": 8,
   "metadata": {},
   "outputs": [
    {
     "data": {
      "text/html": [
       "<div>\n",
       "<style scoped>\n",
       "    .dataframe tbody tr th:only-of-type {\n",
       "        vertical-align: middle;\n",
       "    }\n",
       "\n",
       "    .dataframe tbody tr th {\n",
       "        vertical-align: top;\n",
       "    }\n",
       "\n",
       "    .dataframe thead th {\n",
       "        text-align: right;\n",
       "    }\n",
       "</style>\n",
       "<table border=\"1\" class=\"dataframe\">\n",
       "  <thead>\n",
       "    <tr style=\"text-align: right;\">\n",
       "      <th></th>\n",
       "      <th>N_jet</th>\n",
       "      <th>Dphi_j1_MET</th>\n",
       "      <th>Dphi_j2_MET</th>\n",
       "      <th>Dphi_j3_MET</th>\n",
       "      <th>Dphi_j4_MET</th>\n",
       "      <th>min_Dphi_j_MET</th>\n",
       "    </tr>\n",
       "  </thead>\n",
       "  <tbody>\n",
       "    <tr>\n",
       "      <th>0</th>\n",
       "      <td>2.0</td>\n",
       "      <td>2.964638</td>\n",
       "      <td>3.070738</td>\n",
       "      <td>-999.000000</td>\n",
       "      <td>-999.000000</td>\n",
       "      <td>2.964638</td>\n",
       "    </tr>\n",
       "    <tr>\n",
       "      <th>1</th>\n",
       "      <td>3.0</td>\n",
       "      <td>1.770399</td>\n",
       "      <td>2.603022</td>\n",
       "      <td>1.769629</td>\n",
       "      <td>-999.000000</td>\n",
       "      <td>1.769629</td>\n",
       "    </tr>\n",
       "    <tr>\n",
       "      <th>2</th>\n",
       "      <td>1.0</td>\n",
       "      <td>3.140019</td>\n",
       "      <td>-999.000000</td>\n",
       "      <td>-999.000000</td>\n",
       "      <td>-999.000000</td>\n",
       "      <td>3.140019</td>\n",
       "    </tr>\n",
       "    <tr>\n",
       "      <th>3</th>\n",
       "      <td>1.0</td>\n",
       "      <td>2.997144</td>\n",
       "      <td>-999.000000</td>\n",
       "      <td>-999.000000</td>\n",
       "      <td>-999.000000</td>\n",
       "      <td>2.997144</td>\n",
       "    </tr>\n",
       "    <tr>\n",
       "      <th>4</th>\n",
       "      <td>4.0</td>\n",
       "      <td>2.897558</td>\n",
       "      <td>2.945442</td>\n",
       "      <td>0.079480</td>\n",
       "      <td>0.844717</td>\n",
       "      <td>0.079480</td>\n",
       "    </tr>\n",
       "  </tbody>\n",
       "</table>\n",
       "</div>"
      ],
      "text/plain": [
       "   N_jet  Dphi_j1_MET  Dphi_j2_MET  Dphi_j3_MET  Dphi_j4_MET  min_Dphi_j_MET\n",
       "0    2.0     2.964638     3.070738  -999.000000  -999.000000        2.964638\n",
       "1    3.0     1.770399     2.603022     1.769629  -999.000000        1.769629\n",
       "2    1.0     3.140019  -999.000000  -999.000000  -999.000000        3.140019\n",
       "3    1.0     2.997144  -999.000000  -999.000000  -999.000000        2.997144\n",
       "4    4.0     2.897558     2.945442     0.079480     0.844717        0.079480"
      ]
     },
     "execution_count": 8,
     "metadata": {},
     "output_type": "execute_result"
    }
   ],
   "source": [
    "df_jet_MET.head()"
   ]
  },
  {
   "cell_type": "markdown",
   "metadata": {},
   "source": [
    "##### Conclusion: Well done!!"
   ]
  },
  {
   "cell_type": "code",
   "execution_count": 9,
   "metadata": {},
   "outputs": [
    {
     "name": "stdout",
     "output_type": "stream",
     "text": [
      "There is the jet.\n",
      "event 85: phi = [-1.7157056   0.36653449 -1.79523995  1.73606785 -0.64120926 -2.47622644], MET = 178.89822936222123, MET_phi = 2.0723682399119148\n",
      "         Dphi_1 = [3.78807384 1.70583375 3.86760819 0.33630039 2.7135775  4.54859468]\n",
      "         Dphi_2 = [2.49511146 1.70583375 2.41557711 0.33630039 2.7135775  1.73459063], min[Dphi] = [0.33630039]\n",
      "         Dphi_3 = [2.49511146 1.70583375 2.41557711 0.33630039 2.7135775  1.73459063]\n",
      "         j_MET = [6.         2.49511146 1.70583375 2.41557711 0.33630039 0.33630039]\n",
      "--------------------------------------------------------------------------------\n",
      "There is NO the jet.\n",
      "event 86: phi = [], MET = 11.642289591890822, MET_phi = 2.4409867632787035\n",
      "         Dphi_1 = [-999. -999. -999. -999.]\n",
      "         Dphi_2 = [-999. -999. -999. -999.], min[Dphi] = [-999.]\n",
      "         Dphi_3 = [-999. -999. -999. -999. -999. -999. -999. -999.]\n",
      "         j_MET = [   0. -999. -999. -999. -999. -999.]\n",
      "--------------------------------------------------------------------------------\n",
      "There is the jet.\n",
      "event 87: phi = [0.82032372 2.99635445], MET = 508.6638228505222, MET_phi = -2.218533911446925\n",
      "         Dphi_1 = [3.03885763 5.21488836]\n",
      "         Dphi_2 = [3.03885763 1.06829695], min[Dphi] = [1.06829695]\n",
      "         Dphi_3 = [   3.03885763    1.06829695 -999.         -999.        ]\n",
      "         j_MET = [   2.            3.03885763    1.06829695 -999.         -999.\n",
      "    1.06829695]\n",
      "--------------------------------------------------------------------------------\n"
     ]
    },
    {
     "data": {
      "text/plain": [
       "array([[ 6.00000000e+00,  2.49511146e+00,  1.70583375e+00,\n",
       "         2.41557711e+00,  3.36300394e-01,  3.36300394e-01],\n",
       "       [ 0.00000000e+00, -9.99000000e+02, -9.99000000e+02,\n",
       "        -9.99000000e+02, -9.99000000e+02, -9.99000000e+02],\n",
       "       [ 2.00000000e+00,  3.03885763e+00,  1.06829695e+00,\n",
       "        -9.99000000e+02, -9.99000000e+02,  1.06829695e+00]])"
      ]
     },
     "execution_count": 9,
     "metadata": {},
     "output_type": "execute_result"
    }
   ],
   "source": [
    "# !!! test 'jet_MET' function !!!\n",
    "# \n",
    "_jet_met = []\n",
    "for i in range(85, 88): # test 0~3 or 85~88\n",
    "    n_jet = presel_pt_eta[i].shape[0]\n",
    "    pt, eta = presel_pt_eta[i]['pT'], presel_pt_eta[i]['eta']\n",
    "    phi, mass = presel_pt_eta[i]['phi'], presel_pt_eta[i]['mass']\n",
    "    met, met_phi = arr_MET[i]['MET'], arr_MET[i]['phi']\n",
    "    j_met = np.array([n_jet])\n",
    "    if n_jet != 0:\n",
    "        print('There is the jet.')\n",
    "        Dphi = np.absolute(phi - met_phi)\n",
    "    else:\n",
    "        print('There is NO the jet.')\n",
    "        Dphi = np.full(4, -999, dtype=np.float64)\n",
    "    print(f'event {i}: phi = {phi}, MET = {met}, MET_phi = {met_phi}')\n",
    "    print(f'         Dphi_1 = {Dphi}')\n",
    "    Dphi[Dphi > np.pi] = 2*np.pi - Dphi[Dphi > np.pi]\n",
    "    min_Dphi = np.array([np.amin(Dphi)])\n",
    "    print(f'         Dphi_2 = {Dphi}, min[Dphi] = {min_Dphi}')\n",
    "    if n_jet < 4:\n",
    "        diff = 4 - n_jet\n",
    "        arr_n999 = np.full(diff, -999, dtype=np.float64)\n",
    "        Dphi = np.concatenate((Dphi, arr_n999), axis=None)\n",
    "    print(f'         Dphi_3 = {Dphi}')\n",
    "    j_met = np.concatenate((j_met, Dphi[:4], min_Dphi), axis=None)\n",
    "    print(f'         j_MET = {j_met}')\n",
    "    _jet_met.append(j_met)\n",
    "    print('-'*80)\n",
    "arr_jet_met = np.stack(_jet_met, axis=0)\n",
    "arr_jet_met"
   ]
  },
  {
   "cell_type": "markdown",
   "metadata": {},
   "source": [
    "## Test"
   ]
  },
  {
   "cell_type": "markdown",
   "metadata": {},
   "source": [
    "### Test A: basic"
   ]
  },
  {
   "cell_type": "code",
   "execution_count": 10,
   "metadata": {},
   "outputs": [
    {
     "name": "stdout",
     "output_type": "stream",
     "text": [
      "[('pT', '<f8'), ('eta', '<f8'), ('phi', '<f8'), ('mass', '<f8')]\n"
     ]
    },
    {
     "data": {
      "text/plain": [
       "array([(87.39944212, 0.18768543, -0.16260718, 13.97055667),\n",
       "       (64.21380757, 0.61326145, -0.41041687, 11.67831571)],\n",
       "      dtype=[('pT', '<f8'), ('eta', '<f8'), ('phi', '<f8'), ('mass', '<f8')])"
      ]
     },
     "execution_count": 10,
     "metadata": {},
     "output_type": "execute_result"
    }
   ],
   "source": [
    "print(presel_pt_eta[0].dtype)\n",
    "presel_pt_eta[0]"
   ]
  },
  {
   "cell_type": "code",
   "execution_count": 11,
   "metadata": {},
   "outputs": [
    {
     "name": "stdout",
     "output_type": "stream",
     "text": [
      "float64\n"
     ]
    },
    {
     "data": {
      "text/plain": [
       "array([87.39944212, 64.21380757])"
      ]
     },
     "execution_count": 11,
     "metadata": {},
     "output_type": "execute_result"
    }
   ],
   "source": [
    "print(presel_pt_eta[0]['pT'].dtype)\n",
    "presel_pt_eta[0]['pT']"
   ]
  },
  {
   "cell_type": "code",
   "execution_count": 12,
   "metadata": {},
   "outputs": [
    {
     "name": "stdout",
     "output_type": "stream",
     "text": [
      "[('MET', '<f8'), ('phi', '<f8'), ('METx', '<f8'), ('METy', '<f8')]\n"
     ]
    },
    {
     "data": {
      "text/plain": [
       "array([(155.78999264,  2.80203073, -146.89448818,  51.88960539),\n",
       "       (158.13608629, -0.31722873,  150.24565215, -49.32814406),\n",
       "       (201.62627625, -0.37612596,  187.53151556, -74.06136607),\n",
       "       (105.30642437,  2.74217592,  -97.01754218,  40.95167303),\n",
       "       (204.68373461,  0.53197955,  176.397395  , 103.8238424 )],\n",
       "      dtype=[('MET', '<f8'), ('phi', '<f8'), ('METx', '<f8'), ('METy', '<f8')])"
      ]
     },
     "execution_count": 12,
     "metadata": {},
     "output_type": "execute_result"
    }
   ],
   "source": [
    "print(arr_MET[:5].dtype)\n",
    "arr_MET[:5]"
   ]
  },
  {
   "cell_type": "code",
   "execution_count": 13,
   "metadata": {},
   "outputs": [
    {
     "name": "stdout",
     "output_type": "stream",
     "text": [
      "float64\n"
     ]
    },
    {
     "data": {
      "text/plain": [
       "array([155.78999264, 158.13608629, 201.62627625, 105.30642437,\n",
       "       204.68373461])"
      ]
     },
     "execution_count": 13,
     "metadata": {},
     "output_type": "execute_result"
    }
   ],
   "source": [
    "print(arr_MET['MET'].dtype)\n",
    "arr_MET['MET'][:5]"
   ]
  },
  {
   "cell_type": "code",
   "execution_count": 14,
   "metadata": {},
   "outputs": [
    {
     "name": "stdout",
     "output_type": "stream",
     "text": [
      "28\n",
      "86\n"
     ]
    }
   ],
   "source": [
    "# find 0-jet events\n",
    "for i in range(100):\n",
    "    if presel_pt_eta[i].shape[0] == 0:\n",
    "        print(i)"
   ]
  },
  {
   "cell_type": "code",
   "execution_count": 15,
   "metadata": {},
   "outputs": [
    {
     "data": {
      "text/plain": [
       "array([],\n",
       "      dtype=[('pT', '<f8'), ('eta', '<f8'), ('phi', '<f8'), ('mass', '<f8')])"
      ]
     },
     "execution_count": 15,
     "metadata": {},
     "output_type": "execute_result"
    }
   ],
   "source": [
    "presel_pt_eta[28]"
   ]
  },
  {
   "cell_type": "code",
   "execution_count": 16,
   "metadata": {},
   "outputs": [
    {
     "data": {
      "text/plain": [
       "array([], dtype=float64)"
      ]
     },
     "execution_count": 16,
     "metadata": {},
     "output_type": "execute_result"
    }
   ],
   "source": [
    "presel_pt_eta[28]['pT']"
   ]
  },
  {
   "cell_type": "code",
   "execution_count": 17,
   "metadata": {},
   "outputs": [
    {
     "data": {
      "text/plain": [
       "array([], dtype=float64)"
      ]
     },
     "execution_count": 17,
     "metadata": {},
     "output_type": "execute_result"
    }
   ],
   "source": [
    "presel_pt_eta[28]['phi']"
   ]
  },
  {
   "cell_type": "code",
   "execution_count": 18,
   "metadata": {},
   "outputs": [
    {
     "name": "stdout",
     "output_type": "stream",
     "text": [
      "pT = []\n",
      "eta = []\n",
      "phi = []\n",
      "mass = []\n"
     ]
    }
   ],
   "source": [
    "print(f\"pT = {presel_pt_eta[28]['pT']}\")\n",
    "print(f\"eta = {presel_pt_eta[28]['eta']}\")\n",
    "print(f\"phi = {presel_pt_eta[28]['phi']}\")\n",
    "print(f\"mass = {presel_pt_eta[28]['mass']}\")"
   ]
  },
  {
   "cell_type": "markdown",
   "metadata": {},
   "source": [
    "### Test B: stack all events"
   ]
  },
  {
   "cell_type": "code",
   "execution_count": 19,
   "metadata": {},
   "outputs": [
    {
     "name": "stdout",
     "output_type": "stream",
     "text": [
      "MET_phi = [(100.,  4.) (100.,  1.) (200.,  2.) (300., 30.)]\n",
      " --------------------------------------------------------------------------------\n",
      "switch = False\n",
      "There is NO jet.\n",
      "event 0: pT = [], phi = [], MET = 100.0, MET_phi = 4.0\n",
      "         Dphi_1 = [-999. -999. -999. -999.]\n",
      "         Dphi_2 = [-999. -999. -999. -999.], min[Dphi] = [-999.]\n",
      "         Dphi_3 = [-999. -999. -999. -999.]\n",
      "         j_MET = [   0. -999. -999. -999. -999. -999.]\n",
      "--------------------------------------------------------------------------------\n",
      "switch = True\n",
      "There is jet.\n",
      "event 1: pT = [1 2], phi = [10 22], MET = 100.0, MET_phi = 1.0\n",
      "         Dphi_1 = [ 9. 21.]\n",
      "         Dphi_2 = [ 9. -9.], min[Dphi] = [-9.]\n",
      "         Dphi_3 = [   9.   -9. -999. -999.]\n",
      "         j_MET = [   2.    9.   -9. -999. -999.   -9.]\n",
      "--------------------------------------------------------------------------------\n",
      "switch = True\n",
      "There is jet.\n",
      "event 2: pT = [1 2 3], phi = [10 22 33], MET = 200.0, MET_phi = 2.0\n",
      "         Dphi_1 = [ 8. 20. 31.]\n",
      "         Dphi_2 = [ 8. 20.  1.], min[Dphi] = [1.]\n",
      "         Dphi_3 = [   8.   20.    1. -999.]\n",
      "         j_MET = [   3.    8.   20.    1. -999.    1.]\n",
      "--------------------------------------------------------------------------------\n",
      "switch = True\n",
      "There is jet.\n",
      "event 3: pT = [1 2 3 6], phi = [10 22 33 66], MET = 300.0, MET_phi = 30.0\n",
      "         Dphi_1 = [20.  8.  3. 36.]\n",
      "         Dphi_2 = [20.  8.  3.  6.], min[Dphi] = [3.]\n",
      "         Dphi_3 = [20.  8.  3.  6.]\n",
      "         j_MET = [ 4. 20.  8.  3.  6.  3.]\n",
      "--------------------------------------------------------------------------------\n"
     ]
    },
    {
     "data": {
      "text/plain": [
       "array([[   0., -999., -999., -999., -999., -999.],\n",
       "       [   2.,    9.,   -9., -999., -999.,   -9.],\n",
       "       [   3.,    8.,   20.,    1., -999.,    1.],\n",
       "       [   4.,   20.,    8.,    3.,    6.,    3.]])"
      ]
     },
     "execution_count": 19,
     "metadata": {},
     "output_type": "execute_result"
    }
   ],
   "source": [
    "switch = False\n",
    "_jet_met = []\n",
    "a, b = np.array([1]), np.array([10])\n",
    "MET_phi = np.array([(100, 4), (100, 1), (200, 2), (300, 30)],\n",
    "                   dtype=[('MET', '<f8'), ('phi', '<f8')])\n",
    "print(f'MET_phi = {MET_phi}\\n', '-'*80)\n",
    "for i, element in enumerate([1, 2, 3, 6]):\n",
    "    print(f'switch = {switch}')\n",
    "    if switch == False:\n",
    "        pt, phi = np.array([]), np.array([])\n",
    "    else:\n",
    "        a, b = np.append(a, [element]), np.append(b, [10 * element + element])\n",
    "        pt, phi = a, b\n",
    "    switch = True\n",
    "    met, met_phi = MET_phi[i]['MET'], MET_phi[i]['phi']\n",
    "    n_pt = pt.shape[0]\n",
    "    j_met = np.array([n_pt])\n",
    "    if n_pt != 0:\n",
    "        print('There is jet.')\n",
    "        Dphi = np.absolute(phi - met_phi)\n",
    "    else:\n",
    "        print('There is NO jet.')\n",
    "        Dphi = np.full(4, -999, dtype=np.float64)\n",
    "    print(f'event {i}: pT = {pt}, phi = {phi}, MET = {met}, MET_phi = {met_phi}')\n",
    "    print(f'         Dphi_1 = {Dphi}')\n",
    "    # if dphi > 20:\n",
    "        # Dphi = 20 - dphi\n",
    "    # else:\n",
    "        # Dphi = dphi\n",
    "    # Dphi[Dphi > 20] = Dphi[Dphi > 20] - 7\n",
    "    Dphi[Dphi > 20] = Dphi[Dphi > 20] - 30\n",
    "    min_Dphi = np.array([np.amin(Dphi)])\n",
    "    print(f'         Dphi_2 = {Dphi}, min[Dphi] = {min_Dphi}')\n",
    "    if Dphi.shape[0] < 4:\n",
    "        diff = 4 - Dphi.shape[0]\n",
    "        arr_n999 = np.full(diff, -999, dtype=np.float64)\n",
    "        Dphi = np.concatenate((Dphi, arr_n999), axis=None)\n",
    "    print(f'         Dphi_3 = {Dphi}')\n",
    "    j_met = np.concatenate((j_met, Dphi[:4], min_Dphi), axis=None)\n",
    "    print(f'         j_MET = {j_met}')\n",
    "    _jet_met.append(j_met)\n",
    "    print('-'*80)\n",
    "np.stack(_jet_met, axis=0)"
   ]
  },
  {
   "cell_type": "markdown",
   "metadata": {},
   "source": [
    "### Test C"
   ]
  },
  {
   "cell_type": "code",
   "execution_count": 20,
   "metadata": {},
   "outputs": [
    {
     "name": "stdout",
     "output_type": "stream",
     "text": [
      "[-10  -9  -8   0   3]\n"
     ]
    },
    {
     "data": {
      "text/plain": [
       "array([10,  9,  8,  0,  3])"
      ]
     },
     "execution_count": 20,
     "metadata": {},
     "output_type": "execute_result"
    }
   ],
   "source": [
    "a = np.array([10, 11, 12, 20, 23])\n",
    "print(a - 20)\n",
    "np.absolute(a - 20)"
   ]
  },
  {
   "cell_type": "code",
   "execution_count": 21,
   "metadata": {},
   "outputs": [
    {
     "name": "stdout",
     "output_type": "stream",
     "text": [
      "1. []\n",
      "--------------------\n",
      "2. []\n"
     ]
    }
   ],
   "source": [
    "# a = np.array([10, 11, 12, 20, 23])\n",
    "a = np.array([])\n",
    "print(f'1. {a[a > 11]}')\n",
    "print('-'*20)\n",
    "\n",
    "a[a > 11] = 7\n",
    "print(f'2. {a}')"
   ]
  },
  {
   "cell_type": "code",
   "execution_count": 22,
   "metadata": {},
   "outputs": [
    {
     "data": {
      "text/plain": [
       "array([10, 11,  5, 13, 16])"
      ]
     },
     "execution_count": 22,
     "metadata": {},
     "output_type": "execute_result"
    }
   ],
   "source": [
    "a = np.array([10, 11, 12, 20, 23])\n",
    "# a = np.array([])\n",
    "a[a > 11] = a[a > 11] - 7\n",
    "a"
   ]
  },
  {
   "cell_type": "code",
   "execution_count": 23,
   "metadata": {},
   "outputs": [
    {
     "name": "stdout",
     "output_type": "stream",
     "text": [
      "5\n",
      "5\n"
     ]
    }
   ],
   "source": [
    "print(np.min(a))\n",
    "print(np.amin(a))"
   ]
  },
  {
   "cell_type": "code",
   "execution_count": 24,
   "metadata": {},
   "outputs": [
    {
     "data": {
      "text/plain": [
       "array([[0, 1],\n",
       "       [2, 3]])"
      ]
     },
     "execution_count": 24,
     "metadata": {},
     "output_type": "execute_result"
    }
   ],
   "source": [
    "a = np.arange(4).reshape((2,2))\n",
    "a"
   ]
  },
  {
   "cell_type": "code",
   "execution_count": 25,
   "metadata": {},
   "outputs": [
    {
     "data": {
      "text/plain": [
       "0"
      ]
     },
     "execution_count": 25,
     "metadata": {},
     "output_type": "execute_result"
    }
   ],
   "source": [
    "np.amin(a)"
   ]
  },
  {
   "cell_type": "code",
   "execution_count": 26,
   "metadata": {},
   "outputs": [
    {
     "name": "stdout",
     "output_type": "stream",
     "text": [
      "(1,)\n"
     ]
    },
    {
     "data": {
      "text/plain": [
       "array([0])"
      ]
     },
     "execution_count": 26,
     "metadata": {},
     "output_type": "execute_result"
    }
   ],
   "source": [
    "a = np.array([0])\n",
    "print(a.shape)\n",
    "a"
   ]
  },
  {
   "cell_type": "code",
   "execution_count": 27,
   "metadata": {},
   "outputs": [
    {
     "name": "stdout",
     "output_type": "stream",
     "text": [
      "(0,)\n"
     ]
    },
    {
     "data": {
      "text/plain": [
       "array([], dtype=float64)"
      ]
     },
     "execution_count": 27,
     "metadata": {},
     "output_type": "execute_result"
    }
   ],
   "source": [
    "a = np.array([])\n",
    "print(a.shape)\n",
    "a"
   ]
  },
  {
   "cell_type": "code",
   "execution_count": 28,
   "metadata": {},
   "outputs": [
    {
     "ename": "ValueError",
     "evalue": "zero-size array to reduction operation minimum which has no identity",
     "output_type": "error",
     "traceback": [
      "\u001b[0;31m---------------------------------------------------------------------------\u001b[0m",
      "\u001b[0;31mValueError\u001b[0m                                Traceback (most recent call last)",
      "\u001b[0;32m<ipython-input-28-04ed14a25364>\u001b[0m in \u001b[0;36m<module>\u001b[0;34m\u001b[0m\n\u001b[0;32m----> 1\u001b[0;31m \u001b[0mnp\u001b[0m\u001b[0;34m.\u001b[0m\u001b[0mamin\u001b[0m\u001b[0;34m(\u001b[0m\u001b[0ma\u001b[0m\u001b[0;34m)\u001b[0m\u001b[0;34m\u001b[0m\u001b[0;34m\u001b[0m\u001b[0m\n\u001b[0m",
      "\u001b[0;32m<__array_function__ internals>\u001b[0m in \u001b[0;36mamin\u001b[0;34m(*args, **kwargs)\u001b[0m\n",
      "\u001b[0;32m/usr/local/lib/python3.8/dist-packages/numpy/core/fromnumeric.py\u001b[0m in \u001b[0;36mamin\u001b[0;34m(a, axis, out, keepdims, initial, where)\u001b[0m\n\u001b[1;32m   2790\u001b[0m     \u001b[0;36m6\u001b[0m\u001b[0;34m\u001b[0m\u001b[0;34m\u001b[0m\u001b[0m\n\u001b[1;32m   2791\u001b[0m     \"\"\"\n\u001b[0;32m-> 2792\u001b[0;31m     return _wrapreduction(a, np.minimum, 'min', axis, None, out,\n\u001b[0m\u001b[1;32m   2793\u001b[0m                           keepdims=keepdims, initial=initial, where=where)\n\u001b[1;32m   2794\u001b[0m \u001b[0;34m\u001b[0m\u001b[0m\n",
      "\u001b[0;32m/usr/local/lib/python3.8/dist-packages/numpy/core/fromnumeric.py\u001b[0m in \u001b[0;36m_wrapreduction\u001b[0;34m(obj, ufunc, method, axis, dtype, out, **kwargs)\u001b[0m\n\u001b[1;32m     88\u001b[0m                 \u001b[0;32mreturn\u001b[0m \u001b[0mreduction\u001b[0m\u001b[0;34m(\u001b[0m\u001b[0maxis\u001b[0m\u001b[0;34m=\u001b[0m\u001b[0maxis\u001b[0m\u001b[0;34m,\u001b[0m \u001b[0mout\u001b[0m\u001b[0;34m=\u001b[0m\u001b[0mout\u001b[0m\u001b[0;34m,\u001b[0m \u001b[0;34m**\u001b[0m\u001b[0mpasskwargs\u001b[0m\u001b[0;34m)\u001b[0m\u001b[0;34m\u001b[0m\u001b[0;34m\u001b[0m\u001b[0m\n\u001b[1;32m     89\u001b[0m \u001b[0;34m\u001b[0m\u001b[0m\n\u001b[0;32m---> 90\u001b[0;31m     \u001b[0;32mreturn\u001b[0m \u001b[0mufunc\u001b[0m\u001b[0;34m.\u001b[0m\u001b[0mreduce\u001b[0m\u001b[0;34m(\u001b[0m\u001b[0mobj\u001b[0m\u001b[0;34m,\u001b[0m \u001b[0maxis\u001b[0m\u001b[0;34m,\u001b[0m \u001b[0mdtype\u001b[0m\u001b[0;34m,\u001b[0m \u001b[0mout\u001b[0m\u001b[0;34m,\u001b[0m \u001b[0;34m**\u001b[0m\u001b[0mpasskwargs\u001b[0m\u001b[0;34m)\u001b[0m\u001b[0;34m\u001b[0m\u001b[0;34m\u001b[0m\u001b[0m\n\u001b[0m\u001b[1;32m     91\u001b[0m \u001b[0;34m\u001b[0m\u001b[0m\n\u001b[1;32m     92\u001b[0m \u001b[0;34m\u001b[0m\u001b[0m\n",
      "\u001b[0;31mValueError\u001b[0m: zero-size array to reduction operation minimum which has no identity"
     ]
    }
   ],
   "source": [
    "np.amin(a)"
   ]
  },
  {
   "cell_type": "code",
   "execution_count": 29,
   "metadata": {},
   "outputs": [
    {
     "data": {
      "text/plain": [
       "array([], dtype=float64)"
      ]
     },
     "execution_count": 29,
     "metadata": {},
     "output_type": "execute_result"
    }
   ],
   "source": [
    "a - 5"
   ]
  },
  {
   "cell_type": "code",
   "execution_count": null,
   "metadata": {},
   "outputs": [],
   "source": []
  }
 ],
 "metadata": {
  "interpreter": {
   "hash": "31f2aee4e71d21fbe5cf8b01ff0e069b9275f58929596ceb00d14d90e3e16cd6"
  },
  "kernelspec": {
   "display_name": "Python 3.8.9 64-bit",
   "language": "python",
   "name": "python3"
  },
  "language_info": {
   "codemirror_mode": {
    "name": "ipython",
    "version": 3
   },
   "file_extension": ".py",
   "mimetype": "text/x-python",
   "name": "python",
   "nbconvert_exporter": "python",
   "pygments_lexer": "ipython3",
   "version": "3.8.5"
  },
  "orig_nbformat": 4
 },
 "nbformat": 4,
 "nbformat_minor": 2
}

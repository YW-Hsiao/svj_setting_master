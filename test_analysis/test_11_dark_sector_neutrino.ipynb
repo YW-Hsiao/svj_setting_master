{
 "cells": [
  {
   "cell_type": "markdown",
   "metadata": {},
   "source": [
    "# Test 11: Dark Sector\n",
    "Check the constituent of dark sector and neutrino by using SVJ with CKKW-L and without decay data."
   ]
  },
  {
   "cell_type": "markdown",
   "metadata": {},
   "source": [
    "## 1. Import Packages"
   ]
  },
  {
   "cell_type": "code",
   "execution_count": 1,
   "metadata": {},
   "outputs": [],
   "source": [
    "# The Python Standard Library\n",
    "import os\n",
    "import sys\n",
    "import time\n",
    "import datetime\n",
    "import glob\n",
    "import multiprocessing as mp\n",
    "\n",
    "# The Third-Party Library\n",
    "import math\n",
    "import numpy as np\n",
    "import pandas as pd\n",
    "import matplotlib.pyplot as plt\n",
    "import tqdm\n",
    "import prettytable\n",
    "import uproot\n",
    "import pyjet\n",
    "import importlib\n",
    "\n",
    "# My Packages\n",
    "import myhep.particle_information_v2 as mypInfo_v2\n",
    "import myhep.analytical_function_v2 as myaFun_v2\n",
    "import myhep.analysis_v3 as myAnal_v3\n",
    "# import myhep.particleinfo_v1 as mypiv1\n",
    "# import myhep.particlefun_v1 as myafv1\n",
    "\n",
    "# increase figure showing resolution\n",
    "%config InlineBackend.figure_format = 'retina'"
   ]
  },
  {
   "cell_type": "markdown",
   "metadata": {},
   "source": [
    "## 2. Import .root File and Load the Data via class\n",
    "Skip:  \n",
    "2-1. Check the number of events for each branch  \n",
    "2-2. Define mass quantities"
   ]
  },
  {
   "cell_type": "code",
   "execution_count": 2,
   "metadata": {},
   "outputs": [],
   "source": [
    "INPUT_FILE = '/youwei_u3/svj_data_master/scheme_1/root/ckkwl_wo.root'\n",
    "\n",
    "DATA = uproot.open(INPUT_FILE)['Delphes;1']\n",
    "GP = mypInfo_v2.classGenParticle(DATA)\n",
    "Jet = mypInfo_v2.classJet(DATA)\n",
    "Event = mypInfo_v2.classEvent(DATA)"
   ]
  },
  {
   "cell_type": "markdown",
   "metadata": {},
   "source": [
    "## 3. Analyze the `Dark Sector` in the Parton and Truth Levels"
   ]
  },
  {
   "cell_type": "markdown",
   "metadata": {},
   "source": [
    "### 3-1. Dark sector"
   ]
  },
  {
   "cell_type": "code",
   "execution_count": 3,
   "metadata": {},
   "outputs": [
    {
     "name": "stdout",
     "output_type": "stream",
     "text": [
      "* There is NO stable 4900101 in final state.\n",
      "* There is NO stable 4900021 in final state.\n",
      "* There is NO stable 4900111 in final state.\n",
      "* There is NO stable 4900113 in final state.\n",
      "* There is NO 4900102 in this dataset.\n",
      "* There is NO 4900022 in this dataset.\n"
     ]
    }
   ],
   "source": [
    "myAnal_v3.dark_sector(GP)"
   ]
  },
  {
   "cell_type": "markdown",
   "metadata": {},
   "source": [
    "##### Concluison: Well done!!"
   ]
  },
  {
   "cell_type": "markdown",
   "metadata": {},
   "source": [
    "### 3-2. Neutrino"
   ]
  },
  {
   "cell_type": "code",
   "execution_count": 4,
   "metadata": {},
   "outputs": [
    {
     "name": "stdout",
     "output_type": "stream",
     "text": [
      "! 7385 events have the existence of electron neutrino (12) in final state.\n",
      "! 7280 events have the existence of muon neutrino (14) in final state.\n",
      "! 1353 events have the existence of tau neutrino (16) in final state.\n"
     ]
    }
   ],
   "source": [
    "p12_s1, p14_s1, p16_s1 = myAnal_v3.neutrino(GP)"
   ]
  },
  {
   "cell_type": "code",
   "execution_count": 6,
   "metadata": {},
   "outputs": [
    {
     "name": "stdout",
     "output_type": "stream",
     "text": [
      "12: [ 4 14 15 20 21 22 23 25 26 27]\n",
      "14: [ 0  4  7 11 14 15 19 21 23 25]\n",
      "16:\n"
     ]
    },
    {
     "data": {
      "text/plain": [
       "array([ 22,  30,  57, 103, 134, 160, 204, 206, 208, 227])"
      ]
     },
     "execution_count": 6,
     "metadata": {},
     "output_type": "execute_result"
    }
   ],
   "source": [
    "print(f'12: {p12_s1[:10]}')\n",
    "print(f'14: {p14_s1[:10]}')\n",
    "print(f'16:')\n",
    "p16_s1[:10]"
   ]
  },
  {
   "cell_type": "markdown",
   "metadata": {},
   "source": [
    "##### Conclusion: Well done!!"
   ]
  },
  {
   "cell_type": "markdown",
   "metadata": {},
   "source": [
    "## 4. Test"
   ]
  },
  {
   "cell_type": "code",
   "execution_count": 7,
   "metadata": {},
   "outputs": [
    {
     "data": {
      "text/html": [
       "<div>\n",
       "<style scoped>\n",
       "    .dataframe tbody tr th:only-of-type {\n",
       "        vertical-align: middle;\n",
       "    }\n",
       "\n",
       "    .dataframe tbody tr th {\n",
       "        vertical-align: top;\n",
       "    }\n",
       "\n",
       "    .dataframe thead th {\n",
       "        text-align: right;\n",
       "    }\n",
       "</style>\n",
       "<table border=\"1\" class=\"dataframe\">\n",
       "  <thead>\n",
       "    <tr style=\"text-align: right;\">\n",
       "      <th></th>\n",
       "      <th>PID</th>\n",
       "      <th>Status</th>\n",
       "      <th>M1</th>\n",
       "      <th>M2</th>\n",
       "      <th>D1</th>\n",
       "      <th>D2</th>\n",
       "      <th>Mass</th>\n",
       "      <th>PT</th>\n",
       "      <th>Eta</th>\n",
       "      <th>Phi</th>\n",
       "    </tr>\n",
       "  </thead>\n",
       "  <tbody>\n",
       "    <tr>\n",
       "      <th>0</th>\n",
       "      <td>-1</td>\n",
       "      <td>21</td>\n",
       "      <td>4</td>\n",
       "      <td>-1</td>\n",
       "      <td>3</td>\n",
       "      <td>3</td>\n",
       "      <td>0.000000</td>\n",
       "      <td>0.000000e+00</td>\n",
       "      <td>999.900024</td>\n",
       "      <td>0.000000</td>\n",
       "    </tr>\n",
       "    <tr>\n",
       "      <th>1</th>\n",
       "      <td>1</td>\n",
       "      <td>21</td>\n",
       "      <td>5</td>\n",
       "      <td>-1</td>\n",
       "      <td>3</td>\n",
       "      <td>3</td>\n",
       "      <td>0.000000</td>\n",
       "      <td>0.000000e+00</td>\n",
       "      <td>-999.900024</td>\n",
       "      <td>0.000000</td>\n",
       "    </tr>\n",
       "    <tr>\n",
       "      <th>2</th>\n",
       "      <td>21</td>\n",
       "      <td>43</td>\n",
       "      <td>5</td>\n",
       "      <td>-1</td>\n",
       "      <td>7</td>\n",
       "      <td>8</td>\n",
       "      <td>0.000000</td>\n",
       "      <td>1.062366e+01</td>\n",
       "      <td>-3.775406</td>\n",
       "      <td>-2.971525</td>\n",
       "    </tr>\n",
       "    <tr>\n",
       "      <th>3</th>\n",
       "      <td>5000001</td>\n",
       "      <td>22</td>\n",
       "      <td>0</td>\n",
       "      <td>1</td>\n",
       "      <td>6</td>\n",
       "      <td>6</td>\n",
       "      <td>1533.499878</td>\n",
       "      <td>0.000000e+00</td>\n",
       "      <td>-999.900024</td>\n",
       "      <td>0.000000</td>\n",
       "    </tr>\n",
       "    <tr>\n",
       "      <th>4</th>\n",
       "      <td>-1</td>\n",
       "      <td>42</td>\n",
       "      <td>9</td>\n",
       "      <td>-1</td>\n",
       "      <td>0</td>\n",
       "      <td>0</td>\n",
       "      <td>0.000000</td>\n",
       "      <td>1.991679e-13</td>\n",
       "      <td>999.900024</td>\n",
       "      <td>-2.971312</td>\n",
       "    </tr>\n",
       "    <tr>\n",
       "      <th>...</th>\n",
       "      <td>...</td>\n",
       "      <td>...</td>\n",
       "      <td>...</td>\n",
       "      <td>...</td>\n",
       "      <td>...</td>\n",
       "      <td>...</td>\n",
       "      <td>...</td>\n",
       "      <td>...</td>\n",
       "      <td>...</td>\n",
       "      <td>...</td>\n",
       "    </tr>\n",
       "    <tr>\n",
       "      <th>466</th>\n",
       "      <td>22</td>\n",
       "      <td>1</td>\n",
       "      <td>460</td>\n",
       "      <td>-1</td>\n",
       "      <td>-1</td>\n",
       "      <td>-1</td>\n",
       "      <td>0.000000</td>\n",
       "      <td>7.002710e+00</td>\n",
       "      <td>0.014616</td>\n",
       "      <td>0.035941</td>\n",
       "    </tr>\n",
       "    <tr>\n",
       "      <th>467</th>\n",
       "      <td>22</td>\n",
       "      <td>1</td>\n",
       "      <td>461</td>\n",
       "      <td>-1</td>\n",
       "      <td>-1</td>\n",
       "      <td>-1</td>\n",
       "      <td>0.000000</td>\n",
       "      <td>2.643003e-01</td>\n",
       "      <td>0.508933</td>\n",
       "      <td>-1.055437</td>\n",
       "    </tr>\n",
       "    <tr>\n",
       "      <th>468</th>\n",
       "      <td>22</td>\n",
       "      <td>1</td>\n",
       "      <td>461</td>\n",
       "      <td>-1</td>\n",
       "      <td>-1</td>\n",
       "      <td>-1</td>\n",
       "      <td>0.000000</td>\n",
       "      <td>1.663036e+00</td>\n",
       "      <td>0.698884</td>\n",
       "      <td>-0.982884</td>\n",
       "    </tr>\n",
       "    <tr>\n",
       "      <th>469</th>\n",
       "      <td>22</td>\n",
       "      <td>1</td>\n",
       "      <td>462</td>\n",
       "      <td>-1</td>\n",
       "      <td>-1</td>\n",
       "      <td>-1</td>\n",
       "      <td>0.000000</td>\n",
       "      <td>5.584304e-02</td>\n",
       "      <td>-0.126999</td>\n",
       "      <td>-0.068835</td>\n",
       "    </tr>\n",
       "    <tr>\n",
       "      <th>470</th>\n",
       "      <td>22</td>\n",
       "      <td>1</td>\n",
       "      <td>462</td>\n",
       "      <td>-1</td>\n",
       "      <td>-1</td>\n",
       "      <td>-1</td>\n",
       "      <td>0.000000</td>\n",
       "      <td>3.539121e-01</td>\n",
       "      <td>0.442693</td>\n",
       "      <td>-0.856121</td>\n",
       "    </tr>\n",
       "  </tbody>\n",
       "</table>\n",
       "<p>471 rows × 10 columns</p>\n",
       "</div>"
      ],
      "text/plain": [
       "         PID  Status   M1  M2  D1  D2         Mass            PT         Eta  \\\n",
       "0         -1      21    4  -1   3   3     0.000000  0.000000e+00  999.900024   \n",
       "1          1      21    5  -1   3   3     0.000000  0.000000e+00 -999.900024   \n",
       "2         21      43    5  -1   7   8     0.000000  1.062366e+01   -3.775406   \n",
       "3    5000001      22    0   1   6   6  1533.499878  0.000000e+00 -999.900024   \n",
       "4         -1      42    9  -1   0   0     0.000000  1.991679e-13  999.900024   \n",
       "..       ...     ...  ...  ..  ..  ..          ...           ...         ...   \n",
       "466       22       1  460  -1  -1  -1     0.000000  7.002710e+00    0.014616   \n",
       "467       22       1  461  -1  -1  -1     0.000000  2.643003e-01    0.508933   \n",
       "468       22       1  461  -1  -1  -1     0.000000  1.663036e+00    0.698884   \n",
       "469       22       1  462  -1  -1  -1     0.000000  5.584304e-02   -0.126999   \n",
       "470       22       1  462  -1  -1  -1     0.000000  3.539121e-01    0.442693   \n",
       "\n",
       "          Phi  \n",
       "0    0.000000  \n",
       "1    0.000000  \n",
       "2   -2.971525  \n",
       "3    0.000000  \n",
       "4   -2.971312  \n",
       "..        ...  \n",
       "466  0.035941  \n",
       "467 -1.055437  \n",
       "468 -0.982884  \n",
       "469 -0.068835  \n",
       "470 -0.856121  \n",
       "\n",
       "[471 rows x 10 columns]"
      ]
     },
     "execution_count": 7,
     "metadata": {},
     "output_type": "execute_result"
    }
   ],
   "source": [
    "# event 0\n",
    "dfGP = GP.dataframelize(0)\n",
    "dfGP"
   ]
  },
  {
   "cell_type": "code",
   "execution_count": 8,
   "metadata": {},
   "outputs": [
    {
     "data": {
      "text/plain": [
       "array([     -1,       1,      21, 5000001,      -1,       1, 5000001,\n",
       "            21,      21,      -1], dtype=int32)"
      ]
     },
     "execution_count": 8,
     "metadata": {},
     "output_type": "execute_result"
    }
   ],
   "source": [
    "pid = dfGP['PID'].to_numpy()\n",
    "pid[:10]"
   ]
  },
  {
   "cell_type": "code",
   "execution_count": 9,
   "metadata": {},
   "outputs": [
    {
     "data": {
      "text/plain": [
       "array([ 5000001,  5000001,  5000001,  4900101, -4900101,  4900101,\n",
       "       -4900101,  4900101, -4900101, -4900101, -4900101, -4900101,\n",
       "        4900101, -4900101], dtype=int32)"
      ]
     },
     "execution_count": 9,
     "metadata": {},
     "output_type": "execute_result"
    }
   ],
   "source": [
    "pid[(pid == 5000001\t) | (abs(pid) == 4900101)]"
   ]
  },
  {
   "cell_type": "code",
   "execution_count": 10,
   "metadata": {},
   "outputs": [
    {
     "data": {
      "text/plain": [
       "array([], dtype=int32)"
      ]
     },
     "execution_count": 10,
     "metadata": {},
     "output_type": "execute_result"
    }
   ],
   "source": [
    "pid_2 = pid[(pid == 4900102) | (pid == 4900022)]\n",
    "pid_2"
   ]
  },
  {
   "cell_type": "code",
   "execution_count": 11,
   "metadata": {},
   "outputs": [
    {
     "data": {
      "text/plain": [
       "(0,)"
      ]
     },
     "execution_count": 11,
     "metadata": {},
     "output_type": "execute_result"
    }
   ],
   "source": [
    "pid_2.shape"
   ]
  },
  {
   "cell_type": "code",
   "execution_count": null,
   "metadata": {},
   "outputs": [],
   "source": []
  }
 ],
 "metadata": {
  "interpreter": {
   "hash": "31f2aee4e71d21fbe5cf8b01ff0e069b9275f58929596ceb00d14d90e3e16cd6"
  },
  "kernelspec": {
   "display_name": "Python 3.8.9 64-bit",
   "language": "python",
   "name": "python3"
  },
  "language_info": {
   "codemirror_mode": {
    "name": "ipython",
    "version": 3
   },
   "file_extension": ".py",
   "mimetype": "text/x-python",
   "name": "python",
   "nbconvert_exporter": "python",
   "pygments_lexer": "ipython3",
   "version": "3.8.5"
  },
  "orig_nbformat": 4
 },
 "nbformat": 4,
 "nbformat_minor": 2
}

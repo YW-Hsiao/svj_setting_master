{
 "cells": [
  {
   "cell_type": "markdown",
   "metadata": {},
   "source": [
    "# Test 2: Jet Clustering\n",
    "Just test my jetClustering functions by using SVJ with CKKW-L and without decay data."
   ]
  },
  {
   "cell_type": "markdown",
   "metadata": {},
   "source": [
    "## 1. Import Packages"
   ]
  },
  {
   "cell_type": "code",
   "execution_count": 1,
   "metadata": {},
   "outputs": [],
   "source": [
    "# The Python Standard Library\n",
    "import os\n",
    "import sys\n",
    "import time\n",
    "import datetime\n",
    "import glob\n",
    "import multiprocessing as mp\n",
    "\n",
    "# The Third-Party Library\n",
    "import math\n",
    "import numpy as np\n",
    "import pandas as pd\n",
    "import matplotlib.pyplot as plt\n",
    "import tqdm\n",
    "import prettytable\n",
    "import uproot\n",
    "import pyjet\n",
    "import importlib\n",
    "\n",
    "# My Packages\n",
    "import myhep.particle_information_v2 as mypInfo_v2\n",
    "import myhep.analytical_function_v2 as myaFun_v2\n",
    "import myhep.analysis_v3 as myAnal_v3\n",
    "# import myhep.particleinfo_v1 as mypiv1\n",
    "# import myhep.particlefun_v1 as myafv1\n",
    "\n",
    "# increase figure showing resolution\n",
    "%config InlineBackend.figure_format = 'retina'"
   ]
  },
  {
   "cell_type": "code",
   "execution_count": null,
   "metadata": {},
   "outputs": [],
   "source": []
  }
 ],
 "metadata": {
  "interpreter": {
   "hash": "31f2aee4e71d21fbe5cf8b01ff0e069b9275f58929596ceb00d14d90e3e16cd6"
  },
  "kernelspec": {
   "display_name": "Python 3.8.9 64-bit",
   "language": "python",
   "name": "python3"
  },
  "language_info": {
   "codemirror_mode": {
    "name": "ipython",
    "version": 3
   },
   "file_extension": ".py",
   "mimetype": "text/x-python",
   "name": "python",
   "nbconvert_exporter": "python",
   "pygments_lexer": "ipython3",
   "version": "3.8.5"
  },
  "orig_nbformat": 4
 },
 "nbformat": 4,
 "nbformat_minor": 2
}

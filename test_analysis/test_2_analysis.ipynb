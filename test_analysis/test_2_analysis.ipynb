{
 "cells": [
  {
   "cell_type": "markdown",
   "metadata": {},
   "source": [
    "# Test 2: Analysis\n",
    "Just test my analysis functions by using SVJ with CKKW-L and without decay data."
   ]
  },
  {
   "cell_type": "markdown",
   "metadata": {},
   "source": [
    "## 1. Import Packages"
   ]
  },
  {
   "cell_type": "code",
   "execution_count": 1,
   "metadata": {},
   "outputs": [],
   "source": [
    "# The Python Standard Library\n",
    "import os\n",
    "import sys\n",
    "import time\n",
    "import datetime\n",
    "import glob\n",
    "import multiprocessing as mp\n",
    "\n",
    "# The Third-Party Library\n",
    "import math\n",
    "import numpy as np\n",
    "import pandas as pd\n",
    "import matplotlib.pyplot as plt\n",
    "import tqdm\n",
    "import prettytable\n",
    "import uproot\n",
    "import pyjet\n",
    "import importlib\n",
    "\n",
    "# My Packages\n",
    "import myhep.particle_information_v2 as mypInfo_v2\n",
    "import myhep.analytical_function_v2 as myaFun_v2\n",
    "import myhep.analysis_v3 as myAnal_v3\n",
    "# import myhep.particleinfo_v1 as mypiv1\n",
    "# import myhep.particlefun_v1 as myafv1\n",
    "\n",
    "# increase figure showing resolution\n",
    "%config InlineBackend.figure_format = 'retina'"
   ]
  },
  {
   "cell_type": "markdown",
   "metadata": {},
   "source": [
    "## 2. Import .root File and Load the Data via class"
   ]
  },
  {
   "cell_type": "code",
   "execution_count": 2,
   "metadata": {},
   "outputs": [],
   "source": [
    "INPUT_FILE = '/youwei_u3/svj_data_master/scheme_1/root/ckkwl_wo.root'\n",
    "\n",
    "DATA = uproot.open(INPUT_FILE)['Delphes;1']\n",
    "GP = mypInfo_v2.classGenParticle(DATA)\n",
    "Jet = mypInfo_v2.classJet(DATA)\n",
    "Event = mypInfo_v2.classEvent(DATA)"
   ]
  },
  {
   "cell_type": "markdown",
   "metadata": {},
   "source": [
    "### 2-1. Check the number of events for each branch"
   ]
  },
  {
   "cell_type": "code",
   "execution_count": 3,
   "metadata": {},
   "outputs": [
    {
     "name": "stdout",
     "output_type": "stream",
     "text": [
      "There are 19373 events in the .root file.\n"
     ]
    }
   ],
   "source": [
    "if GP.length == Jet.length == Event.length:\n",
    "    print(\"There are {} events in the .root file.\".format(GP.length))\n",
    "else:\n",
    "    print(\"\"\"\\033[7;31m****** There is the problem for the number of event \\\n",
    "    in the .root file. ******\\033[0m\"\"\")\n",
    "#     print(\"\\033[7;31m****** There is the problem for the number of event \"\n",
    "#           \"in the .root file. ******\\033[0m\")\n",
    "    print(\"\\033[7;31m****** Please check your .root file. ******\\033[0m\")"
   ]
  },
  {
   "cell_type": "markdown",
   "metadata": {},
   "source": [
    "### 2-2. Define physical quantites"
   ]
  },
  {
   "cell_type": "code",
   "execution_count": 4,
   "metadata": {},
   "outputs": [],
   "source": [
    "# 2-1. Invariant mass M\n",
    "def M(m1, pt1, eta1, phi1, m2, pt2, eta2, phi2):\n",
    "    px1, py1, pz1 = pt1*np.cos(phi1), pt1 * \\\n",
    "        np.sin(phi1), np.sqrt(m1**2+pt1**2)*np.sinh(eta1)\n",
    "    e1 = np.sqrt(m1**2 + px1**2 + py1**2 + pz1**2)\n",
    "    px2, py2, pz2 = pt2*np.cos(phi2), pt2 * \\\n",
    "        np.sin(phi2), np.sqrt(m2**2+pt2**2)*np.sinh(eta2)\n",
    "    e2 = np.sqrt(m2**2 + px2**2 + py2**2 + pz2**2)\n",
    "    return np.sqrt((e1+e2)**2 - (px1+px2)**2 - (py1+py2)**2 - (pz1+pz2)**2)\n",
    "\n",
    "\n",
    "# 2-2. Transverse mass MT\n",
    "def MT(m1, pt1, eta1, phi1, m2, pt2, eta2, phi2):\n",
    "    px1, py1, pz1 = pt1*np.cos(phi1), pt1 * \\\n",
    "        np.sin(phi1), np.sqrt(m1**2+pt1**2)*np.sinh(eta1)\n",
    "    e1 = np.sqrt(m1**2 + px1**2 + py1**2 + pz1**2)\n",
    "    px2, py2, pz2 = pt2*np.cos(phi2), pt2 * \\\n",
    "        np.sin(phi2), np.sqrt(m2**2+pt2**2)*np.sinh(eta2)\n",
    "    e2 = np.sqrt(m2**2 + px2**2 + py2**2 + pz2**2)\n",
    "    ET1, ET2 = np.sqrt(m1**2 + pt1**2), np.sqrt(m2**2 + pt2**2)\n",
    "    return np.sqrt((ET1+ET2)**2 - (px1+px2)**2 - (py1+py2)**2)\n",
    "\n",
    "\n",
    "# 2-3. Transverse mass mT is invariant under Lorentz boost along the z direction.\n",
    "def mT(m1, pt1, eta1, phi1, m2, pt2, eta2, phi2):\n",
    "    px1, py1, pz1 = pt1*np.cos(phi1), pt1 * \\\n",
    "        np.sin(phi1), np.sqrt(m1**2+pt1**2)*np.sinh(eta1)\n",
    "    e1 = np.sqrt(m1**2 + px1**2 + py1**2 + pz1**2)\n",
    "    px2, py2, pz2 = pt2*np.cos(phi2), pt2 * \\\n",
    "        np.sin(phi2), np.sqrt(m2**2+pt2**2)*np.sinh(eta2)\n",
    "    e2 = np.sqrt(m2**2 + px2**2 + py2**2 + pz2**2)\n",
    "    return np.sqrt((e1+e2)**2 - (pz1+pz2)**2)\n",
    "\n",
    "\n",
    "# 2-4. Transverse energy ET\n",
    "def ET(m1, pt1, eta1, phi1, m2, pt2, eta2, phi2):\n",
    "    px1, py1, pz1 = pt1*np.cos(phi1), pt1 * \\\n",
    "        np.sin(phi1), np.sqrt(m1**2+pt1**2)*np.sinh(eta1)\n",
    "    e1 = np.sqrt(m1**2 + px1**2 + py1**2 + pz1**2)\n",
    "    px2, py2, pz2 = pt2*np.cos(phi2), pt2 * \\\n",
    "        np.sin(phi2), np.sqrt(m2**2+pt2**2)*np.sinh(eta2)\n",
    "    e2 = np.sqrt(m2**2 + px2**2 + py2**2 + pz2**2)\n",
    "    m12 = np.sqrt((e1+e2)**2 - (px1+px2)**2 - (py1+py2)**2 - (pz1+pz2)**2)\n",
    "    return np.sqrt(m12**2 + (px1+px2)**2 + (py1+py2)**2)"
   ]
  },
  {
   "cell_type": "markdown",
   "metadata": {},
   "source": [
    "## 3. Analyze the Dark Quark Pair in the Parton and Truth Levels\n",
    "This step can be skipped."
   ]
  },
  {
   "cell_type": "code",
   "execution_count": 5,
   "metadata": {},
   "outputs": [
    {
     "name": "stdout",
     "output_type": "stream",
     "text": [
      "For status = 23, all events only include 2 particles.\n",
      "For status = 71, all events only include 2 particles.\n"
     ]
    }
   ],
   "source": [
    "df_xdxdx_23_v3 = myAnal_v3.analyze_xdxdx(GP, status=23)\n",
    "df_xdxdx_71_v3 = myAnal_v3.analyze_xdxdx(GP, status=71)"
   ]
  },
  {
   "cell_type": "markdown",
   "metadata": {},
   "source": [
    "## 4. Jet Clustering"
   ]
  },
  {
   "cell_type": "markdown",
   "metadata": {},
   "source": [
    "### 4-1. Select stable final state particle without/with filtering out dark sector"
   ]
  },
  {
   "cell_type": "code",
   "execution_count": 5,
   "metadata": {},
   "outputs": [
    {
     "name": "stdout",
     "output_type": "stream",
     "text": [
      "The PID of dark matter are [51, -51, 53, -53, 4900211, -4900211, 4900213, -4900213].\n",
      "19373 events are stable final state.\n",
      "19373 events are stable final state without DM.\n"
     ]
    }
   ],
   "source": [
    "SFSP_v3, SFSP_filterDM_v3 = myAnal_v3.selectStableFinalStateParticle(\n",
    "    GP, filter=[51, -51, 53, -53, 4900211, -4900211, 4900213, -4900213])"
   ]
  },
  {
   "cell_type": "markdown",
   "metadata": {},
   "source": [
    "### 4-2. Let's do the jet clustering!!"
   ]
  },
  {
   "cell_type": "code",
   "execution_count": 6,
   "metadata": {},
   "outputs": [
    {
     "name": "stdout",
     "output_type": "stream",
     "text": [
      "Done new version\n"
     ]
    }
   ],
   "source": [
    "R, jetClusteringAlgorithm, pTmin_pyjet = 0.4, -1, 0\n",
    "\n",
    "PseudoJet_v3 = myAnal_v3.jetClustering(SFSP_v3, R=R,\n",
    "                                       p=jetClusteringAlgorithm,\n",
    "                                       pTmin=pTmin_pyjet)\n",
    "PseudoJet_filterDM_v3 = myAnal_v3.jetClustering(SFSP_filterDM_v3, R=R,\n",
    "                                                p=jetClusteringAlgorithm,\n",
    "                                                pTmin=pTmin_pyjet)\n",
    "print('Done new version')"
   ]
  },
  {
   "cell_type": "markdown",
   "metadata": {},
   "source": [
    "## 5. Analyze the Jets in the Truth Level"
   ]
  },
  {
   "cell_type": "markdown",
   "metadata": {},
   "source": [
    "### 5-1. Preselection"
   ]
  },
  {
   "cell_type": "code",
   "execution_count": null,
   "metadata": {},
   "outputs": [],
   "source": [
    "def preselection(PseudoJet, num_jet_min, pT_min, eta_max):\n",
    "    \"\"\"\n",
    "    PseudoJet=[event_i(PseudoJet)] is a list to store all events.\n",
    "    num_jet_min=mininal number of jets\n",
    "    pT_min=minial pT, eta_mas=maximal eta\n",
    "    GP=GenParticle, _=list, i=i-th event, df=dataframe,\n",
    "    acc=accumulate, tem=temporary\n",
    "    \"\"\"\n",
    "    _presel_events = []\n",
    "    for i in range(len(PseudoJet)):\n",
    "        print()\n",
    "        for j, jet in enumerate(PseudoJet[i]):\n",
    "            print()"
   ]
  },
  {
   "cell_type": "markdown",
   "metadata": {},
   "source": [
    "## test important"
   ]
  },
  {
   "cell_type": "code",
   "execution_count": 12,
   "metadata": {},
   "outputs": [
    {
     "data": {
      "text/plain": [
       "[PseudoJet(pt=754.721, eta=-0.269, phi=-0.352, mass=73.172),\n",
       " PseudoJet(pt=104.833, eta=-1.115, phi=1.143, mass=20.663),\n",
       " PseudoJet(pt=85.254, eta=0.918, phi=-2.531, mass=16.942),\n",
       " PseudoJet(pt=64.974, eta=-3.034, phi=1.609, mass=11.325),\n",
       " PseudoJet(pt=54.199, eta=0.230, phi=-2.593, mass=12.152),\n",
       " PseudoJet(pt=27.550, eta=-0.937, phi=0.655, mass=4.183)]"
      ]
     },
     "execution_count": 12,
     "metadata": {},
     "output_type": "execute_result"
    }
   ],
   "source": [
    "PseudoJet_filterDM_v3[21][:6]"
   ]
  },
  {
   "cell_type": "code",
   "execution_count": 35,
   "metadata": {},
   "outputs": [
    {
     "name": "stdout",
     "output_type": "stream",
     "text": [
      "event 21\n",
      "0 PseudoJet(pt=754.721, eta=-0.269, phi=-0.352, mass=73.172)\n",
      "1 PseudoJet(pt=104.833, eta=-1.115, phi=1.143, mass=20.663)\n",
      "2 PseudoJet(pt=85.254, eta=0.918, phi=-2.531, mass=16.942)\n",
      "3 PseudoJet(pt=64.974, eta=-3.034, phi=1.609, mass=11.325)\n",
      "4 PseudoJet(pt=54.199, eta=0.230, phi=-2.593, mass=12.152)\n",
      "5 PseudoJet(pt=27.550, eta=-0.937, phi=0.655, mass=4.183)\n",
      "--------------------------------------------------------------------------------\n",
      "event 22\n",
      "0 PseudoJet(pt=135.815, eta=2.146, phi=-3.118, mass=28.584)\n",
      "1 PseudoJet(pt=23.674, eta=2.146, phi=-2.674, mass=8.452)\n",
      "2 PseudoJet(pt=23.255, eta=3.290, phi=0.439, mass=4.790)\n",
      "--------------------------------------------------------------------------------\n"
     ]
    }
   ],
   "source": [
    "for i in range(21,23):\n",
    "    print(\"event {}\".format(i))\n",
    "    for j, jet in enumerate(PseudoJet_filterDM_v3[i]):\n",
    "        if jet.pt > 20:\n",
    "            print(j, jet)\n",
    "    print('-'*80)"
   ]
  },
  {
   "cell_type": "code",
   "execution_count": 129,
   "metadata": {},
   "outputs": [
    {
     "name": "stdout",
     "output_type": "stream",
     "text": [
      "event 21\n",
      "0 PseudoJet(pt=754.721, eta=-0.269, phi=-0.352, mass=73.172)\n",
      "1 PseudoJet(pt=104.833, eta=-1.115, phi=1.143, mass=20.663)\n",
      "2 PseudoJet(pt=85.254, eta=0.918, phi=-2.531, mass=16.942)\n",
      "3 PseudoJet(pt=64.974, eta=-3.034, phi=1.609, mass=11.325)\n",
      "4 PseudoJet(pt=54.199, eta=0.230, phi=-2.593, mass=12.152)\n",
      "5 PseudoJet(pt=27.550, eta=-0.937, phi=0.655, mass=4.183)\n",
      "********************NumPy Array\n",
      "(6,) [(754.72107953, -0.26936706, -0.35238845, 73.17201984)\n",
      " (104.83282762, -1.11482256,  1.14303952, 20.66261802)\n",
      " ( 85.25366785,  0.91831199, -2.53096755, 16.94153709)\n",
      " ( 64.97417129, -3.03388869,  1.60866641, 11.32521937)\n",
      " ( 54.1991487 ,  0.23044176, -2.59317889, 12.15247457)\n",
      " ( 27.54988231, -0.93685402,  0.65517858,  4.1833831 )]\n",
      "--------------------------------------------------------------------------------\n",
      "event 22\n",
      "0 PseudoJet(pt=135.815, eta=2.146, phi=-3.118, mass=28.584)\n",
      "1 PseudoJet(pt=23.674, eta=2.146, phi=-2.674, mass=8.452)\n",
      "2 PseudoJet(pt=23.255, eta=3.290, phi=0.439, mass=4.790)\n",
      "********************NumPy Array\n",
      "(3,) [(135.81475624, 2.14646234, -3.11762065, 28.58375223)\n",
      " ( 23.67438139, 2.14635282, -2.67445185,  8.45196396)\n",
      " ( 23.25535698, 3.28953198,  0.43855045,  4.79000333)]\n",
      "--------------------------------------------------------------------------------\n",
      "Number of events before preselection = [75, 185]\n",
      "Number of events after pT preselection = [6, 3]\n",
      "Number of events after eta preselection = []\n",
      "--------------------------------------------------------------------------------\n"
     ]
    },
    {
     "data": {
      "text/plain": [
       "array([(135.81475624, 2.14646234, -3.11762065, 28.58375223),\n",
       "       ( 23.67438139, 2.14635282, -2.67445185,  8.45196396),\n",
       "       ( 23.25535698, 3.28953198,  0.43855045,  4.79000333)],\n",
       "      dtype=[('pT', '<f8'), ('eta', '<f8'), ('phi', '<f8'), ('mass', '<f8')])"
      ]
     },
     "execution_count": 129,
     "metadata": {},
     "output_type": "execute_result"
    }
   ],
   "source": [
    "_presel_events_pt = []\n",
    "_num_events_bef, _num_events_after_pt, _num_events_after_eta = [], [], []\n",
    "_pt, _eta, _phi, m = [], [], [], []\n",
    "\n",
    "for i in range(21,23):\n",
    "    print(\"event {}\".format(i))\n",
    "    _num_events_bef.append(len(PseudoJet_filterDM_v3[i]))\n",
    "    _event_i = []\n",
    "    for j, jet in enumerate(PseudoJet_filterDM_v3[i]):\n",
    "        if jet.pt > 20:\n",
    "            print(j, jet)\n",
    "            # print(j, jet, [jet.pt, jet.eta])  # [] = () in np.array()\n",
    "            # print(j, jet, (jet.pt, jet.eta))\n",
    "            # sum_test = np.sum(np.array([jet.pt, jet.eta, jet.phi, jet.mass]) -\n",
    "                            #   np.array((jet.pt, jet.eta, jet.phi, jet.mass)))\n",
    "            # print(sum_test)\n",
    "            _event_i.append((jet.pt, jet.eta, jet.phi, jet.mass))\n",
    "    print('*'*20 + 'NumPy Array')\n",
    "    # print(_event_i)\n",
    "    arr_event_i = np.array(_event_i, dtype=[('pT', '<f8'), ('eta', '<f8'),\n",
    "                                            ('phi', '<f8'), ('mass', '<f8')])\n",
    "    print(arr_event_i.shape, arr_event_i)\n",
    "    _num_events_after_pt.append(len(arr_event_i))\n",
    "    _presel_events_pt.append(arr_event_i)\n",
    "    print('-'*80)\n",
    "    \n",
    "print(\"Number of events before preselection = {}\".format(_num_events_bef))\n",
    "print(\"Number of events after pT preselection = {}\".format(_num_events_after_pt))\n",
    "print(\"Number of events after eta preselection = {}\".format(_num_events_after_eta))\n",
    "print('-'*80)\n",
    "_presel_events_pt[1]"
   ]
  },
  {
   "cell_type": "code",
   "execution_count": 28,
   "metadata": {},
   "outputs": [
    {
     "name": "stdout",
     "output_type": "stream",
     "text": [
      "75\n",
      "185\n"
     ]
    }
   ],
   "source": [
    "print(len(PseudoJet_filterDM_v3[21]))\n",
    "print(len(PseudoJet_filterDM_v3[22]))"
   ]
  },
  {
   "cell_type": "code",
   "execution_count": 130,
   "metadata": {},
   "outputs": [
    {
     "data": {
      "text/plain": [
       "array([(1, 2), (3, 4), (5, 6)], dtype=[('x', '<i4'), ('y', '<i4')])"
      ]
     },
     "execution_count": 130,
     "metadata": {},
     "output_type": "execute_result"
    }
   ],
   "source": [
    "a = np.array([(1, 2), (3, 4), (5, 6)], dtype=[('x', 'i4'), ('y', 'i4')])\n",
    "a"
   ]
  },
  {
   "cell_type": "code",
   "execution_count": 131,
   "metadata": {},
   "outputs": [
    {
     "data": {
      "text/plain": [
       "array([(1, 2), (3, 4), (5, 6)], dtype=[('x', '<i4'), ('y', '<i4')])"
      ]
     },
     "execution_count": 131,
     "metadata": {},
     "output_type": "execute_result"
    }
   ],
   "source": [
    "np.array(a)"
   ]
  },
  {
   "cell_type": "markdown",
   "metadata": {},
   "source": [
    "### Example 1"
   ]
  },
  {
   "cell_type": "code",
   "execution_count": 17,
   "metadata": {},
   "outputs": [
    {
     "name": "stdout",
     "output_type": "stream",
     "text": [
      "19373\n",
      "--------------------------------------------------------------------------------\n",
      "How many PseudoJet: 88\n",
      "[PseudoJet(pt=144.818, eta=0.390, phi=-0.246, mass=29.794), PseudoJet(pt=32.644, eta=0.658, phi=-0.752, mass=8.309), PseudoJet(pt=12.051, eta=-0.031, phi=-0.040, mass=1.622)]\n",
      "--------------------------------------------------------------------------------\n",
      "How many PseudoJet: 154\n",
      "[PseudoJet(pt=156.632, eta=-0.721, phi=1.453, mass=24.608), PseudoJet(pt=116.277, eta=-1.841, phi=-2.920, mass=21.577), PseudoJet(pt=100.767, eta=-2.305, phi=-2.087, mass=12.047)]\n",
      "--------------------------------------------------------------------------------\n",
      "How many PseudoJet: 163\n",
      "[PseudoJet(pt=180.419, eta=-1.263, phi=2.764, mass=34.022), PseudoJet(pt=13.794, eta=0.471, phi=1.933, mass=2.814), PseudoJet(pt=6.642, eta=-4.642, phi=1.803, mass=1.408)]\n",
      "--------------------------------------------------------------------------------\n"
     ]
    }
   ],
   "source": [
    "print(len(PseudoJet_filterDM_v3))\n",
    "print('-'*80)\n",
    "for i in range(3):\n",
    "    print(\"How many PseudoJet: {}\".format(len(PseudoJet_filterDM_v3[i])))\n",
    "    print(PseudoJet_filterDM_v3[i][:3])\n",
    "    print('-'*80)"
   ]
  },
  {
   "cell_type": "code",
   "execution_count": 19,
   "metadata": {},
   "outputs": [
    {
     "data": {
      "text/plain": [
       "[PseudoJet(pt=754.721, eta=-0.269, phi=-0.352, mass=73.172),\n",
       " PseudoJet(pt=104.833, eta=-1.115, phi=1.143, mass=20.663),\n",
       " PseudoJet(pt=85.254, eta=0.918, phi=-2.531, mass=16.942),\n",
       " PseudoJet(pt=64.974, eta=-3.034, phi=1.609, mass=11.325),\n",
       " PseudoJet(pt=54.199, eta=0.230, phi=-2.593, mass=12.152),\n",
       " PseudoJet(pt=27.550, eta=-0.937, phi=0.655, mass=4.183),\n",
       " PseudoJet(pt=19.967, eta=-0.716, phi=-2.708, mass=3.603),\n",
       " PseudoJet(pt=11.095, eta=-1.614, phi=-3.022, mass=2.247),\n",
       " PseudoJet(pt=9.129, eta=-0.150, phi=2.344, mass=1.500),\n",
       " PseudoJet(pt=6.189, eta=-0.029, phi=-0.764, mass=2.306)]"
      ]
     },
     "execution_count": 19,
     "metadata": {},
     "output_type": "execute_result"
    }
   ],
   "source": [
    "PseudoJet_filterDM_v3[21][:10]"
   ]
  },
  {
   "cell_type": "code",
   "execution_count": 18,
   "metadata": {},
   "outputs": [
    {
     "name": "stdout",
     "output_type": "stream",
     "text": [
      "event 21\n",
      "0 PseudoJet(pt=754.721, eta=-0.269, phi=-0.352, mass=73.172)\n",
      "1 PseudoJet(pt=104.833, eta=-1.115, phi=1.143, mass=20.663)\n",
      "2 PseudoJet(pt=85.254, eta=0.918, phi=-2.531, mass=16.942)\n",
      "3 PseudoJet(pt=64.974, eta=-3.034, phi=1.609, mass=11.325)\n",
      "4 PseudoJet(pt=54.199, eta=0.230, phi=-2.593, mass=12.152)\n",
      "5 PseudoJet(pt=27.550, eta=-0.937, phi=0.655, mass=4.183)\n",
      "--------------------------------------------------------------------------------\n",
      "event 22\n",
      "0 PseudoJet(pt=135.815, eta=2.146, phi=-3.118, mass=28.584)\n",
      "1 PseudoJet(pt=23.674, eta=2.146, phi=-2.674, mass=8.452)\n",
      "2 PseudoJet(pt=23.255, eta=3.290, phi=0.439, mass=4.790)\n",
      "--------------------------------------------------------------------------------\n"
     ]
    }
   ],
   "source": [
    "for i in range(21,23):\n",
    "    print(\"event {}\".format(i))\n",
    "    for j, jet in enumerate(PseudoJet_filterDM_v3[i]):\n",
    "        if jet.pt > 20:\n",
    "            print(j, jet)\n",
    "    print('-'*80)"
   ]
  },
  {
   "cell_type": "code",
   "execution_count": 13,
   "metadata": {},
   "outputs": [
    {
     "name": "stdout",
     "output_type": "stream",
     "text": [
      "0 PseudoJet(pt=754.721, eta=-0.269, phi=-0.352, mass=73.172)\n",
      "1 PseudoJet(pt=104.833, eta=-1.115, phi=1.143, mass=20.663)\n",
      "2 PseudoJet(pt=85.254, eta=0.918, phi=-2.531, mass=16.942)\n",
      "3 PseudoJet(pt=64.974, eta=-3.034, phi=1.609, mass=11.325)\n",
      "4 PseudoJet(pt=54.199, eta=0.230, phi=-2.593, mass=12.152)\n",
      "5 PseudoJet(pt=27.550, eta=-0.937, phi=0.655, mass=4.183)\n"
     ]
    }
   ],
   "source": [
    "for j, jet in enumerate(PseudoJet_filterDM_v3[21]):\n",
    "    if jet.pt > 20:\n",
    "        print(j, jet)\n",
    "        \n",
    "        # |eta| < 1.0 or 2.5\n",
    "        \n",
    "        # N_jet\n",
    "        \n",
    "        # pt1 > 440\n",
    "        # pt2 > 150\n",
    "        \n",
    "        # [arr(event0), arr(event1), ...]\n",
    "        # event0 = [[pt], [eta], [phi], [mass]]\n",
    "        # event0 = [(pt1, eta1, phi1, mass1), (pt2, eta2, ), ...] better"
   ]
  },
  {
   "cell_type": "code",
   "execution_count": 11,
   "metadata": {},
   "outputs": [
    {
     "name": "stdout",
     "output_type": "stream",
     "text": [
      "           Mass          PT       Eta       Phi\n",
      "0  5.453704e+01  241.723770  0.370880 -0.282046\n",
      "1 -9.536743e-07   26.896011 -1.431609  2.805379\n",
      "--------------------------------------------------------------------------------\n",
      "        Mass          PT       Eta       Phi\n",
      "0   6.678744  177.236328 -0.139621 -0.447590\n",
      "1  17.477238  118.888374 -0.711579  1.418930\n",
      "2  19.143206  113.456596 -2.323572 -2.034082\n",
      "3  20.718964  111.807510 -1.892479 -2.930634\n",
      "--------------------------------------------------------------------------------\n",
      "        Mass          PT       Eta       Phi\n",
      "0  37.228954  188.137466 -1.268446  2.796516\n",
      "1   3.147427   68.941101 -2.162593 -1.792415\n",
      "2   1.937583   36.007828  1.437399  0.033540\n",
      "3   5.678205   25.617086  2.068637 -0.297460\n",
      "--------------------------------------------------------------------------------\n",
      "        Mass          PT       Eta       Phi\n",
      "0  20.538086  132.913483  1.756381 -0.577489\n",
      "--------------------------------------------------------------------------------\n",
      "        Mass          PT       Eta       Phi\n",
      "0  42.123554  162.407471 -0.556726 -2.408728\n",
      "1  15.806293   77.035454  1.202961 -2.804021\n",
      "2   7.264757   39.189770  1.161819  0.587598\n",
      "3   7.275662   27.946783 -1.040423  1.312148\n",
      "--------------------------------------------------------------------------------\n",
      "        Mass          PT       Eta       Phi\n",
      "0  66.835182  440.903778  0.135006  0.368055\n",
      "1  58.377754  207.727783 -0.827702 -2.939712\n",
      "2  24.171938  172.141449 -1.441846 -2.149368\n",
      "3  20.797453  116.305748  1.415488  2.620330\n",
      "--------------------------------------------------------------------------------\n",
      "        Mass          PT       Eta       Phi\n",
      "0  55.845226  236.720032 -2.565926  1.929706\n",
      "1  18.587395   69.607910  2.478099 -1.277722\n",
      "2  10.175893   42.361317 -3.222317  1.660507\n",
      "3   4.532199   28.923838 -2.665185  0.173889\n",
      "--------------------------------------------------------------------------------\n",
      "        Mass         PT       Eta       Phi\n",
      "0  18.989710  68.679184 -1.578035 -0.420580\n",
      "1  17.644800  59.259342 -2.534516  1.295343\n",
      "2   4.223259  54.855305  0.810039 -2.517622\n",
      "3   8.254543  34.014450 -0.400637 -0.252277\n",
      "--------------------------------------------------------------------------------\n",
      "        Mass          PT       Eta       Phi\n",
      "0  30.220190  316.193115  0.721380 -0.949285\n",
      "1  36.270458  120.683258 -1.284868  2.253581\n",
      "2   8.326026   53.059258  0.030589  0.774976\n",
      "--------------------------------------------------------------------------------\n",
      "        Mass          PT       Eta       Phi\n",
      "0  29.024378  400.430786  0.198787 -2.876320\n",
      "1  64.427620  278.509552  0.006108 -0.321892\n",
      "2  48.696625  222.000214  1.059190  0.822748\n",
      "3   8.605597   28.533514 -0.598613  2.762922\n",
      "--------------------------------------------------------------------------------\n"
     ]
    }
   ],
   "source": [
    "for i in range(10):\n",
    "    print(Jet.dataframelize(i))\n",
    "    print('-'*80)"
   ]
  },
  {
   "cell_type": "markdown",
   "metadata": {},
   "source": [
    "## Test 1: Constituents"
   ]
  },
  {
   "cell_type": "code",
   "execution_count": 52,
   "metadata": {},
   "outputs": [
    {
     "name": "stdout",
     "output_type": "stream",
     "text": [
      "['__add__', '__class__', '__contains__', '__delattr__', '__delitem__', '__dir__', '__doc__', '__eq__', '__format__', '__ge__', '__getattribute__', '__getitem__', '__gt__', '__hash__', '__iadd__', '__imul__', '__init__', '__init_subclass__', '__iter__', '__le__', '__len__', '__lt__', '__mul__', '__ne__', '__new__', '__reduce__', '__reduce_ex__', '__repr__', '__reversed__', '__rmul__', '__setattr__', '__setitem__', '__sizeof__', '__str__', '__subclasshook__', 'append', 'clear', 'copy', 'count', 'extend', 'index', 'insert', 'pop', 'remove', 'reverse', 'sort']\n",
      "--------------------------------------------------------------------------------\n",
      "['__add__', '__class__', '__contains__', '__delattr__', '__delitem__', '__dir__', '__doc__', '__eq__', '__format__', '__ge__', '__getattribute__', '__getitem__', '__gt__', '__hash__', '__iadd__', '__imul__', '__init__', '__init_subclass__', '__iter__', '__le__', '__len__', '__lt__', '__mul__', '__ne__', '__new__', '__reduce__', '__reduce_ex__', '__repr__', '__reversed__', '__rmul__', '__setattr__', '__setitem__', '__sizeof__', '__str__', '__subclasshook__', 'append', 'clear', 'copy', 'count', 'extend', 'index', 'insert', 'pop', 'remove', 'reverse', 'sort']\n",
      "--------------------------------------------------------------------------------\n",
      "['__class__', '__contains__', '__delattr__', '__dir__', '__doc__', '__eq__', '__format__', '__ge__', '__getattr__', '__getattribute__', '__gt__', '__hash__', '__init__', '__init_subclass__', '__iter__', '__le__', '__len__', '__lt__', '__ne__', '__new__', '__pyx_vtable__', '__reduce__', '__reduce_ex__', '__repr__', '__setattr__', '__setstate__', '__sizeof__', '__str__', '__subclasshook__', 'area', 'child', 'constituents', 'constituents_array', 'e', 'et', 'eta', 'mass', 'parents', 'phi', 'pt', 'px', 'py', 'pz', 'userinfo']\n"
     ]
    }
   ],
   "source": [
    "print(dir(PseudoJet_filterDM_v3))\n",
    "print('-'*80)\n",
    "print(dir(PseudoJet_filterDM_v3[21]))\n",
    "print('-'*80)\n",
    "print(dir(PseudoJet_filterDM_v3[21][0]))"
   ]
  },
  {
   "cell_type": "code",
   "execution_count": 53,
   "metadata": {},
   "outputs": [
    {
     "name": "stdout",
     "output_type": "stream",
     "text": [
      "PseudoJet(pt=27.550, eta=-0.937, phi=0.655, mass=4.183)\n",
      "--------------------------------------------------------------------------------\n"
     ]
    },
    {
     "data": {
      "text/plain": [
       "array([(0.99460959, -1.1102134 , 0.67404842,  1.39569998e-01),\n",
       "       (6.0019908 , -1.01715386, 0.54768401,  9.39570010e-01),\n",
       "       (0.98741752, -0.776838  , 0.57899618,  1.39569998e-01),\n",
       "       (1.61963058, -0.94204098, 0.55713117,  0.00000000e+00),\n",
       "       (4.14160728, -0.93889606, 0.60915875, -8.42936970e-08),\n",
       "       (7.85252857, -0.89518613, 0.74074847,  1.39569998e-01),\n",
       "       (6.04252958, -0.88757044, 0.71782219,  9.38269973e-01)],\n",
       "      dtype=[('pT', '<f8'), ('eta', '<f8'), ('phi', '<f8'), ('mass', '<f8')])"
      ]
     },
     "execution_count": 53,
     "metadata": {},
     "output_type": "execute_result"
    }
   ],
   "source": [
    "print(PseudoJet_filterDM_v3[21][5])\n",
    "print('-'*80)\n",
    "PseudoJet_filterDM_v3[21][5].constituents_array()"
   ]
  },
  {
   "cell_type": "code",
   "execution_count": 56,
   "metadata": {},
   "outputs": [
    {
     "data": {
      "text/plain": [
       "array([0.99460959, 6.0019908 , 0.98741752, 1.61963058, 4.14160728,\n",
       "       7.85252857, 6.04252958])"
      ]
     },
     "execution_count": 56,
     "metadata": {},
     "output_type": "execute_result"
    }
   ],
   "source": [
    "aa = PseudoJet_filterDM_v3[21][5].constituents_array()\n",
    "aa['pT']"
   ]
  },
  {
   "cell_type": "code",
   "execution_count": null,
   "metadata": {},
   "outputs": [],
   "source": []
  },
  {
   "cell_type": "code",
   "execution_count": 64,
   "metadata": {},
   "outputs": [
    {
     "name": "stdout",
     "output_type": "stream",
     "text": [
      "87\n",
      "26\n",
      "33\n",
      "21\n",
      "23\n",
      "7\n"
     ]
    }
   ],
   "source": [
    "for j in range(6):\n",
    "    print(len(PseudoJet_filterDM_v3[21][j]))"
   ]
  },
  {
   "cell_type": "code",
   "execution_count": 69,
   "metadata": {},
   "outputs": [
    {
     "name": "stdout",
     "output_type": "stream",
     "text": [
      "(23,)\n",
      "(7,)\n"
     ]
    }
   ],
   "source": [
    "a = PseudoJet_filterDM_v3[21][4].constituents_array()\n",
    "b = PseudoJet_filterDM_v3[21][5].constituents_array()\n",
    "print(a.shape)\n",
    "print(b.shape)"
   ]
  },
  {
   "cell_type": "code",
   "execution_count": 80,
   "metadata": {},
   "outputs": [
    {
     "data": {
      "text/plain": [
       "array([(0.99460959, -1.1102134 , 0.67404842,  1.39569998e-01),\n",
       "       (6.0019908 , -1.01715386, 0.54768401,  9.39570010e-01),\n",
       "       (0.98741752, -0.776838  , 0.57899618,  1.39569998e-01),\n",
       "       (1.61963058, -0.94204098, 0.55713117,  0.00000000e+00),\n",
       "       (4.14160728, -0.93889606, 0.60915875, -8.42936970e-08),\n",
       "       (7.85252857, -0.89518613, 0.74074847,  1.39569998e-01),\n",
       "       (6.04252958, -0.88757044, 0.71782219,  9.38269973e-01)],\n",
       "      dtype=[('pT', '<f8'), ('eta', '<f8'), ('phi', '<f8'), ('mass', '<f8')])"
      ]
     },
     "execution_count": 80,
     "metadata": {},
     "output_type": "execute_result"
    }
   ],
   "source": [
    "c = np.array([a, b])\n",
    "c[1]"
   ]
  },
  {
   "cell_type": "code",
   "execution_count": 81,
   "metadata": {},
   "outputs": [
    {
     "data": {
      "text/plain": [
       "array([(0.99460959, -1.1102134 , 0.67404842,  1.39569998e-01),\n",
       "       (6.0019908 , -1.01715386, 0.54768401,  9.39570010e-01),\n",
       "       (0.98741752, -0.776838  , 0.57899618,  1.39569998e-01),\n",
       "       (1.61963058, -0.94204098, 0.55713117,  0.00000000e+00),\n",
       "       (4.14160728, -0.93889606, 0.60915875, -8.42936970e-08),\n",
       "       (7.85252857, -0.89518613, 0.74074847,  1.39569998e-01),\n",
       "       (6.04252958, -0.88757044, 0.71782219,  9.38269973e-01)],\n",
       "      dtype=[('pT', '<f8'), ('eta', '<f8'), ('phi', '<f8'), ('mass', '<f8')])"
      ]
     },
     "execution_count": 81,
     "metadata": {},
     "output_type": "execute_result"
    }
   ],
   "source": [
    "b"
   ]
  },
  {
   "cell_type": "code",
   "execution_count": null,
   "metadata": {},
   "outputs": [],
   "source": []
  }
 ],
 "metadata": {
  "interpreter": {
   "hash": "767d51c1340bd893661ea55ea3124f6de3c7a262a8b4abca0554b478b1e2ff90"
  },
  "kernelspec": {
   "display_name": "Python 3.8.5 64-bit",
   "language": "python",
   "name": "python3"
  },
  "language_info": {
   "codemirror_mode": {
    "name": "ipython",
    "version": 3
   },
   "file_extension": ".py",
   "mimetype": "text/x-python",
   "name": "python",
   "nbconvert_exporter": "python",
   "pygments_lexer": "ipython3",
   "version": "3.8.5"
  },
  "orig_nbformat": 4
 },
 "nbformat": 4,
 "nbformat_minor": 2
}

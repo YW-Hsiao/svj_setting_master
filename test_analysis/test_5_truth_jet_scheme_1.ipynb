{
 "cells": [
  {
   "cell_type": "markdown",
   "metadata": {},
   "source": [
    "# Test 5: Analyze Truth Jet with Scheme 1\n",
    "Test my analysis function with scheme 1 of truth jet by using SVJ with CKKW-L and without decay data."
   ]
  },
  {
   "cell_type": "markdown",
   "metadata": {},
   "source": [
    "## 1. Import Packages"
   ]
  },
  {
   "cell_type": "code",
   "execution_count": 1,
   "metadata": {},
   "outputs": [],
   "source": [
    "# The Python Standard Library\n",
    "import os\n",
    "import sys\n",
    "import time\n",
    "import datetime\n",
    "import glob\n",
    "import multiprocessing as mp\n",
    "\n",
    "# The Third-Party Library\n",
    "import math\n",
    "import numpy as np\n",
    "import pandas as pd\n",
    "import matplotlib.pyplot as plt\n",
    "import tqdm\n",
    "import prettytable\n",
    "import uproot\n",
    "import pyjet\n",
    "import importlib\n",
    "\n",
    "# My Packages\n",
    "import myhep.particle_information_v2 as mypInfo_v2\n",
    "import myhep.analytical_function_v2 as myaFun_v2\n",
    "import myhep.analysis_v3 as myAnal_v3\n",
    "# import myhep.particleinfo_v1 as mypiv1\n",
    "# import myhep.particlefun_v1 as myafv1\n",
    "\n",
    "# increase figure showing resolution\n",
    "%config InlineBackend.figure_format = 'retina'"
   ]
  },
  {
   "cell_type": "markdown",
   "metadata": {},
   "source": [
    "## 2. Import .root File and Load the Data via class"
   ]
  },
  {
   "cell_type": "code",
   "execution_count": 2,
   "metadata": {},
   "outputs": [],
   "source": [
    "INPUT_FILE = '/youwei_u3/svj_data_master/scheme_1/root/ckkwl_wo.root'\n",
    "\n",
    "DATA = uproot.open(INPUT_FILE)['Delphes;1']\n",
    "GP = mypInfo_v2.classGenParticle(DATA)\n",
    "Jet = mypInfo_v2.classJet(DATA)\n",
    "Event = mypInfo_v2.classEvent(DATA)"
   ]
  },
  {
   "cell_type": "markdown",
   "metadata": {},
   "source": [
    "### 2-1. Check the number of events for each branch\n",
    "Skip this step, since I already checked many times."
   ]
  },
  {
   "cell_type": "markdown",
   "metadata": {},
   "source": [
    "### 2-2. Define mass quantities of 2 objects"
   ]
  },
  {
   "cell_type": "code",
   "execution_count": 3,
   "metadata": {},
   "outputs": [],
   "source": [
    "# 2-1. Mass quantities of two objects\n",
    "# A. Invariant mass M\n",
    "def M(m1, pt1, eta1, phi1, m2, pt2, eta2, phi2):\n",
    "    px1, py1, pz1 = pt1*np.cos(phi1), pt1 * \\\n",
    "        np.sin(phi1), np.sqrt(m1**2+pt1**2)*np.sinh(eta1)\n",
    "    e1 = np.sqrt(m1**2 + px1**2 + py1**2 + pz1**2)\n",
    "    px2, py2, pz2 = pt2*np.cos(phi2), pt2 * \\\n",
    "        np.sin(phi2), np.sqrt(m2**2+pt2**2)*np.sinh(eta2)\n",
    "    e2 = np.sqrt(m2**2 + px2**2 + py2**2 + pz2**2)\n",
    "    return np.sqrt((e1+e2)**2 - (px1+px2)**2 - (py1+py2)**2 - (pz1+pz2)**2)\n",
    "\n",
    "\n",
    "# B. Transverse mass MT\n",
    "def MT(m1, pt1, eta1, phi1, m2, pt2, eta2, phi2):\n",
    "    px1, py1, pz1 = pt1*np.cos(phi1), pt1 * \\\n",
    "        np.sin(phi1), np.sqrt(m1**2+pt1**2)*np.sinh(eta1)\n",
    "    e1 = np.sqrt(m1**2 + px1**2 + py1**2 + pz1**2)\n",
    "    px2, py2, pz2 = pt2*np.cos(phi2), pt2 * \\\n",
    "        np.sin(phi2), np.sqrt(m2**2+pt2**2)*np.sinh(eta2)\n",
    "    e2 = np.sqrt(m2**2 + px2**2 + py2**2 + pz2**2)\n",
    "    ET1, ET2 = np.sqrt(m1**2 + pt1**2), np.sqrt(m2**2 + pt2**2)\n",
    "    return np.sqrt((ET1+ET2)**2 - (px1+px2)**2 - (py1+py2)**2)\n",
    "\n",
    "\n",
    "# C. Transverse mass mT\n",
    "# * mT is invariant under Lorentz boost along the z direction.\n",
    "def mT(m1, pt1, eta1, phi1, m2, pt2, eta2, phi2):\n",
    "    px1, py1, pz1 = pt1*np.cos(phi1), pt1 * \\\n",
    "        np.sin(phi1), np.sqrt(m1**2+pt1**2)*np.sinh(eta1)\n",
    "    e1 = np.sqrt(m1**2 + px1**2 + py1**2 + pz1**2)\n",
    "    px2, py2, pz2 = pt2*np.cos(phi2), pt2 * \\\n",
    "        np.sin(phi2), np.sqrt(m2**2+pt2**2)*np.sinh(eta2)\n",
    "    e2 = np.sqrt(m2**2 + px2**2 + py2**2 + pz2**2)\n",
    "    return np.sqrt((e1+e2)**2 - (pz1+pz2)**2)\n",
    "\n",
    "\n",
    "# D. Transverse energy ET\n",
    "def ET(m1, pt1, eta1, phi1, m2, pt2, eta2, phi2):\n",
    "    px1, py1, pz1 = pt1*np.cos(phi1), pt1 * \\\n",
    "        np.sin(phi1), np.sqrt(m1**2+pt1**2)*np.sinh(eta1)\n",
    "    e1 = np.sqrt(m1**2 + px1**2 + py1**2 + pz1**2)\n",
    "    px2, py2, pz2 = pt2*np.cos(phi2), pt2 * \\\n",
    "        np.sin(phi2), np.sqrt(m2**2+pt2**2)*np.sinh(eta2)\n",
    "    e2 = np.sqrt(m2**2 + px2**2 + py2**2 + pz2**2)\n",
    "    m12 = np.sqrt((e1+e2)**2 - (px1+px2)**2 - (py1+py2)**2 - (pz1+pz2)**2)\n",
    "    return np.sqrt(m12**2 + (px1+px2)**2 + (py1+py2)**2)"
   ]
  },
  {
   "cell_type": "markdown",
   "metadata": {},
   "source": [
    "### 2-3. Define mass quantities of 3 objects"
   ]
  },
  {
   "cell_type": "code",
   "execution_count": 4,
   "metadata": {},
   "outputs": [],
   "source": [
    "# 2-2. Mass quantities of three objects\n",
    "# A. Invariant mass M\n",
    "def M_123(m1, pt1, eta1, phi1, m2, pt2, eta2, phi2, m3, pt3, eta3, phi3):\n",
    "    \"\"\"Invariant mass M of 3 objects, M is defined by M^2 = E^2 - p^2.\n",
    "    Parameters\n",
    "    ----------\n",
    "    m1, m2, m3 : float\n",
    "        Mass of object i.\n",
    "    pt1, pt2, pt3 : float\n",
    "        Transverse momentum of object i.\n",
    "    eta1, eta2, eta3 : float\n",
    "        Pseudorapidity of object i.\n",
    "    phi1, phi2, phi3 : float\n",
    "        Azimuthal angle of object i.\n",
    "    Returns\n",
    "    -------\n",
    "    float\n",
    "        Invariant mass M.\n",
    "    \"\"\"\n",
    "    # object 1\n",
    "    px1, py1 = pt1 * np.cos(phi1), pt1 * np.sin(phi1)\n",
    "    pz1 = np.sqrt(m1**2 + pt1**2) * np.sinh(eta1)\n",
    "    e1 = np.sqrt(m1**2 + px1**2 + py1**2 + pz1**2)\n",
    "    # object 2\n",
    "    px2, py2 = pt2 * np.cos(phi2), pt2 * np.sin(phi2)\n",
    "    pz2 = np.sqrt(m2**2 + pt2**2) * np.sinh(eta2)\n",
    "    e2 = np.sqrt(m2**2 + px2**2 + py2**2 + pz2**2)\n",
    "    # object 3\n",
    "    px3, py3 = pt3 * np.cos(phi3), pt3 * np.sin(phi3)\n",
    "    pz3 = np.sqrt(m3**2 + pt3**2) * np.sinh(eta3)\n",
    "    e3 = np.sqrt(m3**2 + px3**2 + py3**2 + pz3**2)\n",
    "    return np.sqrt((e1 + e2 + e3)**2\n",
    "                   - (px1 + px2 + px3)**2\n",
    "                   - (py1 + py2 + py3)**2\n",
    "                   - (pz1 + pz2 + pz3)**2)\n",
    "\n",
    "\n",
    "# B. Transverse mass MT\n",
    "def MT_123(m1, pt1, eta1, phi1, m2, pt2, eta2, phi2, m3, pt3, eta3, phi3):\n",
    "    \"\"\"Transverse mass MT of 3 objects, MT is defined by\n",
    "    M_T^2 = (E_T(1) + E_T(2))^2 - (p_T(1) + p_T(2))^2.\n",
    "    Parameters\n",
    "    ----------\n",
    "    m1, m2, m3 : float\n",
    "        Mass of object i.\n",
    "    pt1, pt2, pt3 : float\n",
    "        Transverse momentum of object i.\n",
    "    eta1, eta2, eta2 : float\n",
    "        Pseudorapidity of object i.\n",
    "    phi1, phi2, phi3 : float\n",
    "        Azimuthal angle of object i.\n",
    "    Returns\n",
    "    -------\n",
    "    float\n",
    "        Transverse mass MT.\n",
    "    \"\"\"\n",
    "    # object 1\n",
    "    px1, py1 = pt1 * np.cos(phi1), pt1 * np.sin(phi1)\n",
    "    pz1 = np.sqrt(m1**2 + pt1**2) * np.sinh(eta1)\n",
    "    e1 = np.sqrt(m1**2 + px1**2 + py1**2 + pz1**2)\n",
    "    et1 = np.sqrt(m1**2 + pt1**2)\n",
    "    # object 2\n",
    "    px2, py2 = pt2 * np.cos(phi2), pt2 * np.sin(phi2)\n",
    "    pz2 = np.sqrt(m2**2 + pt2**2) * np.sinh(eta2)\n",
    "    e2 = np.sqrt(m2**2 + px2**2 + py2**2 + pz2**2)\n",
    "    et2 = np.sqrt(m2**2 + pt2**2)\n",
    "    # object 3\n",
    "    px3, py3 = pt3 * np.cos(phi3), pt3 * np.sin(phi3)\n",
    "    pz3 = np.sqrt(m3**2 + pt3**2) * np.sinh(eta3)\n",
    "    e3 = np.sqrt(m3**2 + px3**2 + py3**2 + pz3**2)\n",
    "    et3 = np.sqrt(m3**2 + pt3**2)\n",
    "    return np.sqrt((et1 + et2 + et3)**2\n",
    "                   - (px1 + px2 + px3)**2\n",
    "                   - (py1 + py2 + py3)**2)\n",
    "\n",
    "\n",
    "# C. Transverse mass mT with definition 1\n",
    "# * mT is invariant under Lorentz boost along the z direction.\n",
    "def mT_123_def_1(m1, pt1, eta1, phi1, m2, pt2, eta2, phi2, m3, pt3, eta3, phi3):\n",
    "    \"\"\"Transverse mass mT of 3 objects, mT is defined by m_T^2 = E^2 - p_z^2.\n",
    "    Parameters\n",
    "    ----------\n",
    "    m1, m2, m3 : float\n",
    "        Mass of object i.\n",
    "    pt1, pt2, pt3 : float\n",
    "        Transverse mass of object i.\n",
    "    eta1, eta2, eta3 : float\n",
    "        Pseudorapidity of object i.\n",
    "    phi1, phi2, phi3 : float\n",
    "        Azimuthal angle of object i.\n",
    "    Returns\n",
    "    -------\n",
    "    float\n",
    "        Transverse mass mT.\n",
    "    \"\"\"\n",
    "    # object 1\n",
    "    px1, py1 = pt1 * np.cos(phi1), pt1 * np.sin(phi1)\n",
    "    pz1 = np.sqrt(m1**2 + pt1**2) * np.sinh(eta1)\n",
    "    e1 = np.sqrt(m1**2 + px1**2 + py1**2 + pz1**2)\n",
    "    # object 2\n",
    "    px2, py2 = pt2 * np.cos(phi2), pt2 * np.sin(phi2)\n",
    "    pz2 = np.sqrt(m2**2 + pt2**2) * np.sinh(eta2)\n",
    "    e2 = np.sqrt(m2**2 + px2**2 + py2**2 + pz2**2)\n",
    "    # object 3\n",
    "    px3, py3 = pt3 * np.cos(phi3), pt3 * np.sin(phi3)\n",
    "    pz3 = np.sqrt(m3**2 + pt3**2) * np.sinh(eta3)\n",
    "    e3 = np.sqrt(m3**2 + px3**2 + py3**2 + pz3**2)\n",
    "    return np.sqrt((e1 + e2 + e3)**2 - (pz1 + pz2 + pz3)**2)\n",
    "\n",
    "\n",
    "# D. Transverse mass mT with definition 2 or Transverse energy ET\n",
    "# * mT is invariant under Lorentz boost along the z direction.\n",
    "def mT_123_def_2(m1, pt1, eta1, phi1, m2, pt2, eta2, phi2, m3, pt3, eta3, phi3):\n",
    "    \"\"\"Transverse mass mT of 3 objects, mT is defined by m_T^2 = m^2 + p_T^2.\n",
    "    Parameters\n",
    "    ----------\n",
    "    m1, m2, m3 : float\n",
    "        Mass of object i.\n",
    "    pt1, pt2, pt3 : float\n",
    "        Transverse momentum of object i.\n",
    "    eta1, eta2, eta3 : float\n",
    "        Pseudorapidity of object i.\n",
    "    phi1, phi2, phi3 : float\n",
    "        Azimuthal angle of object i.\n",
    "    Returns\n",
    "    -------\n",
    "    float\n",
    "        Transverse mass mT.\n",
    "    \"\"\"\n",
    "    # object 1\n",
    "    px1, py1 = pt1 * np.cos(phi1), pt1 * np.sin(phi1)\n",
    "    pz1 = np.sqrt(m1**2 + pt1**2) * np.sinh(eta1)\n",
    "    e1 = np.sqrt(m1**2 + px1**2 + py1**2 + pz1**2)\n",
    "    # object 2\n",
    "    px2, py2 = pt2 * np.cos(phi2), pt2 * np.sin(phi2)\n",
    "    pz2 = np.sqrt(m2**2 + pt2**2) * np.sinh(eta2)\n",
    "    e2 = np.sqrt(m2**2 + px2**2 + py2**2 + pz2**2)\n",
    "    # object 3\n",
    "    px3, py3 = pt3 * np.cos(phi3), pt3 * np.sin(phi3)\n",
    "    pz3 = np.sqrt(m3**2 + pt3**2) * np.sinh(eta3)\n",
    "    e3 = np.sqrt(m3**2 + px3**2 + py3**2 + pz3**2)\n",
    "    # invariant mass of 3 objects\n",
    "    m123 = np.sqrt((e1 + e2 + e3)**2 - (px1 + px2 + px3)**2\n",
    "                   - (py1 + py2 + py3)**2 - (pz1 + pz2 + pz3)**2)\n",
    "    return np.sqrt(m123**2 + (px1 + px2 + px3)**2 + (py1 + py2 + py3)**2)"
   ]
  },
  {
   "cell_type": "markdown",
   "metadata": {},
   "source": [
    "## 3. Analyze the Dark Quark Pair in the Parton and Truth Levels\n",
    "Skip this step"
   ]
  },
  {
   "cell_type": "markdown",
   "metadata": {},
   "source": [
    "## 4. Jet Clustering"
   ]
  },
  {
   "cell_type": "markdown",
   "metadata": {},
   "source": [
    "### 4-1. Select stable final state particles without/with filtering out dark sector"
   ]
  },
  {
   "cell_type": "code",
   "execution_count": 5,
   "metadata": {},
   "outputs": [
    {
     "name": "stdout",
     "output_type": "stream",
     "text": [
      "The PID of dark matter are [51, -51, 53, -53, 4900211, -4900211, 4900213, -4900213].\n",
      "19373 events are stable final state.\n",
      "19373 events are stable final state without DM.\n"
     ]
    }
   ],
   "source": [
    "SFSP_v3, SFSP_filterDM_v3 = myAnal_v3.selectStableFinalStateParticle(\n",
    "    GP, filter=[51, -51, 53, -53, 4900211, -4900211, 4900213, -4900213])"
   ]
  },
  {
   "cell_type": "markdown",
   "metadata": {},
   "source": [
    "### 4-2. Let's do the jet clustering!!"
   ]
  },
  {
   "cell_type": "code",
   "execution_count": 6,
   "metadata": {},
   "outputs": [
    {
     "name": "stdout",
     "output_type": "stream",
     "text": [
      "Done new version\n"
     ]
    }
   ],
   "source": [
    "R, jetClusteringAlgorithm, pTmin_pyjet = 0.4, -1, 0\n",
    "\n",
    "PseudoJet_v3 = myAnal_v3.jetClustering_v1(SFSP_v3, R=R,\n",
    "                                       p=jetClusteringAlgorithm,\n",
    "                                       pTmin=pTmin_pyjet)\n",
    "PseudoJet_filterDM_v3 = myAnal_v3.jetClustering_v1(SFSP_filterDM_v3, R=R,\n",
    "                                                p=jetClusteringAlgorithm,\n",
    "                                                pTmin=pTmin_pyjet)\n",
    "print('Done new version')"
   ]
  },
  {
   "cell_type": "markdown",
   "metadata": {},
   "source": [
    "## 5. Analyze the Jet in the Truth Level"
   ]
  },
  {
   "cell_type": "markdown",
   "metadata": {},
   "source": [
    "### 5-1. Preselection version 1"
   ]
  },
  {
   "cell_type": "code",
   "execution_count": 7,
   "metadata": {},
   "outputs": [
    {
     "name": "stdout",
     "output_type": "stream",
     "text": [
      "19373 events before preselection\n",
      "19373 events after pT preselection\n",
      "19373 events after pT & eta preselections\n",
      "--------------------------------------------------------------------------------\n",
      "0 events without PseudoJet before preselection\n",
      "357 events without PseudoJet after pT preselection\n",
      "519 events without PseudoJet after pT & eta preselections\n"
     ]
    }
   ],
   "source": [
    "presel_bef, presel_pt, presel_pt_eta, presel_idx = myAnal_v3.preselection_v1(PseudoJet_filterDM_v3, pT_min=20, eta_max=2.5)"
   ]
  },
  {
   "cell_type": "markdown",
   "metadata": {},
   "source": [
    "### 5-2. Analyze truth jet with scheme 1 and version 1"
   ]
  },
  {
   "cell_type": "code",
   "execution_count": 8,
   "metadata": {},
   "outputs": [
    {
     "name": "stdout",
     "output_type": "stream",
     "text": [
      "19373 events in the array of number of jets.\n",
      "16752 selected events in dijet.\n",
      "12771 selected events in trijet.\n"
     ]
    }
   ],
   "source": [
    "N_jet_v1, jj_v1, jjj_v1 = myAnal_v3.analyze_truthJet_scheme1_v1(presel_pt_eta)"
   ]
  },
  {
   "cell_type": "code",
   "execution_count": 9,
   "metadata": {},
   "outputs": [
    {
     "name": "stdout",
     "output_type": "stream",
     "text": [
      "(19373,) (10, 16752) (10, 12771)\n",
      "--------------------------------------------------------------------------------\n",
      "dijet:\n",
      "(16752,) [144.81750682 156.63172343 163.66001185 ... 474.71395195  41.9887166\n",
      " 562.2412089 ]\n",
      "(16752,) [0.0000e+00 1.0000e+00 4.0000e+00 ... 1.9370e+04 1.9371e+04 1.9372e+04]\n",
      "--------------------------------------------------------------------------------\n",
      "trijet:\n",
      "(12771,) [156.63172343 163.66001185 405.9696655  ... 474.71395195  41.9887166\n",
      " 562.2412089 ]\n",
      "(12771,) [1.0000e+00 4.0000e+00 5.0000e+00 ... 1.9370e+04 1.9371e+04 1.9372e+04]\n"
     ]
    }
   ],
   "source": [
    "print(N_jet_v1.shape, jj_v1.shape, jjj_v1.shape)\n",
    "print('-'*80)\n",
    "print('dijet:')\n",
    "print(jj_v1[0].shape, jj_v1[0])\n",
    "print(jj_v1[9].shape, jj_v1[9])\n",
    "print('-'*80)\n",
    "print('trijet:')\n",
    "print(jjj_v1[0].shape, jjj_v1[0])\n",
    "print(jjj_v1[9].shape, jjj_v1[9])"
   ]
  },
  {
   "cell_type": "markdown",
   "metadata": {},
   "source": [
    "### 5-3. Analyze truth jet with scheme 1 and version 2"
   ]
  },
  {
   "cell_type": "code",
   "execution_count": 10,
   "metadata": {},
   "outputs": [
    {
     "name": "stdout",
     "output_type": "stream",
     "text": [
      "19373 events in the array of number of jets.\n",
      "16752 selected events and 10 observables in dijet.\n",
      "12771 selected events and 10 observables in trijet.\n"
     ]
    }
   ],
   "source": [
    "N_jet_v2, jj_v2, jjj_v2 = myAnal_v3.analyze_truthJet_scheme1_v2(presel_pt_eta)"
   ]
  },
  {
   "cell_type": "code",
   "execution_count": 11,
   "metadata": {},
   "outputs": [
    {
     "name": "stdout",
     "output_type": "stream",
     "text": [
      "(19373, 1) (16752, 10) (12771, 10)\n",
      "--------------------------------------------------------------------------------\n",
      "dijet:\n",
      "0     54.865697\n",
      "1    277.092262\n",
      "2    222.669041\n",
      "Name: M_jj, dtype: float64\n",
      "0    0.0\n",
      "1    1.0\n",
      "2    4.0\n",
      "Name: selected, dtype: float64\n",
      "--------------------------------------------------------------------------------\n",
      "trijet:\n",
      "0    445.684904\n",
      "1    356.099158\n",
      "2    858.190032\n",
      "Name: M_jjj, dtype: float64\n",
      "0    1.0\n",
      "1    4.0\n",
      "2    5.0\n",
      "Name: selected, dtype: float64\n"
     ]
    }
   ],
   "source": [
    "print(N_jet_v2.shape, jj_v2.shape, jjj_v2.shape)\n",
    "print('-'*80)\n",
    "print('dijet:')\n",
    "print(jj_v2['M_jj'].head(3))\n",
    "print(jj_v2['selected'].head(3))\n",
    "print('-'*80)\n",
    "print('trijet:')\n",
    "print(jjj_v2['M_jjj'].head(3))\n",
    "print(jjj_v2['selected'].head(3))"
   ]
  },
  {
   "cell_type": "code",
   "execution_count": 13,
   "metadata": {},
   "outputs": [
    {
     "data": {
      "text/html": [
       "<div>\n",
       "<style scoped>\n",
       "    .dataframe tbody tr th:only-of-type {\n",
       "        vertical-align: middle;\n",
       "    }\n",
       "\n",
       "    .dataframe tbody tr th {\n",
       "        vertical-align: top;\n",
       "    }\n",
       "\n",
       "    .dataframe thead th {\n",
       "        text-align: right;\n",
       "    }\n",
       "</style>\n",
       "<table border=\"1\" class=\"dataframe\">\n",
       "  <thead>\n",
       "    <tr style=\"text-align: right;\">\n",
       "      <th></th>\n",
       "      <th>N_jet</th>\n",
       "    </tr>\n",
       "  </thead>\n",
       "  <tbody>\n",
       "    <tr>\n",
       "      <th>0</th>\n",
       "      <td>2</td>\n",
       "    </tr>\n",
       "    <tr>\n",
       "      <th>1</th>\n",
       "      <td>3</td>\n",
       "    </tr>\n",
       "    <tr>\n",
       "      <th>2</th>\n",
       "      <td>1</td>\n",
       "    </tr>\n",
       "    <tr>\n",
       "      <th>3</th>\n",
       "      <td>1</td>\n",
       "    </tr>\n",
       "    <tr>\n",
       "      <th>4</th>\n",
       "      <td>4</td>\n",
       "    </tr>\n",
       "  </tbody>\n",
       "</table>\n",
       "</div>"
      ],
      "text/plain": [
       "   N_jet\n",
       "0      2\n",
       "1      3\n",
       "2      1\n",
       "3      1\n",
       "4      4"
      ]
     },
     "execution_count": 13,
     "metadata": {},
     "output_type": "execute_result"
    }
   ],
   "source": [
    "N_jet_v2.head()"
   ]
  },
  {
   "cell_type": "code",
   "execution_count": 12,
   "metadata": {},
   "outputs": [
    {
     "data": {
      "text/html": [
       "<div>\n",
       "<style scoped>\n",
       "    .dataframe tbody tr th:only-of-type {\n",
       "        vertical-align: middle;\n",
       "    }\n",
       "\n",
       "    .dataframe tbody tr th {\n",
       "        vertical-align: top;\n",
       "    }\n",
       "\n",
       "    .dataframe thead th {\n",
       "        text-align: right;\n",
       "    }\n",
       "</style>\n",
       "<table border=\"1\" class=\"dataframe\">\n",
       "  <thead>\n",
       "    <tr style=\"text-align: right;\">\n",
       "      <th></th>\n",
       "      <th>pT_1</th>\n",
       "      <th>pT_2</th>\n",
       "      <th>eta_1</th>\n",
       "      <th>eta_2</th>\n",
       "      <th>M_jj</th>\n",
       "      <th>MT_jj</th>\n",
       "      <th>mT_jj</th>\n",
       "      <th>Dphi</th>\n",
       "      <th>Deta</th>\n",
       "      <th>selected</th>\n",
       "    </tr>\n",
       "  </thead>\n",
       "  <tbody>\n",
       "    <tr>\n",
       "      <th>0</th>\n",
       "      <td>144.817507</td>\n",
       "      <td>32.643869</td>\n",
       "      <td>0.389989</td>\n",
       "      <td>0.657986</td>\n",
       "      <td>54.865697</td>\n",
       "      <td>51.482040</td>\n",
       "      <td>182.523770</td>\n",
       "      <td>0.506671</td>\n",
       "      <td>0.267997</td>\n",
       "      <td>0.0</td>\n",
       "    </tr>\n",
       "    <tr>\n",
       "      <th>1</th>\n",
       "      <td>156.631723</td>\n",
       "      <td>116.276794</td>\n",
       "      <td>-0.720677</td>\n",
       "      <td>-1.840887</td>\n",
       "      <td>277.092262</td>\n",
       "      <td>225.132240</td>\n",
       "      <td>320.502725</td>\n",
       "      <td>1.909764</td>\n",
       "      <td>1.120210</td>\n",
       "      <td>1.0</td>\n",
       "    </tr>\n",
       "    <tr>\n",
       "      <th>2</th>\n",
       "      <td>163.660012</td>\n",
       "      <td>72.199409</td>\n",
       "      <td>-0.501624</td>\n",
       "      <td>1.195995</td>\n",
       "      <td>222.669041</td>\n",
       "      <td>68.053216</td>\n",
       "      <td>320.871248</td>\n",
       "      <td>0.440186</td>\n",
       "      <td>1.697619</td>\n",
       "      <td>4.0</td>\n",
       "    </tr>\n",
       "    <tr>\n",
       "      <th>3</th>\n",
       "      <td>405.969665</td>\n",
       "      <td>173.642818</td>\n",
       "      <td>0.164161</td>\n",
       "      <td>-0.849254</td>\n",
       "      <td>603.707680</td>\n",
       "      <td>533.288226</td>\n",
       "      <td>648.034045</td>\n",
       "      <td>2.995134</td>\n",
       "      <td>1.013415</td>\n",
       "      <td>5.0</td>\n",
       "    </tr>\n",
       "    <tr>\n",
       "      <th>4</th>\n",
       "      <td>73.993653</td>\n",
       "      <td>69.639708</td>\n",
       "      <td>-0.522255</td>\n",
       "      <td>-1.584679</td>\n",
       "      <td>86.456455</td>\n",
       "      <td>31.553025</td>\n",
       "      <td>165.587850</td>\n",
       "      <td>0.366903</td>\n",
       "      <td>1.062424</td>\n",
       "      <td>7.0</td>\n",
       "    </tr>\n",
       "  </tbody>\n",
       "</table>\n",
       "</div>"
      ],
      "text/plain": [
       "         pT_1        pT_2     eta_1     eta_2        M_jj       MT_jj  \\\n",
       "0  144.817507   32.643869  0.389989  0.657986   54.865697   51.482040   \n",
       "1  156.631723  116.276794 -0.720677 -1.840887  277.092262  225.132240   \n",
       "2  163.660012   72.199409 -0.501624  1.195995  222.669041   68.053216   \n",
       "3  405.969665  173.642818  0.164161 -0.849254  603.707680  533.288226   \n",
       "4   73.993653   69.639708 -0.522255 -1.584679   86.456455   31.553025   \n",
       "\n",
       "        mT_jj      Dphi      Deta  selected  \n",
       "0  182.523770  0.506671  0.267997       0.0  \n",
       "1  320.502725  1.909764  1.120210       1.0  \n",
       "2  320.871248  0.440186  1.697619       4.0  \n",
       "3  648.034045  2.995134  1.013415       5.0  \n",
       "4  165.587850  0.366903  1.062424       7.0  "
      ]
     },
     "execution_count": 12,
     "metadata": {},
     "output_type": "execute_result"
    }
   ],
   "source": [
    "jj_v2.head()"
   ]
  },
  {
   "cell_type": "code",
   "execution_count": 14,
   "metadata": {},
   "outputs": [
    {
     "data": {
      "text/html": [
       "<div>\n",
       "<style scoped>\n",
       "    .dataframe tbody tr th:only-of-type {\n",
       "        vertical-align: middle;\n",
       "    }\n",
       "\n",
       "    .dataframe tbody tr th {\n",
       "        vertical-align: top;\n",
       "    }\n",
       "\n",
       "    .dataframe thead th {\n",
       "        text-align: right;\n",
       "    }\n",
       "</style>\n",
       "<table border=\"1\" class=\"dataframe\">\n",
       "  <thead>\n",
       "    <tr style=\"text-align: right;\">\n",
       "      <th></th>\n",
       "      <th>pT_1</th>\n",
       "      <th>pT_2</th>\n",
       "      <th>pT_3</th>\n",
       "      <th>eta_1</th>\n",
       "      <th>eta_2</th>\n",
       "      <th>eta_3</th>\n",
       "      <th>M_jjj</th>\n",
       "      <th>MT_jjj</th>\n",
       "      <th>mT_jjj</th>\n",
       "      <th>selected</th>\n",
       "    </tr>\n",
       "  </thead>\n",
       "  <tbody>\n",
       "    <tr>\n",
       "      <th>0</th>\n",
       "      <td>156.631723</td>\n",
       "      <td>116.276794</td>\n",
       "      <td>100.766976</td>\n",
       "      <td>-0.720677</td>\n",
       "      <td>-1.840887</td>\n",
       "      <td>-2.304753</td>\n",
       "      <td>445.684904</td>\n",
       "      <td>346.918388</td>\n",
       "      <td>470.524175</td>\n",
       "      <td>1.0</td>\n",
       "    </tr>\n",
       "    <tr>\n",
       "      <th>1</th>\n",
       "      <td>163.660012</td>\n",
       "      <td>72.199409</td>\n",
       "      <td>49.112062</td>\n",
       "      <td>-0.501624</td>\n",
       "      <td>1.195995</td>\n",
       "      <td>1.191665</td>\n",
       "      <td>356.099158</td>\n",
       "      <td>227.059823</td>\n",
       "      <td>399.885564</td>\n",
       "      <td>4.0</td>\n",
       "    </tr>\n",
       "    <tr>\n",
       "      <th>2</th>\n",
       "      <td>405.969665</td>\n",
       "      <td>173.642818</td>\n",
       "      <td>105.695284</td>\n",
       "      <td>0.164161</td>\n",
       "      <td>-0.849254</td>\n",
       "      <td>1.402649</td>\n",
       "      <td>858.190032</td>\n",
       "      <td>660.145111</td>\n",
       "      <td>881.950840</td>\n",
       "      <td>5.0</td>\n",
       "    </tr>\n",
       "    <tr>\n",
       "      <th>3</th>\n",
       "      <td>73.993653</td>\n",
       "      <td>69.639708</td>\n",
       "      <td>61.287772</td>\n",
       "      <td>-0.522255</td>\n",
       "      <td>-1.584679</td>\n",
       "      <td>0.814885</td>\n",
       "      <td>290.906597</td>\n",
       "      <td>170.318611</td>\n",
       "      <td>313.626423</td>\n",
       "      <td>7.0</td>\n",
       "    </tr>\n",
       "    <tr>\n",
       "      <th>4</th>\n",
       "      <td>349.992032</td>\n",
       "      <td>93.422654</td>\n",
       "      <td>53.809296</td>\n",
       "      <td>0.729602</td>\n",
       "      <td>-1.378293</td>\n",
       "      <td>0.022031</td>\n",
       "      <td>647.630734</td>\n",
       "      <td>431.982137</td>\n",
       "      <td>694.702131</td>\n",
       "      <td>8.0</td>\n",
       "    </tr>\n",
       "  </tbody>\n",
       "</table>\n",
       "</div>"
      ],
      "text/plain": [
       "         pT_1        pT_2        pT_3     eta_1     eta_2     eta_3  \\\n",
       "0  156.631723  116.276794  100.766976 -0.720677 -1.840887 -2.304753   \n",
       "1  163.660012   72.199409   49.112062 -0.501624  1.195995  1.191665   \n",
       "2  405.969665  173.642818  105.695284  0.164161 -0.849254  1.402649   \n",
       "3   73.993653   69.639708   61.287772 -0.522255 -1.584679  0.814885   \n",
       "4  349.992032   93.422654   53.809296  0.729602 -1.378293  0.022031   \n",
       "\n",
       "        M_jjj      MT_jjj      mT_jjj  selected  \n",
       "0  445.684904  346.918388  470.524175       1.0  \n",
       "1  356.099158  227.059823  399.885564       4.0  \n",
       "2  858.190032  660.145111  881.950840       5.0  \n",
       "3  290.906597  170.318611  313.626423       7.0  \n",
       "4  647.630734  431.982137  694.702131       8.0  "
      ]
     },
     "execution_count": 14,
     "metadata": {},
     "output_type": "execute_result"
    }
   ],
   "source": [
    "jjj_v2.head()"
   ]
  },
  {
   "cell_type": "markdown",
   "metadata": {},
   "source": [
    "### 5-4. Check `v1` and `v2` of scheme 1 functions"
   ]
  },
  {
   "cell_type": "code",
   "execution_count": 24,
   "metadata": {},
   "outputs": [
    {
     "name": "stdout",
     "output_type": "stream",
     "text": [
      "0\n",
      "0.0\n",
      "0.0\n"
     ]
    }
   ],
   "source": [
    "# check v1 and v2 are consistent\n",
    "sum_N_jet = np.sum(np.transpose(N_jet_v2.to_numpy()) - N_jet_v1)\n",
    "sum_jj = np.sum(np.transpose(jj_v2.to_numpy()) - jj_v1)\n",
    "sum_jjj = np.sum(np.transpose(jjj_v2.to_numpy()) - jjj_v1)\n",
    "\n",
    "print(sum_N_jet)\n",
    "print(sum_jj)\n",
    "print(sum_jjj)"
   ]
  },
  {
   "cell_type": "markdown",
   "metadata": {},
   "source": [
    "##### Conclusion: The results of `v2` is the same as `v1` results."
   ]
  },
  {
   "cell_type": "markdown",
   "metadata": {},
   "source": [
    "## 6. Test"
   ]
  },
  {
   "cell_type": "code",
   "execution_count": 10,
   "metadata": {},
   "outputs": [
    {
     "name": "stdout",
     "output_type": "stream",
     "text": [
      "event 21\n",
      "pT   = [754.72107953 104.83282762  85.25366785  54.1991487   27.54988231]\n",
      "mass = [73.17201984 20.66261802 16.94153709 12.15247457  4.1833831 ]\n",
      "--------------------------------------------------------------------------------\n",
      "event 22\n",
      "pT   = [135.81475624  23.67438139]\n",
      "mass = [28.58375223  8.45196396]\n",
      "--------------------------------------------------------------------------------\n",
      "event 23\n",
      "pT   = [492.57649468 415.89764971  42.02645083]\n",
      "mass = [47.88720232 21.37220707 11.83759252]\n",
      "--------------------------------------------------------------------------------\n",
      "pT(1) = [754.7210795322543, 135.81475624404072, 492.57649467588806]\n",
      "pT(2) = [104.83282762072056, 23.67438139019276, 415.8976497129115]\n"
     ]
    }
   ],
   "source": [
    "pt_1, pt_2 = [], []\n",
    "\n",
    "for i in range(21,24):\n",
    "    if np.shape(presel_pt_eta[i])[0] >= 2:\n",
    "        test_pt, test_eta = presel_pt_eta[i]['pT'], presel_pt_eta[i]['eta']\n",
    "        test_phi, test_m = presel_pt_eta[i]['phi'], presel_pt_eta[i]['mass']\n",
    "        print(\"event {}\".format(i))\n",
    "        pt_1.append(test_pt[0])\n",
    "        pt_2.append(test_pt[1])\n",
    "        print(\"pT   =\", test_pt)\n",
    "        print(\"mass =\", test_m)\n",
    "    print('-'*80)\n",
    "    \n",
    "print(\"pT(1) = {}\".format(pt_1))\n",
    "print(\"pT(2) = {}\".format(pt_2))"
   ]
  },
  {
   "cell_type": "code",
   "execution_count": 11,
   "metadata": {},
   "outputs": [
    {
     "name": "stdout",
     "output_type": "stream",
     "text": [
      "no\n",
      "not 2\n",
      "yes 3\n"
     ]
    }
   ],
   "source": [
    "a = 3\n",
    "if a == 2:\n",
    "    print('yes 2')\n",
    "else:\n",
    "    print('no')\n",
    "if a != 2:\n",
    "    print('not 2')\n",
    "if a == 3:\n",
    "    print('yes 3')"
   ]
  },
  {
   "cell_type": "code",
   "execution_count": 12,
   "metadata": {},
   "outputs": [
    {
     "name": "stdout",
     "output_type": "stream",
     "text": [
      "yes >= 2, b = 4\n",
      "yes >= 3, b = 5\n"
     ]
    }
   ],
   "source": [
    "a = 3\n",
    "if a >= 2:\n",
    "    b = 4\n",
    "    print('yes >= 2,', 'b =', b)\n",
    "if a >= 3:\n",
    "    b = 5\n",
    "    print('yes >= 3,', 'b =', b)"
   ]
  },
  {
   "cell_type": "code",
   "execution_count": 18,
   "metadata": {},
   "outputs": [
    {
     "name": "stdout",
     "output_type": "stream",
     "text": [
      "[0, 1, 0]\n",
      "[1, 2, 2]\n",
      "[2, 3, 4]\n",
      "[3, 4, 6]\n",
      "[4, 5, 8]\n",
      "--------------------------------------------------------------------------------\n",
      "[[0, 1, 0], [1, 2, 2], [2, 3, 4], [3, 4, 6], [4, 5, 8]]\n",
      "5 events and 3 observables.\n"
     ]
    },
    {
     "data": {
      "text/plain": [
       "array([[0, 1, 0],\n",
       "       [1, 2, 2],\n",
       "       [2, 3, 4],\n",
       "       [3, 4, 6],\n",
       "       [4, 5, 8]])"
      ]
     },
     "execution_count": 18,
     "metadata": {},
     "output_type": "execute_result"
    }
   ],
   "source": [
    "test_observable = []\n",
    "for i in range(5):\n",
    "    print([i, i+1, 2*i])\n",
    "    test_observable.append([i, i+1, 2*i])\n",
    "arr_observable = np.array(test_observable)\n",
    "print('-'*80)\n",
    "print(test_observable)\n",
    "print(\"{} events and {} observables.\".format(arr_observable.shape[0],\n",
    "                                             arr_observable.shape[1]))\n",
    "arr_observable"
   ]
  },
  {
   "cell_type": "code",
   "execution_count": null,
   "metadata": {},
   "outputs": [],
   "source": []
  }
 ],
 "metadata": {
  "interpreter": {
   "hash": "31f2aee4e71d21fbe5cf8b01ff0e069b9275f58929596ceb00d14d90e3e16cd6"
  },
  "kernelspec": {
   "display_name": "Python 3.8.9 64-bit",
   "language": "python",
   "name": "python3"
  },
  "language_info": {
   "codemirror_mode": {
    "name": "ipython",
    "version": 3
   },
   "file_extension": ".py",
   "mimetype": "text/x-python",
   "name": "python",
   "nbconvert_exporter": "python",
   "pygments_lexer": "ipython3",
   "version": "3.8.5"
  },
  "orig_nbformat": 4
 },
 "nbformat": 4,
 "nbformat_minor": 2
}

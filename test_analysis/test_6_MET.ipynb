{
 "cells": [
  {
   "cell_type": "markdown",
   "metadata": {},
   "source": [
    "# Test 6: Missing Transverse Energy Vector\n",
    "Test my MET function by using SVJ with CKKW-L and without decay data."
   ]
  },
  {
   "cell_type": "markdown",
   "metadata": {},
   "source": [
    "## 1. Import Packages"
   ]
  },
  {
   "cell_type": "code",
   "execution_count": 1,
   "metadata": {},
   "outputs": [],
   "source": [
    "# The Python Standard Library\n",
    "import os\n",
    "import sys\n",
    "import time\n",
    "import datetime\n",
    "import glob\n",
    "import multiprocessing as mp\n",
    "\n",
    "# The Third-Party Library\n",
    "import math\n",
    "import numpy as np\n",
    "import pandas as pd\n",
    "import matplotlib.pyplot as plt\n",
    "import tqdm\n",
    "import prettytable\n",
    "import uproot\n",
    "import pyjet\n",
    "import importlib\n",
    "\n",
    "# My Packages\n",
    "import myhep.particle_information_v2 as mypInfo_v2\n",
    "import myhep.analytical_function_v2 as myaFun_v2\n",
    "import myhep.analysis_v3 as myAnal_v3\n",
    "# import myhep.particleinfo_v1 as mypiv1\n",
    "# import myhep.particlefun_v1 as myafv1\n",
    "\n",
    "# increase figure showing resolution\n",
    "%config InlineBackend.figure_format = 'retina'"
   ]
  },
  {
   "cell_type": "markdown",
   "metadata": {},
   "source": [
    "## 2. Import .root File and Load the Data via class\n",
    "Skip:  \n",
    "2-1. Check the number of events for each branch  \n",
    "2-2. Define mass quantities"
   ]
  },
  {
   "cell_type": "code",
   "execution_count": 2,
   "metadata": {},
   "outputs": [],
   "source": [
    "INPUT_FILE = '/youwei_u3/svj_data_master/scheme_1/root/ckkwl_wo.root'\n",
    "\n",
    "DATA = uproot.open(INPUT_FILE)['Delphes;1']\n",
    "GP = mypInfo_v2.classGenParticle(DATA)\n",
    "Jet = mypInfo_v2.classJet(DATA)\n",
    "Event = mypInfo_v2.classEvent(DATA)"
   ]
  },
  {
   "cell_type": "markdown",
   "metadata": {},
   "source": [
    "## 3. Analyze the Dark Quark Pair in the Parton and Truth Levels\n",
    "Skip"
   ]
  },
  {
   "cell_type": "markdown",
   "metadata": {},
   "source": [
    "## 4. Jet Clustering"
   ]
  },
  {
   "cell_type": "markdown",
   "metadata": {},
   "source": [
    "### 4-1. Select stable final state particles without/with filtering out dark sector"
   ]
  },
  {
   "cell_type": "code",
   "execution_count": 3,
   "metadata": {},
   "outputs": [
    {
     "name": "stdout",
     "output_type": "stream",
     "text": [
      "The PID of dark matter are [51, -51, 53, -53, 4900211, -4900211, 4900213, -4900213].\n",
      "19373 events are stable final state.\n",
      "19373 events are stable final state without DM.\n"
     ]
    }
   ],
   "source": [
    "SFSP_v3, SFSP_filterDM_v3 = myAnal_v3.selectStableFinalStateParticle(\n",
    "    GP, filter=[51, -51, 53, -53, 4900211, -4900211, 4900213, -4900213])"
   ]
  },
  {
   "cell_type": "markdown",
   "metadata": {},
   "source": [
    "### 4-2. Let's do the jet clustering!!"
   ]
  },
  {
   "cell_type": "code",
   "execution_count": 4,
   "metadata": {},
   "outputs": [
    {
     "name": "stdout",
     "output_type": "stream",
     "text": [
      "Done new version\n"
     ]
    }
   ],
   "source": [
    "R, jetClusteringAlgorithm, pTmin_pyjet = 0.4, -1, 0\n",
    "\n",
    "PseudoJet_v3 = myAnal_v3.jetClustering_v1(SFSP_v3, R=R,\n",
    "                                       p=jetClusteringAlgorithm,\n",
    "                                       pTmin=pTmin_pyjet)\n",
    "PseudoJet_filterDM_v3 = myAnal_v3.jetClustering_v1(SFSP_filterDM_v3, R=R,\n",
    "                                                p=jetClusteringAlgorithm,\n",
    "                                                pTmin=pTmin_pyjet)\n",
    "print('Done new version')"
   ]
  },
  {
   "cell_type": "markdown",
   "metadata": {},
   "source": [
    "## 5. Analyze the Jet in the Truth Level"
   ]
  },
  {
   "cell_type": "markdown",
   "metadata": {},
   "source": [
    "### 5-1. Preselection version 1"
   ]
  },
  {
   "cell_type": "code",
   "execution_count": null,
   "metadata": {},
   "outputs": [],
   "source": []
  },
  {
   "cell_type": "markdown",
   "metadata": {},
   "source": [
    "### 5-2. MET\n",
    "\\begin{align}\n",
    "    \\vec{E}_T^\\mathrm{miss} = -\\sum_i {\\vec{p}_T(i)}\n",
    "\\end{align}"
   ]
  },
  {
   "cell_type": "code",
   "execution_count": 5,
   "metadata": {},
   "outputs": [
    {
     "name": "stdout",
     "output_type": "stream",
     "text": [
      "19373 events in MET data.\n"
     ]
    }
   ],
   "source": [
    "arr_MET, df_MET = myAnal_v3.MET_visParticles_v1(SFSP_filterDM_v3)"
   ]
  },
  {
   "cell_type": "code",
   "execution_count": 6,
   "metadata": {},
   "outputs": [
    {
     "data": {
      "text/plain": [
       "array([(180.36140062,  2.80660527, -170.33591449,  59.29511843),\n",
       "       (158.13608629, -0.31722873,  150.24565215, -49.32814406),\n",
       "       (201.62627625, -0.37612596,  187.53151556, -74.06136607), ...,\n",
       "       (116.27951432, -2.64619197, -102.30019373, -55.27744399),\n",
       "       ( 73.07751061,  2.51891286,  -59.36221253,  42.61983435),\n",
       "       (517.76480468,  1.51936352,   26.61835554, 517.08012543)],\n",
       "      dtype=[('MET', '<f8'), ('phi', '<f8'), ('METx', '<f8'), ('METy', '<f8')])"
      ]
     },
     "execution_count": 6,
     "metadata": {},
     "output_type": "execute_result"
    }
   ],
   "source": [
    "arr_MET"
   ]
  },
  {
   "cell_type": "code",
   "execution_count": 7,
   "metadata": {},
   "outputs": [
    {
     "data": {
      "text/html": [
       "<div>\n",
       "<style scoped>\n",
       "    .dataframe tbody tr th:only-of-type {\n",
       "        vertical-align: middle;\n",
       "    }\n",
       "\n",
       "    .dataframe tbody tr th {\n",
       "        vertical-align: top;\n",
       "    }\n",
       "\n",
       "    .dataframe thead th {\n",
       "        text-align: right;\n",
       "    }\n",
       "</style>\n",
       "<table border=\"1\" class=\"dataframe\">\n",
       "  <thead>\n",
       "    <tr style=\"text-align: right;\">\n",
       "      <th></th>\n",
       "      <th>MET</th>\n",
       "      <th>phi</th>\n",
       "      <th>METx</th>\n",
       "      <th>METy</th>\n",
       "    </tr>\n",
       "  </thead>\n",
       "  <tbody>\n",
       "    <tr>\n",
       "      <th>0</th>\n",
       "      <td>180.361401</td>\n",
       "      <td>2.806605</td>\n",
       "      <td>-170.335914</td>\n",
       "      <td>59.295118</td>\n",
       "    </tr>\n",
       "    <tr>\n",
       "      <th>1</th>\n",
       "      <td>158.136086</td>\n",
       "      <td>-0.317229</td>\n",
       "      <td>150.245652</td>\n",
       "      <td>-49.328144</td>\n",
       "    </tr>\n",
       "    <tr>\n",
       "      <th>2</th>\n",
       "      <td>201.626276</td>\n",
       "      <td>-0.376126</td>\n",
       "      <td>187.531516</td>\n",
       "      <td>-74.061366</td>\n",
       "    </tr>\n",
       "    <tr>\n",
       "      <th>3</th>\n",
       "      <td>105.306424</td>\n",
       "      <td>2.742176</td>\n",
       "      <td>-97.017542</td>\n",
       "      <td>40.951673</td>\n",
       "    </tr>\n",
       "    <tr>\n",
       "      <th>4</th>\n",
       "      <td>190.593923</td>\n",
       "      <td>0.522398</td>\n",
       "      <td>165.173503</td>\n",
       "      <td>95.098673</td>\n",
       "    </tr>\n",
       "    <tr>\n",
       "      <th>...</th>\n",
       "      <td>...</td>\n",
       "      <td>...</td>\n",
       "      <td>...</td>\n",
       "      <td>...</td>\n",
       "    </tr>\n",
       "    <tr>\n",
       "      <th>19368</th>\n",
       "      <td>351.238421</td>\n",
       "      <td>-2.323326</td>\n",
       "      <td>-240.067150</td>\n",
       "      <td>-256.390702</td>\n",
       "    </tr>\n",
       "    <tr>\n",
       "      <th>19369</th>\n",
       "      <td>248.055171</td>\n",
       "      <td>-0.248239</td>\n",
       "      <td>240.451417</td>\n",
       "      <td>-60.946568</td>\n",
       "    </tr>\n",
       "    <tr>\n",
       "      <th>19370</th>\n",
       "      <td>116.279514</td>\n",
       "      <td>-2.646192</td>\n",
       "      <td>-102.300194</td>\n",
       "      <td>-55.277444</td>\n",
       "    </tr>\n",
       "    <tr>\n",
       "      <th>19371</th>\n",
       "      <td>73.077511</td>\n",
       "      <td>2.518913</td>\n",
       "      <td>-59.362213</td>\n",
       "      <td>42.619834</td>\n",
       "    </tr>\n",
       "    <tr>\n",
       "      <th>19372</th>\n",
       "      <td>517.764805</td>\n",
       "      <td>1.519364</td>\n",
       "      <td>26.618356</td>\n",
       "      <td>517.080125</td>\n",
       "    </tr>\n",
       "  </tbody>\n",
       "</table>\n",
       "<p>19373 rows × 4 columns</p>\n",
       "</div>"
      ],
      "text/plain": [
       "              MET       phi        METx        METy\n",
       "0      180.361401  2.806605 -170.335914   59.295118\n",
       "1      158.136086 -0.317229  150.245652  -49.328144\n",
       "2      201.626276 -0.376126  187.531516  -74.061366\n",
       "3      105.306424  2.742176  -97.017542   40.951673\n",
       "4      190.593923  0.522398  165.173503   95.098673\n",
       "...           ...       ...         ...         ...\n",
       "19368  351.238421 -2.323326 -240.067150 -256.390702\n",
       "19369  248.055171 -0.248239  240.451417  -60.946568\n",
       "19370  116.279514 -2.646192 -102.300194  -55.277444\n",
       "19371   73.077511  2.518913  -59.362213   42.619834\n",
       "19372  517.764805  1.519364   26.618356  517.080125\n",
       "\n",
       "[19373 rows x 4 columns]"
      ]
     },
     "execution_count": 7,
     "metadata": {},
     "output_type": "execute_result"
    }
   ],
   "source": [
    "df_MET"
   ]
  },
  {
   "cell_type": "markdown",
   "metadata": {},
   "source": [
    "## 6. Check"
   ]
  },
  {
   "cell_type": "markdown",
   "metadata": {},
   "source": [
    "### 6-1. Simple check"
   ]
  },
  {
   "cell_type": "code",
   "execution_count": 8,
   "metadata": {},
   "outputs": [
    {
     "name": "stdout",
     "output_type": "stream",
     "text": [
      "There are 19373 invisible events.\n",
      "There are 19373 jet events.\n"
     ]
    }
   ],
   "source": [
    "MET_v2 = myaFun_v2.parseMETTruthJet(SFSP_filterDM_v3, PseudoJet_filterDM_v3)"
   ]
  },
  {
   "cell_type": "code",
   "execution_count": 9,
   "metadata": {},
   "outputs": [
    {
     "name": "stdout",
     "output_type": "stream",
     "text": [
      "5\n",
      "(19373,) (19373,)\n",
      "--------------------------------------------------------------------------------\n",
      "0.0\n",
      "-61261.05674500097\n"
     ]
    },
    {
     "data": {
      "text/plain": [
       "array([ 0.        , -6.28318531, -6.28318531,  0.        ,  0.        ])"
      ]
     },
     "execution_count": 9,
     "metadata": {},
     "output_type": "execute_result"
    }
   ],
   "source": [
    "print(len(MET_v2))\n",
    "print(MET_v2[0].shape, MET_v2[1].shape)\n",
    "print('-'*80)\n",
    "print(np.sum(arr_MET['MET'] - MET_v2[0]))\n",
    "print(np.sum(arr_MET['phi'] - MET_v2[1]))\n",
    "(arr_MET['phi'] - MET_v2[1])[:5]"
   ]
  },
  {
   "cell_type": "code",
   "execution_count": 10,
   "metadata": {},
   "outputs": [
    {
     "data": {
      "text/plain": [
       "0.0"
      ]
     },
     "execution_count": 10,
     "metadata": {},
     "output_type": "execute_result"
    }
   ],
   "source": [
    "diff_phi = arr_MET['phi'] - MET_v2[1]\n",
    "diff_phi2 = diff_phi[diff_phi > 0] - 2*np.pi\n",
    "diff_phi3 = diff_phi2[diff_phi2 < 0] + 2*np.pi\n",
    "np.sum(diff_phi3)"
   ]
  },
  {
   "cell_type": "markdown",
   "metadata": {},
   "source": [
    "##### Conclusion: $\\vec{E}_T^\\mathrm{miss}$ of `MET_visParticle_v1` are the same as old version. Just $\\phi$ is shifted $\\pm \\pi$."
   ]
  },
  {
   "cell_type": "markdown",
   "metadata": {},
   "source": [
    "## 7. Test"
   ]
  },
  {
   "cell_type": "code",
   "execution_count": 12,
   "metadata": {},
   "outputs": [
    {
     "name": "stdout",
     "output_type": "stream",
     "text": [
      "19373\n",
      "5\n",
      "169 169 169 169 169\n",
      "[0.24688363 0.06091056 0.8968184  0.60751599 0.61821955]\n"
     ]
    },
    {
     "data": {
      "text/plain": [
       "array([3.89336681, 7.16352701, 1.30381167, 2.32303762, 1.83510363])"
      ]
     },
     "execution_count": 12,
     "metadata": {},
     "output_type": "execute_result"
    }
   ],
   "source": [
    "print(len(SFSP_filterDM_v3))\n",
    "print(len(SFSP_filterDM_v3[0]))\n",
    "print(len(SFSP_filterDM_v3[0][0]), len(SFSP_filterDM_v3[0][1]),\n",
    "      len(SFSP_filterDM_v3[0][2]), len(SFSP_filterDM_v3[0][3]),\n",
    "      len(SFSP_filterDM_v3[0][4]))\n",
    "print(SFSP_filterDM_v3[0][0][:5])\n",
    "SFSP_filterDM_v3[0][1][:5]"
   ]
  },
  {
   "cell_type": "code",
   "execution_count": null,
   "metadata": {},
   "outputs": [],
   "source": []
  }
 ],
 "metadata": {
  "interpreter": {
   "hash": "31f2aee4e71d21fbe5cf8b01ff0e069b9275f58929596ceb00d14d90e3e16cd6"
  },
  "kernelspec": {
   "display_name": "Python 3.8.9 64-bit",
   "language": "python",
   "name": "python3"
  },
  "language_info": {
   "codemirror_mode": {
    "name": "ipython",
    "version": 3
   },
   "file_extension": ".py",
   "mimetype": "text/x-python",
   "name": "python",
   "nbconvert_exporter": "python",
   "pygments_lexer": "ipython3",
   "version": "3.8.5"
  },
  "orig_nbformat": 4
 },
 "nbformat": 4,
 "nbformat_minor": 2
}

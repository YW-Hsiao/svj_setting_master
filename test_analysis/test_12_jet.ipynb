{
 "cells": [
  {
   "cell_type": "markdown",
   "metadata": {},
   "source": [
    "# Test 12: Jet\n",
    "Test `jet` function which collects the information of the jet for each event by using SVJ with CKKW-L and without decay data."
   ]
  },
  {
   "cell_type": "markdown",
   "metadata": {},
   "source": [
    "## 1. Import Packages"
   ]
  },
  {
   "cell_type": "code",
   "execution_count": 1,
   "metadata": {},
   "outputs": [],
   "source": [
    "# The Python Standard Library\n",
    "import os\n",
    "import sys\n",
    "import time\n",
    "import datetime\n",
    "import glob\n",
    "import multiprocessing as mp\n",
    "\n",
    "# The Third-Party Library\n",
    "import math\n",
    "import numpy as np\n",
    "import pandas as pd\n",
    "import matplotlib.pyplot as plt\n",
    "import tqdm\n",
    "import prettytable\n",
    "import uproot\n",
    "import pyjet\n",
    "import importlib\n",
    "\n",
    "# My Packages\n",
    "import myhep.particle_information_v2 as mypInfo_v2\n",
    "import myhep.analytical_function_v2 as myaFun_v2\n",
    "import myhep.analysis_v3 as myAnal_v3\n",
    "# import myhep.particleinfo_v1 as mypiv1\n",
    "# import myhep.particlefun_v1 as myafv1\n",
    "\n",
    "# increase figure showing resolution\n",
    "%config InlineBackend.figure_format = 'retina'"
   ]
  },
  {
   "cell_type": "markdown",
   "metadata": {},
   "source": [
    "## 2. Import .root File and Load the Data via class\n",
    "Skip:  \n",
    "2-1. Check the number of events for each branch  \n",
    "2-2. Define mass quantities"
   ]
  },
  {
   "cell_type": "code",
   "execution_count": 2,
   "metadata": {},
   "outputs": [],
   "source": [
    "INPUT_FILE = '/youwei_u3/svj_data_master/scheme_1/root/ckkwl_wo.root'\n",
    "\n",
    "DATA = uproot.open(INPUT_FILE)['Delphes;1']\n",
    "GP = mypInfo_v2.classGenParticle(DATA)\n",
    "Jet = mypInfo_v2.classJet(DATA)\n",
    "Event = mypInfo_v2.classEvent(DATA)"
   ]
  },
  {
   "cell_type": "markdown",
   "metadata": {},
   "source": [
    "## 3. Analyze the Dark Sector in the Parton and Truth Levels\n",
    "Skip"
   ]
  },
  {
   "cell_type": "markdown",
   "metadata": {},
   "source": [
    "## 4. Jet Clustering"
   ]
  },
  {
   "cell_type": "markdown",
   "metadata": {},
   "source": [
    "### 4-1. Select stable final state particles without/with filtering out dark sector"
   ]
  },
  {
   "cell_type": "code",
   "execution_count": 3,
   "metadata": {},
   "outputs": [
    {
     "name": "stdout",
     "output_type": "stream",
     "text": [
      "The PID of dark matter are [51, -51, 53, -53, 4900211, -4900211, 4900213, -4900213, 4900101, -4900101, 4900021, 12, -12, 14, -14, 16, -16].\n",
      "19373 events are stable final state.\n",
      "19373 events are stable final state without DM.\n"
     ]
    }
   ],
   "source": [
    "SFSP, SFSP_filterDM = myAnal_v3.selectStableFinalStateParticle(\n",
    "    GP, filter=[51, -51, 53, -53, 4900211, -4900211, 4900213, -4900213,\n",
    "                4900101, -4900101, 4900021,\n",
    "                12, -12, 14, -14, 16, -16])"
   ]
  },
  {
   "cell_type": "markdown",
   "metadata": {},
   "source": [
    "### 4-2. Let's do the jet clustering!!"
   ]
  },
  {
   "cell_type": "code",
   "execution_count": 4,
   "metadata": {},
   "outputs": [
    {
     "name": "stdout",
     "output_type": "stream",
     "text": [
      "Done\n"
     ]
    }
   ],
   "source": [
    "R, JetClusteringAlgorithm, pTmin_pyjet = 0.4, -1, 0\n",
    "\n",
    "PseudoJet = myAnal_v3.jetClustering_v1(SFSP, R=R,\n",
    "                                       p=JetClusteringAlgorithm,\n",
    "                                       pTmin=pTmin_pyjet)\n",
    "PseudoJet_filterDM = myAnal_v3.jetClustering_v1(SFSP_filterDM, R=R,\n",
    "                                                p=JetClusteringAlgorithm,\n",
    "                                                pTmin=pTmin_pyjet)\n",
    "print('Done')"
   ]
  },
  {
   "cell_type": "markdown",
   "metadata": {},
   "source": [
    "## 5. Analyze the Jet in the Truth Level"
   ]
  },
  {
   "cell_type": "markdown",
   "metadata": {},
   "source": [
    "### 5-1. Preselection version 1"
   ]
  },
  {
   "cell_type": "code",
   "execution_count": 5,
   "metadata": {},
   "outputs": [
    {
     "name": "stdout",
     "output_type": "stream",
     "text": [
      "19373 events before preselection\n",
      "19373 events after pT preselection\n",
      "19373 events after pT & eta preselections\n",
      "--------------------------------------------------------------------------------\n",
      "0 events without PseudoJet before preselection\n",
      "364 events without PseudoJet after pT preselection\n",
      "526 events without PseudoJet after pT & eta preselections\n"
     ]
    }
   ],
   "source": [
    "presel_bef, presel_pt, presel_pt_eta, presel_idx = myAnal_v3.preselection_v1(PseudoJet_filterDM, pT_min=20, eta_max=2.5)"
   ]
  },
  {
   "cell_type": "markdown",
   "metadata": {},
   "source": [
    "### 5-2. MET"
   ]
  },
  {
   "cell_type": "code",
   "execution_count": 6,
   "metadata": {},
   "outputs": [
    {
     "name": "stdout",
     "output_type": "stream",
     "text": [
      "19373 events in MET data.\n"
     ]
    }
   ],
   "source": [
    "arr_MET, df_MET = myAnal_v3.MET_visParticles_v1(SFSP_filterDM)"
   ]
  },
  {
   "cell_type": "markdown",
   "metadata": {},
   "source": [
    "### 5-3. Jet"
   ]
  },
  {
   "cell_type": "code",
   "execution_count": 7,
   "metadata": {},
   "outputs": [
    {
     "name": "stdout",
     "output_type": "stream",
     "text": [
      "19373 events and 4 leading jet states (pT, eta, phi, mass).\n"
     ]
    }
   ],
   "source": [
    "df_jet = myAnal_v3.jet(presel_pt_eta)"
   ]
  },
  {
   "cell_type": "code",
   "execution_count": 8,
   "metadata": {},
   "outputs": [
    {
     "data": {
      "text/html": [
       "<div>\n",
       "<style scoped>\n",
       "    .dataframe tbody tr th:only-of-type {\n",
       "        vertical-align: middle;\n",
       "    }\n",
       "\n",
       "    .dataframe tbody tr th {\n",
       "        vertical-align: top;\n",
       "    }\n",
       "\n",
       "    .dataframe thead th {\n",
       "        text-align: right;\n",
       "    }\n",
       "</style>\n",
       "<table border=\"1\" class=\"dataframe\">\n",
       "  <thead>\n",
       "    <tr style=\"text-align: right;\">\n",
       "      <th></th>\n",
       "      <th>N_jet</th>\n",
       "      <th>pT_1</th>\n",
       "      <th>pT_2</th>\n",
       "      <th>pT_3</th>\n",
       "      <th>pT_4</th>\n",
       "      <th>eta_1</th>\n",
       "      <th>eta_2</th>\n",
       "      <th>eta_3</th>\n",
       "      <th>eta_4</th>\n",
       "      <th>phi_1</th>\n",
       "      <th>phi_2</th>\n",
       "      <th>phi_3</th>\n",
       "      <th>phi_4</th>\n",
       "      <th>mass_1</th>\n",
       "      <th>mass_2</th>\n",
       "      <th>mass_3</th>\n",
       "      <th>mass_4</th>\n",
       "    </tr>\n",
       "  </thead>\n",
       "  <tbody>\n",
       "    <tr>\n",
       "      <th>0</th>\n",
       "      <td>2.0</td>\n",
       "      <td>87.399442</td>\n",
       "      <td>64.213808</td>\n",
       "      <td>-999.000000</td>\n",
       "      <td>-999.000000</td>\n",
       "      <td>0.187685</td>\n",
       "      <td>0.613261</td>\n",
       "      <td>-999.000000</td>\n",
       "      <td>-999.000000</td>\n",
       "      <td>-0.162607</td>\n",
       "      <td>-0.410417</td>\n",
       "      <td>-999.000000</td>\n",
       "      <td>-999.000000</td>\n",
       "      <td>13.970557</td>\n",
       "      <td>11.678316</td>\n",
       "      <td>-999.000000</td>\n",
       "      <td>-999.000000</td>\n",
       "    </tr>\n",
       "    <tr>\n",
       "      <th>1</th>\n",
       "      <td>3.0</td>\n",
       "      <td>156.631723</td>\n",
       "      <td>116.276794</td>\n",
       "      <td>100.766976</td>\n",
       "      <td>-999.000000</td>\n",
       "      <td>-0.720677</td>\n",
       "      <td>-1.840887</td>\n",
       "      <td>-2.304753</td>\n",
       "      <td>-999.000000</td>\n",
       "      <td>1.453170</td>\n",
       "      <td>-2.920251</td>\n",
       "      <td>-2.086857</td>\n",
       "      <td>-999.000000</td>\n",
       "      <td>24.607911</td>\n",
       "      <td>21.576661</td>\n",
       "      <td>12.046796</td>\n",
       "      <td>-999.000000</td>\n",
       "    </tr>\n",
       "    <tr>\n",
       "      <th>2</th>\n",
       "      <td>1.0</td>\n",
       "      <td>180.418744</td>\n",
       "      <td>-999.000000</td>\n",
       "      <td>-999.000000</td>\n",
       "      <td>-999.000000</td>\n",
       "      <td>-1.262694</td>\n",
       "      <td>-999.000000</td>\n",
       "      <td>-999.000000</td>\n",
       "      <td>-999.000000</td>\n",
       "      <td>2.763893</td>\n",
       "      <td>-999.000000</td>\n",
       "      <td>-999.000000</td>\n",
       "      <td>-999.000000</td>\n",
       "      <td>34.021953</td>\n",
       "      <td>-999.000000</td>\n",
       "      <td>-999.000000</td>\n",
       "      <td>-999.000000</td>\n",
       "    </tr>\n",
       "    <tr>\n",
       "      <th>3</th>\n",
       "      <td>1.0</td>\n",
       "      <td>123.361312</td>\n",
       "      <td>-999.000000</td>\n",
       "      <td>-999.000000</td>\n",
       "      <td>-999.000000</td>\n",
       "      <td>1.777785</td>\n",
       "      <td>-999.000000</td>\n",
       "      <td>-999.000000</td>\n",
       "      <td>-999.000000</td>\n",
       "      <td>-0.543866</td>\n",
       "      <td>-999.000000</td>\n",
       "      <td>-999.000000</td>\n",
       "      <td>-999.000000</td>\n",
       "      <td>23.160264</td>\n",
       "      <td>-999.000000</td>\n",
       "      <td>-999.000000</td>\n",
       "      <td>-999.000000</td>\n",
       "    </tr>\n",
       "    <tr>\n",
       "      <th>4</th>\n",
       "      <td>4.0</td>\n",
       "      <td>163.660012</td>\n",
       "      <td>72.199409</td>\n",
       "      <td>33.798631</td>\n",
       "      <td>25.914431</td>\n",
       "      <td>-0.501624</td>\n",
       "      <td>1.195995</td>\n",
       "      <td>1.194867</td>\n",
       "      <td>-0.849276</td>\n",
       "      <td>-2.365578</td>\n",
       "      <td>-2.805764</td>\n",
       "      <td>0.611460</td>\n",
       "      <td>1.376696</td>\n",
       "      <td>33.096091</td>\n",
       "      <td>15.648594</td>\n",
       "      <td>8.263577</td>\n",
       "      <td>8.521142</td>\n",
       "    </tr>\n",
       "  </tbody>\n",
       "</table>\n",
       "</div>"
      ],
      "text/plain": [
       "   N_jet        pT_1        pT_2        pT_3        pT_4     eta_1  \\\n",
       "0    2.0   87.399442   64.213808 -999.000000 -999.000000  0.187685   \n",
       "1    3.0  156.631723  116.276794  100.766976 -999.000000 -0.720677   \n",
       "2    1.0  180.418744 -999.000000 -999.000000 -999.000000 -1.262694   \n",
       "3    1.0  123.361312 -999.000000 -999.000000 -999.000000  1.777785   \n",
       "4    4.0  163.660012   72.199409   33.798631   25.914431 -0.501624   \n",
       "\n",
       "        eta_2       eta_3       eta_4     phi_1       phi_2       phi_3  \\\n",
       "0    0.613261 -999.000000 -999.000000 -0.162607   -0.410417 -999.000000   \n",
       "1   -1.840887   -2.304753 -999.000000  1.453170   -2.920251   -2.086857   \n",
       "2 -999.000000 -999.000000 -999.000000  2.763893 -999.000000 -999.000000   \n",
       "3 -999.000000 -999.000000 -999.000000 -0.543866 -999.000000 -999.000000   \n",
       "4    1.195995    1.194867   -0.849276 -2.365578   -2.805764    0.611460   \n",
       "\n",
       "        phi_4     mass_1      mass_2      mass_3      mass_4  \n",
       "0 -999.000000  13.970557   11.678316 -999.000000 -999.000000  \n",
       "1 -999.000000  24.607911   21.576661   12.046796 -999.000000  \n",
       "2 -999.000000  34.021953 -999.000000 -999.000000 -999.000000  \n",
       "3 -999.000000  23.160264 -999.000000 -999.000000 -999.000000  \n",
       "4    1.376696  33.096091   15.648594    8.263577    8.521142  "
      ]
     },
     "execution_count": 8,
     "metadata": {},
     "output_type": "execute_result"
    }
   ],
   "source": [
    "df_jet.head()"
   ]
  },
  {
   "cell_type": "markdown",
   "metadata": {},
   "source": [
    "##### Conclusion: Well Done!!"
   ]
  },
  {
   "cell_type": "code",
   "execution_count": 9,
   "metadata": {},
   "outputs": [
    {
     "name": "stdout",
     "output_type": "stream",
     "text": [
      "event 0: N_jet = 2, pT = [87.39944212 64.21380757], jet = [2]\n",
      "-999: [-999. -999.]\n",
      "event 0: N_jet = 4, pT = [  87.39944212   64.21380757 -999.         -999.        ]\n",
      "                    eta = [ 1.87685428e-01  6.13261450e-01 -9.99000000e+02 -9.99000000e+02]\n",
      "                    phi = [-1.62607177e-01 -4.10416869e-01 -9.99000000e+02 -9.99000000e+02]\n",
      "                    mass = [  13.97055667   11.67831571 -999.         -999.        ]\n",
      "* (17,), float64\n",
      "--------------------------------------------------------------------------------\n",
      "event 1: N_jet = 3, pT = [156.63172343 116.2767939  100.76697551], jet = [3]\n",
      "-999: [-999.]\n",
      "event 1: N_jet = 4, pT = [ 156.63172343  116.2767939   100.76697551 -999.        ]\n",
      "                    eta = [-7.20677177e-01 -1.84088715e+00 -2.30475287e+00 -9.99000000e+02]\n",
      "                    phi = [   1.45317025   -2.92025066   -2.08685743 -999.        ]\n",
      "                    mass = [  24.60791147   21.576661     12.04679642 -999.        ]\n",
      "* (17,), float64\n",
      "--------------------------------------------------------------------------------\n",
      "event 2: N_jet = 1, pT = [180.41874406], jet = [1]\n",
      "-999: [-999. -999. -999.]\n",
      "event 2: N_jet = 4, pT = [ 180.41874406 -999.         -999.         -999.        ]\n",
      "                    eta = [  -1.26269412 -999.         -999.         -999.        ]\n",
      "                    phi = [   2.76389283 -999.         -999.         -999.        ]\n",
      "                    mass = [  34.02195291 -999.         -999.         -999.        ]\n",
      "* (17,), float64\n",
      "--------------------------------------------------------------------------------\n",
      "--------------------------------------------------------------------------------\n",
      "shape = (3, 17), (3, 17) and dtype = float64, float64\n",
      "0.0\n"
     ]
    },
    {
     "data": {
      "text/plain": [
       "array([[ 2.00000000e+00,  8.73994421e+01,  6.42138076e+01,\n",
       "        -9.99000000e+02, -9.99000000e+02,  1.87685428e-01,\n",
       "         6.13261450e-01, -9.99000000e+02, -9.99000000e+02,\n",
       "        -1.62607177e-01, -4.10416869e-01, -9.99000000e+02,\n",
       "        -9.99000000e+02,  1.39705567e+01,  1.16783157e+01,\n",
       "        -9.99000000e+02, -9.99000000e+02],\n",
       "       [ 3.00000000e+00,  1.56631723e+02,  1.16276794e+02,\n",
       "         1.00766976e+02, -9.99000000e+02, -7.20677177e-01,\n",
       "        -1.84088715e+00, -2.30475287e+00, -9.99000000e+02,\n",
       "         1.45317025e+00, -2.92025066e+00, -2.08685743e+00,\n",
       "        -9.99000000e+02,  2.46079115e+01,  2.15766610e+01,\n",
       "         1.20467964e+01, -9.99000000e+02],\n",
       "       [ 1.00000000e+00,  1.80418744e+02, -9.99000000e+02,\n",
       "        -9.99000000e+02, -9.99000000e+02, -1.26269412e+00,\n",
       "        -9.99000000e+02, -9.99000000e+02, -9.99000000e+02,\n",
       "         2.76389283e+00, -9.99000000e+02, -9.99000000e+02,\n",
       "        -9.99000000e+02,  3.40219529e+01, -9.99000000e+02,\n",
       "        -9.99000000e+02, -9.99000000e+02]])"
      ]
     },
     "execution_count": 9,
     "metadata": {},
     "output_type": "execute_result"
    }
   ],
   "source": [
    "# !!! test 'jet' function !!!\n",
    "# \n",
    "_jet = []\n",
    "for i in range(3):\n",
    "    # preselData = presel_pt_eta[i]\n",
    "    n_jet = presel_pt_eta[i].shape[0]\n",
    "    pt, eta = presel_pt_eta[i]['pT'], presel_pt_eta[i]['eta']\n",
    "    phi, mass = presel_pt_eta[i]['phi'], presel_pt_eta[i]['mass']\n",
    "    j = np.array([n_jet])\n",
    "    print(f'event {i}: N_jet = {n_jet}, pT = {pt}, jet = {j}')\n",
    "    if n_jet < 4:\n",
    "        diff = 4 - n_jet\n",
    "        arr_n999 = np.full(diff, -999, dtype=np.float64)\n",
    "        print(f'-999: {arr_n999}')\n",
    "        pt, eta = np.concatenate((pt, arr_n999), axis=None), np.concatenate((eta, arr_n999), axis=None)\n",
    "        phi, mass = np.concatenate((phi, arr_n999), axis=None), np.concatenate((mass, arr_n999), axis=None)\n",
    "    print(f'event {i}: N_jet = {pt.shape[0]}, pT = {pt}')\n",
    "    print(f'                    eta = {eta}')\n",
    "    print(f'                    phi = {phi}')\n",
    "    print(f'                    mass = {mass}')\n",
    "    j = np.concatenate((j, pt[:4], eta[:4], phi[:4], mass[:4]), axis=None)\n",
    "    print(f'* {j.shape}, {j.dtype}')\n",
    "    # print(f'* {j.shape}, j = {j}')\n",
    "    _jet.append(j)\n",
    "    print('-'*80)\n",
    "print('-'*80)\n",
    "arr_jet, stack_jet = np.array(_jet), np.stack(_jet, axis=0)\n",
    "print(f'shape = {arr_jet.shape}, {stack_jet.shape} and dtype = {arr_jet.dtype}, {stack_jet.dtype}')\n",
    "print(np.sum(stack_jet - arr_jet))\n",
    "stack_jet"
   ]
  },
  {
   "cell_type": "markdown",
   "metadata": {},
   "source": [
    "## Test"
   ]
  },
  {
   "cell_type": "markdown",
   "metadata": {},
   "source": [
    "### Test A: basic"
   ]
  },
  {
   "cell_type": "code",
   "execution_count": 10,
   "metadata": {},
   "outputs": [
    {
     "name": "stdout",
     "output_type": "stream",
     "text": [
      "[('pT', '<f8'), ('eta', '<f8'), ('phi', '<f8'), ('mass', '<f8')]\n"
     ]
    },
    {
     "data": {
      "text/plain": [
       "array([(87.39944212, 0.18768543, -0.16260718, 13.97055667),\n",
       "       (64.21380757, 0.61326145, -0.41041687, 11.67831571)],\n",
       "      dtype=[('pT', '<f8'), ('eta', '<f8'), ('phi', '<f8'), ('mass', '<f8')])"
      ]
     },
     "execution_count": 10,
     "metadata": {},
     "output_type": "execute_result"
    }
   ],
   "source": [
    "print(presel_pt_eta[0].dtype)\n",
    "presel_pt_eta[0]"
   ]
  },
  {
   "cell_type": "code",
   "execution_count": 11,
   "metadata": {},
   "outputs": [
    {
     "name": "stdout",
     "output_type": "stream",
     "text": [
      "float64\n"
     ]
    },
    {
     "data": {
      "text/plain": [
       "array([87.39944212, 64.21380757])"
      ]
     },
     "execution_count": 11,
     "metadata": {},
     "output_type": "execute_result"
    }
   ],
   "source": [
    "print(presel_pt_eta[0]['pT'].dtype)\n",
    "presel_pt_eta[0]['pT']"
   ]
  },
  {
   "cell_type": "code",
   "execution_count": 12,
   "metadata": {},
   "outputs": [
    {
     "name": "stdout",
     "output_type": "stream",
     "text": [
      "event 0: [(87.39944212, 0.18768543, -0.16260718, 13.97055667)\n",
      " (64.21380757, 0.61326145, -0.41041687, 11.67831571)]\n",
      "pT = [87.39944212 64.21380757]\n",
      "--------------------------------------------------------------------------------\n",
      "event 1: [(156.63172343, -0.72067718,  1.45317025, 24.60791147)\n",
      " (116.2767939 , -1.84088715, -2.92025066, 21.576661  )\n",
      " (100.76697551, -2.30475287, -2.08685743, 12.04679642)]\n",
      "pT = [156.63172343 116.2767939  100.76697551]\n",
      "--------------------------------------------------------------------------------\n",
      "event 2: [(180.41874406, -1.26269412, 2.76389283, 34.02195291)]\n",
      "pT = [180.41874406]\n",
      "--------------------------------------------------------------------------------\n"
     ]
    }
   ],
   "source": [
    "for i in range(3):\n",
    "    print(f'event {i}: {presel_pt_eta[i]}')\n",
    "    print(f\"pT = {presel_pt_eta[i]['pT']}\")\n",
    "    print('-'*80)"
   ]
  },
  {
   "cell_type": "markdown",
   "metadata": {},
   "source": [
    "### Test B: supply -999 element"
   ]
  },
  {
   "cell_type": "code",
   "execution_count": 13,
   "metadata": {},
   "outputs": [
    {
     "name": "stdout",
     "output_type": "stream",
     "text": [
      "n_jet = 3, difference = 1\n",
      "[-999]\n"
     ]
    }
   ],
   "source": [
    "# supply -999 element\n",
    "a = np.array([1, 2, 3])\n",
    "if a.shape[0] < 4:\n",
    "    diff = 4 - a.shape[0]\n",
    "    print(f'n_jet = {a.shape[0]}, difference = {diff}')\n",
    "    print(np.full(diff, -999))\n",
    "else:\n",
    "    print(f'>= 4, n_jet = {a.shape[0]}')"
   ]
  },
  {
   "cell_type": "markdown",
   "metadata": {},
   "source": [
    "### Test C: stack all events"
   ]
  },
  {
   "cell_type": "code",
   "execution_count": 14,
   "metadata": {},
   "outputs": [
    {
     "name": "stdout",
     "output_type": "stream",
     "text": [
      "event 0: pT = [1 2], jet = [2]\n",
      "         n_jet = 2, difference = 2, -999: [-999 -999]\n",
      "event 0: n_jet = 4, pT = [   1    2 -999 -999]\n",
      "                    eta = [  10   22 -999 -999]\n",
      "* (9,), j = [   2    1    2 -999 -999   10   22 -999 -999]\n",
      "--------------------------------------------------------------------------------\n",
      "event 1: pT = [1 2 3], jet = [3]\n",
      "         n_jet = 3, difference = 1, -999: [-999]\n",
      "event 1: n_jet = 4, pT = [   1    2    3 -999]\n",
      "                    eta = [  10   22   33 -999]\n",
      "* (9,), j = [   3    1    2    3 -999   10   22   33 -999]\n",
      "--------------------------------------------------------------------------------\n",
      "event 2: pT = [1 2 3 6], jet = [4]\n",
      "         >= 4, n_jet = 4\n",
      "event 2: n_jet = 4, pT = [1 2 3 6]\n",
      "                    eta = [10 22 33 66]\n",
      "* (9,), j = [ 4  1  2  3  6 10 22 33 66]\n",
      "--------------------------------------------------------------------------------\n",
      "event 3: pT = [1 2 3 6 7], jet = [5]\n",
      "         >= 4, n_jet = 5\n",
      "event 3: n_jet = 5, pT = [1 2 3 6 7]\n",
      "                    eta = [10 22 33 66 77]\n",
      "* (9,), j = [ 5  1  2  3  6 10 22 33 66]\n",
      "--------------------------------------------------------------------------------\n",
      "--------------------------------------------------------------------------------\n",
      "(4, 9) \n",
      " [[   2    1    2 -999 -999   10   22 -999 -999]\n",
      " [   3    1    2    3 -999   10   22   33 -999]\n",
      " [   4    1    2    3    6   10   22   33   66]\n",
      " [   5    1    2    3    6   10   22   33   66]]\n",
      "--------------------\n",
      "(4, 9)\n",
      "0\n"
     ]
    },
    {
     "data": {
      "text/plain": [
       "array([[   2,    1,    2, -999, -999,   10,   22, -999, -999],\n",
       "       [   3,    1,    2,    3, -999,   10,   22,   33, -999],\n",
       "       [   4,    1,    2,    3,    6,   10,   22,   33,   66],\n",
       "       [   5,    1,    2,    3,    6,   10,   22,   33,   66]])"
      ]
     },
     "execution_count": 14,
     "metadata": {},
     "output_type": "execute_result"
    }
   ],
   "source": [
    "# stack all events\n",
    "_jet = []\n",
    "tuple_jet = () # it is not good\n",
    "a, b = np.array([1]), np.array([10])\n",
    "for i, element in enumerate([2, 3, 6, 7]):\n",
    "    a, b = np.append(a, [element]), np.append(b, [10 * element + element])\n",
    "    pt, eta = a, b\n",
    "    n_pt = pt.shape[0]\n",
    "    j = np.array([n_pt])\n",
    "    print(f'event {i}: pT = {pt}, jet = {j}')\n",
    "    if n_pt < 4:\n",
    "        diff = 4 - n_pt\n",
    "        arr_n999 = np.full(diff, -999)\n",
    "        print(f'         n_jet = {n_pt}, difference = {diff}, -999: {arr_n999}')\n",
    "        pt, eta = np.concatenate((pt, arr_n999), axis=None), np.concatenate((eta, arr_n999), axis=None)\n",
    "    else:\n",
    "        print(f'         >= 4, n_jet = {n_pt}')\n",
    "    print(f'event {i}: n_jet = {pt.shape[0]}, pT = {pt}')\n",
    "    print(f'                    eta = {eta}')\n",
    "    j = np.concatenate((j, pt[:4], eta[:4]), axis=None)\n",
    "    print(f'* {j.shape}, j = {j}')\n",
    "    # method 1\n",
    "    _jet.append(j)\n",
    "    print('-'*80)\n",
    "print('-'*80)\n",
    "# _jet\n",
    "arr_jet = np.array(_jet)\n",
    "stack_jet = np.stack(_jet, axis=0)\n",
    "print(arr_jet.shape, '\\n', arr_jet)\n",
    "print('-'*20)\n",
    "print(stack_jet.shape)\n",
    "print(np.sum(stack_jet - arr_jet))\n",
    "stack_jet"
   ]
  },
  {
   "cell_type": "markdown",
   "metadata": {},
   "source": [
    "### Test D: `np.full()`, `np.append()`, and `np.concatenate()`"
   ]
  },
  {
   "cell_type": "code",
   "execution_count": 15,
   "metadata": {},
   "outputs": [
    {
     "name": "stdout",
     "output_type": "stream",
     "text": [
      "int64\n",
      "----------\n",
      "float64\n"
     ]
    },
    {
     "data": {
      "text/plain": [
       "array([2., 2., 2.])"
      ]
     },
     "execution_count": 15,
     "metadata": {},
     "output_type": "execute_result"
    }
   ],
   "source": [
    "arr_2 = np.full(3, 2)\n",
    "print(arr_2.dtype)\n",
    "print('-'*10)\n",
    "arr_2 = np.full(3, 2, dtype=np.float64)\n",
    "print(arr_2.dtype)\n",
    "arr_2"
   ]
  },
  {
   "cell_type": "code",
   "execution_count": 16,
   "metadata": {},
   "outputs": [
    {
     "name": "stdout",
     "output_type": "stream",
     "text": [
      "int64\n",
      "----------\n",
      "float64\n"
     ]
    },
    {
     "data": {
      "text/plain": [
       "array([-999., -999.])"
      ]
     },
     "execution_count": 16,
     "metadata": {},
     "output_type": "execute_result"
    }
   ],
   "source": [
    "arr_n999 = np.full(2, -999)\n",
    "print(arr_n999.dtype)\n",
    "print('-'*10)\n",
    "arr_n999 = np.full(2, -999, dtype=np.float64)\n",
    "print(arr_n999.dtype)\n",
    "arr_n999"
   ]
  },
  {
   "cell_type": "code",
   "execution_count": 17,
   "metadata": {},
   "outputs": [
    {
     "name": "stdout",
     "output_type": "stream",
     "text": [
      "float64\n"
     ]
    },
    {
     "data": {
      "text/plain": [
       "array([   2.,    2.,    2., -999., -999.])"
      ]
     },
     "execution_count": 17,
     "metadata": {},
     "output_type": "execute_result"
    }
   ],
   "source": [
    "test_2 = np.append(arr_2, arr_n999)\n",
    "print(test_2.dtype)\n",
    "test_2"
   ]
  },
  {
   "cell_type": "code",
   "execution_count": 18,
   "metadata": {},
   "outputs": [
    {
     "name": "stdout",
     "output_type": "stream",
     "text": [
      "float64\n"
     ]
    },
    {
     "data": {
      "text/plain": [
       "array([   2.,    2.,    2., -999., -999.])"
      ]
     },
     "execution_count": 18,
     "metadata": {},
     "output_type": "execute_result"
    }
   ],
   "source": [
    "arr_2 = np.concatenate((arr_2, arr_n999), axis=None)\n",
    "print(arr_2.dtype)\n",
    "arr_2"
   ]
  },
  {
   "cell_type": "code",
   "execution_count": 19,
   "metadata": {},
   "outputs": [
    {
     "data": {
      "text/plain": [
       "array([0., 0., 0., 0., 0.])"
      ]
     },
     "execution_count": 19,
     "metadata": {},
     "output_type": "execute_result"
    }
   ],
   "source": [
    "arr_2 - test_2"
   ]
  },
  {
   "cell_type": "code",
   "execution_count": 20,
   "metadata": {},
   "outputs": [
    {
     "name": "stdout",
     "output_type": "stream",
     "text": [
      "[ 1  2  3  4  5  6  7 10 20 30 40 50]\n"
     ]
    },
    {
     "data": {
      "text/plain": [
       "array([ 1,  2,  3, 10, 20, 30])"
      ]
     },
     "execution_count": 20,
     "metadata": {},
     "output_type": "execute_result"
    }
   ],
   "source": [
    "a = np.array([1, 2, 3, 4, 5, 6, 7])\n",
    "b = np.array([10, 20, 30, 40, 50])\n",
    "c = np.concatenate((a, b), axis=None)\n",
    "print(c)\n",
    "c = np.concatenate((a[:3], b[:3]), axis=None)\n",
    "c"
   ]
  },
  {
   "cell_type": "code",
   "execution_count": 21,
   "metadata": {},
   "outputs": [
    {
     "name": "stdout",
     "output_type": "stream",
     "text": [
      "[7]\n"
     ]
    },
    {
     "data": {
      "text/plain": [
       "array([  7,   1,   2,   3,   4,   5,   6,   7,  10,  20,  30,  40,  50,\n",
       "       666, 777, 999])"
      ]
     },
     "execution_count": 21,
     "metadata": {},
     "output_type": "execute_result"
    }
   ],
   "source": [
    "j = np.array([7])\n",
    "print(j)\n",
    "j = np.concatenate((j, a, b, [666, 777, 999]), axis=None)\n",
    "j"
   ]
  },
  {
   "cell_type": "code",
   "execution_count": 22,
   "metadata": {},
   "outputs": [
    {
     "data": {
      "text/plain": [
       "array([ 7,  1,  2,  3, 10, 20, 30])"
      ]
     },
     "execution_count": 22,
     "metadata": {},
     "output_type": "execute_result"
    }
   ],
   "source": [
    "j = np.array([7])\n",
    "j = np.concatenate((j, a[:3], b[:3]), axis=None)\n",
    "j"
   ]
  },
  {
   "cell_type": "code",
   "execution_count": 23,
   "metadata": {},
   "outputs": [
    {
     "data": {
      "text/plain": [
       "array([1, 2, 3, 4, 5, 6])"
      ]
     },
     "execution_count": 23,
     "metadata": {},
     "output_type": "execute_result"
    }
   ],
   "source": [
    "a = np.array([[1, 2], [3, 4]])\n",
    "b = np.array([[5, 6]])\n",
    "np.concatenate((a, b), axis=None)"
   ]
  },
  {
   "cell_type": "code",
   "execution_count": 24,
   "metadata": {},
   "outputs": [
    {
     "data": {
      "text/plain": [
       "array([1, 2, 3, 4, 5, 6])"
      ]
     },
     "execution_count": 24,
     "metadata": {},
     "output_type": "execute_result"
    }
   ],
   "source": [
    "np.concatenate([a, b], axis=None)"
   ]
  },
  {
   "cell_type": "markdown",
   "metadata": {},
   "source": [
    "### Test E: `np.stack()`"
   ]
  },
  {
   "cell_type": "code",
   "execution_count": 25,
   "metadata": {},
   "outputs": [
    {
     "data": {
      "text/plain": [
       "[array([[-1.06498209, -1.49447888, -1.3553921 , -0.31098244],\n",
       "        [-1.30258974, -0.23585204, -2.0972719 ,  0.35200334],\n",
       "        [ 0.11850903,  0.66874395, -0.54599126, -2.41146124]]),\n",
       " array([[ 1.44305741,  1.67982091, -0.29185494,  0.02475435],\n",
       "        [-0.88814561,  1.21941564,  1.41365588,  0.02583602],\n",
       "        [-0.73708567,  0.70675679,  0.18425647,  0.19178133]]),\n",
       " array([[ 1.37749279,  0.7049367 , -3.1253836 ,  1.27233151],\n",
       "        [-0.60077458,  0.12436186, -0.22180637, -2.55025993],\n",
       "        [ 0.75736952, -0.48365095,  0.86938705,  0.65831046]]),\n",
       " array([[ 0.14406546,  1.02639708,  1.17638724, -1.19035951],\n",
       "        [ 0.991366  ,  1.64976282,  0.71659513,  0.07171392],\n",
       "        [ 2.63102516, -0.6590316 ,  0.48972937, -0.94914274]]),\n",
       " array([[-0.44137199,  0.03666197,  1.38362802,  1.00984036],\n",
       "        [-1.65167208, -1.18855268,  0.19789649,  0.6788938 ],\n",
       "        [ 0.11524954, -1.38618203,  2.04003767,  0.70357228]]),\n",
       " array([[-2.61435798, -0.20264783,  1.39145632,  2.17915716],\n",
       "        [-2.22832134,  0.27537272, -0.07042026,  0.98808097],\n",
       "        [ 0.26462864, -1.02363513, -0.41846779,  0.84387099]]),\n",
       " array([[-0.23530855, -0.32015482,  0.08935489, -0.47607384],\n",
       "        [ 0.15038492,  1.25588592,  1.1274806 ,  0.22338345],\n",
       "        [-0.2252321 ,  0.11922813,  0.06930022,  0.7136626 ]]),\n",
       " array([[-1.51300934,  0.40003158, -0.31445728, -0.20735479],\n",
       "        [-0.04397596, -0.0452549 ,  1.47850659, -0.60246043],\n",
       "        [-0.75917304,  0.0222111 ,  2.27141737, -0.16151054]]),\n",
       " array([[-0.16530154, -1.3439784 ,  0.41801634,  1.45175462],\n",
       "        [ 2.09516618, -1.77288808,  0.99370109, -0.18933944],\n",
       "        [ 1.63004485,  1.94466739,  1.33105951,  0.83980074]]),\n",
       " array([[-0.68808152, -1.1343937 , -0.00894951, -2.09677415],\n",
       "        [ 1.85159723, -0.93764195,  0.85510748,  0.69394624],\n",
       "        [ 2.02384354,  0.59142536,  0.85483548,  0.31123215]])]"
      ]
     },
     "execution_count": 25,
     "metadata": {},
     "output_type": "execute_result"
    }
   ],
   "source": [
    "# e.g. 1\n",
    "# (10, 3, 4)\n",
    "arrays = [np.random.randn(3, 4) for _ in range(10)]\n",
    "arrays"
   ]
  },
  {
   "cell_type": "code",
   "execution_count": 26,
   "metadata": {},
   "outputs": [
    {
     "name": "stdout",
     "output_type": "stream",
     "text": [
      "10\n"
     ]
    },
    {
     "data": {
      "text/plain": [
       "(3, 4)"
      ]
     },
     "execution_count": 26,
     "metadata": {},
     "output_type": "execute_result"
    }
   ],
   "source": [
    "print(len(arrays))\n",
    "arrays[0].shape"
   ]
  },
  {
   "cell_type": "code",
   "execution_count": 27,
   "metadata": {},
   "outputs": [
    {
     "name": "stdout",
     "output_type": "stream",
     "text": [
      "(10, 3, 4)\n"
     ]
    },
    {
     "data": {
      "text/plain": [
       "array([[[-1.06498209, -1.49447888, -1.3553921 , -0.31098244],\n",
       "        [-1.30258974, -0.23585204, -2.0972719 ,  0.35200334],\n",
       "        [ 0.11850903,  0.66874395, -0.54599126, -2.41146124]],\n",
       "\n",
       "       [[ 1.44305741,  1.67982091, -0.29185494,  0.02475435],\n",
       "        [-0.88814561,  1.21941564,  1.41365588,  0.02583602],\n",
       "        [-0.73708567,  0.70675679,  0.18425647,  0.19178133]],\n",
       "\n",
       "       [[ 1.37749279,  0.7049367 , -3.1253836 ,  1.27233151],\n",
       "        [-0.60077458,  0.12436186, -0.22180637, -2.55025993],\n",
       "        [ 0.75736952, -0.48365095,  0.86938705,  0.65831046]],\n",
       "\n",
       "       [[ 0.14406546,  1.02639708,  1.17638724, -1.19035951],\n",
       "        [ 0.991366  ,  1.64976282,  0.71659513,  0.07171392],\n",
       "        [ 2.63102516, -0.6590316 ,  0.48972937, -0.94914274]],\n",
       "\n",
       "       [[-0.44137199,  0.03666197,  1.38362802,  1.00984036],\n",
       "        [-1.65167208, -1.18855268,  0.19789649,  0.6788938 ],\n",
       "        [ 0.11524954, -1.38618203,  2.04003767,  0.70357228]],\n",
       "\n",
       "       [[-2.61435798, -0.20264783,  1.39145632,  2.17915716],\n",
       "        [-2.22832134,  0.27537272, -0.07042026,  0.98808097],\n",
       "        [ 0.26462864, -1.02363513, -0.41846779,  0.84387099]],\n",
       "\n",
       "       [[-0.23530855, -0.32015482,  0.08935489, -0.47607384],\n",
       "        [ 0.15038492,  1.25588592,  1.1274806 ,  0.22338345],\n",
       "        [-0.2252321 ,  0.11922813,  0.06930022,  0.7136626 ]],\n",
       "\n",
       "       [[-1.51300934,  0.40003158, -0.31445728, -0.20735479],\n",
       "        [-0.04397596, -0.0452549 ,  1.47850659, -0.60246043],\n",
       "        [-0.75917304,  0.0222111 ,  2.27141737, -0.16151054]],\n",
       "\n",
       "       [[-0.16530154, -1.3439784 ,  0.41801634,  1.45175462],\n",
       "        [ 2.09516618, -1.77288808,  0.99370109, -0.18933944],\n",
       "        [ 1.63004485,  1.94466739,  1.33105951,  0.83980074]],\n",
       "\n",
       "       [[-0.68808152, -1.1343937 , -0.00894951, -2.09677415],\n",
       "        [ 1.85159723, -0.93764195,  0.85510748,  0.69394624],\n",
       "        [ 2.02384354,  0.59142536,  0.85483548,  0.31123215]]])"
      ]
     },
     "execution_count": 27,
     "metadata": {},
     "output_type": "execute_result"
    }
   ],
   "source": [
    "print(np.stack(arrays, axis=0).shape)\n",
    "np.stack(arrays, axis=0)"
   ]
  },
  {
   "cell_type": "code",
   "execution_count": 28,
   "metadata": {},
   "outputs": [
    {
     "data": {
      "text/plain": [
       "(3, 10, 4)"
      ]
     },
     "execution_count": 28,
     "metadata": {},
     "output_type": "execute_result"
    }
   ],
   "source": [
    "np.stack(arrays, axis=1).shape"
   ]
  },
  {
   "cell_type": "code",
   "execution_count": 29,
   "metadata": {},
   "outputs": [
    {
     "data": {
      "text/plain": [
       "[array([[ 0.26718293, -0.33681506, -1.91419064,  0.09036509],\n",
       "        [-0.86505785,  1.48820901, -0.28372001,  0.66288244],\n",
       "        [-1.85230413,  1.06270229, -0.25973698,  0.70267019]]),\n",
       " array([[ 0.16608498, -0.41896287,  1.17984553, -2.54996969],\n",
       "        [-0.28984423, -0.78277653, -0.43734091, -1.97747208],\n",
       "        [ 0.37111532, -0.08255713, -0.03765176, -0.91391429]])]"
      ]
     },
     "execution_count": 29,
     "metadata": {},
     "output_type": "execute_result"
    }
   ],
   "source": [
    "# e.g. 2\n",
    "# (2, 3, 4)\n",
    "arrays = [np.random.randn(3, 4) for _ in range(2)]\n",
    "arrays"
   ]
  },
  {
   "cell_type": "code",
   "execution_count": 30,
   "metadata": {},
   "outputs": [
    {
     "name": "stdout",
     "output_type": "stream",
     "text": [
      "2\n"
     ]
    },
    {
     "data": {
      "text/plain": [
       "(3, 4)"
      ]
     },
     "execution_count": 30,
     "metadata": {},
     "output_type": "execute_result"
    }
   ],
   "source": [
    "print(len(arrays))\n",
    "arrays[0].shape"
   ]
  },
  {
   "cell_type": "code",
   "execution_count": 31,
   "metadata": {},
   "outputs": [
    {
     "name": "stdout",
     "output_type": "stream",
     "text": [
      "(2, 3, 4)\n"
     ]
    },
    {
     "data": {
      "text/plain": [
       "array([[[ 0.26718293, -0.33681506, -1.91419064,  0.09036509],\n",
       "        [-0.86505785,  1.48820901, -0.28372001,  0.66288244],\n",
       "        [-1.85230413,  1.06270229, -0.25973698,  0.70267019]],\n",
       "\n",
       "       [[ 0.16608498, -0.41896287,  1.17984553, -2.54996969],\n",
       "        [-0.28984423, -0.78277653, -0.43734091, -1.97747208],\n",
       "        [ 0.37111532, -0.08255713, -0.03765176, -0.91391429]]])"
      ]
     },
     "execution_count": 31,
     "metadata": {},
     "output_type": "execute_result"
    }
   ],
   "source": [
    "print(np.stack(arrays, axis=0).shape)\n",
    "arrays_0 = np.stack(arrays, axis=0)\n",
    "arrays_0"
   ]
  },
  {
   "cell_type": "code",
   "execution_count": 32,
   "metadata": {},
   "outputs": [
    {
     "name": "stdout",
     "output_type": "stream",
     "text": [
      "(3, 2, 4)\n"
     ]
    },
    {
     "data": {
      "text/plain": [
       "array([[[ 0.26718293, -0.33681506, -1.91419064,  0.09036509],\n",
       "        [ 0.16608498, -0.41896287,  1.17984553, -2.54996969]],\n",
       "\n",
       "       [[-0.86505785,  1.48820901, -0.28372001,  0.66288244],\n",
       "        [-0.28984423, -0.78277653, -0.43734091, -1.97747208]],\n",
       "\n",
       "       [[-1.85230413,  1.06270229, -0.25973698,  0.70267019],\n",
       "        [ 0.37111532, -0.08255713, -0.03765176, -0.91391429]]])"
      ]
     },
     "execution_count": 32,
     "metadata": {},
     "output_type": "execute_result"
    }
   ],
   "source": [
    "print(np.stack(arrays, axis=1).shape)\n",
    "arrays_1 = np.stack(arrays, axis=1)\n",
    "arrays_1"
   ]
  },
  {
   "cell_type": "code",
   "execution_count": 33,
   "metadata": {},
   "outputs": [
    {
     "name": "stdout",
     "output_type": "stream",
     "text": [
      "(3, 4, 2)\n"
     ]
    },
    {
     "data": {
      "text/plain": [
       "array([[[ 0.26718293,  0.16608498],\n",
       "        [-0.33681506, -0.41896287],\n",
       "        [-1.91419064,  1.17984553],\n",
       "        [ 0.09036509, -2.54996969]],\n",
       "\n",
       "       [[-0.86505785, -0.28984423],\n",
       "        [ 1.48820901, -0.78277653],\n",
       "        [-0.28372001, -0.43734091],\n",
       "        [ 0.66288244, -1.97747208]],\n",
       "\n",
       "       [[-1.85230413,  0.37111532],\n",
       "        [ 1.06270229, -0.08255713],\n",
       "        [-0.25973698, -0.03765176],\n",
       "        [ 0.70267019, -0.91391429]]])"
      ]
     },
     "execution_count": 33,
     "metadata": {},
     "output_type": "execute_result"
    }
   ],
   "source": [
    "print(np.stack(arrays, axis=2).shape)\n",
    "arrays_2 = np.stack(arrays, axis=2)\n",
    "arrays_2"
   ]
  },
  {
   "cell_type": "code",
   "execution_count": 34,
   "metadata": {},
   "outputs": [
    {
     "name": "stdout",
     "output_type": "stream",
     "text": [
      "[[0. 0. 0. 0.]\n",
      " [0. 0. 0. 0.]\n",
      " [0. 0. 0. 0.]]\n"
     ]
    },
    {
     "data": {
      "text/plain": [
       "array([[0., 0., 0., 0.],\n",
       "       [0., 0., 0., 0.],\n",
       "       [0., 0., 0., 0.]])"
      ]
     },
     "execution_count": 34,
     "metadata": {},
     "output_type": "execute_result"
    }
   ],
   "source": [
    "print(arrays[0] - arrays_0[0])\n",
    "arrays[1] - arrays_0[1]"
   ]
  },
  {
   "cell_type": "code",
   "execution_count": 35,
   "metadata": {},
   "outputs": [
    {
     "data": {
      "text/plain": [
       "array([[[0., 0., 0., 0.],\n",
       "        [0., 0., 0., 0.],\n",
       "        [0., 0., 0., 0.]],\n",
       "\n",
       "       [[0., 0., 0., 0.],\n",
       "        [0., 0., 0., 0.],\n",
       "        [0., 0., 0., 0.]]])"
      ]
     },
     "execution_count": 35,
     "metadata": {},
     "output_type": "execute_result"
    }
   ],
   "source": [
    "np.array(arrays)\n",
    "np.array(arrays) - arrays_0"
   ]
  },
  {
   "cell_type": "code",
   "execution_count": 36,
   "metadata": {},
   "outputs": [
    {
     "data": {
      "text/plain": [
       "array([[1, 2, 3],\n",
       "       [4, 5, 6]])"
      ]
     },
     "execution_count": 36,
     "metadata": {},
     "output_type": "execute_result"
    }
   ],
   "source": [
    "# e.g. 3\n",
    "a = np.array([1, 2, 3])\n",
    "b = np.array([4, 5, 6])\n",
    "c = np.stack((a, b))\n",
    "c"
   ]
  },
  {
   "cell_type": "code",
   "execution_count": 37,
   "metadata": {},
   "outputs": [
    {
     "data": {
      "text/plain": [
       "array([[1, 2, 3],\n",
       "       [4, 5, 6]])"
      ]
     },
     "execution_count": 37,
     "metadata": {},
     "output_type": "execute_result"
    }
   ],
   "source": [
    "cc = np.stack([a, b])\n",
    "cc"
   ]
  },
  {
   "cell_type": "code",
   "execution_count": 38,
   "metadata": {},
   "outputs": [
    {
     "data": {
      "text/plain": [
       "array([[1, 2, 3],\n",
       "       [4, 5, 6]])"
      ]
     },
     "execution_count": 38,
     "metadata": {},
     "output_type": "execute_result"
    }
   ],
   "source": [
    "ccc = np.array([a, b])\n",
    "ccc"
   ]
  },
  {
   "cell_type": "code",
   "execution_count": 39,
   "metadata": {},
   "outputs": [
    {
     "name": "stdout",
     "output_type": "stream",
     "text": [
      "[[0 0 0]\n",
      " [0 0 0]]\n",
      "0\n"
     ]
    },
    {
     "data": {
      "text/plain": [
       "array([[0, 0, 0],\n",
       "       [0, 0, 0]])"
      ]
     },
     "execution_count": 39,
     "metadata": {},
     "output_type": "execute_result"
    }
   ],
   "source": [
    "print(c - cc)\n",
    "print(np.sum(c - ccc))\n",
    "cc - ccc"
   ]
  },
  {
   "cell_type": "code",
   "execution_count": null,
   "metadata": {},
   "outputs": [],
   "source": []
  }
 ],
 "metadata": {
  "interpreter": {
   "hash": "31f2aee4e71d21fbe5cf8b01ff0e069b9275f58929596ceb00d14d90e3e16cd6"
  },
  "kernelspec": {
   "display_name": "Python 3.8.9 64-bit",
   "language": "python",
   "name": "python3"
  },
  "language_info": {
   "codemirror_mode": {
    "name": "ipython",
    "version": 3
   },
   "file_extension": ".py",
   "mimetype": "text/x-python",
   "name": "python",
   "nbconvert_exporter": "python",
   "pygments_lexer": "ipython3",
   "version": "3.8.5"
  },
  "orig_nbformat": 4
 },
 "nbformat": 4,
 "nbformat_minor": 2
}

{
 "cells": [
  {
   "cell_type": "markdown",
   "metadata": {},
   "source": [
    "# Test 6: Azimuthal Angle\n",
    "Test the transformation of azimuthal angle by using `pyjet` examples."
   ]
  },
  {
   "cell_type": "markdown",
   "metadata": {},
   "source": [
    "## 1. Import Packages"
   ]
  },
  {
   "cell_type": "code",
   "execution_count": 1,
   "metadata": {},
   "outputs": [],
   "source": [
    "# The Python Standard Library\n",
    "import os\n",
    "import sys\n",
    "import time\n",
    "import datetime\n",
    "import glob\n",
    "import multiprocessing as mp\n",
    "\n",
    "# The Third-Party Library\n",
    "import math\n",
    "import numpy as np\n",
    "import pandas as pd\n",
    "import matplotlib.pyplot as plt\n",
    "import tqdm\n",
    "import prettytable\n",
    "import uproot\n",
    "import pyjet\n",
    "import importlib\n",
    "\n",
    "# My Packages\n",
    "import myhep.particle_information_v2 as mypInfo_v2\n",
    "import myhep.analytical_function_v2 as myaFun_v2\n",
    "import myhep.analysis_v3 as myAnal_v3\n",
    "# import myhep.particleinfo_v1 as mypiv1\n",
    "# import myhep.particlefun_v1 as myafv1\n",
    "\n",
    "# increase figure showing resolution\n",
    "%config InlineBackend.figure_format = 'retina'"
   ]
  },
  {
   "cell_type": "markdown",
   "metadata": {},
   "source": [
    "## 2. Azimuthal Angle $\\phi$\n",
    "#### Basic background:\n",
    "For angle,\n",
    "\\begin{align}\n",
    "    rad = deg\\times\\frac{\\pi}{180},\\quad deg = rad\\times\\frac{180}{\\pi}\n",
    "\\end{align}\n",
    "In python, the trigonometric function eats `number`, such as $\\pi = 3.1415926 \\rightarrow$ number.  \n",
    "Therefore, the azimuthal angle $\\phi$ with $rad$ unit is given by\n",
    "\\begin{align}\n",
    "    \\phi = \\frac{\\mathrm{number}}{\\texttt{np.pi}}\\times\\pi\n",
    "\\end{align}\n",
    "The important things are domain of $x$ for real result and $y$ range of usual principal value (radians and degrees)\n",
    "\\begin{align}\n",
    "    y &= \\arcsin{x},\\quad -1\\le x \\le 1,\\qquad\\quad -\\frac{\\pi}{2}\\le y \\le\\frac{\\pi}{2} \\\\\n",
    "    y &= \\arccos{x},\\quad -1\\le x \\le 1,\\qquad\\quad 0\\le y \\le\\pi \\\\\n",
    "    y &= \\arctan{x},\\quad \\mathrm{all\\ real\\ numbers},\\quad -\\frac{\\pi}{2}< y <\\frac{\\pi}{2}\n",
    "\\end{align}"
   ]
  },
  {
   "cell_type": "markdown",
   "metadata": {},
   "source": [
    "### 2-1. Simple test"
   ]
  },
  {
   "cell_type": "code",
   "execution_count": 2,
   "metadata": {},
   "outputs": [
    {
     "name": "stdout",
     "output_type": "stream",
     "text": [
      "rad = [0.         0.52359878 0.78539816 1.04719755 1.57079633 2.0943951\n",
      " 2.61799388 3.14159265]\n",
      "--------------------------------------------------------------------------------\n",
      "sin = [0.00000000e+00 5.00000000e-01 7.07106781e-01 8.66025404e-01\n",
      " 1.00000000e+00 8.66025404e-01 5.00000000e-01 1.22464680e-16]\n",
      "cos = [ 1.00000000e+00  8.66025404e-01  7.07106781e-01  5.00000000e-01\n",
      "  6.12323400e-17 -5.00000000e-01 -8.66025404e-01 -1.00000000e+00]\n",
      "tan = [ 0.00000000e+00  5.77350269e-01  1.00000000e+00  1.73205081e+00\n",
      "  1.63312394e+16 -1.73205081e+00 -5.77350269e-01 -1.22464680e-16]\n",
      "--------------------------------------------------------------------------------\n",
      "arcsin = [0.00000000e+00 5.23598776e-01 7.85398163e-01 1.04719755e+00\n",
      " 1.57079633e+00 1.04719755e+00 5.23598776e-01 1.22464680e-16]\n",
      "arccos = [0.         0.52359878 0.78539816 1.04719755 1.57079633 2.0943951\n",
      " 2.61799388 3.14159265]\n",
      "arctan = [ 0.00000000e+00  5.23598776e-01  7.85398163e-01  1.04719755e+00\n",
      "  1.57079633e+00 -1.04719755e+00 -5.23598776e-01 -1.22464680e-16]\n"
     ]
    }
   ],
   "source": [
    "# deg = [0, 30, 45, 60, 90, 120, 150, 180]\n",
    "# print(rad)\n",
    "# print sin(rad), cos(rad), and tan(rad)\n",
    "# print arcsin[sin(rad)], arccos[cos(rad)], arctan[tan(rad)]\n",
    "rad = np.array([0, np.pi/6, np.pi/4, np.pi/3, np.pi/2, 2*np.pi/3, 5*np.pi/6, np.pi])\n",
    "sin, cos, tan = np.sin(rad), np.cos(rad), np.tan(rad)\n",
    "arcsin = np.arcsin(sin)\n",
    "arccos = np.arccos(cos)\n",
    "arctan = np.arctan(tan)\n",
    "\n",
    "print(\"rad = {}\".format(rad))\n",
    "print('-'*80)\n",
    "print(\"sin = {}\".format(sin))\n",
    "print(\"cos = {}\".format(cos))\n",
    "print(\"tan = {}\".format(tan))\n",
    "print('-'*80)\n",
    "print(\"arcsin = {}\".format(arcsin))\n",
    "print(\"arccos = {}\".format(arccos))\n",
    "print(\"arctan = {}\".format(arctan))"
   ]
  },
  {
   "cell_type": "code",
   "execution_count": 3,
   "metadata": {},
   "outputs": [
    {
     "name": "stdout",
     "output_type": "stream",
     "text": [
      "sin rad = [0.    0.167 0.25  0.333 0.5   0.333 0.167 0.   ] pi\n",
      "cos rad = [0.    0.167 0.25  0.333 0.5   0.667 0.833 1.   ] pi\n",
      "tan rad = [ 0.     0.167  0.25   0.333  0.5   -0.333 -0.167 -0.   ] pi\n",
      "--------------------------------------------------------------------------------\n",
      "sin deg = [ 0. 30. 45. 60. 90. 60. 30.  0.]\n",
      "cos deg = [  0.  30.  45.  60.  90. 120. 150. 180.]\n",
      "tan deg = [  0.  30.  45.  60.  90. -60. -30.  -0.]\n"
     ]
    }
   ],
   "source": [
    "# print arcxxx() rad unit\n",
    "# print arcxxx() deg unit\n",
    "rad_arcsin, rad_arccos, rad_arctan = arcsin/np.pi, arccos/np.pi, arctan/np.pi\n",
    "deg_arcsin, deg_arccos, deg_arctan = arcsin * 180/np.pi, arccos * 180/np.pi, arctan * 180/np.pi\n",
    "\n",
    "print(\"sin rad = {} pi\".format(np.round(rad_arcsin, 3)))\n",
    "print(\"cos rad = {} pi\".format(np.round(rad_arccos, 3)))\n",
    "print(\"tan rad = {} pi\".format(np.round(rad_arctan, 3)))\n",
    "print('-'*80)\n",
    "print(\"sin deg = {}\".format(np.round(deg_arcsin, 6)))\n",
    "print(\"cos deg = {}\".format(np.round(deg_arccos, 6)))\n",
    "print(\"tan deg = {}\".format(np.round(deg_arctan, 6)))"
   ]
  },
  {
   "cell_type": "code",
   "execution_count": 4,
   "metadata": {},
   "outputs": [
    {
     "data": {
      "text/plain": [
       "array([0.   , 0.167, 0.25 , 0.333, 0.5  , 0.667, 0.833, 1.   ])"
      ]
     },
     "execution_count": 4,
     "metadata": {},
     "output_type": "execute_result"
    }
   ],
   "source": [
    "# def = [0, 30, 45, 60, 90, 120, 150, 180]\n",
    "np.round(np.array([0, 1/6, 1/4, 1/3, 1/2, 2/3, 5/6, 1]), 3)"
   ]
  },
  {
   "cell_type": "markdown",
   "metadata": {},
   "source": [
    "##### Conclusion: Because $\\sin$ and $\\tan$ are positive and negative in quadrant `II`, respectively."
   ]
  },
  {
   "cell_type": "markdown",
   "metadata": {},
   "source": [
    "### 2-2. Test `numpy.arctan` and `numpy.arctan2`"
   ]
  },
  {
   "cell_type": "code",
   "execution_count": 5,
   "metadata": {},
   "outputs": [
    {
     "data": {
      "text/plain": [
       "array([0.        , 0.78539816])"
      ]
     },
     "execution_count": 5,
     "metadata": {},
     "output_type": "execute_result"
    }
   ],
   "source": [
    "# A. arctan\n",
    "np.arctan([0, 1])"
   ]
  },
  {
   "cell_type": "code",
   "execution_count": 6,
   "metadata": {},
   "outputs": [
    {
     "data": {
      "text/plain": [
       "0.7853981633974483"
      ]
     },
     "execution_count": 6,
     "metadata": {},
     "output_type": "execute_result"
    }
   ],
   "source": [
    "np.pi/4"
   ]
  },
  {
   "cell_type": "code",
   "execution_count": 7,
   "metadata": {},
   "outputs": [
    {
     "data": {
      "image/png": "[encoded data removed]",
      "text/plain": [
       "<Figure size 432x288 with 1 Axes>"
      ]
     },
     "metadata": {
      "image/png": {
       "height": 248,
       "width": 380
      },
      "needs_background": "light"
     },
     "output_type": "display_data"
    }
   ],
   "source": [
    "import matplotlib.pyplot as plt\n",
    "x = np.linspace(-10, 10)\n",
    "plt.plot(x, np.arctan(x))\n",
    "plt.axis('tight')\n",
    "plt.show()"
   ]
  },
  {
   "cell_type": "code",
   "execution_count": 8,
   "metadata": {},
   "outputs": [
    {
     "data": {
      "text/plain": [
       "array([-135.,  -45.,   45.,  135.])"
      ]
     },
     "execution_count": 8,
     "metadata": {},
     "output_type": "execute_result"
    }
   ],
   "source": [
    "# B. arctan2\n",
    "# -1/-1 = -135 III, -1/+1 = -45 IV, +1/+1 = 45 I, +1/-1 = 135 II\n",
    "x = np.array([-1, +1, +1, -1])\n",
    "y = np.array([-1, -1, +1, +1])\n",
    "np.arctan2(y, x) * 180 / np.pi"
   ]
  },
  {
   "cell_type": "code",
   "execution_count": 9,
   "metadata": {},
   "outputs": [
    {
     "data": {
      "text/plain": [
       "array([-2.35619449, -0.78539816,  0.78539816,  2.35619449])"
      ]
     },
     "execution_count": 9,
     "metadata": {},
     "output_type": "execute_result"
    }
   ],
   "source": [
    "np.arctan2(y, x)"
   ]
  },
  {
   "cell_type": "code",
   "execution_count": 10,
   "metadata": {},
   "outputs": [
    {
     "data": {
      "text/plain": [
       "array([ 1.57079633, -1.57079633])"
      ]
     },
     "execution_count": 10,
     "metadata": {},
     "output_type": "execute_result"
    }
   ],
   "source": [
    "# 1/0 = 90 I II, -1/0 = -90 III IV\n",
    "np.arctan2([1., -1.], [0., 0.])"
   ]
  },
  {
   "cell_type": "code",
   "execution_count": 11,
   "metadata": {},
   "outputs": [
    {
     "data": {
      "text/plain": [
       "array([ 90., -90.])"
      ]
     },
     "execution_count": 11,
     "metadata": {},
     "output_type": "execute_result"
    }
   ],
   "source": [
    "np.arctan2([1., -1.], [0., 0.]) * 180 / np.pi"
   ]
  },
  {
   "cell_type": "code",
   "execution_count": 12,
   "metadata": {},
   "outputs": [
    {
     "data": {
      "text/plain": [
       "array([0.        , 3.14159265, 0.78539816])"
      ]
     },
     "execution_count": 12,
     "metadata": {},
     "output_type": "execute_result"
    }
   ],
   "source": [
    "# 0/+0 = 0 deg, 0/-0 = 180 deg, np.inf/np.inf = 45 I\n",
    "ex = np.arctan2([0., 0., np.inf], [+0., -0., np.inf])\n",
    "ex"
   ]
  },
  {
   "cell_type": "code",
   "execution_count": 13,
   "metadata": {},
   "outputs": [
    {
     "data": {
      "text/plain": [
       "array([  0., 180.,  45.])"
      ]
     },
     "execution_count": 13,
     "metadata": {},
     "output_type": "execute_result"
    }
   ],
   "source": [
    "ex * 180 / np.pi"
   ]
  },
  {
   "cell_type": "markdown",
   "metadata": {},
   "source": [
    "##### Conclusion: `arctan2` is powerful function what I want."
   ]
  },
  {
   "cell_type": "code",
   "execution_count": 14,
   "metadata": {},
   "outputs": [
    {
     "data": {
      "text/plain": [
       "array([   0.,   -0.,  180., -180.])"
      ]
     },
     "execution_count": 14,
     "metadata": {},
     "output_type": "execute_result"
    }
   ],
   "source": [
    "x = np.array([+0., +0., -0., -0.])\n",
    "y = np.array([+0., -0., +0., -0.])\n",
    "np.arctan2(y, x) * 180 / np.pi"
   ]
  },
  {
   "cell_type": "code",
   "execution_count": 15,
   "metadata": {},
   "outputs": [
    {
     "data": {
      "text/plain": [
       "array([   0.,  180.,   -0., -180.])"
      ]
     },
     "execution_count": 15,
     "metadata": {},
     "output_type": "execute_result"
    }
   ],
   "source": [
    "x = np.array([+np.inf, -np.inf, +np.inf, -np.inf])\n",
    "y = np.array([1, 1, -1, -1])\n",
    "np.arctan2(y, x) * 180 / np.pi"
   ]
  },
  {
   "cell_type": "code",
   "execution_count": 16,
   "metadata": {},
   "outputs": [
    {
     "data": {
      "text/plain": [
       "array([  45.,  -45.,  135., -135.])"
      ]
     },
     "execution_count": 16,
     "metadata": {},
     "output_type": "execute_result"
    }
   ],
   "source": [
    "x = np.array([+np.inf, +np.inf, -np.inf, -np.inf])\n",
    "y = np.array([+np.inf, -np.inf, +np.inf, -np.inf])\n",
    "np.arctan2(y, x) * 180 / np.pi"
   ]
  },
  {
   "cell_type": "markdown",
   "metadata": {},
   "source": [
    "## 3. Import `pyjet` example"
   ]
  },
  {
   "cell_type": "code",
   "execution_count": 17,
   "metadata": {},
   "outputs": [],
   "source": [
    "from pyjet import cluster\n",
    "from pyjet.testdata import get_event\n",
    "from numpy.lib.recfunctions import append_fields\n",
    "from numpy.testing import assert_array_equal\n",
    "import numpy as np\n",
    "\n",
    "event = get_event()\n",
    "# event = append_fields(event, 'id', data=np.arange(len(event)))\n",
    "sequence = cluster(event, R=0.6, p=-1)\n",
    "jets = sequence.inclusive_jets()"
   ]
  },
  {
   "cell_type": "markdown",
   "metadata": {},
   "source": [
    "### 3-1. Basic"
   ]
  },
  {
   "cell_type": "code",
   "execution_count": 18,
   "metadata": {},
   "outputs": [
    {
     "name": "stdout",
     "output_type": "stream",
     "text": [
      "(354,)\n"
     ]
    },
    {
     "data": {
      "text/plain": [
       "array([(1.51535651, -5.33650888, -2.19101187, 0.49360001),\n",
       "       (0.23821122, -4.40409474,  1.59250675, 0.13957   ),\n",
       "       (0.27189954, -3.93089818,  1.43715817, 0.13957   ),\n",
       "       (0.26339374, -1.68243005, -2.56397904, 0.13957   ),\n",
       "       (1.64420492, -2.0335164 ,  0.68656051, 0.13957   )],\n",
       "      dtype=[('pT', '<f8'), ('eta', '<f8'), ('phi', '<f8'), ('mass', '<f8')])"
      ]
     },
     "execution_count": 18,
     "metadata": {},
     "output_type": "execute_result"
    }
   ],
   "source": [
    "print(event.shape)\n",
    "event[:5]"
   ]
  },
  {
   "cell_type": "code",
   "execution_count": 19,
   "metadata": {},
   "outputs": [
    {
     "data": {
      "text/plain": [
       "array([1.51535651, 0.23821122, 0.27189954, 0.26339374, 1.64420492])"
      ]
     },
     "execution_count": 19,
     "metadata": {},
     "output_type": "execute_result"
    }
   ],
   "source": [
    "event['pT'][:5]"
   ]
  },
  {
   "cell_type": "code",
   "execution_count": 20,
   "metadata": {},
   "outputs": [
    {
     "data": {
      "text/plain": [
       "<pyjet._libpyjet.ClusterSequence at 0x7fed0c9cad20>"
      ]
     },
     "execution_count": 20,
     "metadata": {},
     "output_type": "execute_result"
    }
   ],
   "source": [
    "sequence"
   ]
  },
  {
   "cell_type": "code",
   "execution_count": 21,
   "metadata": {},
   "outputs": [
    {
     "data": {
      "text/plain": [
       "[PseudoJet(pt=983.280, eta=-0.868, phi=2.905, mass=36.457),\n",
       " PseudoJet(pt=901.745, eta=0.221, phi=-0.252, mass=51.850),\n",
       " PseudoJet(pt=67.994, eta=-1.194, phi=-0.200, mass=11.984),\n",
       " PseudoJet(pt=12.465, eta=0.433, phi=0.673, mass=5.461),\n",
       " PseudoJet(pt=6.568, eta=-2.629, phi=1.133, mass=2.099),\n",
       " PseudoJet(pt=6.498, eta=-1.828, phi=-2.248, mass=3.309)]"
      ]
     },
     "execution_count": 21,
     "metadata": {},
     "output_type": "execute_result"
    }
   ],
   "source": [
    "jets[:6]"
   ]
  },
  {
   "cell_type": "code",
   "execution_count": 22,
   "metadata": {},
   "outputs": [
    {
     "name": "stdout",
     "output_type": "stream",
     "text": [
      "jet#          pT        eta        phi       mass  #constit.\n",
      "1        983.280     -0.868      2.905     36.457         34\n",
      "2        901.745      0.221     -0.252     51.850         34\n",
      "3         67.994     -1.194     -0.200     11.984         32\n",
      "4         12.465      0.433      0.673      5.461         13\n",
      "5          6.568     -2.629      1.133      2.099          9\n",
      "6          6.498     -1.828     -2.248      3.309          6\n"
     ]
    }
   ],
   "source": [
    "# Printing a few things here as a demonstration of the basic functionality\n",
    "print(\"{0: <5} {1: >10} {2: >10} {3: >10} {4: >10} {5: >10}\".format(\n",
    "    \"jet#\", \"pT\", \"eta\", \"phi\", \"mass\", \"#constit.\"))\n",
    "for i, jet in enumerate(jets[:6]):\n",
    "    print(\"{0: <5} {1: 10.3f} {2: 10.3f} {3: 10.3f} {4: 10.3f} {5: 10}\".format(\n",
    "        i + 1, jet.pt, jet.eta, jet.phi, jet.mass, len(jet)))"
   ]
  },
  {
   "cell_type": "code",
   "execution_count": 23,
   "metadata": {},
   "outputs": [
    {
     "name": "stdout",
     "output_type": "stream",
     "text": [
      "\n",
      "The 6th jet has the following constituents:\n",
      "PseudoJet(pt=0.096, eta=-2.166, phi=-2.271, mass=0.000)\n",
      "PseudoJet(pt=2.200, eta=-1.747, phi=-1.972, mass=0.140)\n",
      "PseudoJet(pt=1.713, eta=-2.037, phi=-2.469, mass=0.940)\n",
      "PseudoJet(pt=0.263, eta=-1.682, phi=-2.564, mass=0.140)\n",
      "PseudoJet(pt=1.478, eta=-1.738, phi=-2.343, mass=0.940)\n",
      "PseudoJet(pt=0.894, eta=-1.527, phi=-2.250, mass=0.140)\n",
      "\n",
      "Get the constituents as an array (pT, eta, phi, mass):\n",
      "[(0.09551261, -2.16560157, -2.27109083, 4.8909123e-06)\n",
      " (2.19975694, -1.74672746, -1.97178728, 1.3957000e-01)\n",
      " (1.71301882, -2.03656511, -2.46861524, 9.3957000e-01)\n",
      " (0.26339374, -1.68243005, -2.56397904, 1.3957000e-01)\n",
      " (1.47781519, -1.7378898 , -2.34304346, 9.3957000e-01)\n",
      " (0.89353864, -1.52729244, -2.24973202, 1.3957000e-01)]\n",
      "\n",
      "or (E, px, py, pz):\n",
      "[(0.42190436, -0.06155242, -0.07303395, -0.41095089)\n",
      " (6.50193926, -0.85863306, -2.02526044, -6.11692764)\n",
      " (6.74203628, -1.33952806, -1.06775374, -6.45273802)\n",
      " (0.74600384, -0.22066287, -0.1438199 , -0.68386087)\n",
      " (4.43164941, -1.0311407 , -1.05862485, -4.07096881)\n",
      " (2.15920027, -0.56111108, -0.69538886, -1.96067711)]\n"
     ]
    }
   ],
   "source": [
    "print(\"\\nThe 6th jet has the following constituents:\")\n",
    "for constit in jets[5]:\n",
    "    print(constit)\n",
    "print(\"\\nGet the constituents as an array (pT, eta, phi, mass):\")\n",
    "print(jets[5].constituents_array())\n",
    "print(\"\\nor (E, px, py, pz):\")\n",
    "print(jets[5].constituents_array(ep=True))"
   ]
  },
  {
   "cell_type": "markdown",
   "metadata": {},
   "source": [
    "### 3-2. Check the transformation of $(p_T, \\eta, \\phi, m) \\leftrightarrow (E, p_x, p_y, p_z)$\n",
    "We use 6th jet with 6 constituents, the transformation is given by\n",
    "\\begin{align}\n",
    "    p^\\mu = (E,\\ p_x,\\ p_y,\\ p_z) = (m_T\\cosh{\\eta},\\ p_T\\cos{\\phi},\\ p_T\\sin{\\phi},\\ m_T\\sinh{\\eta})\n",
    "\\end{align}\n",
    "where $m_T$, conventionally called the `transverse mass`, is defined by\n",
    "\\begin{align}\n",
    "    m_T^2 = m^2 + p_x^2 + p_y^2 = E^2 - p_z^2 = E_T\n",
    "\\end{align}"
   ]
  },
  {
   "cell_type": "code",
   "execution_count": 24,
   "metadata": {},
   "outputs": [
    {
     "data": {
      "text/plain": [
       "array([(0.09551261, -2.16560157, -2.27109083, 4.8909123e-06),\n",
       "       (2.19975694, -1.74672746, -1.97178728, 1.3957000e-01),\n",
       "       (1.71301882, -2.03656511, -2.46861524, 9.3957000e-01),\n",
       "       (0.26339374, -1.68243005, -2.56397904, 1.3957000e-01),\n",
       "       (1.47781519, -1.7378898 , -2.34304346, 9.3957000e-01),\n",
       "       (0.89353864, -1.52729244, -2.24973202, 1.3957000e-01)],\n",
       "      dtype=[('pT', '<f8'), ('eta', '<f8'), ('phi', '<f8'), ('mass', '<f8')])"
      ]
     },
     "execution_count": 24,
     "metadata": {},
     "output_type": "execute_result"
    }
   ],
   "source": [
    "constit_pt = jets[5].constituents_array()\n",
    "constit_ep = jets[5].constituents_array(ep=True)\n",
    "constit_pt"
   ]
  },
  {
   "cell_type": "code",
   "execution_count": 25,
   "metadata": {},
   "outputs": [
    {
     "data": {
      "text/plain": [
       "array([(0.42190436, -0.06155242, -0.07303395, -0.41095089),\n",
       "       (6.50193926, -0.85863306, -2.02526044, -6.11692764),\n",
       "       (6.74203628, -1.33952806, -1.06775374, -6.45273802),\n",
       "       (0.74600384, -0.22066287, -0.1438199 , -0.68386087),\n",
       "       (4.43164941, -1.0311407 , -1.05862485, -4.07096881),\n",
       "       (2.15920027, -0.56111108, -0.69538886, -1.96067711)],\n",
       "      dtype=[('E', '<f8'), ('px', '<f8'), ('py', '<f8'), ('pz', '<f8')])"
      ]
     },
     "execution_count": 25,
     "metadata": {},
     "output_type": "execute_result"
    }
   ],
   "source": [
    "constit_ep"
   ]
  },
  {
   "cell_type": "code",
   "execution_count": 26,
   "metadata": {},
   "outputs": [
    {
     "name": "stdout",
     "output_type": "stream",
     "text": [
      "E:   1.6895120335755407\n",
      "E2:  -0.1857223360250091     not good!\n",
      "px:  7.771561172376096e-16\n",
      "py:  -4.440892098500626e-16\n",
      "pz:  -1.7861605293542375     not good!\n",
      "pz2: 1.6431300764452317e-14\n",
      "--------------------------------------------------------------------------------\n",
      "pT:   0.0\n",
      "eta:  -3.3306690738754696e-15\n",
      "eta2: -2.4424906541753444e-15\n",
      "phi:  -4.440892098500626e-16  np.arctan2() is brilliant!!\n",
      "mass: 8.799073174589741e-13\n"
     ]
    }
   ],
   "source": [
    "# (pT, eta, phi, mass) -> (E, px, py, pz)\n",
    "# pyjet answer\n",
    "pt, eta = constit_pt['pT'], constit_pt['eta']\n",
    "phi, mass = constit_pt['phi'], constit_pt['mass']\n",
    "e, px = constit_ep['E'], constit_ep['px']\n",
    "py, pz = constit_ep['py'], constit_ep['pz']\n",
    "\n",
    "# my answer of (E, px, py, pz)\n",
    "# transf_px = constit_pt['pT'] * np.cos(constit_pt['phi']) # trouble way\n",
    "transf_px = pt * np.cos(phi)\n",
    "transf_py = pt * np.sin(phi)\n",
    "transf_pz = np.sqrt(mass**2 + pt**2) * np.sinh(eta) # not good! my way, but not consistent with pyjet\n",
    "transf_pz2 = pt * np.sinh(eta) # pyjet\n",
    "transf_e = np.sqrt(mass**2 + transf_px**2 + transf_py**2 + transf_pz**2) # better\n",
    "transf_e2 = pt * np.cosh(eta) # not good!\n",
    "\n",
    "print(\"E:   {}\".format(np.sum(transf_e - e)))\n",
    "print(\"E2:  {}     not good!\".format(np.sum(transf_e2 - e)))\n",
    "print(\"px:  {}\".format(np.sum(transf_px - px)))\n",
    "print(\"py:  {}\".format(np.sum(transf_py - py)))\n",
    "print(\"pz:  {}     not good!\".format(np.sum(transf_pz - pz)))\n",
    "print(\"pz2: {}\".format(np.sum(transf_pz2 - pz)))\n",
    "print('-'*80)\n",
    "\n",
    "# my answer of (pT, eta, phi, mass)\n",
    "ptot = np.sqrt(px**2 + py**2 + pz**2)\n",
    "costheta = pz/ptot\n",
    "theta = np.arccos(pz/ptot)\n",
    "transf_pt = np.sqrt(px**2 + py**2)\n",
    "transf_eta = -np.log(np.tan(theta/2)) # not bad\n",
    "transf_eta2 = -0.5 * np.log(np.divide(1. - costheta, 1. + costheta)) # copy from pyjet\n",
    "transf_phi = np.arctan2(py, px) # brilliant!!\n",
    "transf_m = np.sqrt(e**2 - px**2 - py**2 - pz**2)\n",
    "\n",
    "print(\"pT:   {}\".format(np.sum(transf_pt - pt)))\n",
    "print(\"eta:  {}\".format(np.sum(transf_eta - eta)))\n",
    "print(\"eta2: {}\".format(np.sum(transf_eta2 - eta)))\n",
    "print(\"phi:  {}  np.arctan2() is brilliant!!\".format(np.sum(transf_phi - phi)))\n",
    "print(\"mass: {}\".format(np.sum(transf_m - mass)))"
   ]
  },
  {
   "cell_type": "markdown",
   "metadata": {},
   "source": [
    "##### Conclusion: I think the results of transformations are very good!!"
   ]
  },
  {
   "cell_type": "code",
   "execution_count": 27,
   "metadata": {},
   "outputs": [
    {
     "name": "stdout",
     "output_type": "stream",
     "text": [
      "[-0.06155242 -0.85863306 -1.33952806 -0.22066287 -1.0311407  -0.56111108]\n",
      "[-0.06155242 -0.85863306 -1.33952806 -0.22066287 -1.0311407  -0.56111108]\n",
      "[0.00000000e+00 7.77156117e-16 0.00000000e+00 0.00000000e+00\n",
      " 0.00000000e+00 0.00000000e+00]\n",
      "--------------------------------------------------------------------------------\n",
      "[-2.27109083 -1.97178728 -2.46861524 -2.56397904 -2.34304346 -2.24973202]\n",
      "[-2.27109083 -1.97178728 -2.46861524 -2.56397904 -2.34304346 -2.24973202]\n",
      "[ 0.0000000e+00 -4.4408921e-16  0.0000000e+00  0.0000000e+00\n",
      "  0.0000000e+00  0.0000000e+00]\n"
     ]
    }
   ],
   "source": [
    "# examples of px and phi\n",
    "print(transf_px)\n",
    "print(px)\n",
    "print(transf_px - px)\n",
    "print('-'*80)\n",
    "print(transf_phi)\n",
    "print(phi)\n",
    "print(transf_phi - phi)"
   ]
  },
  {
   "cell_type": "code",
   "execution_count": 28,
   "metadata": {},
   "outputs": [
    {
     "name": "stdout",
     "output_type": "stream",
     "text": [
      "E:   [5.24800370e-10 1.15729004e-02 8.72511128e-01 8.33543701e-02\n",
      " 7.00462442e-01 2.16111923e-02]\n",
      "px:  [0.00000000e+00 7.77156117e-16 0.00000000e+00 0.00000000e+00\n",
      " 0.00000000e+00 0.00000000e+00]\n",
      "py:  [ 0.0000000e+00 -4.4408921e-16  0.0000000e+00  0.0000000e+00\n",
      "  0.0000000e+00  0.0000000e+00]\n",
      "pz:  [-5.38788403e-10 -1.22999032e-02 -9.06888804e-01 -9.00764673e-02\n",
      " -7.53121014e-01 -2.37743402e-02]\n",
      "pz2: [ 0.00000000e+00  7.10542736e-15  9.76996262e-15  0.00000000e+00\n",
      " -8.88178420e-16  4.44089210e-16]\n",
      "--------------------------------------------------------------------------------\n",
      "pT:   [0. 0. 0. 0. 0. 0.]\n",
      "eta:  [ 0.00000000e+00 -1.55431223e-15 -1.77635684e-15  0.00000000e+00\n",
      "  0.00000000e+00  0.00000000e+00]\n",
      "eta2:  [ 0.00000000e+00 -1.11022302e-15 -1.33226763e-15  0.00000000e+00\n",
      "  2.22044605e-16 -2.22044605e-16]\n",
      "phi:  [ 0.0000000e+00 -4.4408921e-16  0.0000000e+00  0.0000000e+00\n",
      "  0.0000000e+00  0.0000000e+00]\n",
      "mass: [ 8.86707433e-13 -3.16413562e-15 -2.77555756e-15 -5.55111512e-17\n",
      "  0.00000000e+00 -8.04911693e-16]\n"
     ]
    }
   ],
   "source": [
    "# print all differences\n",
    "# (E, px, py, pz)\n",
    "print(\"E:   {}\".format(transf_e - e))\n",
    "print(\"px:  {}\".format(transf_px - px))\n",
    "print(\"py:  {}\".format(transf_py - py))\n",
    "print(\"pz:  {}\".format(transf_pz - pz))\n",
    "print(\"pz2: {}\".format(transf_pz2 - pz))\n",
    "print('-'*80)\n",
    "# (pT, eta, phi, mass)\n",
    "print(\"pT:   {}\".format(transf_pt - pt))\n",
    "print(\"eta:  {}\".format(transf_eta - eta))\n",
    "print(\"eta2:  {}\".format(transf_eta2 - eta))\n",
    "print(\"phi:  {}\".format(transf_phi - phi))\n",
    "print(\"mass: {}\".format(transf_m - mass))"
   ]
  },
  {
   "cell_type": "markdown",
   "metadata": {},
   "source": [
    "##### Conclusion: Actually, $p_x$, $p_y$, $p_T$. $\\eta$, $\\phi$ are reconstructed well."
   ]
  },
  {
   "cell_type": "markdown",
   "metadata": {},
   "source": [
    "### 3-3. Construct `PseudoJet` from constituents of `pyjet`\n",
    "We use 6 constituents $(E, p_x, p_y, p_z)$ of 6th jet as example!"
   ]
  },
  {
   "cell_type": "markdown",
   "metadata": {},
   "source": [
    "#### `!!! Use this transformation !!!`"
   ]
  },
  {
   "cell_type": "code",
   "execution_count": 29,
   "metadata": {},
   "outputs": [
    {
     "name": "stdout",
     "output_type": "stream",
     "text": [
      "My answer:    [6.498399702250736, -1.8281788317457772, -2.248123520011987, 3.3088273980541687]\n",
      "pyjet answer: PseudoJet(pt=6.498, eta=-1.828, phi=-2.248, mass=3.309)\n",
      "Check:\n",
      "pT:   0.0\n",
      "eta:  0.0\n",
      "phi:  0.0\n",
      "mass: -5.329070518200751e-15, jets.mass = 3.308827398054174\n"
     ]
    }
   ],
   "source": [
    "# construct (pT, eta, phi, mass) of 6th PseudoJet\n",
    "# constituents from pyjet\n",
    "constit_ep = jets[5].constituents_array(ep=True)\n",
    "e, px = constit_ep['E'], constit_ep['px']\n",
    "py, pz = constit_ep['py'], constit_ep['pz']\n",
    "\n",
    "# calculate 4-vector of jet\n",
    "etot, pxtot = np.sum(e), np.sum(px)\n",
    "pytot, pztot = np.sum(py), np.sum(pz)\n",
    "ptot = np.sqrt(pxtot**2 + pytot**2 + pztot**2)\n",
    "theta = np.arccos(pztot/ptot)\n",
    "\n",
    "# transform to (pT, eta, phi, mass)\n",
    "pt = np.sqrt(pxtot**2 + pytot**2)\n",
    "eta = -np.log(np.tan(theta/2))\n",
    "phi = np.arctan2(pytot, pxtot)\n",
    "mass = np.sqrt(etot**2 - pxtot**2 - pytot**2 - pztot**2)\n",
    "\n",
    "print(\"My answer:    {}\".format([pt, eta, phi, mass]))\n",
    "print(\"pyjet answer: {}\".format(jets[5]))\n",
    "print(\"Check:\")\n",
    "print(\"pT:   {}\".format(pt - jets[5].pt))\n",
    "print(\"eta:  {}\".format(eta - jets[5].eta))\n",
    "print(\"phi:  {}\".format(phi - jets[5].phi))\n",
    "print(\"mass: {}, jets.mass = {}\".format(mass - jets[5].mass, jets[5].mass))\n"
   ]
  },
  {
   "cell_type": "markdown",
   "metadata": {},
   "source": [
    "##### Conclusion: `PseudoJet` is net 4-vector of all constituents and the reconstruction is very well, but the mass has some uncertainty."
   ]
  },
  {
   "cell_type": "markdown",
   "metadata": {},
   "source": [
    "#### `!!! Use this transformation !!!`"
   ]
  },
  {
   "cell_type": "markdown",
   "metadata": {},
   "source": [
    "### 3-4. Use the transformation of `pyjet`\n",
    "[- pyjet/utils.py](https://github.com/scikit-hep/pyjet/blob/master/pyjet/utils.py)"
   ]
  },
  {
   "cell_type": "code",
   "execution_count": 40,
   "metadata": {},
   "outputs": [],
   "source": [
    "DTYPE_EP = [('E', '<f8'), ('px', '<f8'), ('py', '<f8'), ('pz', '<f8')]\n",
    "DTYPE_PTEPM = [('pT', '<f8'), ('eta', '<f8'), ('phi', '<f8'), ('mass', '<f8')]\n",
    "\n",
    "def ptepm2ep(rec):\n",
    "    \"\"\" Convert (pT, eta, phi, mass) into (E, px, py, pz)\n",
    "    Note that the field names of the input array need not match \"pT\", \"eta\",\n",
    "    \"phi\", or \"mass\". This function only assumes that the first four fields\n",
    "    are those quantities. Garbage in, garbage out.\n",
    "    \"\"\"\n",
    "    pt, eta, phi, mass = rec.dtype.names[:4]\n",
    "    vects = np.empty(rec.shape[0], dtype=DTYPE_EP)\n",
    "    vects['px'] = rec[pt] * np.cos(rec[phi])\n",
    "    vects['py'] = rec[pt] * np.sin(rec[phi])\n",
    "    vects['pz'] = rec[pt] * np.sinh(rec[eta])\n",
    "    vects['E'] = np.sqrt(vects['px']**2 + vects['py']**2 + vects['pz']**2 + rec[mass]**2)\n",
    "    return vects\n",
    "\n",
    "\n",
    "def ep2ptepm(rec):\n",
    "    \"\"\" Convert (E, px, py, pz) into (pT, eta, phi, mass)\n",
    "    Note that the field names of the input array need not match \"E\", \"px\",\n",
    "    \"py\", or \"pz\". This function only assumes that the first four fields\n",
    "    are those quantities. Garbage in, garbage out.\n",
    "    \"\"\"\n",
    "    E, px, py, pz = rec.dtype.names[:4]\n",
    "    vects = np.empty(rec.shape[0], dtype=DTYPE_PTEPM)\n",
    "    ptot = np.sqrt(np.power(rec[px], 2) + np.power(rec[py], 2) + np.power(rec[pz], 2))\n",
    "    costheta = np.divide(rec[pz], ptot)\n",
    "    costheta[ptot == 0] = 1.\n",
    "    good_costheta = np.power(costheta, 2) < 1\n",
    "    vects['pT'] = np.sqrt(np.power(rec[px], 2) + np.power(rec[py], 2))\n",
    "    vects['eta'][good_costheta] = -0.5 * np.log(np.divide(1. - costheta, 1. + costheta))\n",
    "    vects['eta'][~good_costheta & (rec[pz] == 0.)] = 0.\n",
    "    vects['eta'][~good_costheta & (rec[pz] > 0.)] = 10e10\n",
    "    vects['eta'][~good_costheta & (rec[pz] < 0.)] = -10e10\n",
    "    vects['phi'] = np.arctan2(rec[py], rec[px])\n",
    "    vects['phi'][(rec[py] == 0) & (rec[px] == 0)] = 0\n",
    "    mass2 = np.power(rec[E], 2) - np.power(ptot, 2)\n",
    "    neg_mass2 = mass2 < 0\n",
    "    mass2[neg_mass2] *= -1\n",
    "    vects['mass'] = np.sqrt(mass2)\n",
    "    vects['mass'][neg_mass2] *= -1\n",
    "    return vects"
   ]
  },
  {
   "cell_type": "code",
   "execution_count": 45,
   "metadata": {},
   "outputs": [
    {
     "data": {
      "text/plain": [
       "array([(0.42190436, -0.06155242, -0.07303395, -0.41095089),\n",
       "       (6.50193926, -0.85863306, -2.02526044, -6.11692764),\n",
       "       (6.74203628, -1.33952806, -1.06775374, -6.45273802),\n",
       "       (0.74600384, -0.22066287, -0.1438199 , -0.68386087),\n",
       "       (4.43164941, -1.0311407 , -1.05862485, -4.07096881),\n",
       "       (2.15920027, -0.56111108, -0.69538886, -1.96067711)],\n",
       "      dtype=[('E', '<f8'), ('px', '<f8'), ('py', '<f8'), ('pz', '<f8')])"
      ]
     },
     "execution_count": 45,
     "metadata": {},
     "output_type": "execute_result"
    }
   ],
   "source": [
    "pyjet_ep = ptepm2ep(constit_pt)\n",
    "pyjet_ptepm = ep2ptepm(constit_ep)\n",
    "pyjet_ep"
   ]
  },
  {
   "cell_type": "code",
   "execution_count": 54,
   "metadata": {},
   "outputs": [
    {
     "name": "stdout",
     "output_type": "stream",
     "text": [
      "E : -1.554312234475219e-14\n",
      "[ 0.00000000e+00 -7.10542736e-15 -8.88178420e-15  0.00000000e+00\n",
      "  8.88178420e-16 -4.44089210e-16]\n",
      "--------------------------------------------------------------------------------\n",
      "px : 7.771561172376096e-16\n",
      "[0.00000000e+00 7.77156117e-16 0.00000000e+00 0.00000000e+00\n",
      " 0.00000000e+00 0.00000000e+00]\n",
      "--------------------------------------------------------------------------------\n",
      "py : -4.440892098500626e-16\n",
      "[ 0.0000000e+00 -4.4408921e-16  0.0000000e+00  0.0000000e+00\n",
      "  0.0000000e+00  0.0000000e+00]\n",
      "--------------------------------------------------------------------------------\n",
      "pz : 1.6431300764452317e-14\n",
      "[ 0.00000000e+00  7.10542736e-15  9.76996262e-15  0.00000000e+00\n",
      " -8.88178420e-16  4.44089210e-16]\n",
      "--------------------------------------------------------------------------------\n"
     ]
    }
   ],
   "source": [
    "# check (pT, eta, phi, mass) -> (E, px, py, pz)\n",
    "for i in pyjet_ep.dtype.names:\n",
    "    diff_ep = pyjet_ep[i] - constit_ep[i]\n",
    "    sum_ep = np.sum(diff_ep)\n",
    "    print(i, \": {}\".format(sum_ep))\n",
    "    print(diff_ep)\n",
    "    print('-'*80)"
   ]
  },
  {
   "cell_type": "code",
   "execution_count": 55,
   "metadata": {},
   "outputs": [
    {
     "name": "stdout",
     "output_type": "stream",
     "text": [
      "pT : 0.0\n",
      "[0. 0. 0. 0. 0. 0.]\n",
      "--------------------------------------------------------------------------------\n",
      "eta : -2.4424906541753444e-15\n",
      "[ 0.00000000e+00 -1.11022302e-15 -1.33226763e-15  0.00000000e+00\n",
      "  2.22044605e-16 -2.22044605e-16]\n",
      "--------------------------------------------------------------------------------\n",
      "phi : -4.440892098500626e-16\n",
      "[ 0.0000000e+00 -4.4408921e-16  0.0000000e+00  0.0000000e+00\n",
      "  0.0000000e+00  0.0000000e+00]\n",
      "--------------------------------------------------------------------------------\n",
      "mass : 8.603118810743401e-13\n",
      "[ 8.86707433e-13 -2.86159985e-14  4.77395901e-15  1.38777878e-16\n",
      " -1.88737914e-15 -8.04911693e-16]\n",
      "--------------------------------------------------------------------------------\n"
     ]
    }
   ],
   "source": [
    "# check (E, px, py, pz) -> (pT, eta, phi, mass)\n",
    "for i in pyjet_ptepm.dtype.names:\n",
    "    diff_pt = pyjet_ptepm[i] - constit_pt[i]\n",
    "    sum_pt = np.sum(diff_pt)\n",
    "    print(i, \": {}\".format(sum_pt))\n",
    "    print(diff_pt)\n",
    "    print('-'*80)"
   ]
  },
  {
   "cell_type": "markdown",
   "metadata": {},
   "source": [
    "##### Conclusion: The results are similar to my results, it cannot have the same values."
   ]
  },
  {
   "cell_type": "markdown",
   "metadata": {},
   "source": [
    "## Cool Method!!"
   ]
  },
  {
   "cell_type": "code",
   "execution_count": 56,
   "metadata": {},
   "outputs": [
    {
     "data": {
      "text/plain": [
       "array([1.51535651, 0.23821122, 0.27189954, 0.26339374, 1.64420492])"
      ]
     },
     "execution_count": 56,
     "metadata": {},
     "output_type": "execute_result"
    }
   ],
   "source": [
    "pt, eta, phi, mass = event.dtype.names[:4]\n",
    "event[pt][:5]"
   ]
  },
  {
   "cell_type": "code",
   "execution_count": null,
   "metadata": {},
   "outputs": [],
   "source": []
  }
 ],
 "metadata": {
  "interpreter": {
   "hash": "31f2aee4e71d21fbe5cf8b01ff0e069b9275f58929596ceb00d14d90e3e16cd6"
  },
  "kernelspec": {
   "display_name": "Python 3.8.9 64-bit",
   "language": "python",
   "name": "python3"
  },
  "language_info": {
   "codemirror_mode": {
    "name": "ipython",
    "version": 3
   },
   "file_extension": ".py",
   "mimetype": "text/x-python",
   "name": "python",
   "nbconvert_exporter": "python",
   "pygments_lexer": "ipython3",
   "version": "3.8.5"
  },
  "orig_nbformat": 4
 },
 "nbformat": 4,
 "nbformat_minor": 2
}

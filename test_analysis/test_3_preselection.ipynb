{
 "cells": [
  {
   "cell_type": "markdown",
   "metadata": {},
   "source": [
    "# Test 3: Preselection\n",
    "Just test my preselection functions by using SVJ with CKKW-L and without decay data."
   ]
  },
  {
   "cell_type": "markdown",
   "metadata": {},
   "source": [
    "## 1. Import Packages"
   ]
  },
  {
   "cell_type": "code",
   "execution_count": 1,
   "metadata": {},
   "outputs": [],
   "source": [
    "# The Python Standard Library\n",
    "import os\n",
    "import sys\n",
    "import time\n",
    "import datetime\n",
    "import glob\n",
    "import multiprocessing as mp\n",
    "\n",
    "# The Third-Party Library\n",
    "import math\n",
    "import numpy as np\n",
    "import pandas as pd\n",
    "import matplotlib.pyplot as plt\n",
    "import tqdm\n",
    "import prettytable\n",
    "import uproot\n",
    "import pyjet\n",
    "import importlib\n",
    "\n",
    "# My Packages\n",
    "import myhep.particle_information_v2 as mypInfo_v2\n",
    "import myhep.analytical_function_v2 as myaFun_v2\n",
    "import myhep.analysis_v3 as myAnal_v3\n",
    "# import myhep.particleinfo_v1 as mypiv1\n",
    "# import myhep.particlefun_v1 as myafv1\n",
    "\n",
    "# increase figure showing resolution\n",
    "%config InlineBackend.figure_format = 'retina'"
   ]
  },
  {
   "cell_type": "markdown",
   "metadata": {},
   "source": [
    "## 2. Import .root File and Load the Data via class"
   ]
  },
  {
   "cell_type": "code",
   "execution_count": 2,
   "metadata": {},
   "outputs": [],
   "source": [
    "INPUT_FILE = '/youwei_u3/svj_data_master/scheme_1/root/ckkwl_wo.root'\n",
    "\n",
    "DATA = uproot.open(INPUT_FILE)['Delphes;1']\n",
    "GP = mypInfo_v2.classGenParticle(DATA)\n",
    "Jet = mypInfo_v2.classJet(DATA)\n",
    "Event = mypInfo_v2.classEvent(DATA)"
   ]
  },
  {
   "cell_type": "markdown",
   "metadata": {},
   "source": [
    "### 2-1. Check the number of events for each branch"
   ]
  },
  {
   "cell_type": "code",
   "execution_count": 3,
   "metadata": {},
   "outputs": [
    {
     "name": "stdout",
     "output_type": "stream",
     "text": [
      "There are 19373 events in the .root file.\n"
     ]
    }
   ],
   "source": [
    "if GP.length == Jet.length == Event.length:\n",
    "    print(\"There are {} events in the .root file.\".format(GP.length))\n",
    "else:\n",
    "    print(\"\"\"\\033[7;31m****** There is the problem for the number of event \\\n",
    "    in the .root file. ******\\033[0m\"\"\")\n",
    "#     print(\"\\033[7;31m****** There is the problem for the number of event \"\n",
    "#           \"in the .root file. ******\\033[0m\")\n",
    "    print(\"\\033[7;31m****** Please check your .root file. ******\\033[0m\")"
   ]
  },
  {
   "cell_type": "markdown",
   "metadata": {},
   "source": [
    "### 2-2. Define physical quantites\n",
    "Skip this step"
   ]
  },
  {
   "cell_type": "markdown",
   "metadata": {},
   "source": [
    "## 3. Analyze the Dark Quark Pair in the Parton and Truth Levels\n",
    "Skip this step"
   ]
  },
  {
   "cell_type": "markdown",
   "metadata": {},
   "source": [
    "## 4. Jet Clustering"
   ]
  },
  {
   "cell_type": "markdown",
   "metadata": {},
   "source": [
    "### 4-1. Select stable final state particle without/with filtering out dark sector"
   ]
  },
  {
   "cell_type": "code",
   "execution_count": 4,
   "metadata": {},
   "outputs": [
    {
     "name": "stdout",
     "output_type": "stream",
     "text": [
      "The PID of dark matter are [51, -51, 53, -53, 4900211, -4900211, 4900213, -4900213].\n",
      "19373 events are stable final state.\n",
      "19373 events are stable final state without DM.\n"
     ]
    }
   ],
   "source": [
    "SFSP_v3, SFSP_filterDM_v3 = myAnal_v3.selectStableFinalStateParticle(\n",
    "    GP, filter=[51, -51, 53, -53, 4900211, -4900211, 4900213, -4900213])"
   ]
  },
  {
   "cell_type": "markdown",
   "metadata": {},
   "source": [
    "### 4-2. Let's do the jet clustering!!"
   ]
  },
  {
   "cell_type": "code",
   "execution_count": 5,
   "metadata": {},
   "outputs": [
    {
     "name": "stdout",
     "output_type": "stream",
     "text": [
      "Done new version\n"
     ]
    }
   ],
   "source": [
    "R, jetClusteringAlgorithm, pTmin_pyjet = 0.4, -1, 0\n",
    "\n",
    "PseudoJet_v3 = myAnal_v3.jetClustering_v1(SFSP_v3, R=R,\n",
    "                                       p=jetClusteringAlgorithm,\n",
    "                                       pTmin=pTmin_pyjet)\n",
    "PseudoJet_filterDM_v3 = myAnal_v3.jetClustering_v1(SFSP_filterDM_v3, R=R,\n",
    "                                                p=jetClusteringAlgorithm,\n",
    "                                                pTmin=pTmin_pyjet)\n",
    "print('Done new version')"
   ]
  },
  {
   "cell_type": "markdown",
   "metadata": {},
   "source": [
    "## 5. Analyze the Jets in the Truth Level"
   ]
  },
  {
   "cell_type": "markdown",
   "metadata": {},
   "source": [
    "### 5-1. Preselection version 1"
   ]
  },
  {
   "cell_type": "code",
   "execution_count": 6,
   "metadata": {},
   "outputs": [
    {
     "name": "stdout",
     "output_type": "stream",
     "text": [
      "19373 events before preselection\n",
      "19373 events after pT preselection\n",
      "19373 events after pT & eta preselections\n",
      "--------------------------------------------------------------------------------\n",
      "0 events without PseudoJet before preselection\n",
      "357 events without PseudoJet after pT preselection\n",
      "519 events without PseudoJet after pT & eta preselections\n"
     ]
    }
   ],
   "source": [
    "presel_bef, presel_pt, presel_pt_eta, presel_idx = myAnal_v3.preselection_v1(PseudoJet_filterDM_v3, pT_min=20, eta_max=2.5)"
   ]
  },
  {
   "cell_type": "code",
   "execution_count": 7,
   "metadata": {},
   "outputs": [
    {
     "data": {
      "text/plain": [
       "array([(754.72107953, -0.26936706, -0.35238845, 73.17201984),\n",
       "       (104.83282762, -1.11482256,  1.14303952, 20.66261802),\n",
       "       ( 85.25366785,  0.91831199, -2.53096755, 16.94153709),\n",
       "       ( 54.1991487 ,  0.23044176, -2.59317889, 12.15247457),\n",
       "       ( 27.54988231, -0.93685402,  0.65517858,  4.1833831 )],\n",
       "      dtype=[('pT', '<f8'), ('eta', '<f8'), ('phi', '<f8'), ('mass', '<f8')])"
      ]
     },
     "execution_count": 7,
     "metadata": {},
     "output_type": "execute_result"
    }
   ],
   "source": [
    "presel_pt_eta[21]"
   ]
  },
  {
   "cell_type": "markdown",
   "metadata": {},
   "source": [
    "## 6. Test 1"
   ]
  },
  {
   "cell_type": "code",
   "execution_count": 8,
   "metadata": {},
   "outputs": [
    {
     "data": {
      "text/plain": [
       "[PseudoJet(pt=754.721, eta=-0.269, phi=-0.352, mass=73.172),\n",
       " PseudoJet(pt=104.833, eta=-1.115, phi=1.143, mass=20.663),\n",
       " PseudoJet(pt=85.254, eta=0.918, phi=-2.531, mass=16.942),\n",
       " PseudoJet(pt=64.974, eta=-3.034, phi=1.609, mass=11.325),\n",
       " PseudoJet(pt=54.199, eta=0.230, phi=-2.593, mass=12.152),\n",
       " PseudoJet(pt=27.550, eta=-0.937, phi=0.655, mass=4.183),\n",
       " PseudoJet(pt=19.967, eta=-0.716, phi=-2.708, mass=3.603)]"
      ]
     },
     "execution_count": 8,
     "metadata": {},
     "output_type": "execute_result"
    }
   ],
   "source": [
    "# print top six PseudoJet in 21th event\n",
    "PseudoJet_filterDM_v3[21][:7]"
   ]
  },
  {
   "cell_type": "code",
   "execution_count": 9,
   "metadata": {},
   "outputs": [
    {
     "name": "stdout",
     "output_type": "stream",
     "text": [
      "event 21\n",
      "0 PseudoJet(pt=754.721, eta=-0.269, phi=-0.352, mass=73.172)\n",
      "1 PseudoJet(pt=104.833, eta=-1.115, phi=1.143, mass=20.663)\n",
      "2 PseudoJet(pt=85.254, eta=0.918, phi=-2.531, mass=16.942)\n",
      "3 PseudoJet(pt=64.974, eta=-3.034, phi=1.609, mass=11.325)\n",
      "4 PseudoJet(pt=54.199, eta=0.230, phi=-2.593, mass=12.152)\n",
      "5 PseudoJet(pt=27.550, eta=-0.937, phi=0.655, mass=4.183)\n",
      "--------------------------------------------------------------------------------\n",
      "event 22\n",
      "0 PseudoJet(pt=135.815, eta=2.146, phi=-3.118, mass=28.584)\n",
      "1 PseudoJet(pt=23.674, eta=2.146, phi=-2.674, mass=8.452)\n",
      "2 PseudoJet(pt=23.255, eta=3.290, phi=0.439, mass=4.790)\n",
      "--------------------------------------------------------------------------------\n"
     ]
    }
   ],
   "source": [
    "# print pt > 20 GeV PseudoJet in 21th and 23th events\n",
    "for i in range(21,23):\n",
    "    print(\"event {}\".format(i))\n",
    "    for j, jet in enumerate(PseudoJet_filterDM_v3[i]):\n",
    "        if jet.pt > 20:\n",
    "            print(j, jet)\n",
    "    print('-'*80)"
   ]
  },
  {
   "cell_type": "markdown",
   "metadata": {},
   "source": [
    "#### A. After $p_T > 20$ GeV selection"
   ]
  },
  {
   "cell_type": "code",
   "execution_count": 10,
   "metadata": {},
   "outputs": [
    {
     "name": "stdout",
     "output_type": "stream",
     "text": [
      "event 21\n",
      "0 PseudoJet(pt=754.721, eta=-0.269, phi=-0.352, mass=73.172)\n",
      "1 PseudoJet(pt=104.833, eta=-1.115, phi=1.143, mass=20.663)\n",
      "2 PseudoJet(pt=85.254, eta=0.918, phi=-2.531, mass=16.942)\n",
      "3 PseudoJet(pt=64.974, eta=-3.034, phi=1.609, mass=11.325)\n",
      "4 PseudoJet(pt=54.199, eta=0.230, phi=-2.593, mass=12.152)\n",
      "5 PseudoJet(pt=27.550, eta=-0.937, phi=0.655, mass=4.183)\n",
      "********************NumPy Array\n",
      "(6,) [(754.72107953, -0.26936706, -0.35238845, 73.17201984)\n",
      " (104.83282762, -1.11482256,  1.14303952, 20.66261802)\n",
      " ( 85.25366785,  0.91831199, -2.53096755, 16.94153709)\n",
      " ( 64.97417129, -3.03388869,  1.60866641, 11.32521937)\n",
      " ( 54.1991487 ,  0.23044176, -2.59317889, 12.15247457)\n",
      " ( 27.54988231, -0.93685402,  0.65517858,  4.1833831 )]\n",
      "--------------------------------------------------------------------------------\n",
      "event 22\n",
      "0 PseudoJet(pt=135.815, eta=2.146, phi=-3.118, mass=28.584)\n",
      "1 PseudoJet(pt=23.674, eta=2.146, phi=-2.674, mass=8.452)\n",
      "2 PseudoJet(pt=23.255, eta=3.290, phi=0.439, mass=4.790)\n",
      "********************NumPy Array\n",
      "(3,) [(135.81475624, 2.14646234, -3.11762065, 28.58375223)\n",
      " ( 23.67438139, 2.14635282, -2.67445185,  8.45196396)\n",
      " ( 23.25535698, 3.28953198,  0.43855045,  4.79000333)]\n",
      "--------------------------------------------------------------------------------\n",
      "Number of events before preselection = [75, 185]\n",
      "Number of events after pT preselection = [6, 3]\n",
      "Number of events after eta preselection = []\n",
      "================================================================================\n"
     ]
    },
    {
     "data": {
      "text/plain": [
       "array([(135.81475624, 2.14646234, -3.11762065, 28.58375223),\n",
       "       ( 23.67438139, 2.14635282, -2.67445185,  8.45196396),\n",
       "       ( 23.25535698, 3.28953198,  0.43855045,  4.79000333)],\n",
       "      dtype=[('pT', '<f8'), ('eta', '<f8'), ('phi', '<f8'), ('mass', '<f8')])"
      ]
     },
     "execution_count": 10,
     "metadata": {},
     "output_type": "execute_result"
    }
   ],
   "source": [
    "# test after pT selection\n",
    "_presel_events_pt = []\n",
    "_num_events_bef, _num_events_after_pt, _num_events_after_eta = [], [], []\n",
    "_pt, _eta, _phi, m = [], [], [], []\n",
    "\n",
    "for i in range(21,23):\n",
    "    print(\"event {}\".format(i))\n",
    "    _num_events_bef.append(len(PseudoJet_filterDM_v3[i]))\n",
    "    _event_i = []\n",
    "    for j, jet in enumerate(PseudoJet_filterDM_v3[i]):\n",
    "        if jet.pt > 20:\n",
    "            print(j, jet)\n",
    "            # print(j, jet, [jet.pt, jet.eta])  # [] = () in np.array()\n",
    "            # print(j, jet, (jet.pt, jet.eta))\n",
    "            # sum_test = np.sum(np.array([jet.pt, jet.eta, jet.phi, jet.mass]) -\n",
    "                            #   np.array((jet.pt, jet.eta, jet.phi, jet.mass)))\n",
    "            # print('******', sum_test)  # = 0\n",
    "            _event_i.append((jet.pt, jet.eta, jet.phi, jet.mass))\n",
    "    print('*'*20 + 'NumPy Array')\n",
    "    # print('******', _event_i)  # [(pt1, eta1, phi1, m1), (pt2, eta2, ...), ...]\n",
    "    arr_event_i = np.array(_event_i, dtype=[('pT', '<f8'), ('eta', '<f8'),\n",
    "                                            ('phi', '<f8'), ('mass', '<f8')])\n",
    "    print(arr_event_i.shape, arr_event_i)\n",
    "    _num_events_after_pt.append(len(arr_event_i))\n",
    "    _presel_events_pt.append(arr_event_i)\n",
    "    print('-'*80)\n",
    "    \n",
    "print(\"Number of events before preselection = {}\".format(_num_events_bef))\n",
    "print(\"Number of events after pT preselection = {}\".format(_num_events_after_pt))\n",
    "print(\"Number of events after eta preselection = {}\".format(_num_events_after_eta))\n",
    "print('='*80)\n",
    "_presel_events_pt[1]"
   ]
  },
  {
   "cell_type": "code",
   "execution_count": 26,
   "metadata": {},
   "outputs": [
    {
     "name": "stdout",
     "output_type": "stream",
     "text": [
      "event 0 21\n",
      "0.0 0.0 0.0 0.0\n",
      "--------------------------------------------------------------------------------\n",
      "event 1 22\n",
      "0.0 0.0 0.0 0.0\n",
      "--------------------------------------------------------------------------------\n"
     ]
    }
   ],
   "source": [
    "# check myAnal_v3.preselection_v1 result\n",
    "event_location = [21, 22]\n",
    "\n",
    "for a, b in enumerate(event_location):\n",
    "    print(\"event\", a, b)\n",
    "    sum_pt = np.sum(_presel_events_pt[a]['pT'] - presel_pt[b]['pT'])\n",
    "    sum_eta = np.sum(_presel_events_pt[a]['eta'] - presel_pt[b]['eta'])\n",
    "    sum_phi = np.sum(_presel_events_pt[a]['phi'] - presel_pt[b]['phi'])\n",
    "    sum_m = np.sum(_presel_events_pt[a]['mass'] - presel_pt[b]['mass'])\n",
    "    print(sum_pt, sum_eta, sum_phi, sum_m)\n",
    "    print('-'*80)"
   ]
  },
  {
   "cell_type": "markdown",
   "metadata": {},
   "source": [
    "##### Conclusion: The result of `preselection_v1` is the same as test version of event 21 and 22."
   ]
  },
  {
   "cell_type": "markdown",
   "metadata": {},
   "source": [
    "#### B. Before selection"
   ]
  },
  {
   "cell_type": "code",
   "execution_count": 28,
   "metadata": {},
   "outputs": [
    {
     "name": "stdout",
     "output_type": "stream",
     "text": [
      "event 21\n",
      "********************NumPy Array\n",
      "(75,) [(754.72107953, -0.26936706, -0.35238845, 73.17201984)\n",
      " (104.83282762, -1.11482256,  1.14303952, 20.66261802)\n",
      " ( 85.25366785,  0.91831199, -2.53096755, 16.94153709)\n",
      " ( 64.97417129, -3.03388869,  1.60866641, 11.32521937)]\n",
      "--------------------------------------------------------------------------------\n",
      "event 22\n",
      "********************NumPy Array\n",
      "(185,) [(135.81475624, 2.14646234, -3.11762065, 28.58375223)\n",
      " ( 23.67438139, 2.14635282, -2.67445185,  8.45196396)\n",
      " ( 23.25535698, 3.28953198,  0.43855045,  4.79000333)\n",
      " ( 19.44977872, 0.22853662,  0.30315499,  4.32690473)]\n",
      "--------------------------------------------------------------------------------\n",
      "Number of events before preselection = [75, 185]\n",
      "================================================================================\n"
     ]
    },
    {
     "data": {
      "text/plain": [
       "array([(754.72107953, -0.26936706, -0.35238845, 73.17201984),\n",
       "       (104.83282762, -1.11482256,  1.14303952, 20.66261802)],\n",
       "      dtype=[('pT', '<f8'), ('eta', '<f8'), ('phi', '<f8'), ('mass', '<f8')])"
      ]
     },
     "execution_count": 28,
     "metadata": {},
     "output_type": "execute_result"
    }
   ],
   "source": [
    "# test before selection\n",
    "_presel_events_bef = []\n",
    "_num_events_bef = []\n",
    "\n",
    "for i in range(21,23):\n",
    "    print(\"event {}\".format(i))\n",
    "    _num_events_bef.append(len(PseudoJet_filterDM_v3[i]))\n",
    "    _event_i = []\n",
    "    for j, jet in enumerate(PseudoJet_filterDM_v3[i]):\n",
    "        # print(j, jet)\n",
    "        _event_i.append((jet.pt, jet.eta, jet.phi, jet.mass))\n",
    "    print('*'*20 + 'NumPy Array')\n",
    "    arr_event_i = np.array(_event_i, dtype=[('pT', '<f8'), ('eta', '<f8'),\n",
    "                                            ('phi', '<f8'), ('mass', '<f8')])\n",
    "    print(arr_event_i.shape, arr_event_i[:4])\n",
    "    _presel_events_bef.append(arr_event_i)\n",
    "    print('-'*80)\n",
    "    \n",
    "print(\"Number of events before preselection = {}\".format(_num_events_bef))\n",
    "print('='*80)\n",
    "_presel_events_bef[0][:2]"
   ]
  },
  {
   "cell_type": "code",
   "execution_count": 29,
   "metadata": {},
   "outputs": [
    {
     "name": "stdout",
     "output_type": "stream",
     "text": [
      "event 0 21\n",
      "0.0 0.0 0.0 0.0\n",
      "--------------------------------------------------------------------------------\n",
      "event 1 22\n",
      "0.0 0.0 0.0 0.0\n",
      "--------------------------------------------------------------------------------\n"
     ]
    }
   ],
   "source": [
    "# check myAnal_v3.preselection_v1 result\n",
    "event_location = [21, 22]\n",
    "\n",
    "for a, b in enumerate(event_location):\n",
    "    print(\"event\", a, b)\n",
    "    sum_pt = np.sum(_presel_events_bef[a]['pT'] - presel_bef[b]['pT'])\n",
    "    sum_eta = np.sum(_presel_events_bef[a]['eta'] - presel_bef[b]['eta'])\n",
    "    sum_phi = np.sum(_presel_events_bef[a]['phi'] - presel_bef[b]['phi'])\n",
    "    sum_m = np.sum(_presel_events_bef[a]['mass'] - presel_bef[b]['mass'])\n",
    "    print(sum_pt, sum_eta, sum_phi, sum_m)\n",
    "    print('-'*80)"
   ]
  },
  {
   "cell_type": "markdown",
   "metadata": {},
   "source": [
    "##### Conclusion: The result of `preselection_v1` is the same as test version of event 21 and 22."
   ]
  },
  {
   "cell_type": "markdown",
   "metadata": {},
   "source": [
    "#### C. After $p_T > 20$ GeV and $\\eta < 2.5$ selections"
   ]
  },
  {
   "cell_type": "code",
   "execution_count": 30,
   "metadata": {},
   "outputs": [
    {
     "name": "stdout",
     "output_type": "stream",
     "text": [
      "event 21\n",
      "0 PseudoJet(pt=754.721, eta=-0.269, phi=-0.352, mass=73.172)\n",
      "1 PseudoJet(pt=104.833, eta=-1.115, phi=1.143, mass=20.663)\n",
      "2 PseudoJet(pt=85.254, eta=0.918, phi=-2.531, mass=16.942)\n",
      "4 PseudoJet(pt=54.199, eta=0.230, phi=-2.593, mass=12.152)\n",
      "5 PseudoJet(pt=27.550, eta=-0.937, phi=0.655, mass=4.183)\n",
      "********************NumPy Array\n",
      "(5,) [(754.72107953, -0.26936706, -0.35238845, 73.17201984)\n",
      " (104.83282762, -1.11482256,  1.14303952, 20.66261802)\n",
      " ( 85.25366785,  0.91831199, -2.53096755, 16.94153709)\n",
      " ( 54.1991487 ,  0.23044176, -2.59317889, 12.15247457)\n",
      " ( 27.54988231, -0.93685402,  0.65517858,  4.1833831 )]\n",
      "--------------------------------------------------------------------------------\n",
      "event 22\n",
      "0 PseudoJet(pt=135.815, eta=2.146, phi=-3.118, mass=28.584)\n",
      "1 PseudoJet(pt=23.674, eta=2.146, phi=-2.674, mass=8.452)\n",
      "********************NumPy Array\n",
      "(2,) [(135.81475624, 2.14646234, -3.11762065, 28.58375223)\n",
      " ( 23.67438139, 2.14635282, -2.67445185,  8.45196396)]\n",
      "--------------------------------------------------------------------------------\n",
      "Number of events after pT and eta preselection = [5, 2]\n",
      "================================================================================\n"
     ]
    },
    {
     "data": {
      "text/plain": [
       "[array([(754.72107953, -0.26936706, -0.35238845, 73.17201984),\n",
       "        (104.83282762, -1.11482256,  1.14303952, 20.66261802),\n",
       "        ( 85.25366785,  0.91831199, -2.53096755, 16.94153709),\n",
       "        ( 54.1991487 ,  0.23044176, -2.59317889, 12.15247457),\n",
       "        ( 27.54988231, -0.93685402,  0.65517858,  4.1833831 )],\n",
       "       dtype=[('pT', '<f8'), ('eta', '<f8'), ('phi', '<f8'), ('mass', '<f8')]),\n",
       " array([(135.81475624, 2.14646234, -3.11762065, 28.58375223),\n",
       "        ( 23.67438139, 2.14635282, -2.67445185,  8.45196396)],\n",
       "       dtype=[('pT', '<f8'), ('eta', '<f8'), ('phi', '<f8'), ('mass', '<f8')])]"
      ]
     },
     "execution_count": 30,
     "metadata": {},
     "output_type": "execute_result"
    }
   ],
   "source": [
    "# test after pT and eta selections\n",
    "_presel_events_pt_eta = []\n",
    "_num_events_after_pt_eta = []\n",
    "\n",
    "for i in range(21,23):\n",
    "    print(\"event {}\".format(i))\n",
    "    _event_i = []\n",
    "    for j, jet in enumerate(PseudoJet_filterDM_v3[i]):\n",
    "        if (jet.pt > 20) and (abs(jet.eta) < 2.5):\n",
    "            print(j, jet)\n",
    "            _event_i.append((jet.pt, jet.eta, jet.phi, jet.mass))\n",
    "    print('*'*20 + 'NumPy Array')\n",
    "    # print('******', _event_i)  # [(pt1, eta1, phi1, m1), (pt2, eta2, ...), ...]\n",
    "    arr_event_i = np.array(_event_i, dtype=[('pT', '<f8'), ('eta', '<f8'),\n",
    "                                            ('phi', '<f8'), ('mass', '<f8')])\n",
    "    print(arr_event_i.shape, arr_event_i)\n",
    "    _num_events_after_pt_eta.append(len(arr_event_i))\n",
    "    _presel_events_pt_eta.append(arr_event_i)\n",
    "    print('-'*80)\n",
    "    \n",
    "print(\"Number of events after pT and eta preselection = {}\".format(_num_events_after_pt_eta))\n",
    "print('='*80)\n",
    "_presel_events_pt_eta"
   ]
  },
  {
   "cell_type": "code",
   "execution_count": 31,
   "metadata": {},
   "outputs": [
    {
     "name": "stdout",
     "output_type": "stream",
     "text": [
      "event 0 21\n",
      "0.0 0.0 0.0 0.0\n",
      "--------------------------------------------------------------------------------\n",
      "event 1 22\n",
      "0.0 0.0 0.0 0.0\n",
      "--------------------------------------------------------------------------------\n"
     ]
    }
   ],
   "source": [
    "# check myAnal_v3.preselection_v1 result\n",
    "event_location = [21, 22]\n",
    "\n",
    "for a, b in enumerate(event_location):\n",
    "    print(\"event\", a, b)\n",
    "    sum_pt = np.sum(_presel_events_pt_eta[a]['pT'] - presel_pt_eta[b]['pT'])\n",
    "    sum_eta = np.sum(_presel_events_pt_eta[a]['eta'] - presel_pt_eta[b]['eta'])\n",
    "    sum_phi = np.sum(_presel_events_pt_eta[a]['phi'] - presel_pt_eta[b]['phi'])\n",
    "    sum_m = np.sum(_presel_events_pt_eta[a]['mass'] - presel_pt_eta[b]['mass'])\n",
    "    print(sum_pt, sum_eta, sum_phi, sum_m)\n",
    "    print('-'*80)"
   ]
  },
  {
   "cell_type": "markdown",
   "metadata": {},
   "source": [
    "##### Conclusion: The result of `preselection_v1` is the same as test version of event 21 and 22."
   ]
  },
  {
   "cell_type": "markdown",
   "metadata": {},
   "source": [
    "### 6-1. Example 1\n",
    "Print events"
   ]
  },
  {
   "cell_type": "code",
   "execution_count": 32,
   "metadata": {},
   "outputs": [
    {
     "name": "stdout",
     "output_type": "stream",
     "text": [
      "19373\n",
      "--------------------------------------------------------------------------------\n",
      "event 0\n",
      "How many PseudoJet does each event have = 88\n",
      "[PseudoJet(pt=144.818, eta=0.390, phi=-0.246, mass=29.794), PseudoJet(pt=32.644, eta=0.658, phi=-0.752, mass=8.309), PseudoJet(pt=12.051, eta=-0.031, phi=-0.040, mass=1.622)]\n",
      "--------------------------------------------------------------------------------\n",
      "event 1\n",
      "How many PseudoJet does each event have = 154\n",
      "[PseudoJet(pt=156.632, eta=-0.721, phi=1.453, mass=24.608), PseudoJet(pt=116.277, eta=-1.841, phi=-2.920, mass=21.577), PseudoJet(pt=100.767, eta=-2.305, phi=-2.087, mass=12.047)]\n",
      "--------------------------------------------------------------------------------\n",
      "event 2\n",
      "How many PseudoJet does each event have = 163\n",
      "[PseudoJet(pt=180.419, eta=-1.263, phi=2.764, mass=34.022), PseudoJet(pt=13.794, eta=0.471, phi=1.933, mass=2.814), PseudoJet(pt=6.642, eta=-4.642, phi=1.803, mass=1.408)]\n",
      "--------------------------------------------------------------------------------\n"
     ]
    }
   ],
   "source": [
    "# print top 3 PseudoJet events in 1st, 2nd, and 3rd events\n",
    "print(len(PseudoJet_filterDM_v3))\n",
    "print('-'*80)\n",
    "for i in range(3):\n",
    "    print(\"event {}\".format(i))\n",
    "    print(\"How many PseudoJet does each event have = {}\".format(len(PseudoJet_filterDM_v3[i])))\n",
    "    print(PseudoJet_filterDM_v3[i][:3])\n",
    "    print('-'*80)"
   ]
  },
  {
   "cell_type": "code",
   "execution_count": 33,
   "metadata": {},
   "outputs": [
    {
     "data": {
      "text/plain": [
       "[PseudoJet(pt=754.721, eta=-0.269, phi=-0.352, mass=73.172),\n",
       " PseudoJet(pt=104.833, eta=-1.115, phi=1.143, mass=20.663),\n",
       " PseudoJet(pt=85.254, eta=0.918, phi=-2.531, mass=16.942),\n",
       " PseudoJet(pt=64.974, eta=-3.034, phi=1.609, mass=11.325),\n",
       " PseudoJet(pt=54.199, eta=0.230, phi=-2.593, mass=12.152),\n",
       " PseudoJet(pt=27.550, eta=-0.937, phi=0.655, mass=4.183),\n",
       " PseudoJet(pt=19.967, eta=-0.716, phi=-2.708, mass=3.603),\n",
       " PseudoJet(pt=11.095, eta=-1.614, phi=-3.022, mass=2.247),\n",
       " PseudoJet(pt=9.129, eta=-0.150, phi=2.344, mass=1.500),\n",
       " PseudoJet(pt=6.189, eta=-0.029, phi=-0.764, mass=2.306)]"
      ]
     },
     "execution_count": 33,
     "metadata": {},
     "output_type": "execute_result"
    }
   ],
   "source": [
    "# use 21th event as example and print top 10 PseudoJet\n",
    "PseudoJet_filterDM_v3[21][:10]"
   ]
  },
  {
   "cell_type": "code",
   "execution_count": 34,
   "metadata": {},
   "outputs": [
    {
     "name": "stdout",
     "output_type": "stream",
     "text": [
      "event 21\n",
      "0 PseudoJet(pt=754.721, eta=-0.269, phi=-0.352, mass=73.172)\n",
      "1 PseudoJet(pt=104.833, eta=-1.115, phi=1.143, mass=20.663)\n",
      "2 PseudoJet(pt=85.254, eta=0.918, phi=-2.531, mass=16.942)\n",
      "3 PseudoJet(pt=64.974, eta=-3.034, phi=1.609, mass=11.325)\n",
      "4 PseudoJet(pt=54.199, eta=0.230, phi=-2.593, mass=12.152)\n",
      "5 PseudoJet(pt=27.550, eta=-0.937, phi=0.655, mass=4.183)\n",
      "--------------------------------------------------------------------------------\n",
      "event 22\n",
      "0 PseudoJet(pt=135.815, eta=2.146, phi=-3.118, mass=28.584)\n",
      "1 PseudoJet(pt=23.674, eta=2.146, phi=-2.674, mass=8.452)\n",
      "2 PseudoJet(pt=23.255, eta=3.290, phi=0.439, mass=4.790)\n",
      "--------------------------------------------------------------------------------\n"
     ]
    }
   ],
   "source": [
    "# print pt > 20 GeV PseudoJet in 21th and 23th events\n",
    "for i in range(21,23):\n",
    "    print(\"event {}\".format(i))\n",
    "    for j, jet in enumerate(PseudoJet_filterDM_v3[i]):\n",
    "        if jet.pt > 20:\n",
    "            print(j, jet)\n",
    "            \n",
    "            # |eta| < 1.0 or 2.5\n",
    "            # N_jet\n",
    "            \n",
    "            # pt1 > 440\n",
    "            # pt2 > 150\n",
    "            \n",
    "            # [arr(event0), arr(event1), ...]\n",
    "            # event0 = [[pt], [eta], [phi], [mass]] worse\n",
    "            # event0 = [(pt1, eta1, phi1, mass1), (pt2, eta2, ), ...] better\n",
    "            \n",
    "    print('-'*80)"
   ]
  },
  {
   "cell_type": "code",
   "execution_count": 35,
   "metadata": {},
   "outputs": [
    {
     "name": "stdout",
     "output_type": "stream",
     "text": [
      "           Mass          PT       Eta       Phi\n",
      "0  5.453704e+01  241.723770  0.370880 -0.282046\n",
      "1 -9.536743e-07   26.896011 -1.431609  2.805379\n",
      "--------------------------------------------------------------------------------\n",
      "        Mass          PT       Eta       Phi\n",
      "0   6.678744  177.236328 -0.139621 -0.447590\n",
      "1  17.477238  118.888374 -0.711579  1.418930\n",
      "2  19.143206  113.456596 -2.323572 -2.034082\n",
      "3  20.718964  111.807510 -1.892479 -2.930634\n",
      "--------------------------------------------------------------------------------\n",
      "        Mass          PT       Eta       Phi\n",
      "0  37.228954  188.137466 -1.268446  2.796516\n",
      "1   3.147427   68.941101 -2.162593 -1.792415\n",
      "2   1.937583   36.007828  1.437399  0.033540\n",
      "3   5.678205   25.617086  2.068637 -0.297460\n",
      "--------------------------------------------------------------------------------\n",
      "        Mass          PT       Eta       Phi\n",
      "0  20.538086  132.913483  1.756381 -0.577489\n",
      "--------------------------------------------------------------------------------\n"
     ]
    }
   ],
   "source": [
    "# print jet elements in the detector level\n",
    "for i in range(4):\n",
    "    print(Jet.dataframelize(i))\n",
    "    print('-'*80)"
   ]
  },
  {
   "cell_type": "markdown",
   "metadata": {},
   "source": [
    "### 6-2. Example 2"
   ]
  },
  {
   "cell_type": "code",
   "execution_count": 36,
   "metadata": {},
   "outputs": [
    {
     "name": "stdout",
     "output_type": "stream",
     "text": [
      "test 1 28 [] []\n",
      "test 2 28 [] []\n",
      "--------------------------------------------------------------------------------\n",
      "test 1 86 [] []\n",
      "test 2 86 [] []\n",
      "--------------------------------------------------------------------------------\n",
      "test 2 100 [(84.17371578879752, 2.7916237519672458, -2.8580730931322766, 22.40237541012953)] []\n",
      "--------------------------------------------------------------------------------\n",
      "test 1 187 [] []\n",
      "test 2 187 [] []\n",
      "--------------------------------------------------------------------------------\n",
      "test 1 188 [] []\n",
      "test 2 188 [] []\n",
      "--------------------------------------------------------------------------------\n"
     ]
    }
   ],
   "source": [
    "for i in range(200):\n",
    "    test_1, test_2 = [], []\n",
    "    for j, jet in enumerate(PseudoJet_filterDM_v3[i]):\n",
    "        if (jet.pt > 20):\n",
    "            test_1.append((jet.pt, jet.eta, jet.phi, jet.mass))\n",
    "            if (abs(jet.eta) < 2.5):\n",
    "                test_2.append((jet.pt, jet.eta, jet.phi, jet.mass))\n",
    "    if len(test_1) == 0:\n",
    "        print('test 1', i, test_1, test_2)\n",
    "    if len(test_2) == 0:\n",
    "        print('test 2', i, test_1, test_2)\n",
    "        print('-'*80)"
   ]
  },
  {
   "cell_type": "code",
   "execution_count": 37,
   "metadata": {},
   "outputs": [
    {
     "data": {
      "text/plain": [
       "[PseudoJet(pt=84.174, eta=2.792, phi=-2.858, mass=22.402),\n",
       " PseudoJet(pt=16.954, eta=1.607, phi=-1.019, mass=5.476),\n",
       " PseudoJet(pt=16.666, eta=3.050, phi=-2.073, mass=3.657),\n",
       " PseudoJet(pt=13.489, eta=-1.582, phi=2.140, mass=6.490),\n",
       " PseudoJet(pt=12.893, eta=-0.206, phi=-0.868, mass=5.059),\n",
       " PseudoJet(pt=9.855, eta=1.879, phi=-2.630, mass=4.359),\n",
       " PseudoJet(pt=9.811, eta=0.175, phi=0.013, mass=3.511),\n",
       " PseudoJet(pt=9.009, eta=0.093, phi=1.842, mass=3.726),\n",
       " PseudoJet(pt=8.390, eta=-1.855, phi=0.547, mass=3.861),\n",
       " PseudoJet(pt=8.365, eta=0.381, phi=-0.549, mass=2.833)]"
      ]
     },
     "execution_count": 37,
     "metadata": {},
     "output_type": "execute_result"
    }
   ],
   "source": [
    "PseudoJet_filterDM_v3[100][:10]"
   ]
  },
  {
   "cell_type": "markdown",
   "metadata": {},
   "source": [
    "## 7. Test 2: Constituents"
   ]
  },
  {
   "cell_type": "code",
   "execution_count": 38,
   "metadata": {},
   "outputs": [
    {
     "name": "stdout",
     "output_type": "stream",
     "text": [
      "['__add__', '__class__', '__contains__', '__delattr__', '__delitem__', '__dir__', '__doc__', '__eq__', '__format__', '__ge__', '__getattribute__', '__getitem__', '__gt__', '__hash__', '__iadd__', '__imul__', '__init__', '__init_subclass__', '__iter__', '__le__', '__len__', '__lt__', '__mul__', '__ne__', '__new__', '__reduce__', '__reduce_ex__', '__repr__', '__reversed__', '__rmul__', '__setattr__', '__setitem__', '__sizeof__', '__str__', '__subclasshook__', 'append', 'clear', 'copy', 'count', 'extend', 'index', 'insert', 'pop', 'remove', 'reverse', 'sort']\n",
      "--------------------------------------------------------------------------------\n",
      "['__add__', '__class__', '__contains__', '__delattr__', '__delitem__', '__dir__', '__doc__', '__eq__', '__format__', '__ge__', '__getattribute__', '__getitem__', '__gt__', '__hash__', '__iadd__', '__imul__', '__init__', '__init_subclass__', '__iter__', '__le__', '__len__', '__lt__', '__mul__', '__ne__', '__new__', '__reduce__', '__reduce_ex__', '__repr__', '__reversed__', '__rmul__', '__setattr__', '__setitem__', '__sizeof__', '__str__', '__subclasshook__', 'append', 'clear', 'copy', 'count', 'extend', 'index', 'insert', 'pop', 'remove', 'reverse', 'sort']\n",
      "--------------------------------------------------------------------------------\n",
      "['__class__', '__contains__', '__delattr__', '__dir__', '__doc__', '__eq__', '__format__', '__ge__', '__getattr__', '__getattribute__', '__gt__', '__hash__', '__init__', '__init_subclass__', '__iter__', '__le__', '__len__', '__lt__', '__ne__', '__new__', '__pyx_vtable__', '__reduce__', '__reduce_ex__', '__repr__', '__setattr__', '__setstate__', '__sizeof__', '__str__', '__subclasshook__', 'area', 'child', 'constituents', 'constituents_array', 'e', 'et', 'eta', 'mass', 'parents', 'phi', 'pt', 'px', 'py', 'pz', 'userinfo']\n"
     ]
    }
   ],
   "source": [
    "# print attributes of each object\n",
    "print(dir(PseudoJet_filterDM_v3))\n",
    "print('-'*80)\n",
    "print(dir(PseudoJet_filterDM_v3[21]))\n",
    "print('-'*80)\n",
    "print(dir(PseudoJet_filterDM_v3[21][0]))"
   ]
  },
  {
   "cell_type": "code",
   "execution_count": 39,
   "metadata": {},
   "outputs": [
    {
     "name": "stdout",
     "output_type": "stream",
     "text": [
      "0 87 PseudoJet(pt=754.721, eta=-0.269, phi=-0.352, mass=73.172)\n",
      "1 26 PseudoJet(pt=104.833, eta=-1.115, phi=1.143, mass=20.663)\n",
      "2 33 PseudoJet(pt=85.254, eta=0.918, phi=-2.531, mass=16.942)\n",
      "3 21 PseudoJet(pt=64.974, eta=-3.034, phi=1.609, mass=11.325)\n",
      "4 23 PseudoJet(pt=54.199, eta=0.230, phi=-2.593, mass=12.152)\n",
      "5 7 PseudoJet(pt=27.550, eta=-0.937, phi=0.655, mass=4.183)\n"
     ]
    }
   ],
   "source": [
    "# top 6 PseudoJet in 21th event\n",
    "for j, jet in enumerate(PseudoJet_filterDM_v3[21][:6]):\n",
    "    print(j, len(PseudoJet_filterDM_v3[21][j]), jet)"
   ]
  },
  {
   "cell_type": "code",
   "execution_count": 40,
   "metadata": {},
   "outputs": [
    {
     "name": "stdout",
     "output_type": "stream",
     "text": [
      "event 5\n",
      "PseudoJet(pt=27.550, eta=-0.937, phi=0.655, mass=4.183)\n",
      "--------------------------------------------------------------------------------\n"
     ]
    },
    {
     "data": {
      "text/plain": [
       "array([(0.99460959, -1.1102134 , 0.67404842,  1.39569998e-01),\n",
       "       (6.0019908 , -1.01715386, 0.54768401,  9.39570010e-01),\n",
       "       (0.98741752, -0.776838  , 0.57899618,  1.39569998e-01),\n",
       "       (1.61963058, -0.94204098, 0.55713117,  0.00000000e+00),\n",
       "       (4.14160728, -0.93889606, 0.60915875, -8.42936970e-08),\n",
       "       (7.85252857, -0.89518613, 0.74074847,  1.39569998e-01),\n",
       "       (6.04252958, -0.88757044, 0.71782219,  9.38269973e-01)],\n",
       "      dtype=[('pT', '<f8'), ('eta', '<f8'), ('phi', '<f8'), ('mass', '<f8')])"
      ]
     },
     "execution_count": 40,
     "metadata": {},
     "output_type": "execute_result"
    }
   ],
   "source": [
    "# print the constituents of 6th PseudoJet in 21th event\n",
    "print(\"event 5\")\n",
    "print(PseudoJet_filterDM_v3[21][5])\n",
    "print('-'*80)\n",
    "PseudoJet_filterDM_v3[21][5].constituents_array()"
   ]
  },
  {
   "cell_type": "code",
   "execution_count": 41,
   "metadata": {},
   "outputs": [
    {
     "data": {
      "text/plain": [
       "array([(754.72107953, -0.26936706, -0.35238845, 73.17201984),\n",
       "       (104.83282762, -1.11482256,  1.14303952, 20.66261802),\n",
       "       ( 85.25366785,  0.91831199, -2.53096755, 16.94153709),\n",
       "       ( 54.1991487 ,  0.23044176, -2.59317889, 12.15247457),\n",
       "       ( 27.54988231, -0.93685402,  0.65517858,  4.1833831 )],\n",
       "      dtype=[('pT', '<f8'), ('eta', '<f8'), ('phi', '<f8'), ('mass', '<f8')])"
      ]
     },
     "execution_count": 41,
     "metadata": {},
     "output_type": "execute_result"
    }
   ],
   "source": [
    "_presel_events_pt_eta[0]"
   ]
  },
  {
   "cell_type": "markdown",
   "metadata": {},
   "source": [
    "##### Conclusion: My format of preselection events is the same as constituents of PseudoJet."
   ]
  },
  {
   "cell_type": "code",
   "execution_count": 42,
   "metadata": {},
   "outputs": [
    {
     "data": {
      "text/plain": [
       "array([0.99460959, 6.0019908 , 0.98741752, 1.61963058, 4.14160728,\n",
       "       7.85252857, 6.04252958])"
      ]
     },
     "execution_count": 42,
     "metadata": {},
     "output_type": "execute_result"
    }
   ],
   "source": [
    "x = PseudoJet_filterDM_v3[21][5].constituents_array()\n",
    "x['pT']"
   ]
  },
  {
   "cell_type": "code",
   "execution_count": 43,
   "metadata": {},
   "outputs": [
    {
     "name": "stdout",
     "output_type": "stream",
     "text": [
      "(23,)\n",
      "(7,)\n"
     ]
    }
   ],
   "source": [
    "a = PseudoJet_filterDM_v3[21][4].constituents_array()\n",
    "b = PseudoJet_filterDM_v3[21][5].constituents_array()\n",
    "print(a.shape)\n",
    "print(b.shape)"
   ]
  },
  {
   "cell_type": "code",
   "execution_count": 44,
   "metadata": {},
   "outputs": [
    {
     "data": {
      "text/plain": [
       "array([(0.99460959, -1.1102134 , 0.67404842,  1.39569998e-01),\n",
       "       (6.0019908 , -1.01715386, 0.54768401,  9.39570010e-01),\n",
       "       (0.98741752, -0.776838  , 0.57899618,  1.39569998e-01),\n",
       "       (1.61963058, -0.94204098, 0.55713117,  0.00000000e+00),\n",
       "       (4.14160728, -0.93889606, 0.60915875, -8.42936970e-08),\n",
       "       (7.85252857, -0.89518613, 0.74074847,  1.39569998e-01),\n",
       "       (6.04252958, -0.88757044, 0.71782219,  9.38269973e-01)],\n",
       "      dtype=[('pT', '<f8'), ('eta', '<f8'), ('phi', '<f8'), ('mass', '<f8')])"
      ]
     },
     "execution_count": 44,
     "metadata": {},
     "output_type": "execute_result"
    }
   ],
   "source": [
    "# test to combine a(PseudoJet[21][4]) and b(PseudoJet[21][5])\n",
    "c = np.array([a, b])\n",
    "c[1]"
   ]
  },
  {
   "cell_type": "code",
   "execution_count": 45,
   "metadata": {},
   "outputs": [
    {
     "data": {
      "text/plain": [
       "array([array([(1.80030811, -0.10393831, -2.54997563,  4.97610003e-01),\n",
       "       (1.07274115,  0.12088498, -2.87783098,  4.93680000e-01),\n",
       "       (4.73707819, -0.03949459, -2.6432538 ,  5.96046448e-08),\n",
       "       (0.35985604,  0.04880412, -2.38159251,  5.10999991e-04),\n",
       "       (3.47266984,  0.26385638, -2.32366896,  1.39569998e-01),\n",
       "       (6.19313669,  0.06643461, -2.55104756,  8.42936970e-08),\n",
       "       (1.61419094,  0.10874201, -2.5453608 , -2.10734243e-08),\n",
       "       (0.54318136,  0.30021772, -2.50667334, -7.45058060e-09),\n",
       "       (0.58041984,  0.451489  , -2.46868205,  0.00000000e+00),\n",
       "       (4.03059387,  0.36115521, -2.43878222,  0.00000000e+00),\n",
       "       (2.67526174,  0.40265584, -2.42060113, -2.98023224e-08),\n",
       "       (0.87787473,  0.09467188, -2.67438483,  1.39569998e-01),\n",
       "       (4.25370598,  0.20829731, -2.52334118,  1.39569998e-01),\n",
       "       (1.76889956,  0.21774833, -2.5474999 ,  1.39569998e-01),\n",
       "       (1.33180881,  0.43876269, -2.8383286 ,  1.49011612e-08),\n",
       "       (0.83450967,  0.42169175, -2.83990002,  0.00000000e+00),\n",
       "       (2.39023995,  0.33734053, -2.82801199,  2.98023224e-08),\n",
       "       (1.85323584,  0.27553138, -2.81093884,  0.00000000e+00),\n",
       "       (6.45287943,  0.24912949, -2.65036178,  1.39569998e-01),\n",
       "       (4.64519548,  0.35251591, -2.66784334,  1.39569998e-01),\n",
       "       (1.5468595 ,  0.36536887, -2.63149333,  2.10734243e-08),\n",
       "       (0.89842886,  0.42863068, -2.66564584,  1.39569998e-01),\n",
       "       (0.77060872,  0.43181902, -2.6698885 , -1.05367121e-08)],\n",
       "      dtype=[('pT', '<f8'), ('eta', '<f8'), ('phi', '<f8'), ('mass', '<f8')]),\n",
       "       array([(0.99460959, -1.1102134 , 0.67404842,  1.39569998e-01),\n",
       "       (6.0019908 , -1.01715386, 0.54768401,  9.39570010e-01),\n",
       "       (0.98741752, -0.776838  , 0.57899618,  1.39569998e-01),\n",
       "       (1.61963058, -0.94204098, 0.55713117,  0.00000000e+00),\n",
       "       (4.14160728, -0.93889606, 0.60915875, -8.42936970e-08),\n",
       "       (7.85252857, -0.89518613, 0.74074847,  1.39569998e-01),\n",
       "       (6.04252958, -0.88757044, 0.71782219,  9.38269973e-01)],\n",
       "      dtype=[('pT', '<f8'), ('eta', '<f8'), ('phi', '<f8'), ('mass', '<f8')])],\n",
       "      dtype=object)"
      ]
     },
     "execution_count": 45,
     "metadata": {},
     "output_type": "execute_result"
    }
   ],
   "source": [
    "c"
   ]
  },
  {
   "cell_type": "code",
   "execution_count": 46,
   "metadata": {},
   "outputs": [
    {
     "data": {
      "text/plain": [
       "(0.99460959, -1.1102134, 0.67404842, 0.13957)"
      ]
     },
     "execution_count": 46,
     "metadata": {},
     "output_type": "execute_result"
    }
   ],
   "source": [
    "c[1][0]"
   ]
  },
  {
   "cell_type": "code",
   "execution_count": 47,
   "metadata": {},
   "outputs": [
    {
     "data": {
      "text/plain": [
       "(0.99460959, -1.1102134, 0.67404842, 0.13957)"
      ]
     },
     "execution_count": 47,
     "metadata": {},
     "output_type": "execute_result"
    }
   ],
   "source": [
    "b[0]"
   ]
  },
  {
   "cell_type": "code",
   "execution_count": 48,
   "metadata": {},
   "outputs": [
    {
     "data": {
      "text/plain": [
       "array([0., 0., 0., 0., 0., 0., 0.])"
      ]
     },
     "execution_count": 48,
     "metadata": {},
     "output_type": "execute_result"
    }
   ],
   "source": [
    "c[1]['pT'] - b['pT']"
   ]
  },
  {
   "cell_type": "code",
   "execution_count": 49,
   "metadata": {},
   "outputs": [
    {
     "ename": "IndexError",
     "evalue": "only integers, slices (`:`), ellipsis (`...`), numpy.newaxis (`None`) and integer or boolean arrays are valid indices",
     "output_type": "error",
     "traceback": [
      "\u001b[0;31m---------------------------------------------------------------------------\u001b[0m",
      "\u001b[0;31mIndexError\u001b[0m                                Traceback (most recent call last)",
      "\u001b[0;32m<ipython-input-49-b6867fc6d564>\u001b[0m in \u001b[0;36m<module>\u001b[0;34m\u001b[0m\n\u001b[0;32m----> 1\u001b[0;31m \u001b[0mc\u001b[0m\u001b[0;34m[\u001b[0m\u001b[0;34m'pT'\u001b[0m\u001b[0;34m]\u001b[0m\u001b[0;34m\u001b[0m\u001b[0;34m\u001b[0m\u001b[0m\n\u001b[0m",
      "\u001b[0;31mIndexError\u001b[0m: only integers, slices (`:`), ellipsis (`...`), numpy.newaxis (`None`) and integer or boolean arrays are valid indices"
     ]
    }
   ],
   "source": [
    "c['pT']"
   ]
  },
  {
   "cell_type": "code",
   "execution_count": null,
   "metadata": {},
   "outputs": [],
   "source": []
  }
 ],
 "metadata": {
  "interpreter": {
   "hash": "767d51c1340bd893661ea55ea3124f6de3c7a262a8b4abca0554b478b1e2ff90"
  },
  "kernelspec": {
   "display_name": "Python 3.8.5 64-bit",
   "language": "python",
   "name": "python3"
  },
  "language_info": {
   "codemirror_mode": {
    "name": "ipython",
    "version": 3
   },
   "file_extension": ".py",
   "mimetype": "text/x-python",
   "name": "python",
   "nbconvert_exporter": "python",
   "pygments_lexer": "ipython3",
   "version": "3.8.9"
  },
  "orig_nbformat": 4
 },
 "nbformat": 4,
 "nbformat_minor": 2
}

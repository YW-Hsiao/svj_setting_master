{
 "cells": [
  {
   "cell_type": "markdown",
   "metadata": {},
   "source": [
    "# Test 10: $\\Lambda_d$\n",
    "Calculate dark coupling $\\alpha_d$ which is function of dark-confinement scale."
   ]
  },
  {
   "cell_type": "markdown",
   "metadata": {},
   "source": [
    "## 1. Import Packages"
   ]
  },
  {
   "cell_type": "code",
   "execution_count": 1,
   "metadata": {},
   "outputs": [],
   "source": [
    "# The Python Standard Library\n",
    "import os\n",
    "import sys\n",
    "import time\n",
    "import datetime\n",
    "import glob\n",
    "import multiprocessing as mp\n",
    "\n",
    "# The Third-Party Library\n",
    "import math\n",
    "import numpy as np\n",
    "import pandas as pd\n",
    "import matplotlib.pyplot as plt\n",
    "import tqdm\n",
    "import prettytable\n",
    "import uproot\n",
    "import pyjet\n",
    "import importlib\n",
    "\n",
    "# My Packages\n",
    "import myhep.particle_information_v2 as mypInfo_v2\n",
    "import myhep.analytical_function_v2 as myaFun_v2\n",
    "import myhep.analysis_v3 as myAnal_v3\n",
    "# import myhep.particleinfo_v1 as mypiv1\n",
    "# import myhep.particlefun_v1 as myafv1\n",
    "\n",
    "# increase figure showing resolution\n",
    "%config InlineBackend.figure_format = 'retina'"
   ]
  },
  {
   "cell_type": "markdown",
   "metadata": {},
   "source": [
    "## 2. Dark coupling $\\alpha_d$ of dark-confinement scale $\\Lambda_d$"
   ]
  },
  {
   "cell_type": "code",
   "execution_count": 9,
   "metadata": {},
   "outputs": [
    {
     "name": "stdout",
     "output_type": "stream",
     "text": [
      "Lambda_d =  1.0   alpha_d = 0.152 \n",
      "Lambda_d =  5.0   alpha_d = 0.198 \n",
      "Lambda_d = 10.0   alpha_d = 0.227 \n",
      "Lambda_d = 50.0   alpha_d = 0.350 \n",
      "Lambda_d = 100.0  alpha_d = 0.455 \n",
      "Lambda_d = 120.0  alpha_d = 0.494 \n",
      "Lambda_d = 150.0  alpha_d = 0.552 \n",
      "Lambda_d = 175.0  alpha_d = 0.601 \n",
      "Lambda_d = 200.0  alpha_d = 0.651 \n",
      "Lambda_d = 250.0  alpha_d = 0.755 \n",
      "Lambda_d = 300.0  alpha_d = 0.870 \n",
      "Lambda_d = 350.0  alpha_d = 0.997 \n"
     ]
    }
   ],
   "source": [
    "Lambda_d = [1, 5, 10, 50, 100, 120, 150, 175, 200, 250, 300, 350]\n",
    "b = (11/3)*2 - (2/3)*2\n",
    "for Ld in Lambda_d:\n",
    "    alpha_d = (2 * np.pi)/(b * np.log(1000/Ld))\n",
    "    print(\"Lambda_d = {:^5.1f}  alpha_d = {:^6.3f}\".format(Ld, alpha_d))"
   ]
  },
  {
   "cell_type": "code",
   "execution_count": null,
   "metadata": {},
   "outputs": [],
   "source": []
  }
 ],
 "metadata": {
  "interpreter": {
   "hash": "31f2aee4e71d21fbe5cf8b01ff0e069b9275f58929596ceb00d14d90e3e16cd6"
  },
  "kernelspec": {
   "display_name": "Python 3.8.9 64-bit",
   "language": "python",
   "name": "python3"
  },
  "language_info": {
   "codemirror_mode": {
    "name": "ipython",
    "version": 3
   },
   "file_extension": ".py",
   "mimetype": "text/x-python",
   "name": "python",
   "nbconvert_exporter": "python",
   "pygments_lexer": "ipython3",
   "version": "3.8.5"
  },
  "orig_nbformat": 4
 },
 "nbformat": 4,
 "nbformat_minor": 2
}

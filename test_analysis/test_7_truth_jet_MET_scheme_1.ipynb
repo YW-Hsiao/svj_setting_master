{
 "cells": [
  {
   "cell_type": "markdown",
   "metadata": {},
   "source": [
    "# Test 7: Analyze Truth Jet and MET with Scheme 1\n",
    "Test my analysis function with scheme 1 of truth jet and MET by using SVJ with CKKW-L and without decay data."
   ]
  },
  {
   "cell_type": "markdown",
   "metadata": {},
   "source": [
    "## 1. Import Packages"
   ]
  },
  {
   "cell_type": "code",
   "execution_count": 1,
   "metadata": {},
   "outputs": [],
   "source": [
    "# The Python Standard Library\n",
    "import os\n",
    "import sys\n",
    "import time\n",
    "import datetime\n",
    "import glob\n",
    "import multiprocessing as mp\n",
    "\n",
    "# The Third-Party Library\n",
    "import math\n",
    "import numpy as np\n",
    "import pandas as pd\n",
    "import matplotlib.pyplot as plt\n",
    "import tqdm\n",
    "import prettytable\n",
    "import uproot\n",
    "import pyjet\n",
    "import importlib\n",
    "\n",
    "# My Packages\n",
    "import myhep.particle_information_v2 as mypInfo_v2\n",
    "import myhep.analytical_function_v2 as myaFun_v2\n",
    "import myhep.analysis_v3 as myAnal_v3\n",
    "# import myhep.particleinfo_v1 as mypiv1\n",
    "# import myhep.particlefun_v1 as myafv1\n",
    "\n",
    "# increase figure showing resolution\n",
    "%config InlineBackend.figure_format = 'retina'"
   ]
  },
  {
   "cell_type": "markdown",
   "metadata": {},
   "source": [
    "## 2. Import .root File and Load the Data via class\n",
    "Skip:  \n",
    "2-1. Check the number of events for each branch  \n",
    "2-2. Define mass quantities"
   ]
  },
  {
   "cell_type": "code",
   "execution_count": 2,
   "metadata": {},
   "outputs": [],
   "source": [
    "INPUT_FILE = '/youwei_u3/svj_data_master/scheme_1/root/ckkwl_wo.root'\n",
    "\n",
    "DATA = uproot.open(INPUT_FILE)['Delphes;1']\n",
    "GP = mypInfo_v2.classGenParticle(DATA)\n",
    "Jet = mypInfo_v2.classJet(DATA)\n",
    "Event = mypInfo_v2.classEvent(DATA)"
   ]
  },
  {
   "cell_type": "markdown",
   "metadata": {},
   "source": [
    "## 3. Analyze the Dark Quark Pair in the Parton and Truth Levels\n",
    "Skip"
   ]
  },
  {
   "cell_type": "markdown",
   "metadata": {},
   "source": [
    "## 4. Jet Clustering"
   ]
  },
  {
   "cell_type": "markdown",
   "metadata": {},
   "source": [
    "### 4-1. Select stable final state particles without/with filtering out dark sector"
   ]
  },
  {
   "cell_type": "code",
   "execution_count": 3,
   "metadata": {},
   "outputs": [
    {
     "name": "stdout",
     "output_type": "stream",
     "text": [
      "The PID of dark matter are [51, -51, 53, -53, 4900211, -4900211, 4900213, -4900213].\n",
      "19373 events are stable final state.\n",
      "19373 events are stable final state without DM.\n"
     ]
    }
   ],
   "source": [
    "SFSP_v3, SFSP_filterDM_v3 = myAnal_v3.selectStableFinalStateParticle(\n",
    "    GP, filter=[51, -51, 53, -53, 4900211, -4900211, 4900213, -4900213])"
   ]
  },
  {
   "cell_type": "markdown",
   "metadata": {},
   "source": [
    "### 4-2. Let's do the jet clustering!!"
   ]
  },
  {
   "cell_type": "code",
   "execution_count": 4,
   "metadata": {},
   "outputs": [
    {
     "name": "stdout",
     "output_type": "stream",
     "text": [
      "Done new version\n"
     ]
    }
   ],
   "source": [
    "R, jetClusteringAlgorithm, pTmin_pyjet = 0.4, -1, 0\n",
    "\n",
    "PseudoJet_v3 = myAnal_v3.jetClustering_v1(SFSP_v3, R=R,\n",
    "                                       p=jetClusteringAlgorithm,\n",
    "                                       pTmin=pTmin_pyjet)\n",
    "PseudoJet_filterDM_v3 = myAnal_v3.jetClustering_v1(SFSP_filterDM_v3, R=R,\n",
    "                                                p=jetClusteringAlgorithm,\n",
    "                                                pTmin=pTmin_pyjet)\n",
    "print('Done new version')"
   ]
  },
  {
   "cell_type": "markdown",
   "metadata": {},
   "source": [
    "## 5. Analyze the Jet and MET in the Truth Level"
   ]
  },
  {
   "cell_type": "markdown",
   "metadata": {},
   "source": [
    "### 5-1. Preselection version 1"
   ]
  },
  {
   "cell_type": "code",
   "execution_count": 5,
   "metadata": {},
   "outputs": [
    {
     "name": "stdout",
     "output_type": "stream",
     "text": [
      "19373 events before preselection\n",
      "19373 events after pT preselection\n",
      "19373 events after pT & eta preselections\n",
      "--------------------------------------------------------------------------------\n",
      "0 events without PseudoJet before preselection\n",
      "357 events without PseudoJet after pT preselection\n",
      "519 events without PseudoJet after pT & eta preselections\n"
     ]
    }
   ],
   "source": [
    "presel_bef, presel_pt, presel_pt_eta, presel_idx = myAnal_v3.preselection_v1(PseudoJet_filterDM_v3, pT_min=20, eta_max=2.5)"
   ]
  },
  {
   "cell_type": "markdown",
   "metadata": {},
   "source": [
    "### 5-2. MET"
   ]
  },
  {
   "cell_type": "code",
   "execution_count": 6,
   "metadata": {},
   "outputs": [
    {
     "name": "stdout",
     "output_type": "stream",
     "text": [
      "19373 events in MET data.\n"
     ]
    }
   ],
   "source": [
    "arr_MET, df_MET = myAnal_v3.MET_visParticles_v1(SFSP_filterDM_v3)"
   ]
  },
  {
   "cell_type": "code",
   "execution_count": 7,
   "metadata": {},
   "outputs": [
    {
     "data": {
      "text/plain": [
       "array([(180.36140062,  2.80660527, -170.33591449,  59.29511843),\n",
       "       (158.13608629, -0.31722873,  150.24565215, -49.32814406),\n",
       "       (201.62627625, -0.37612596,  187.53151556, -74.06136607),\n",
       "       (105.30642437,  2.74217592,  -97.01754218,  40.95167303),\n",
       "       (190.59392338,  0.52239787,  165.173503  ,  95.09867262)],\n",
       "      dtype=[('MET', '<f8'), ('phi', '<f8'), ('METx', '<f8'), ('METy', '<f8')])"
      ]
     },
     "execution_count": 7,
     "metadata": {},
     "output_type": "execute_result"
    }
   ],
   "source": [
    "arr_MET[:5]"
   ]
  },
  {
   "cell_type": "code",
   "execution_count": 8,
   "metadata": {},
   "outputs": [
    {
     "data": {
      "text/html": [
       "<div>\n",
       "<style scoped>\n",
       "    .dataframe tbody tr th:only-of-type {\n",
       "        vertical-align: middle;\n",
       "    }\n",
       "\n",
       "    .dataframe tbody tr th {\n",
       "        vertical-align: top;\n",
       "    }\n",
       "\n",
       "    .dataframe thead th {\n",
       "        text-align: right;\n",
       "    }\n",
       "</style>\n",
       "<table border=\"1\" class=\"dataframe\">\n",
       "  <thead>\n",
       "    <tr style=\"text-align: right;\">\n",
       "      <th></th>\n",
       "      <th>MET</th>\n",
       "      <th>phi</th>\n",
       "      <th>METx</th>\n",
       "      <th>METy</th>\n",
       "    </tr>\n",
       "  </thead>\n",
       "  <tbody>\n",
       "    <tr>\n",
       "      <th>0</th>\n",
       "      <td>180.361401</td>\n",
       "      <td>2.806605</td>\n",
       "      <td>-170.335914</td>\n",
       "      <td>59.295118</td>\n",
       "    </tr>\n",
       "    <tr>\n",
       "      <th>1</th>\n",
       "      <td>158.136086</td>\n",
       "      <td>-0.317229</td>\n",
       "      <td>150.245652</td>\n",
       "      <td>-49.328144</td>\n",
       "    </tr>\n",
       "    <tr>\n",
       "      <th>2</th>\n",
       "      <td>201.626276</td>\n",
       "      <td>-0.376126</td>\n",
       "      <td>187.531516</td>\n",
       "      <td>-74.061366</td>\n",
       "    </tr>\n",
       "    <tr>\n",
       "      <th>3</th>\n",
       "      <td>105.306424</td>\n",
       "      <td>2.742176</td>\n",
       "      <td>-97.017542</td>\n",
       "      <td>40.951673</td>\n",
       "    </tr>\n",
       "    <tr>\n",
       "      <th>4</th>\n",
       "      <td>190.593923</td>\n",
       "      <td>0.522398</td>\n",
       "      <td>165.173503</td>\n",
       "      <td>95.098673</td>\n",
       "    </tr>\n",
       "  </tbody>\n",
       "</table>\n",
       "</div>"
      ],
      "text/plain": [
       "          MET       phi        METx       METy\n",
       "0  180.361401  2.806605 -170.335914  59.295118\n",
       "1  158.136086 -0.317229  150.245652 -49.328144\n",
       "2  201.626276 -0.376126  187.531516 -74.061366\n",
       "3  105.306424  2.742176  -97.017542  40.951673\n",
       "4  190.593923  0.522398  165.173503  95.098673"
      ]
     },
     "execution_count": 8,
     "metadata": {},
     "output_type": "execute_result"
    }
   ],
   "source": [
    "df_MET.head()"
   ]
  },
  {
   "cell_type": "markdown",
   "metadata": {},
   "source": [
    "### 5-3. Analyze truth jet and MET with scheme 1 and version 1\n",
    "The 4-vector of top 3 jets and $\\vec{E}_T^\\mathrm{miss}$ vector are given by\n",
    "\\begin{align}\n",
    "    j_1^\\mu &= (E_1,\\ p_{x,1},\\ p_{y,1},\\ p_{z,1}) \\\\\n",
    "    j_2^\\mu &= (E_2,\\ p_{x,2},\\ p_{y,2},\\ p_{z,2}) \\\\\n",
    "    j_3^\\mu &= (E_3,\\ p_{x,3},\\ p_{y,3},\\ p_{z,3}) \\\\\n",
    "    \\vec{E}_T^\\mathrm{miss} &= (\\mathrm{MET},\\ \\mathrm{MET}_x,\\ \\mathrm{MET}_y,\\ \\mathrm{MET}_z = 0) \\to\\text{This is not 4-vector.}\n",
    "\\end{align}\n",
    "Calculate 4-vectors of dijet and trijet:\n",
    "\\begin{align}\n",
    "    jj^\\mu &= \\big(E(jj),\\ p_x(jj),\\ p_y(jj),\\ p_z(jj)\\big) = (E_1+E_2,\\ p_{x,1}+p_{x,2},\\ p_{y,1}+p_{y,2},\\ p_{z,1}+p_{z,2}) \\\\\n",
    "    jjj^\\mu &= \\big(E(jjj),\\ p_x(jjj),\\ p_y(jjj),\\ p_z(jjj)\\big) =\n",
    "    (E_1+E_2+E_3,\\ p_{x,1}+p_{x,2}+p_{x,3},\\ p_{y,1}+p_{y,2}+p_{y,3},\\ p_{z,1}+p_{z,2}+p_{z,3})\n",
    "\\end{align}\n",
    "The transverse mass $M_T(\\mathrm{jets}, \\mathrm{MET})$ is given by\n",
    "\\begin{align}\n",
    "    M_T^2(jj,\\vec{E}_T^\\mathrm{miss}) = [E_T(jj) + \\mathrm{MET}]^2 - [p_x(jj) + \\mathrm{MET}_x]^2 - [p_y(jj) + \\mathrm{MET}_y]^2\n",
    "\\end{align}\n",
    "where\n",
    "\\begin{align}\n",
    "    E_T^2(jj) = m^2(jj) + p_T^2(jj)\n",
    "\\end{align}"
   ]
  },
  {
   "cell_type": "code",
   "execution_count": 9,
   "metadata": {},
   "outputs": [],
   "source": [
    "df_jj_MET, df_jjj_MET = myAnal_v3.analyze_truthJet_MET_scheme1_v1(presel_pt_eta, arr_MET)"
   ]
  },
  {
   "cell_type": "code",
   "execution_count": 10,
   "metadata": {},
   "outputs": [
    {
     "data": {
      "text/html": [
       "<div>\n",
       "<style scoped>\n",
       "    .dataframe tbody tr th:only-of-type {\n",
       "        vertical-align: middle;\n",
       "    }\n",
       "\n",
       "    .dataframe tbody tr th {\n",
       "        vertical-align: top;\n",
       "    }\n",
       "\n",
       "    .dataframe thead th {\n",
       "        text-align: right;\n",
       "    }\n",
       "</style>\n",
       "<table border=\"1\" class=\"dataframe\">\n",
       "  <thead>\n",
       "    <tr style=\"text-align: right;\">\n",
       "      <th></th>\n",
       "      <th>MT_jj_MET</th>\n",
       "      <th>Dphi_jj_MET</th>\n",
       "      <th>Dphi_j1_MET</th>\n",
       "      <th>Dphi_j2_MET</th>\n",
       "      <th>min_Dphi_j_MET</th>\n",
       "      <th>selected</th>\n",
       "    </tr>\n",
       "  </thead>\n",
       "  <tbody>\n",
       "    <tr>\n",
       "      <th>0</th>\n",
       "      <td>362.830698</td>\n",
       "      <td>3.139757</td>\n",
       "      <td>3.052305</td>\n",
       "      <td>2.724209</td>\n",
       "      <td>2.724209</td>\n",
       "      <td>0.0</td>\n",
       "    </tr>\n",
       "    <tr>\n",
       "      <th>1</th>\n",
       "      <td>468.548803</td>\n",
       "      <td>2.519317</td>\n",
       "      <td>1.770399</td>\n",
       "      <td>2.603022</td>\n",
       "      <td>1.769629</td>\n",
       "      <td>1.0</td>\n",
       "    </tr>\n",
       "    <tr>\n",
       "      <th>2</th>\n",
       "      <td>509.241834</td>\n",
       "      <td>3.021533</td>\n",
       "      <td>2.887976</td>\n",
       "      <td>2.955023</td>\n",
       "      <td>0.096783</td>\n",
       "      <td>4.0</td>\n",
       "    </tr>\n",
       "    <tr>\n",
       "      <th>3</th>\n",
       "      <td>745.457867</td>\n",
       "      <td>2.406662</td>\n",
       "      <td>2.298874</td>\n",
       "      <td>0.989178</td>\n",
       "      <td>0.273139</td>\n",
       "      <td>5.0</td>\n",
       "    </tr>\n",
       "    <tr>\n",
       "      <th>4</th>\n",
       "      <td>273.625077</td>\n",
       "      <td>2.908264</td>\n",
       "      <td>3.086091</td>\n",
       "      <td>2.719188</td>\n",
       "      <td>0.724000</td>\n",
       "      <td>7.0</td>\n",
       "    </tr>\n",
       "    <tr>\n",
       "      <th>...</th>\n",
       "      <td>...</td>\n",
       "      <td>...</td>\n",
       "      <td>...</td>\n",
       "      <td>...</td>\n",
       "      <td>...</td>\n",
       "      <td>...</td>\n",
       "    </tr>\n",
       "    <tr>\n",
       "      <th>16747</th>\n",
       "      <td>1110.778285</td>\n",
       "      <td>3.117308</td>\n",
       "      <td>3.139996</td>\n",
       "      <td>2.621158</td>\n",
       "      <td>2.621158</td>\n",
       "      <td>19367.0</td>\n",
       "    </tr>\n",
       "    <tr>\n",
       "      <th>16748</th>\n",
       "      <td>873.863409</td>\n",
       "      <td>3.074515</td>\n",
       "      <td>2.647485</td>\n",
       "      <td>1.704960</td>\n",
       "      <td>0.026529</td>\n",
       "      <td>19369.0</td>\n",
       "    </tr>\n",
       "    <tr>\n",
       "      <th>16749</th>\n",
       "      <td>1165.460014</td>\n",
       "      <td>1.471860</td>\n",
       "      <td>2.494809</td>\n",
       "      <td>0.300742</td>\n",
       "      <td>0.300742</td>\n",
       "      <td>19370.0</td>\n",
       "    </tr>\n",
       "    <tr>\n",
       "      <th>16750</th>\n",
       "      <td>145.967120</td>\n",
       "      <td>2.105484</td>\n",
       "      <td>2.656224</td>\n",
       "      <td>1.486128</td>\n",
       "      <td>1.076084</td>\n",
       "      <td>19371.0</td>\n",
       "    </tr>\n",
       "    <tr>\n",
       "      <th>16751</th>\n",
       "      <td>1199.377811</td>\n",
       "      <td>2.927436</td>\n",
       "      <td>2.988545</td>\n",
       "      <td>0.071714</td>\n",
       "      <td>0.071714</td>\n",
       "      <td>19372.0</td>\n",
       "    </tr>\n",
       "  </tbody>\n",
       "</table>\n",
       "<p>16752 rows × 6 columns</p>\n",
       "</div>"
      ],
      "text/plain": [
       "         MT_jj_MET  Dphi_jj_MET  Dphi_j1_MET  Dphi_j2_MET  min_Dphi_j_MET  \\\n",
       "0       362.830698     3.139757     3.052305     2.724209        2.724209   \n",
       "1       468.548803     2.519317     1.770399     2.603022        1.769629   \n",
       "2       509.241834     3.021533     2.887976     2.955023        0.096783   \n",
       "3       745.457867     2.406662     2.298874     0.989178        0.273139   \n",
       "4       273.625077     2.908264     3.086091     2.719188        0.724000   \n",
       "...            ...          ...          ...          ...             ...   \n",
       "16747  1110.778285     3.117308     3.139996     2.621158        2.621158   \n",
       "16748   873.863409     3.074515     2.647485     1.704960        0.026529   \n",
       "16749  1165.460014     1.471860     2.494809     0.300742        0.300742   \n",
       "16750   145.967120     2.105484     2.656224     1.486128        1.076084   \n",
       "16751  1199.377811     2.927436     2.988545     0.071714        0.071714   \n",
       "\n",
       "       selected  \n",
       "0           0.0  \n",
       "1           1.0  \n",
       "2           4.0  \n",
       "3           5.0  \n",
       "4           7.0  \n",
       "...         ...  \n",
       "16747   19367.0  \n",
       "16748   19369.0  \n",
       "16749   19370.0  \n",
       "16750   19371.0  \n",
       "16751   19372.0  \n",
       "\n",
       "[16752 rows x 6 columns]"
      ]
     },
     "execution_count": 10,
     "metadata": {},
     "output_type": "execute_result"
    }
   ],
   "source": [
    "df_jj_MET"
   ]
  },
  {
   "cell_type": "code",
   "execution_count": 11,
   "metadata": {},
   "outputs": [
    {
     "data": {
      "text/html": [
       "<div>\n",
       "<style scoped>\n",
       "    .dataframe tbody tr th:only-of-type {\n",
       "        vertical-align: middle;\n",
       "    }\n",
       "\n",
       "    .dataframe tbody tr th {\n",
       "        vertical-align: top;\n",
       "    }\n",
       "\n",
       "    .dataframe thead th {\n",
       "        text-align: right;\n",
       "    }\n",
       "</style>\n",
       "<table border=\"1\" class=\"dataframe\">\n",
       "  <thead>\n",
       "    <tr style=\"text-align: right;\">\n",
       "      <th></th>\n",
       "      <th>MT_jjj_MET</th>\n",
       "      <th>Dphi_jjj_MET</th>\n",
       "      <th>Dphi_j1_MET</th>\n",
       "      <th>Dphi_j2_MET</th>\n",
       "      <th>Dphi_j3_MET</th>\n",
       "      <th>min_Dphi_j_MET</th>\n",
       "      <th>selected</th>\n",
       "    </tr>\n",
       "  </thead>\n",
       "  <tbody>\n",
       "    <tr>\n",
       "      <th>0</th>\n",
       "      <td>628.598105</td>\n",
       "      <td>3.109111</td>\n",
       "      <td>1.770399</td>\n",
       "      <td>2.603022</td>\n",
       "      <td>1.769629</td>\n",
       "      <td>1.769629</td>\n",
       "      <td>1.0</td>\n",
       "    </tr>\n",
       "    <tr>\n",
       "      <th>1</th>\n",
       "      <td>589.947743</td>\n",
       "      <td>3.015251</td>\n",
       "      <td>2.887976</td>\n",
       "      <td>2.955023</td>\n",
       "      <td>0.096783</td>\n",
       "      <td>0.096783</td>\n",
       "      <td>4.0</td>\n",
       "    </tr>\n",
       "    <tr>\n",
       "      <th>2</th>\n",
       "      <td>993.492687</td>\n",
       "      <td>2.870788</td>\n",
       "      <td>2.298874</td>\n",
       "      <td>0.989178</td>\n",
       "      <td>1.772532</td>\n",
       "      <td>0.273139</td>\n",
       "      <td>5.0</td>\n",
       "    </tr>\n",
       "  </tbody>\n",
       "</table>\n",
       "</div>"
      ],
      "text/plain": [
       "   MT_jjj_MET  Dphi_jjj_MET  Dphi_j1_MET  Dphi_j2_MET  Dphi_j3_MET  \\\n",
       "0  628.598105      3.109111     1.770399     2.603022     1.769629   \n",
       "1  589.947743      3.015251     2.887976     2.955023     0.096783   \n",
       "2  993.492687      2.870788     2.298874     0.989178     1.772532   \n",
       "\n",
       "   min_Dphi_j_MET  selected  \n",
       "0        1.769629       1.0  \n",
       "1        0.096783       4.0  \n",
       "2        0.273139       5.0  "
      ]
     },
     "execution_count": 11,
     "metadata": {},
     "output_type": "execute_result"
    }
   ],
   "source": [
    "df_jjj_MET.head(3)"
   ]
  },
  {
   "cell_type": "markdown",
   "metadata": {},
   "source": [
    "## 6. Test"
   ]
  },
  {
   "cell_type": "code",
   "execution_count": 12,
   "metadata": {},
   "outputs": [
    {
     "name": "stdout",
     "output_type": "stream",
     "text": [
      "x =  [1 2 3 4 5]\n",
      "y =  [9 8 7 6 5]\n",
      "y<8 =  [7 6 5]\n"
     ]
    },
    {
     "data": {
      "text/plain": [
       "array([ 9,  8, 17, 16, 15])"
      ]
     },
     "execution_count": 12,
     "metadata": {},
     "output_type": "execute_result"
    }
   ],
   "source": [
    "x = np.array([1, 2, 3, 4, 5])\n",
    "print(\"x = \", x)\n",
    "y = abs(x - 10)\n",
    "print(\"y = \", y)\n",
    "print(\"y<8 = \", y[y < 8])\n",
    "y[y < 8] = 10 + y[y < 8]\n",
    "y"
   ]
  },
  {
   "cell_type": "code",
   "execution_count": 13,
   "metadata": {},
   "outputs": [
    {
     "data": {
      "text/plain": [
       "array([ 9,  8, 17, 16])"
      ]
     },
     "execution_count": 13,
     "metadata": {},
     "output_type": "execute_result"
    }
   ],
   "source": [
    "y[:4]"
   ]
  },
  {
   "cell_type": "code",
   "execution_count": 14,
   "metadata": {},
   "outputs": [
    {
     "data": {
      "text/plain": [
       "8"
      ]
     },
     "execution_count": 14,
     "metadata": {},
     "output_type": "execute_result"
    }
   ],
   "source": [
    "np.min(y[:4])"
   ]
  },
  {
   "cell_type": "code",
   "execution_count": 15,
   "metadata": {},
   "outputs": [
    {
     "data": {
      "text/plain": [
       "array([2, 1])"
      ]
     },
     "execution_count": 15,
     "metadata": {},
     "output_type": "execute_result"
    }
   ],
   "source": [
    "x = np.array([2, 1])\n",
    "x"
   ]
  },
  {
   "cell_type": "code",
   "execution_count": 16,
   "metadata": {},
   "outputs": [
    {
     "data": {
      "text/plain": [
       "array([2, 1])"
      ]
     },
     "execution_count": 16,
     "metadata": {},
     "output_type": "execute_result"
    }
   ],
   "source": [
    "x[:4]"
   ]
  },
  {
   "cell_type": "code",
   "execution_count": 17,
   "metadata": {},
   "outputs": [
    {
     "data": {
      "text/plain": [
       "1"
      ]
     },
     "execution_count": 17,
     "metadata": {},
     "output_type": "execute_result"
    }
   ],
   "source": [
    "np.min(x[:4])"
   ]
  },
  {
   "cell_type": "code",
   "execution_count": 18,
   "metadata": {},
   "outputs": [
    {
     "data": {
      "text/plain": [
       "array([1, 2, 3, 4, 5, 6, 7])"
      ]
     },
     "execution_count": 18,
     "metadata": {},
     "output_type": "execute_result"
    }
   ],
   "source": [
    "x = np.array([1, 2, 3, 4, 5, 6, 7])\n",
    "x"
   ]
  },
  {
   "cell_type": "code",
   "execution_count": 19,
   "metadata": {},
   "outputs": [
    {
     "data": {
      "text/plain": [
       "array([1, 2, 3])"
      ]
     },
     "execution_count": 19,
     "metadata": {},
     "output_type": "execute_result"
    }
   ],
   "source": [
    "x[:3]"
   ]
  },
  {
   "cell_type": "code",
   "execution_count": 20,
   "metadata": {},
   "outputs": [
    {
     "data": {
      "text/plain": [
       "6"
      ]
     },
     "execution_count": 20,
     "metadata": {},
     "output_type": "execute_result"
    }
   ],
   "source": [
    "np.sum(x[:3])"
   ]
  },
  {
   "cell_type": "code",
   "execution_count": null,
   "metadata": {},
   "outputs": [],
   "source": []
  }
 ],
 "metadata": {
  "interpreter": {
   "hash": "31f2aee4e71d21fbe5cf8b01ff0e069b9275f58929596ceb00d14d90e3e16cd6"
  },
  "kernelspec": {
   "display_name": "Python 3.8.9 64-bit",
   "language": "python",
   "name": "python3"
  },
  "language_info": {
   "codemirror_mode": {
    "name": "ipython",
    "version": 3
   },
   "file_extension": ".py",
   "mimetype": "text/x-python",
   "name": "python",
   "nbconvert_exporter": "python",
   "pygments_lexer": "ipython3",
   "version": "3.8.5"
  },
  "orig_nbformat": 4
 },
 "nbformat": 4,
 "nbformat_minor": 2
}

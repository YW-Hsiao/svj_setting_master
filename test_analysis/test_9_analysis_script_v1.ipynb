{
 "cells": [
  {
   "cell_type": "markdown",
   "metadata": {},
   "source": [
    "# Test 9: Analysis Script Version 1\n",
    "Test my analysis `analysis_script_v1.py` by using SVJ with CKKW-L and without decay data."
   ]
  },
  {
   "cell_type": "markdown",
   "metadata": {},
   "source": [
    "## 1. Import Packages"
   ]
  },
  {
   "cell_type": "code",
   "execution_count": 1,
   "metadata": {},
   "outputs": [],
   "source": [
    "# The Python Standard Library\n",
    "import os\n",
    "import sys\n",
    "import time\n",
    "import datetime\n",
    "import glob\n",
    "import multiprocessing as mp\n",
    "\n",
    "# The Third-Party Library\n",
    "import math\n",
    "import numpy as np\n",
    "import pandas as pd\n",
    "import matplotlib.pyplot as plt\n",
    "import tqdm\n",
    "import prettytable\n",
    "import uproot\n",
    "import pyjet\n",
    "import importlib\n",
    "\n",
    "# My Packages\n",
    "import myhep.particle_information_v2 as mypInfo_v2\n",
    "import myhep.analytical_function_v2 as myaFun_v2\n",
    "import myhep.analysis_v3 as myAnal_v3\n",
    "# import myhep.particleinfo_v1 as mypiv1\n",
    "# import myhep.particlefun_v1 as myafv1\n",
    "\n",
    "# increase figure showing resolution\n",
    "%config InlineBackend.figure_format = 'retina'"
   ]
  },
  {
   "cell_type": "markdown",
   "metadata": {},
   "source": [
    "## 2. Import .root File and Load the Data via class\n",
    "Skip:  \n",
    "2-1. Check the number of events for each branch  \n",
    "2-2. Define mass quantities"
   ]
  },
  {
   "cell_type": "code",
   "execution_count": 2,
   "metadata": {},
   "outputs": [],
   "source": [
    "INPUT_FILE = '/youwei_u3/svj_data_master/scheme_1/root/ckkwl_wo.root'\n",
    "\n",
    "DATA = uproot.open(INPUT_FILE)['Delphes;1']\n",
    "GP = mypInfo_v2.classGenParticle(DATA)\n",
    "Jet = mypInfo_v2.classJet(DATA)\n",
    "Event = mypInfo_v2.classEvent(DATA)"
   ]
  },
  {
   "cell_type": "markdown",
   "metadata": {},
   "source": [
    "## 3. Analyze the Dark Quark Pair in the Parton and Truth Levels"
   ]
  },
  {
   "cell_type": "code",
   "execution_count": 3,
   "metadata": {},
   "outputs": [
    {
     "name": "stdout",
     "output_type": "stream",
     "text": [
      "For status = 23, all events only include 2 particles.\n",
      "For status = 71, all events only include 2 particles.\n"
     ]
    }
   ],
   "source": [
    "df_xdxdx_23_v3 = myAnal_v3.analyze_xdxdx(GP, status=23)\n",
    "df_xdxdx_71_v3 = myAnal_v3.analyze_xdxdx(GP, status=71)"
   ]
  },
  {
   "cell_type": "markdown",
   "metadata": {},
   "source": [
    "## 4. Jet Clustering"
   ]
  },
  {
   "cell_type": "markdown",
   "metadata": {},
   "source": [
    "### 4-1. Select stable final state particles without/with filtering out dark sector"
   ]
  },
  {
   "cell_type": "code",
   "execution_count": 4,
   "metadata": {},
   "outputs": [
    {
     "name": "stdout",
     "output_type": "stream",
     "text": [
      "The PID of dark matter are [51, -51, 53, -53, 4900211, -4900211, 4900213, -4900213].\n",
      "19373 events are stable final state.\n",
      "19373 events are stable final state without DM.\n"
     ]
    }
   ],
   "source": [
    "SFSP_v3, SFSP_filterDM_v3 = myAnal_v3.selectStableFinalStateParticle(\n",
    "    GP, filter=[51, -51, 53, -53, 4900211, -4900211, 4900213, -4900213])"
   ]
  },
  {
   "cell_type": "markdown",
   "metadata": {},
   "source": [
    "### 4-2. Let's do the jet clustering!!"
   ]
  },
  {
   "cell_type": "code",
   "execution_count": 5,
   "metadata": {},
   "outputs": [
    {
     "name": "stdout",
     "output_type": "stream",
     "text": [
      "Done new version\n"
     ]
    }
   ],
   "source": [
    "R, jetClusteringAlgorithm, pTmin_pyjet = 0.4, -1, 0\n",
    "\n",
    "PseudoJet_v3 = myAnal_v3.jetClustering_v1(SFSP_v3, R=R,\n",
    "                                       p=jetClusteringAlgorithm,\n",
    "                                       pTmin=pTmin_pyjet)\n",
    "PseudoJet_filterDM_v3 = myAnal_v3.jetClustering_v1(SFSP_filterDM_v3, R=R,\n",
    "                                                p=jetClusteringAlgorithm,\n",
    "                                                pTmin=pTmin_pyjet)\n",
    "print('Done new version')"
   ]
  },
  {
   "cell_type": "markdown",
   "metadata": {},
   "source": [
    "## 5. Analyze the Jet in the Truth Level"
   ]
  },
  {
   "cell_type": "markdown",
   "metadata": {},
   "source": [
    "### 5-1. Preselection version 1"
   ]
  },
  {
   "cell_type": "code",
   "execution_count": 6,
   "metadata": {},
   "outputs": [
    {
     "name": "stdout",
     "output_type": "stream",
     "text": [
      "19373 events before preselection\n",
      "19373 events after pT preselection\n",
      "19373 events after pT & eta preselections\n",
      "--------------------------------------------------------------------------------\n",
      "0 events without PseudoJet before preselection\n",
      "357 events without PseudoJet after pT preselection\n",
      "519 events without PseudoJet after pT & eta preselections\n"
     ]
    }
   ],
   "source": [
    "presel_bef, presel_pt, presel_pt_eta, presel_idx = myAnal_v3.preselection_v1(PseudoJet_filterDM_v3, pT_min=20, eta_max=2.5)"
   ]
  },
  {
   "cell_type": "markdown",
   "metadata": {},
   "source": [
    "### 5-2. MET"
   ]
  },
  {
   "cell_type": "code",
   "execution_count": 7,
   "metadata": {},
   "outputs": [
    {
     "name": "stdout",
     "output_type": "stream",
     "text": [
      "19373 events in MET data.\n"
     ]
    }
   ],
   "source": [
    "arr_MET, df_MET = myAnal_v3.MET_visParticles_v1(SFSP_filterDM_v3)"
   ]
  },
  {
   "cell_type": "markdown",
   "metadata": {},
   "source": [
    "### 5-3. Analyze truth jet with scheme 1 and version 2"
   ]
  },
  {
   "cell_type": "code",
   "execution_count": 8,
   "metadata": {},
   "outputs": [
    {
     "name": "stdout",
     "output_type": "stream",
     "text": [
      "19373 events in the array of number of jets.\n",
      "16752 selected events and 10 observables in dijet.\n",
      "12771 selected events and 10 observables in trijet.\n"
     ]
    }
   ],
   "source": [
    "N_jet_v2, jj_v2, jjj_v2 = myAnal_v3.analyze_truthJet_scheme1_v2(presel_pt_eta)"
   ]
  },
  {
   "cell_type": "markdown",
   "metadata": {},
   "source": [
    "### 5-4. Analyze truth jet and MET with scheme 1 and version 1"
   ]
  },
  {
   "cell_type": "code",
   "execution_count": 9,
   "metadata": {},
   "outputs": [],
   "source": [
    "df_jj_MET, df_jjj_MET = myAnal_v3.analyze_truthJet_MET_scheme1_v1(presel_pt_eta, arr_MET)"
   ]
  },
  {
   "cell_type": "markdown",
   "metadata": {},
   "source": [
    "## 6. Event Weight"
   ]
  },
  {
   "cell_type": "code",
   "execution_count": 10,
   "metadata": {},
   "outputs": [
    {
     "data": {
      "text/plain": [
       "array([2.7949634e-14, 2.7949634e-14, 4.1366087e-14, ..., 3.5438452e-14,\n",
       "       2.7949634e-14, 2.7949634e-14], dtype=float32)"
      ]
     },
     "execution_count": 10,
     "metadata": {},
     "output_type": "execute_result"
    }
   ],
   "source": [
    "# method 1\n",
    "weight_1 = np.array(Event.Weight)\n",
    "\n",
    "# method 2\n",
    "_weight = []\n",
    "for i in range(Event.length):\n",
    "    _weight.append(Event.Weight[i][0])\n",
    "\n",
    "weight_2 = np.array(_weight)\n",
    "weight_2"
   ]
  },
  {
   "cell_type": "markdown",
   "metadata": {},
   "source": [
    "## 7. Check Output Data\n",
    "I want to check my output data from analysis script is consistent with these."
   ]
  },
  {
   "cell_type": "markdown",
   "metadata": {},
   "source": [
    "### 7-1. Prepare output data"
   ]
  },
  {
   "cell_type": "code",
   "execution_count": 37,
   "metadata": {},
   "outputs": [],
   "source": [
    "path_data = '/youwei_u3/svj_data_master/scheme_1/analysis_script_v1/'\n",
    "\n",
    "status23 = pd.read_csv(path_data + 'status23_rinv3_Lambdad5_ckkwl_wo.csv')\n",
    "status71 = pd.read_csv(path_data + 'status71_rinv3_Lambdad5_ckkwl_wo.csv')\n",
    "MET = pd.read_csv(path_data + 'met_rinv3_Lambdad5_ckkwl_wo.csv')\n",
    "N_jet = pd.read_csv(path_data + 'n_jet_rinv3_Lambdad5_ckkwl_wo.csv')\n",
    "jj = pd.read_csv(path_data + 'jj_rinv3_Lambdad5_ckkwl_wo.csv')\n",
    "jjj = pd.read_csv(path_data + 'jjj_rinv3_Lambdad5_ckkwl_wo.csv')\n",
    "jj_MET = pd.read_csv(path_data + 'jj_met_rinv3_Lambdad5_ckkwl_wo.csv')\n",
    "jjj_MET = pd.read_csv(path_data + 'jjj_met_rinv3_Lambdad5_ckkwl_wo.csv')\n",
    "weight = np.load(path_data + 'weight_rinv3_Lambdad5_ckkwl_wo.npz', allow_pickle=True)"
   ]
  },
  {
   "cell_type": "code",
   "execution_count": 41,
   "metadata": {},
   "outputs": [
    {
     "name": "stdout",
     "output_type": "stream",
     "text": [
      "Status = 23: 4.302854866709187e-11\n",
      "Status = 71: 4.963466696840651e-11\n",
      "MET        : 7.382606235050089e-12\n",
      "N_jet      : 0\n",
      "jj         : 6.712607531454695e-11\n",
      "jjj        : 6.183584169065868e-11\n",
      "jj & MET   : 2.0752002855239883e-11\n",
      "jjj & MET  : -3.544679395112941e-12\n",
      "weight 1   : [0.]\n",
      "weight 2   : 0.0\n"
     ]
    }
   ],
   "source": [
    "# check status = 23 & 71\n",
    "check_23 = np.sum(status23.to_numpy() - df_xdxdx_23_v3.to_numpy())\n",
    "check_71 = np.sum(status71.to_numpy() - df_xdxdx_71_v3.to_numpy())\n",
    "# check MET and N_jet\n",
    "check_met = np.sum(MET.to_numpy() - df_MET.to_numpy())\n",
    "check_n_jet = np.sum(N_jet.to_numpy() - N_jet_v2.to_numpy())\n",
    "# check jj and jjj\n",
    "check_jj = np.sum(jj.to_numpy() - jj_v2.to_numpy())\n",
    "check_jjj = np.sum(jjj.to_numpy() - jjj_v2.to_numpy())\n",
    "# check jj and jjj with MET\n",
    "check_jj_met = np.sum(jj_MET.to_numpy() - df_jj_MET.to_numpy())\n",
    "check_jjj_met = np.sum(jjj_MET.to_numpy() - df_jjj_MET.to_numpy())\n",
    "# check weight\n",
    "check_weight_1 = np.sum(weight['weight_1'] - weight_1)\n",
    "check_weight_2 = np.sum(weight['weight_2'] - weight_2)\n",
    "\n",
    "print(f\"Status = 23: {check_23}\")\n",
    "print(f\"Status = 71: {check_71}\")\n",
    "print(f\"MET        : {check_met}\")\n",
    "print(f\"N_jet      : {check_n_jet}\")\n",
    "print(f\"jj         : {check_jj}\")\n",
    "print(f\"jjj        : {check_jjj}\")\n",
    "print(f\"jj & MET   : {check_jj_met}\")\n",
    "print(f\"jjj & MET  : {check_jjj_met}\")\n",
    "print(f\"weight 1   : {check_weight_1}\")\n",
    "print(f\"weight 2   : {check_weight_2}\")"
   ]
  },
  {
   "cell_type": "markdown",
   "metadata": {},
   "source": [
    "##### Conclusion: I think the output data is very close to these data."
   ]
  },
  {
   "cell_type": "code",
   "execution_count": 46,
   "metadata": {},
   "outputs": [
    {
     "data": {
      "text/plain": [
       "MET     float64\n",
       "phi     float64\n",
       "METx    float64\n",
       "METy    float64\n",
       "dtype: object"
      ]
     },
     "execution_count": 46,
     "metadata": {},
     "output_type": "execute_result"
    }
   ],
   "source": [
    "df_MET.dtypes"
   ]
  },
  {
   "cell_type": "code",
   "execution_count": 47,
   "metadata": {},
   "outputs": [
    {
     "data": {
      "text/plain": [
       "MET     float64\n",
       "phi     float64\n",
       "METx    float64\n",
       "METy    float64\n",
       "dtype: object"
      ]
     },
     "execution_count": 47,
     "metadata": {},
     "output_type": "execute_result"
    }
   ],
   "source": [
    "MET.dtypes"
   ]
  },
  {
   "cell_type": "code",
   "execution_count": null,
   "metadata": {},
   "outputs": [],
   "source": []
  }
 ],
 "metadata": {
  "interpreter": {
   "hash": "31f2aee4e71d21fbe5cf8b01ff0e069b9275f58929596ceb00d14d90e3e16cd6"
  },
  "kernelspec": {
   "display_name": "Python 3.8.9 64-bit",
   "language": "python",
   "name": "python3"
  },
  "language_info": {
   "codemirror_mode": {
    "name": "ipython",
    "version": 3
   },
   "file_extension": ".py",
   "mimetype": "text/x-python",
   "name": "python",
   "nbconvert_exporter": "python",
   "pygments_lexer": "ipython3",
   "version": "3.8.5"
  },
  "orig_nbformat": 4
 },
 "nbformat": 4,
 "nbformat_minor": 2
}

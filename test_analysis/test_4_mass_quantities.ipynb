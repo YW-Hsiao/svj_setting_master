{
 "cells": [
  {
   "cell_type": "markdown",
   "metadata": {},
   "source": [
    "# Test 4: Mass Quantities\n",
    "Just test my mass quantity functions by using SVJ with CKKW-L and without decay data."
   ]
  },
  {
   "cell_type": "markdown",
   "metadata": {},
   "source": [
    "## 1. Import Packages"
   ]
  },
  {
   "cell_type": "code",
   "execution_count": 1,
   "metadata": {},
   "outputs": [],
   "source": [
    "# The Python Standard Library\n",
    "import os\n",
    "import sys\n",
    "import time\n",
    "import datetime\n",
    "import glob\n",
    "import multiprocessing as mp\n",
    "\n",
    "# The Third-Party Library\n",
    "import math\n",
    "import numpy as np\n",
    "import pandas as pd\n",
    "import matplotlib.pyplot as plt\n",
    "import tqdm\n",
    "import prettytable\n",
    "import uproot\n",
    "import pyjet\n",
    "import importlib\n",
    "\n",
    "# My Packages\n",
    "import myhep.particle_information_v2 as mypInfo_v2\n",
    "import myhep.analytical_function_v2 as myaFun_v2\n",
    "import myhep.analysis_v3 as myAnal_v3\n",
    "# import myhep.particleinfo_v1 as mypiv1\n",
    "# import myhep.particlefun_v1 as myafv1\n",
    "\n",
    "# increase figure showing resolution\n",
    "%config InlineBackend.figure_format = 'retina'"
   ]
  },
  {
   "cell_type": "markdown",
   "metadata": {},
   "source": [
    "## 2. Import .root File and Load the Data via class"
   ]
  },
  {
   "cell_type": "code",
   "execution_count": 2,
   "metadata": {},
   "outputs": [],
   "source": [
    "INPUT_FILE = '/youwei_u3/svj_data_master/scheme_1/root/ckkwl_wo.root'\n",
    "\n",
    "DATA = uproot.open(INPUT_FILE)['Delphes;1']\n",
    "GP = mypInfo_v2.classGenParticle(DATA)\n",
    "Jet = mypInfo_v2.classJet(DATA)\n",
    "Event = mypInfo_v2.classEvent(DATA)"
   ]
  },
  {
   "cell_type": "markdown",
   "metadata": {},
   "source": [
    "### 2-1. Check the number of events for each branch\n",
    "Skip this step, since I already checked many times."
   ]
  },
  {
   "cell_type": "markdown",
   "metadata": {},
   "source": [
    "### 2-2. Define mass quantities of 2 objects"
   ]
  },
  {
   "cell_type": "code",
   "execution_count": 3,
   "metadata": {},
   "outputs": [],
   "source": [
    "# 2-1. Mass quantities of two objects\n",
    "# A. Invariant mass M\n",
    "def M(m1, pt1, eta1, phi1, m2, pt2, eta2, phi2):\n",
    "    px1, py1, pz1 = pt1*np.cos(phi1), pt1 * \\\n",
    "        np.sin(phi1), np.sqrt(m1**2+pt1**2)*np.sinh(eta1)\n",
    "    e1 = np.sqrt(m1**2 + px1**2 + py1**2 + pz1**2)\n",
    "    px2, py2, pz2 = pt2*np.cos(phi2), pt2 * \\\n",
    "        np.sin(phi2), np.sqrt(m2**2+pt2**2)*np.sinh(eta2)\n",
    "    e2 = np.sqrt(m2**2 + px2**2 + py2**2 + pz2**2)\n",
    "    return np.sqrt((e1+e2)**2 - (px1+px2)**2 - (py1+py2)**2 - (pz1+pz2)**2)\n",
    "\n",
    "\n",
    "# B. Transverse mass MT\n",
    "def MT(m1, pt1, eta1, phi1, m2, pt2, eta2, phi2):\n",
    "    px1, py1, pz1 = pt1*np.cos(phi1), pt1 * \\\n",
    "        np.sin(phi1), np.sqrt(m1**2+pt1**2)*np.sinh(eta1)\n",
    "    e1 = np.sqrt(m1**2 + px1**2 + py1**2 + pz1**2)\n",
    "    px2, py2, pz2 = pt2*np.cos(phi2), pt2 * \\\n",
    "        np.sin(phi2), np.sqrt(m2**2+pt2**2)*np.sinh(eta2)\n",
    "    e2 = np.sqrt(m2**2 + px2**2 + py2**2 + pz2**2)\n",
    "    ET1, ET2 = np.sqrt(m1**2 + pt1**2), np.sqrt(m2**2 + pt2**2)\n",
    "    return np.sqrt((ET1+ET2)**2 - (px1+px2)**2 - (py1+py2)**2)\n",
    "\n",
    "\n",
    "# C. Transverse mass mT\n",
    "# * mT is invariant under Lorentz boost along the z direction.\n",
    "def mT(m1, pt1, eta1, phi1, m2, pt2, eta2, phi2):\n",
    "    px1, py1, pz1 = pt1*np.cos(phi1), pt1 * \\\n",
    "        np.sin(phi1), np.sqrt(m1**2+pt1**2)*np.sinh(eta1)\n",
    "    e1 = np.sqrt(m1**2 + px1**2 + py1**2 + pz1**2)\n",
    "    px2, py2, pz2 = pt2*np.cos(phi2), pt2 * \\\n",
    "        np.sin(phi2), np.sqrt(m2**2+pt2**2)*np.sinh(eta2)\n",
    "    e2 = np.sqrt(m2**2 + px2**2 + py2**2 + pz2**2)\n",
    "    return np.sqrt((e1+e2)**2 - (pz1+pz2)**2)\n",
    "\n",
    "\n",
    "# D. Transverse energy ET\n",
    "def ET(m1, pt1, eta1, phi1, m2, pt2, eta2, phi2):\n",
    "    px1, py1, pz1 = pt1*np.cos(phi1), pt1 * \\\n",
    "        np.sin(phi1), np.sqrt(m1**2+pt1**2)*np.sinh(eta1)\n",
    "    e1 = np.sqrt(m1**2 + px1**2 + py1**2 + pz1**2)\n",
    "    px2, py2, pz2 = pt2*np.cos(phi2), pt2 * \\\n",
    "        np.sin(phi2), np.sqrt(m2**2+pt2**2)*np.sinh(eta2)\n",
    "    e2 = np.sqrt(m2**2 + px2**2 + py2**2 + pz2**2)\n",
    "    m12 = np.sqrt((e1+e2)**2 - (px1+px2)**2 - (py1+py2)**2 - (pz1+pz2)**2)\n",
    "    return np.sqrt(m12**2 + (px1+px2)**2 + (py1+py2)**2)"
   ]
  },
  {
   "cell_type": "markdown",
   "metadata": {},
   "source": [
    "## 3. Analyze the Dark Quark Pair in the Parton and Truth Levels\n",
    "Skip this step"
   ]
  },
  {
   "cell_type": "markdown",
   "metadata": {},
   "source": [
    "## 4. Jet Clustering"
   ]
  },
  {
   "cell_type": "markdown",
   "metadata": {},
   "source": [
    "### 4-1. Select stable final state particles without/with filtering out dark sector"
   ]
  },
  {
   "cell_type": "code",
   "execution_count": 4,
   "metadata": {},
   "outputs": [
    {
     "name": "stdout",
     "output_type": "stream",
     "text": [
      "The PID of dark matter are [51, -51, 53, -53, 4900211, -4900211, 4900213, -4900213].\n",
      "19373 events are stable final state.\n",
      "19373 events are stable final state without DM.\n"
     ]
    }
   ],
   "source": [
    "SFSP_v3, SFSP_filterDM_v3 = myAnal_v3.selectStableFinalStateParticle(\n",
    "    GP, filter=[51, -51, 53, -53, 4900211, -4900211, 4900213, -4900213])"
   ]
  },
  {
   "cell_type": "markdown",
   "metadata": {},
   "source": [
    "### 4-2. Let's do the jet clustering!!"
   ]
  },
  {
   "cell_type": "code",
   "execution_count": 5,
   "metadata": {},
   "outputs": [
    {
     "name": "stdout",
     "output_type": "stream",
     "text": [
      "Done new version\n"
     ]
    }
   ],
   "source": [
    "R, jetClusteringAlgorithm, pTmin_pyjet = 0.4, -1, 0\n",
    "\n",
    "PseudoJet_v3 = myAnal_v3.jetClustering_v1(SFSP_v3, R=R,\n",
    "                                       p=jetClusteringAlgorithm,\n",
    "                                       pTmin=pTmin_pyjet)\n",
    "PseudoJet_filterDM_v3 = myAnal_v3.jetClustering_v1(SFSP_filterDM_v3, R=R,\n",
    "                                                p=jetClusteringAlgorithm,\n",
    "                                                pTmin=pTmin_pyjet)\n",
    "print('Done new version')"
   ]
  },
  {
   "cell_type": "markdown",
   "metadata": {},
   "source": [
    "## 5. Analyze the Jets in the Truth Level"
   ]
  },
  {
   "cell_type": "markdown",
   "metadata": {},
   "source": [
    "### 5-1. Preselection version 1"
   ]
  },
  {
   "cell_type": "code",
   "execution_count": 6,
   "metadata": {},
   "outputs": [
    {
     "name": "stdout",
     "output_type": "stream",
     "text": [
      "19373 events before preselection\n",
      "19373 events after pT preselection\n",
      "19373 events after pT & eta preselections\n",
      "--------------------------------------------------------------------------------\n",
      "0 events without PseudoJet before preselection\n",
      "357 events without PseudoJet after pT preselection\n",
      "519 events without PseudoJet after pT & eta preselections\n"
     ]
    }
   ],
   "source": [
    "presel_bef, presel_pt, presel_pt_eta, presel_idx = myAnal_v3.preselection_v1(PseudoJet_filterDM_v3, pT_min=20, eta_max=2.5)"
   ]
  },
  {
   "cell_type": "markdown",
   "metadata": {},
   "source": [
    "## 6. Mass Quantities\n",
    "```{admonition} Note\n",
    "Basic background:\n",
    "```\n",
    "For a object, we can define the state\n",
    "\\begin{align}\n",
    "    p^\\mu = (E,\\ p_x,\\ p_y,\\ p_z)\n",
    "\\end{align}\n",
    "By convention $c = 1$, the mass invariant is\n",
    "\\begin{align}\n",
    "    p_\\mu p^\\mu = E^2 - \\vec{p}^2 = m^2\n",
    "\\end{align}\n",
    "Hadron collider experimentalists prefer linear momentum $\\vec{p}$ in terms of collider coordinate $(p_T, y(\\theta), \\phi)$ or $(p_T, \\eta, \\phi)$, the state of a object is given by\n",
    "\\begin{align}\n",
    "    p^\\mu = (m,\\ p_T,\\ y,\\ \\phi)\\ \\mathrm{or}\\ (m,\\ p_T,\\ \\eta,\\ \\phi)\n",
    "\\end{align}\n",
    "where $p_T = |\\vec{p}_T|$.\n",
    "The rapidity $y$ and the pseudorapidity $\\eta$ when $p \\gg m$ are defined by\n",
    "\\begin{align}\n",
    "    y = \\frac{1}{2}\\ln\\left(\\frac{E + p_z}{E - p_z}\\right) \\approx -\\ln\\left[ \\tan{\\left(\\frac{\\theta}{2}\\right)} \\right] \\equiv \\eta\n",
    "\\end{align}\n",
    "where $\\cos{\\theta} = p_z/p$ and values of $\\eta$ between $(-\\infty,\\ \\infty)$.\n",
    "The transformations between Cartesian and collider coordinate are\n",
    "- For the rapidity $y$,\n",
    "    \\begin{align}\n",
    "        p^\\mu = (E,\\ p_x,\\ p_y,\\ p_z) = (m_T\\cosh{y},\\ p_x,\\ p_y,\\ m_T\\sinh{y})\n",
    "    \\end{align}\n",
    "- For the pseudorapidity $\\eta$ `(I use this transformation)`,\n",
    "    $$\n",
    "        p^\\mu = (E,\\ p_x,\\ p_y,\\ p_z) = (m_T\\cosh{\\eta},\\ p_T\\cos{\\phi},\\ p_T\\sin{\\phi},\\ m_T\\sinh{\\eta})\n",
    "    $$\n",
    "where $m_T$, conventionally called the `transverse mass`, is defined by\n",
    "    $$\n",
    "        m_T^2 = m^2 + p_x^2 + p_y^2 = E^2 - p_z^2 = E_T\n",
    "    $$\n",
    "It is also denoted `transverse energy` $E_T$.\n",
    "But sometimes, transverse energy vector $\\vec{E}_T$ is defined by\n",
    "    $$\n",
    "        \\vec{E}_T = E\\frac{\\vec{p}_T}{|\\vec{p}|} = \\frac{E}{\\sqrt{E^2 - m^2}}\\vec{p}_T\n",
    "    $$\n",
    "It is easy to see that $E_T = p_T = m_T$ for massless particle ($m = 0$).\n",
    "From the definition one can obtin the identities\n",
    "    $$\n",
    "        \\sinh{\\eta} = \\cot{\\theta},\\quad \\cosh{\\eta} = 1/\\sin{\\theta},\\quad \\tanh{\\eta} = \\cos{\\theta}\n",
    "    $$\n",
    "The invariant mass $M$ of the two-object system can be written in terms of these variables as\n",
    "\\begin{align}\n",
    "    M^2 &= \\left[E_1 + E_2\\right]^2 - \\left[\\vec{p}_1 + \\vec{p}_2\\right]^2 \\\\\n",
    "    &= m_1^2 + m_2^2 + 2\\left[E_T(1)E_T(2)\\cosh{\\Delta y} - \\vec{p}_T(1)\\cdot\\vec{p}_T(2)\\right]\n",
    "\\end{align}\n",
    "where\n",
    "    $$\n",
    "        E_T^2(i) = \\left| \\vec{p}_T(i) \\right|^2 + m_i^2\n",
    "    $$\n",
    "But $m_T$ is not a well quantity when final state is semi-visible (or semi-invisible) but is only indicated by missing transverse energy.\n",
    "Consider a single heavy particle of mass $M$ produced in association with visible particles.\n",
    "The mass of the parent particle can be constrained with the quantity $M_T$ defined by\n",
    "\\begin{align}\n",
    "    M_T^2 &\\equiv \\left[E_T(1) + E_T(2)\\right]^2 - \\left[\\vec{p}_T(1) + \\vec{p_T}(2)\\right]^2 \\\\\n",
    "    &= m_1^2 + m_2^2 + 2\\left[E_T(1)E_T(2) - \\vec{p}_T(1)\\cdot\\vec{p}_T(2)\\right]\n",
    "\\end{align}\n",
    "where\n",
    "\\begin{align}\n",
    "    E_T^2(i) &= \\left| \\vec{p}_T(i) \\right|^2 + m_i^2,\\\\\n",
    "    \\vec{p}_T(1) &= \\vec{E}_T^\\mathrm{miss}\n",
    "\\end{align}\n",
    "The distribution of event $M_T$ values possesses an end-point at $M_T^\\mathrm{max} = M$.\n",
    "\n",
    "\n",
    "##### References\n",
    "- [[1] PDG: Kinematics (rev.)](https://pdg.lbl.gov/2021/web/viewer.html?file=../reviews/rpp2021-rev-kinematics.pdf)\n",
    "- [[2] WIKI: Transverse mass](https://en.wikipedia.org/wiki/Transverse_mass)"
   ]
  },
  {
   "cell_type": "markdown",
   "metadata": {},
   "source": [
    "### 6-1. Three objects"
   ]
  },
  {
   "cell_type": "markdown",
   "metadata": {},
   "source": [
    "#### A. Invariant mass $M(1, 2, 3)$"
   ]
  },
  {
   "cell_type": "code",
   "execution_count": 7,
   "metadata": {},
   "outputs": [
    {
     "name": "stdout",
     "output_type": "stream",
     "text": [
      "event 21\n",
      "M(jj) old   = 466.20957770181013\n",
      "M(jj) new 1 = 466.20957770181013 0.0\n",
      "M(jj) new 2 = 466.20957770181013 0.0\n",
      "M(jjj) new  = 784.1681298115187\n",
      "--------------------------------------------------------------------------------\n",
      "event 22\n",
      "M(jj) old   = 45.351895655264975\n",
      "M(jj) new 1 = 45.351895655264975 0.0\n",
      "M(jj) new 2 = 45.351895655264975 0.0\n",
      "M(jjj) new  = 149.70240792445588\n",
      "--------------------------------------------------------------------------------\n",
      "event 23\n",
      "M(jj) old   = 1151.0740390946896\n",
      "M(jj) new 1 = 1151.0740390946896 0.0\n",
      "M(jj) new 2 = 1151.0740390946896 0.0\n",
      "M(jjj) new  = 1283.9725242850795\n",
      "--------------------------------------------------------------------------------\n"
     ]
    }
   ],
   "source": [
    "for i in range(21,24):\n",
    "    print(\"event {}\".format(i))\n",
    "    j1 = PseudoJet_filterDM_v3[i][0]\n",
    "    j2 = PseudoJet_filterDM_v3[i][1]\n",
    "    j3 = PseudoJet_filterDM_v3[i][2]\n",
    "    M_jj = M(j1.mass, j1.pt, j1.eta, j1.phi,\n",
    "             j2.mass, j2.pt, j2.eta, j2.phi)\n",
    "    M_jj_new_1 = myAnal_v3.M_123(j1.mass, j1.pt, j1.eta, j1.phi,\n",
    "                                 j2.mass, j2.pt, j2.eta, j2.phi,\n",
    "                                 0, 0, 0, 0)\n",
    "    M_jj_new_2 = myAnal_v3.M_123(j1.mass, j1.pt, j1.eta, j1.phi,\n",
    "                                 0, 0, 0, 0,\n",
    "                                 j2.mass, j2.pt, j2.eta, j2.phi)\n",
    "    M_jjj_new = myAnal_v3.M_123(j1.mass, j1.pt, j1.eta, j1.phi,\n",
    "                                j2.mass, j2.pt, j2.eta, j2.phi,\n",
    "                                j3.mass, j3.pt, j3.eta, j3.phi,)\n",
    "    sum_1 = np.sum(M_jj_new_1 - M_jj)\n",
    "    sum_2 = np.sum(M_jj_new_2 - M_jj)\n",
    "    print(\"M(jj) old   = {}\".format(M_jj))\n",
    "    print(\"M(jj) new 1 = {}\".format(M_jj_new_1), sum_1)\n",
    "    print(\"M(jj) new 2 = {}\".format(M_jj_new_2), sum_2)\n",
    "    print(\"M(jjj) new  = {}\".format(M_jjj_new))\n",
    "    print('-'*80)"
   ]
  },
  {
   "cell_type": "markdown",
   "metadata": {},
   "source": [
    "##### Conclusion: The function of invariant mass $M$ of 3 objects is OK!"
   ]
  },
  {
   "cell_type": "markdown",
   "metadata": {},
   "source": [
    "#### B. Transverse mass $M_T(1, 2, 3)$"
   ]
  },
  {
   "cell_type": "code",
   "execution_count": 8,
   "metadata": {},
   "outputs": [
    {
     "name": "stdout",
     "output_type": "stream",
     "text": [
      "event 21\n",
      "MT(jj) old   = 394.84919666907587\n",
      "MT(jj) new 1 = 394.84919666907587 0.0\n",
      "MT(jj) new 2 = 394.84919666907587 0.0\n",
      "MT(jjj) new  = 628.8648625746458\n",
      "--------------------------------------------------------------------------------\n",
      "event 22\n",
      "MT(jj) old   = 45.351895193886676\n",
      "MT(jj) new 1 = 45.351895193886676 0.0\n",
      "MT(jj) new 2 = 45.351895193886676 0.0\n",
      "MT(jjj) new  = 129.40856630648184\n",
      "--------------------------------------------------------------------------------\n",
      "event 23\n",
      "MT(jj) old   = 908.1050714207223\n",
      "MT(jj) new 1 = 908.1050714207223 0.0\n",
      "MT(jj) new 2 = 908.1050714207223 0.0\n",
      "MT(jjj) new  = 948.1533195749157\n",
      "--------------------------------------------------------------------------------\n"
     ]
    }
   ],
   "source": [
    "for i in range(21,24):\n",
    "    print(\"event {}\".format(i))\n",
    "    j1 = PseudoJet_filterDM_v3[i][0]\n",
    "    j2 = PseudoJet_filterDM_v3[i][1]\n",
    "    j3 = PseudoJet_filterDM_v3[i][2]\n",
    "    MT_jj = MT(j1.mass, j1.pt, j1.eta, j1.phi,\n",
    "               j2.mass, j2.pt, j2.eta, j2.phi)\n",
    "    MT_jj_new_1 = myAnal_v3.MT_123(j1.mass, j1.pt, j1.eta, j1.phi,\n",
    "                                   j2.mass, j2.pt, j2.eta, j2.phi,\n",
    "                                   0, 0, 0, 0)\n",
    "    MT_jj_new_2 = myAnal_v3.MT_123(j1.mass, j1.pt, j1.eta, j1.phi,\n",
    "                                   0, 0, 0, 0,\n",
    "                                   j2.mass, j2.pt, j2.eta, j2.phi)\n",
    "    MT_jjj_new = myAnal_v3.MT_123(j1.mass, j1.pt, j1.eta, j1.phi,\n",
    "                                  j2.mass, j2.pt, j2.eta, j2.phi,\n",
    "                                  j3.mass, j3.pt, j3.eta, j3.phi,)\n",
    "    sum_1 = np.sum(MT_jj_new_1 - MT_jj)\n",
    "    sum_2 = np.sum(MT_jj_new_2 - MT_jj)\n",
    "    print(\"MT(jj) old   = {}\".format(MT_jj))\n",
    "    print(\"MT(jj) new 1 = {}\".format(MT_jj_new_1), sum_1)\n",
    "    print(\"MT(jj) new 2 = {}\".format(MT_jj_new_2), sum_2)\n",
    "    print(\"MT(jjj) new  = {}\".format(MT_jjj_new))\n",
    "    print('-'*80)"
   ]
  },
  {
   "cell_type": "markdown",
   "metadata": {},
   "source": [
    "##### Conclusion: The function of transverse mass $M_T$ of 3 objects is OK!"
   ]
  },
  {
   "cell_type": "markdown",
   "metadata": {},
   "source": [
    "#### C. Transverse mass $m_T(1, 2, 3)$ with definition 1"
   ]
  },
  {
   "cell_type": "code",
   "execution_count": 9,
   "metadata": {},
   "outputs": [
    {
     "name": "stdout",
     "output_type": "stream",
     "text": [
      "event 21\n",
      "mT(jj) old   = 899.9222928467409\n",
      "mT(jj) new 1 = 899.9222928467409 0.0\n",
      "mT(jj) new 2 = 899.9222928467409 0.0\n",
      "mT(jjj) new  = 1061.0420901057623\n",
      "--------------------------------------------------------------------------------\n",
      "event 22\n",
      "mT(jj) old   = 163.92791393503617\n",
      "mT(jj) new 1 = 163.92791393503617 0.0\n",
      "mT(jj) new 2 = 163.92791393503617 0.0\n",
      "mT(jjj) new  = 202.19992339522818\n",
      "--------------------------------------------------------------------------------\n",
      "event 23\n",
      "mT(jj) old   = 1153.6319519024476\n",
      "mT(jj) new 1 = 1153.6319519024476 0.0\n",
      "mT(jj) new 2 = 1153.6319519024476 0.0\n",
      "mT(jjj) new  = 1289.041909267317\n",
      "--------------------------------------------------------------------------------\n"
     ]
    }
   ],
   "source": [
    "for i in range(21,24):\n",
    "    print(\"event {}\".format(i))\n",
    "    j1 = PseudoJet_filterDM_v3[i][0]\n",
    "    j2 = PseudoJet_filterDM_v3[i][1]\n",
    "    j3 = PseudoJet_filterDM_v3[i][2]\n",
    "    mT_jj = mT(j1.mass, j1.pt, j1.eta, j1.phi,\n",
    "               j2.mass, j2.pt, j2.eta, j2.phi)\n",
    "    mT_jj_new_1 = myAnal_v3.mT_123_def_1(j1.mass, j1.pt, j1.eta, j1.phi,\n",
    "                                         j2.mass, j2.pt, j2.eta, j2.phi,\n",
    "                                         0, 0, 0, 0)\n",
    "    mT_jj_new_2 = myAnal_v3.mT_123_def_1(j1.mass, j1.pt, j1.eta, j1.phi,\n",
    "                                         0, 0, 0, 0,\n",
    "                                         j2.mass, j2.pt, j2.eta, j2.phi)\n",
    "    mT_jjj_new = myAnal_v3.mT_123_def_1(j1.mass, j1.pt, j1.eta, j1.phi,\n",
    "                                        j2.mass, j2.pt, j2.eta, j2.phi,\n",
    "                                        j3.mass, j3.pt, j3.eta, j3.phi,)\n",
    "    sum_1 = np.sum(mT_jj_new_1 - mT_jj)\n",
    "    sum_2 = np.sum(mT_jj_new_2 - mT_jj)\n",
    "    print(\"mT(jj) old   = {}\".format(mT_jj))\n",
    "    print(\"mT(jj) new 1 = {}\".format(mT_jj_new_1), sum_1)\n",
    "    print(\"mT(jj) new 2 = {}\".format(mT_jj_new_2), sum_2)\n",
    "    print(\"mT(jjj) new  = {}\".format(mT_jjj_new))\n",
    "    print('-'*80)"
   ]
  },
  {
   "cell_type": "markdown",
   "metadata": {},
   "source": [
    "##### Conclusion: The function of transverse mass $m_T$ of 3 objects is OK!"
   ]
  },
  {
   "cell_type": "markdown",
   "metadata": {},
   "source": [
    "#### D. Transverse mass $m_T(1, 2, 3)$ with definition 2"
   ]
  },
  {
   "cell_type": "code",
   "execution_count": 10,
   "metadata": {},
   "outputs": [
    {
     "name": "stdout",
     "output_type": "stream",
     "text": [
      "event 21\n",
      "ET(jj) old   = 899.9222928467409\n",
      "mT(jj) new 1 = 899.9222928467409 0.0\n",
      "mT(jj) new 2 = 899.9222928467409 0.0\n",
      "mT(jjj) new  = 1061.0420901057623\n",
      "--------------------------------------------------------------------------------\n",
      "event 22\n",
      "ET(jj) old   = 163.92791393503623\n",
      "mT(jj) new 1 = 163.92791393503623 0.0\n",
      "mT(jj) new 2 = 163.92791393503623 0.0\n",
      "mT(jjj) new  = 202.1999233952283\n",
      "--------------------------------------------------------------------------------\n",
      "event 23\n",
      "ET(jj) old   = 1153.6319519024478\n",
      "mT(jj) new 1 = 1153.6319519024478 0.0\n",
      "mT(jj) new 2 = 1153.6319519024478 0.0\n",
      "mT(jjj) new  = 1289.041909267317\n",
      "--------------------------------------------------------------------------------\n"
     ]
    }
   ],
   "source": [
    "for i in range(21,24):\n",
    "    print(\"event {}\".format(i))\n",
    "    j1 = PseudoJet_filterDM_v3[i][0]\n",
    "    j2 = PseudoJet_filterDM_v3[i][1]\n",
    "    j3 = PseudoJet_filterDM_v3[i][2]\n",
    "    ET_jj = ET(j1.mass, j1.pt, j1.eta, j1.phi,\n",
    "               j2.mass, j2.pt, j2.eta, j2.phi)\n",
    "    mT_jj_new_1 = myAnal_v3.mT_123_def_2(j1.mass, j1.pt, j1.eta, j1.phi,\n",
    "                                         j2.mass, j2.pt, j2.eta, j2.phi,\n",
    "                                         0, 0, 0, 0)\n",
    "    mT_jj_new_2 = myAnal_v3.mT_123_def_2(j1.mass, j1.pt, j1.eta, j1.phi,\n",
    "                                         0, 0, 0, 0,\n",
    "                                         j2.mass, j2.pt, j2.eta, j2.phi)\n",
    "    mT_jjj_new = myAnal_v3.mT_123_def_2(j1.mass, j1.pt, j1.eta, j1.phi,\n",
    "                                        j2.mass, j2.pt, j2.eta, j2.phi,\n",
    "                                        j3.mass, j3.pt, j3.eta, j3.phi,)\n",
    "    sum_1 = np.sum(mT_jj_new_1 - ET_jj)\n",
    "    sum_2 = np.sum(mT_jj_new_2 - ET_jj)\n",
    "    print(\"ET(jj) old   = {}\".format(ET_jj))\n",
    "    print(\"mT(jj) new 1 = {}\".format(mT_jj_new_1), sum_1)\n",
    "    print(\"mT(jj) new 2 = {}\".format(mT_jj_new_2), sum_2)\n",
    "    print(\"mT(jjj) new  = {}\".format(mT_jjj_new))\n",
    "    print('-'*80)"
   ]
  },
  {
   "cell_type": "markdown",
   "metadata": {},
   "source": [
    "### 6-2. General functions of mass quantities"
   ]
  },
  {
   "cell_type": "code",
   "execution_count": null,
   "metadata": {},
   "outputs": [],
   "source": []
  },
  {
   "cell_type": "code",
   "execution_count": null,
   "metadata": {},
   "outputs": [],
   "source": []
  },
  {
   "cell_type": "markdown",
   "metadata": {},
   "source": [
    "### Test general function"
   ]
  },
  {
   "cell_type": "code",
   "execution_count": 19,
   "metadata": {},
   "outputs": [
    {
     "data": {
      "text/plain": [
       "[PseudoJet(pt=492.576, eta=-0.905, phi=-1.942, mass=47.887),\n",
       " PseudoJet(pt=415.898, eta=0.528, phi=1.208, mass=21.372),\n",
       " PseudoJet(pt=42.026, eta=-2.093, phi=-2.574, mass=11.838),\n",
       " PseudoJet(pt=15.899, eta=-0.073, phi=-0.441, mass=3.713)]"
      ]
     },
     "execution_count": 19,
     "metadata": {},
     "output_type": "execute_result"
    }
   ],
   "source": [
    "PseudoJet_filterDM_v3[23][:4]"
   ]
  },
  {
   "cell_type": "code",
   "execution_count": 20,
   "metadata": {},
   "outputs": [
    {
     "data": {
      "text/plain": [
       "array([(492.57649468, -0.90459915, -1.94196123, 47.88720232),\n",
       "       (415.89764971,  0.52782149,  1.20835548, 21.37220707),\n",
       "       ( 42.02645083, -2.09324215, -2.5737621 , 11.83759252)],\n",
       "      dtype=[('pT', '<f8'), ('eta', '<f8'), ('phi', '<f8'), ('mass', '<f8')])"
      ]
     },
     "execution_count": 20,
     "metadata": {},
     "output_type": "execute_result"
    }
   ],
   "source": [
    "presel_pt_eta[23]"
   ]
  },
  {
   "cell_type": "code",
   "execution_count": 21,
   "metadata": {},
   "outputs": [
    {
     "data": {
      "text/plain": [
       "array([492.57649468, 415.89764971,  42.02645083])"
      ]
     },
     "execution_count": 21,
     "metadata": {},
     "output_type": "execute_result"
    }
   ],
   "source": [
    "presel_pt_eta[23]['pT']"
   ]
  },
  {
   "cell_type": "code",
   "execution_count": 33,
   "metadata": {},
   "outputs": [
    {
     "data": {
      "text/plain": [
       "array([0., 0., 0.])"
      ]
     },
     "execution_count": 33,
     "metadata": {},
     "output_type": "execute_result"
    }
   ],
   "source": [
    "np.array(presel_pt_eta[23]['pT']) - presel_pt_eta[23]['pT']"
   ]
  },
  {
   "cell_type": "code",
   "execution_count": null,
   "metadata": {},
   "outputs": [],
   "source": [
    "def f_M(a, b, c, d):\n",
    "    print()"
   ]
  },
  {
   "cell_type": "markdown",
   "metadata": {},
   "source": [
    "#### test"
   ]
  },
  {
   "cell_type": "markdown",
   "metadata": {},
   "source": [
    "### 6-4. Test interesting method!!"
   ]
  },
  {
   "cell_type": "code",
   "execution_count": 47,
   "metadata": {},
   "outputs": [
    {
     "name": "stdout",
     "output_type": "stream",
     "text": [
      "0\n",
      "1\n",
      "2\n"
     ]
    },
    {
     "data": {
      "text/plain": [
       "array([12.08304597, 32.63433774, 61.04096985])"
      ]
     },
     "execution_count": 47,
     "metadata": {},
     "output_type": "execute_result"
    }
   ],
   "source": [
    "def f(a, b, c, d):\n",
    "    # a=mass, b=pt, c=eta, d=phi\n",
    "    a, b = np.array(a), np.array(b)\n",
    "    c, d = np.array(c), np.array(d)\n",
    "    for i in range(len(a)):\n",
    "        arr_px = b * d\n",
    "        arr_py = b * d\n",
    "        arr_pz = np.sqrt(a**2 + b**2) * c\n",
    "        arr_e = np.sqrt(a**2 + arr_px**2 + arr_py**2 + arr_pz**2)\n",
    "        print(i)\n",
    "    \n",
    "    return arr_e, arr_px, arr_py, arr_pz\n",
    "\n",
    "\n",
    "ee, pxx, pyy, pzz = f([1, 2, 3], [4, 5, 6], [1, 3, 5], [2, 4, 6])\n",
    "ee"
   ]
  },
  {
   "cell_type": "code",
   "execution_count": 46,
   "metadata": {},
   "outputs": [
    {
     "name": "stdout",
     "output_type": "stream",
     "text": [
      "0\n",
      "1\n",
      "2\n",
      "[ 2  6 10]\n",
      "--------------------------------------------------------------------------------\n",
      "0\n",
      "1\n",
      "2\n"
     ]
    },
    {
     "data": {
      "text/plain": [
       "(array([2, 4, 6]), array([4, 5, 6]), array([1, 3, 5]), array([2, 4, 6]))"
      ]
     },
     "execution_count": 46,
     "metadata": {},
     "output_type": "execute_result"
    }
   ],
   "source": [
    "print(f([1, 2, 3], [4, 5, 6], [1, 3, 5], [2, 4, 6])[2] * 2)\n",
    "print('-'*80)\n",
    "f([1, 2, 3], [4, 5, 6], [1, 3, 5], [2, 4, 6])"
   ]
  },
  {
   "cell_type": "code",
   "execution_count": 36,
   "metadata": {},
   "outputs": [
    {
     "data": {
      "text/plain": [
       "[1, 2, 3]"
      ]
     },
     "execution_count": 36,
     "metadata": {},
     "output_type": "execute_result"
    }
   ],
   "source": [
    "a = [1, 2, 3, 4, 5]\n",
    "a[:3]"
   ]
  },
  {
   "cell_type": "code",
   "execution_count": 41,
   "metadata": {},
   "outputs": [
    {
     "data": {
      "text/plain": [
       "array([1.        , 1.41421356, 1.73205081, 2.        , 2.23606798,\n",
       "       3.        ])"
      ]
     },
     "execution_count": 41,
     "metadata": {},
     "output_type": "execute_result"
    }
   ],
   "source": [
    "a = np.array([1, 2, 3, 4, 5, 9])\n",
    "np.sqrt(a)"
   ]
  },
  {
   "cell_type": "code",
   "execution_count": 42,
   "metadata": {},
   "outputs": [
    {
     "data": {
      "text/plain": [
       "array([ 1,  4,  9, 16, 25, 81])"
      ]
     },
     "execution_count": 42,
     "metadata": {},
     "output_type": "execute_result"
    }
   ],
   "source": [
    "a**2"
   ]
  },
  {
   "cell_type": "code",
   "execution_count": null,
   "metadata": {},
   "outputs": [],
   "source": []
  }
 ],
 "metadata": {
  "interpreter": {
   "hash": "31f2aee4e71d21fbe5cf8b01ff0e069b9275f58929596ceb00d14d90e3e16cd6"
  },
  "kernelspec": {
   "display_name": "Python 3.8.9 64-bit",
   "language": "python",
   "name": "python3"
  },
  "language_info": {
   "codemirror_mode": {
    "name": "ipython",
    "version": 3
   },
   "file_extension": ".py",
   "mimetype": "text/x-python",
   "name": "python",
   "nbconvert_exporter": "python",
   "pygments_lexer": "ipython3",
   "version": "3.8.9"
  },
  "orig_nbformat": 4
 },
 "nbformat": 4,
 "nbformat_minor": 2
}

{
 "cells": [
  {
   "cell_type": "markdown",
   "metadata": {},
   "source": [
    "# Plotting 1: MLM vs. CKKW-L\n",
    "MLM vs. CKKW-L jet merging."
   ]
  },
  {
   "cell_type": "markdown",
   "metadata": {},
   "source": [
    "## 1. Import Packages"
   ]
  },
  {
   "cell_type": "code",
   "execution_count": 1,
   "metadata": {},
   "outputs": [],
   "source": [
    "# The Python Standard Library\n",
    "\n",
    "# The Third-Party Library\n",
    "import numpy as np\n",
    "import pandas as pd\n",
    "import matplotlib.pyplot as plt\n",
    "from matplotlib import colors\n",
    "from matplotlib.ticker import PercentFormatter\n",
    "from matplotlib.ticker import (MultipleLocator, AutoMinorLocator, LogLocator)\n",
    "\n",
    "# My Packages\n",
    "from plotting import plotting\n",
    "# from myhep.plotting import plotting_basic, plotting\n",
    "\n",
    "# increase figure showing resolution\n",
    "%config InlineBackend.figure_format = 'retina'"
   ]
  },
  {
   "cell_type": "markdown",
   "metadata": {},
   "source": [
    "## 2. Load Datasets"
   ]
  },
  {
   "cell_type": "code",
   "execution_count": 2,
   "metadata": {},
   "outputs": [
    {
     "name": "stdout",
     "output_type": "stream",
     "text": [
      "0 status23\n",
      "1 status71\n",
      "2 jet\n",
      "3 met\n",
      "4 jet_met\n",
      "5 n_jet\n",
      "6 jj\n",
      "7 jjj\n",
      "8 jj_met\n",
      "9 jjj_met\n"
     ]
    }
   ],
   "source": [
    "path_data = '/youwei_u3/svj_data_master/scheme_1/analysis_script_v1/'\n",
    "# ! notice: I change the order of 'met' and 'jet'.\n",
    "dataset_csv = ['status23', 'status71', 'jet', 'met', 'jet_met',\n",
    "               'n_jet', 'jj', 'jjj', 'jj_met', 'jjj_met']\n",
    "dataset_npz = ['neutrinos', 'weight']\n",
    "file = '_rinv3_Lambdad5'\n",
    "\n",
    "# load .csv into pd.DataFrame()\n",
    "dataset_mlm, dataset_ckkwl = [], []\n",
    "for i, data in enumerate(dataset_csv):\n",
    "    print(i, data)\n",
    "    # print(i, data + file + '_ckkwl_wo.csv')\n",
    "    df_mlm = pd.read_csv(path_data + data + file + '_mlm_wo.csv')\n",
    "    df_ckkwl = pd.read_csv(path_data + data + file + '_ckkwl_wo.csv')\n",
    "    dataset_mlm.append(df_mlm)\n",
    "    dataset_ckkwl.append(df_ckkwl)\n",
    "    \n",
    "# load .npz into np.array()\n",
    "nu_mlm = np.load(path_data + 'neutrinos' + file + '_mlm_wo.npz')\n",
    "nu_ckkwl = np.load(path_data + 'neutrinos' + file + '_ckkwl_wo.npz')\n",
    "weight_mlm = np.load(path_data + 'weight' + file + '_mlm_wo.npz', allow_pickle=True)\n",
    "weight_ckkwl = np.load(path_data + 'weight' + file + '_ckkwl_wo.npz', allow_pickle=True)"
   ]
  },
  {
   "cell_type": "markdown",
   "metadata": {},
   "source": [
    "### A. Simple check"
   ]
  },
  {
   "cell_type": "code",
   "execution_count": 3,
   "metadata": {},
   "outputs": [
    {
     "data": {
      "text/plain": [
       "10"
      ]
     },
     "execution_count": 3,
     "metadata": {},
     "output_type": "execute_result"
    }
   ],
   "source": [
    "len(dataset_ckkwl)"
   ]
  },
  {
   "cell_type": "code",
   "execution_count": 4,
   "metadata": {},
   "outputs": [
    {
     "data": {
      "text/html": [
       "<div>\n",
       "<style scoped>\n",
       "    .dataframe tbody tr th:only-of-type {\n",
       "        vertical-align: middle;\n",
       "    }\n",
       "\n",
       "    .dataframe tbody tr th {\n",
       "        vertical-align: top;\n",
       "    }\n",
       "\n",
       "    .dataframe thead th {\n",
       "        text-align: right;\n",
       "    }\n",
       "</style>\n",
       "<table border=\"1\" class=\"dataframe\">\n",
       "  <thead>\n",
       "    <tr style=\"text-align: right;\">\n",
       "      <th></th>\n",
       "      <th>M_xdxdx</th>\n",
       "      <th>MT_xdxdx</th>\n",
       "      <th>mT_xdxdx</th>\n",
       "      <th>ET_xdxdx</th>\n",
       "      <th>Dphi_xdxdx</th>\n",
       "      <th>Deta_xdxdx</th>\n",
       "      <th>pT_xd</th>\n",
       "      <th>pT_xdx</th>\n",
       "      <th>eta_xd</th>\n",
       "      <th>eta_xdx</th>\n",
       "    </tr>\n",
       "  </thead>\n",
       "  <tbody>\n",
       "    <tr>\n",
       "      <th>0</th>\n",
       "      <td>1462.944229</td>\n",
       "      <td>818.807100</td>\n",
       "      <td>1462.987972</td>\n",
       "      <td>1462.987972</td>\n",
       "      <td>3.121198</td>\n",
       "      <td>2.367836</td>\n",
       "      <td>413.138611</td>\n",
       "      <td>405.502350</td>\n",
       "      <td>0.125119</td>\n",
       "      <td>2.492956</td>\n",
       "    </tr>\n",
       "    <tr>\n",
       "      <th>1</th>\n",
       "      <td>1497.885094</td>\n",
       "      <td>1459.086030</td>\n",
       "      <td>1498.916485</td>\n",
       "      <td>1498.916485</td>\n",
       "      <td>3.072587</td>\n",
       "      <td>0.459942</td>\n",
       "      <td>718.225037</td>\n",
       "      <td>741.782776</td>\n",
       "      <td>-0.541898</td>\n",
       "      <td>-1.001840</td>\n",
       "    </tr>\n",
       "    <tr>\n",
       "      <th>2</th>\n",
       "      <td>1506.726013</td>\n",
       "      <td>1148.431224</td>\n",
       "      <td>1507.197874</td>\n",
       "      <td>1507.197874</td>\n",
       "      <td>3.130170</td>\n",
       "      <td>1.541384</td>\n",
       "      <td>555.869568</td>\n",
       "      <td>593.006409</td>\n",
       "      <td>-2.086558</td>\n",
       "      <td>-0.545174</td>\n",
       "    </tr>\n",
       "    <tr>\n",
       "      <th>3</th>\n",
       "      <td>1359.166609</td>\n",
       "      <td>1282.101304</td>\n",
       "      <td>1359.361923</td>\n",
       "      <td>1359.361923</td>\n",
       "      <td>3.121563</td>\n",
       "      <td>0.689986</td>\n",
       "      <td>631.508850</td>\n",
       "      <td>650.643494</td>\n",
       "      <td>-0.547123</td>\n",
       "      <td>-1.237109</td>\n",
       "    </tr>\n",
       "    <tr>\n",
       "      <th>4</th>\n",
       "      <td>1521.987899</td>\n",
       "      <td>1035.577730</td>\n",
       "      <td>1531.877777</td>\n",
       "      <td>1531.877777</td>\n",
       "      <td>2.820393</td>\n",
       "      <td>1.850708</td>\n",
       "      <td>547.682312</td>\n",
       "      <td>502.185699</td>\n",
       "      <td>-1.507787</td>\n",
       "      <td>0.342921</td>\n",
       "    </tr>\n",
       "  </tbody>\n",
       "</table>\n",
       "</div>"
      ],
      "text/plain": [
       "       M_xdxdx     MT_xdxdx     mT_xdxdx     ET_xdxdx  Dphi_xdxdx  Deta_xdxdx  \\\n",
       "0  1462.944229   818.807100  1462.987972  1462.987972    3.121198    2.367836   \n",
       "1  1497.885094  1459.086030  1498.916485  1498.916485    3.072587    0.459942   \n",
       "2  1506.726013  1148.431224  1507.197874  1507.197874    3.130170    1.541384   \n",
       "3  1359.166609  1282.101304  1359.361923  1359.361923    3.121563    0.689986   \n",
       "4  1521.987899  1035.577730  1531.877777  1531.877777    2.820393    1.850708   \n",
       "\n",
       "        pT_xd      pT_xdx    eta_xd   eta_xdx  \n",
       "0  413.138611  405.502350  0.125119  2.492956  \n",
       "1  718.225037  741.782776 -0.541898 -1.001840  \n",
       "2  555.869568  593.006409 -2.086558 -0.545174  \n",
       "3  631.508850  650.643494 -0.547123 -1.237109  \n",
       "4  547.682312  502.185699 -1.507787  0.342921  "
      ]
     },
     "execution_count": 4,
     "metadata": {},
     "output_type": "execute_result"
    }
   ],
   "source": [
    "dataset_mlm[0].head()"
   ]
  },
  {
   "cell_type": "code",
   "execution_count": 5,
   "metadata": {},
   "outputs": [
    {
     "data": {
      "text/html": [
       "<div>\n",
       "<style scoped>\n",
       "    .dataframe tbody tr th:only-of-type {\n",
       "        vertical-align: middle;\n",
       "    }\n",
       "\n",
       "    .dataframe tbody tr th {\n",
       "        vertical-align: top;\n",
       "    }\n",
       "\n",
       "    .dataframe thead th {\n",
       "        text-align: right;\n",
       "    }\n",
       "</style>\n",
       "<table border=\"1\" class=\"dataframe\">\n",
       "  <thead>\n",
       "    <tr style=\"text-align: right;\">\n",
       "      <th></th>\n",
       "      <th>N_jet</th>\n",
       "      <th>pT_1</th>\n",
       "      <th>pT_2</th>\n",
       "      <th>pT_3</th>\n",
       "      <th>pT_4</th>\n",
       "      <th>eta_1</th>\n",
       "      <th>eta_2</th>\n",
       "      <th>eta_3</th>\n",
       "      <th>eta_4</th>\n",
       "      <th>phi_1</th>\n",
       "      <th>phi_2</th>\n",
       "      <th>phi_3</th>\n",
       "      <th>phi_4</th>\n",
       "      <th>mass_1</th>\n",
       "      <th>mass_2</th>\n",
       "      <th>mass_3</th>\n",
       "      <th>mass_4</th>\n",
       "    </tr>\n",
       "  </thead>\n",
       "  <tbody>\n",
       "    <tr>\n",
       "      <th>0</th>\n",
       "      <td>2.0</td>\n",
       "      <td>87.399442</td>\n",
       "      <td>64.213808</td>\n",
       "      <td>-999.000000</td>\n",
       "      <td>-999.000000</td>\n",
       "      <td>0.187685</td>\n",
       "      <td>0.613261</td>\n",
       "      <td>-999.000000</td>\n",
       "      <td>-999.000000</td>\n",
       "      <td>-0.162607</td>\n",
       "      <td>-0.410417</td>\n",
       "      <td>-999.000000</td>\n",
       "      <td>-999.000000</td>\n",
       "      <td>13.970557</td>\n",
       "      <td>11.678316</td>\n",
       "      <td>-999.000000</td>\n",
       "      <td>-999.000000</td>\n",
       "    </tr>\n",
       "    <tr>\n",
       "      <th>1</th>\n",
       "      <td>3.0</td>\n",
       "      <td>156.631723</td>\n",
       "      <td>116.276794</td>\n",
       "      <td>100.766976</td>\n",
       "      <td>-999.000000</td>\n",
       "      <td>-0.720677</td>\n",
       "      <td>-1.840887</td>\n",
       "      <td>-2.304753</td>\n",
       "      <td>-999.000000</td>\n",
       "      <td>1.453170</td>\n",
       "      <td>-2.920251</td>\n",
       "      <td>-2.086857</td>\n",
       "      <td>-999.000000</td>\n",
       "      <td>24.607911</td>\n",
       "      <td>21.576661</td>\n",
       "      <td>12.046796</td>\n",
       "      <td>-999.000000</td>\n",
       "    </tr>\n",
       "    <tr>\n",
       "      <th>2</th>\n",
       "      <td>1.0</td>\n",
       "      <td>180.418744</td>\n",
       "      <td>-999.000000</td>\n",
       "      <td>-999.000000</td>\n",
       "      <td>-999.000000</td>\n",
       "      <td>-1.262694</td>\n",
       "      <td>-999.000000</td>\n",
       "      <td>-999.000000</td>\n",
       "      <td>-999.000000</td>\n",
       "      <td>2.763893</td>\n",
       "      <td>-999.000000</td>\n",
       "      <td>-999.000000</td>\n",
       "      <td>-999.000000</td>\n",
       "      <td>34.021953</td>\n",
       "      <td>-999.000000</td>\n",
       "      <td>-999.000000</td>\n",
       "      <td>-999.000000</td>\n",
       "    </tr>\n",
       "    <tr>\n",
       "      <th>3</th>\n",
       "      <td>1.0</td>\n",
       "      <td>123.361312</td>\n",
       "      <td>-999.000000</td>\n",
       "      <td>-999.000000</td>\n",
       "      <td>-999.000000</td>\n",
       "      <td>1.777785</td>\n",
       "      <td>-999.000000</td>\n",
       "      <td>-999.000000</td>\n",
       "      <td>-999.000000</td>\n",
       "      <td>-0.543866</td>\n",
       "      <td>-999.000000</td>\n",
       "      <td>-999.000000</td>\n",
       "      <td>-999.000000</td>\n",
       "      <td>23.160264</td>\n",
       "      <td>-999.000000</td>\n",
       "      <td>-999.000000</td>\n",
       "      <td>-999.000000</td>\n",
       "    </tr>\n",
       "    <tr>\n",
       "      <th>4</th>\n",
       "      <td>4.0</td>\n",
       "      <td>163.660012</td>\n",
       "      <td>72.199409</td>\n",
       "      <td>33.798631</td>\n",
       "      <td>25.914431</td>\n",
       "      <td>-0.501624</td>\n",
       "      <td>1.195995</td>\n",
       "      <td>1.194867</td>\n",
       "      <td>-0.849276</td>\n",
       "      <td>-2.365578</td>\n",
       "      <td>-2.805764</td>\n",
       "      <td>0.611460</td>\n",
       "      <td>1.376696</td>\n",
       "      <td>33.096091</td>\n",
       "      <td>15.648594</td>\n",
       "      <td>8.263577</td>\n",
       "      <td>8.521142</td>\n",
       "    </tr>\n",
       "  </tbody>\n",
       "</table>\n",
       "</div>"
      ],
      "text/plain": [
       "   N_jet        pT_1        pT_2        pT_3        pT_4     eta_1  \\\n",
       "0    2.0   87.399442   64.213808 -999.000000 -999.000000  0.187685   \n",
       "1    3.0  156.631723  116.276794  100.766976 -999.000000 -0.720677   \n",
       "2    1.0  180.418744 -999.000000 -999.000000 -999.000000 -1.262694   \n",
       "3    1.0  123.361312 -999.000000 -999.000000 -999.000000  1.777785   \n",
       "4    4.0  163.660012   72.199409   33.798631   25.914431 -0.501624   \n",
       "\n",
       "        eta_2       eta_3       eta_4     phi_1       phi_2       phi_3  \\\n",
       "0    0.613261 -999.000000 -999.000000 -0.162607   -0.410417 -999.000000   \n",
       "1   -1.840887   -2.304753 -999.000000  1.453170   -2.920251   -2.086857   \n",
       "2 -999.000000 -999.000000 -999.000000  2.763893 -999.000000 -999.000000   \n",
       "3 -999.000000 -999.000000 -999.000000 -0.543866 -999.000000 -999.000000   \n",
       "4    1.195995    1.194867   -0.849276 -2.365578   -2.805764    0.611460   \n",
       "\n",
       "        phi_4     mass_1      mass_2      mass_3      mass_4  \n",
       "0 -999.000000  13.970557   11.678316 -999.000000 -999.000000  \n",
       "1 -999.000000  24.607911   21.576661   12.046796 -999.000000  \n",
       "2 -999.000000  34.021953 -999.000000 -999.000000 -999.000000  \n",
       "3 -999.000000  23.160264 -999.000000 -999.000000 -999.000000  \n",
       "4    1.376696  33.096091   15.648594    8.263577    8.521142  "
      ]
     },
     "execution_count": 5,
     "metadata": {},
     "output_type": "execute_result"
    }
   ],
   "source": [
    "dataset_ckkwl[2].head()"
   ]
  },
  {
   "cell_type": "code",
   "execution_count": 6,
   "metadata": {},
   "outputs": [
    {
     "data": {
      "text/plain": [
       "['weight_1', 'weight_2']"
      ]
     },
     "execution_count": 6,
     "metadata": {},
     "output_type": "execute_result"
    }
   ],
   "source": [
    "weight_ckkwl.files"
   ]
  },
  {
   "cell_type": "code",
   "execution_count": 7,
   "metadata": {},
   "outputs": [
    {
     "data": {
      "text/plain": [
       "array([2.7949634e-14, 2.7949634e-14, 4.1366087e-14, ..., 3.5438452e-14,\n",
       "       2.7949634e-14, 2.7949634e-14], dtype=float32)"
      ]
     },
     "execution_count": 7,
     "metadata": {},
     "output_type": "execute_result"
    }
   ],
   "source": [
    "weight_ckkwl['weight_2']"
   ]
  },
  {
   "cell_type": "code",
   "execution_count": 8,
   "metadata": {},
   "outputs": [
    {
     "name": "stdout",
     "output_type": "stream",
     "text": [
      "For weight_1:\n",
      "* cross-section of MLM = [0.43172395] pb\n",
      "* cross-section of CKKW-L = [0.57777829] pb\n",
      "--------------------------------------------------------------------------------\n",
      "For weight_2:\n",
      "* cross-section of MLM = 0.43172395461038116 pb\n",
      "* cross-section of CKKW-L = 0.5777782906857286 pb\n"
     ]
    }
   ],
   "source": [
    "print('For weight_1:')\n",
    "print(f\"* cross-section of MLM = {np.sum(weight_mlm['weight_1'] * (10**9))} pb\")\n",
    "print(f\"* cross-section of CKKW-L = {np.sum(weight_ckkwl['weight_1'] * (10**9))} pb\")\n",
    "print('-'*80)\n",
    "print('For weight_2:')\n",
    "print(f\"* cross-section of MLM = {np.sum(weight_mlm['weight_2'] * (10**9))} pb\")\n",
    "print(f\"* cross-section of CKKW-L = {np.sum(weight_ckkwl['weight_2'] * (10**9))} pb\")"
   ]
  },
  {
   "cell_type": "markdown",
   "metadata": {},
   "source": [
    "##### Conclusion: Well done!!"
   ]
  },
  {
   "cell_type": "markdown",
   "metadata": {},
   "source": [
    "## 3. Plot"
   ]
  },
  {
   "cell_type": "code",
   "execution_count": 39,
   "metadata": {},
   "outputs": [
    {
     "name": "stdout",
     "output_type": "stream",
     "text": [
      "dtype of selected of MLM: int64\n",
      "dtype of selected of CKKW-L: int64\n"
     ]
    }
   ],
   "source": [
    "# define global parameters\n",
    "binning = np.linspace(0, 5000, 101)\n",
    "color, label = ['red', 'blue'], ['MLM', 'CKKW-L']\n",
    "text = [r'$\\sqrt{s} = 13$ TeV', r'$m_{Z^\\prime} = 1500$ GeV',\n",
    "        r'$r_\\mathrm{inv} = 0.3$', r'$\\Lambda_d = 5$ GeV']\n",
    "text_xy = (0.05, 0.93)\n",
    "# weight\n",
    "w_mlm = weight_mlm['weight_2'] * (10**9)\n",
    "w_ckkwl = weight_ckkwl['weight_2'] * (10**9)\n",
    "weight = [w_mlm, w_ckkwl]\n",
    "# selected events\n",
    "selected_all = [np.arange(dataset_mlm[0].shape[0]), np.arange(dataset_ckkwl[0].shape[0])]\n",
    "s_jj_mlm = dataset_mlm[6]['selected'].to_numpy().astype('int64')\n",
    "s_jj_ckkwl = dataset_ckkwl[6]['selected'].to_numpy().astype('int64')\n",
    "print(f'dtype of selected of MLM: {s_jj_mlm.dtype}\\ndtype of selected of CKKW-L: {s_jj_ckkwl.dtype}')"
   ]
  },
  {
   "cell_type": "markdown",
   "metadata": {},
   "source": [
    "### 3-1. Number of jets"
   ]
  },
  {
   "cell_type": "code",
   "execution_count": 30,
   "metadata": {},
   "outputs": [
    {
     "data": {
      "image/png": "[encoded data removed]",
      "text/plain": [
       "<Figure size 504x504 with 1 Axes>"
      ]
     },
     "metadata": {
      "image/png": {
       "height": 450,
       "width": 465
      },
      "needs_background": "light"
     },
     "output_type": "display_data"
    },
    {
     "name": "stdout",
     "output_type": "stream",
     "text": [
      "--------------------------------------------------------------------------------\n",
      "Area of MLM and CKKW-L = [14647 19373]\n"
     ]
    }
   ],
   "source": [
    "# [dataset_ckkwl[5], dataset_ckkwl[2]]\n",
    "hist, bins = plotting('N_jet', [dataset_mlm[2], dataset_ckkwl[2]],\n",
    "                      np.linspace(0, 20, 21), color, label, align='left',\n",
    "                      set_title='Number of Jets',\n",
    "                      xlabel=r'$N_\\mathrm{jet}$', ylabel='Events',\n",
    "                      x_minor_locator=MultipleLocator(1), y_minor_locator=AutoMinorLocator(),\n",
    "                      xlim=(-1, 12), ylim=(0, 6000),\n",
    "                      text=text, text_xy=text_xy, savefig='./figures_1/fig_01-N_jet.pdf')\n",
    "print('-'*80)\n",
    "print(f'Area of MLM and CKKW-L = {np.sum(hist, axis=1)}')"
   ]
  },
  {
   "cell_type": "markdown",
   "metadata": {},
   "source": [
    "### 3-2. Dark quark pair\n",
    "* $M(\\chi, \\bar{\\chi})$\n",
    "* $M_T(\\chi, \\bar{\\chi})$\n",
    "* $m_T(\\chi, \\bar{\\chi})$\n",
    "* $\\Delta\\phi(\\chi, \\bar{\\chi})$\n",
    "* $\\Delta\\eta(\\chi, \\bar{\\chi})$\n",
    "* $p_T(\\chi),\\ p_T(\\bar{\\chi})$\n",
    "* $\\eta(\\chi),\\ \\eta(\\bar{\\chi})$"
   ]
  },
  {
   "cell_type": "code",
   "execution_count": 47,
   "metadata": {},
   "outputs": [
    {
     "data": {
      "image/png": "[encoded data removed]",
      "text/plain": [
       "<Figure size 504x504 with 1 Axes>"
      ]
     },
     "metadata": {
      "image/png": {
       "height": 449,
       "width": 478
      },
      "needs_background": "light"
     },
     "output_type": "display_data"
    },
    {
     "name": "stdout",
     "output_type": "stream",
     "text": [
      "--------------------------------------------------------------------------------\n",
      "Area of MLM and CKKW-L = [0.43172395 0.57777829]\n"
     ]
    }
   ],
   "source": [
    "hist, bins = plotting('M_xdxdx', [dataset_mlm[0], dataset_ckkwl[0]],\n",
    "                      binning, color, label, weight=weight, selected=selected_all,\n",
    "                      set_title='Invariant Mass of Dark Quark Pair',\n",
    "                      xlabel=r'$M(\\chi, \\bar{\\chi})$ [GeV]',\n",
    "                      ylabel=r'$\\frac{d\\sigma}{dM}$ [pb/50.0 GeV]',\n",
    "                      yscale='log', y_minor_locator=LogLocator(base=10, subs='auto'),\n",
    "                      xlim=(0, 3000), ylim=(1/100000, 1),\n",
    "                      text=text, text_xy=text_xy, savefig='./figures_1/fig_02-M_xdxdx.pdf')\n",
    "print('-'*80)\n",
    "print(f'Area of MLM and CKKW-L = {np.sum(hist, axis=1)}')"
   ]
  },
  {
   "cell_type": "code",
   "execution_count": null,
   "metadata": {},
   "outputs": [],
   "source": []
  },
  {
   "cell_type": "code",
   "execution_count": 27,
   "metadata": {},
   "outputs": [
    {
     "data": {
      "text/html": [
       "<div>\n",
       "<style scoped>\n",
       "    .dataframe tbody tr th:only-of-type {\n",
       "        vertical-align: middle;\n",
       "    }\n",
       "\n",
       "    .dataframe tbody tr th {\n",
       "        vertical-align: top;\n",
       "    }\n",
       "\n",
       "    .dataframe thead th {\n",
       "        text-align: right;\n",
       "    }\n",
       "</style>\n",
       "<table border=\"1\" class=\"dataframe\">\n",
       "  <thead>\n",
       "    <tr style=\"text-align: right;\">\n",
       "      <th></th>\n",
       "      <th>M_xdxdx</th>\n",
       "      <th>MT_xdxdx</th>\n",
       "      <th>mT_xdxdx</th>\n",
       "      <th>ET_xdxdx</th>\n",
       "      <th>Dphi_xdxdx</th>\n",
       "      <th>Deta_xdxdx</th>\n",
       "      <th>pT_xd</th>\n",
       "      <th>pT_xdx</th>\n",
       "      <th>eta_xd</th>\n",
       "      <th>eta_xdx</th>\n",
       "    </tr>\n",
       "  </thead>\n",
       "  <tbody>\n",
       "    <tr>\n",
       "      <th>0</th>\n",
       "      <td>1533.652864</td>\n",
       "      <td>1003.817572</td>\n",
       "      <td>1533.695080</td>\n",
       "      <td>1533.695080</td>\n",
       "      <td>3.133986</td>\n",
       "      <td>1.973794</td>\n",
       "      <td>507.201447</td>\n",
       "      <td>496.481354</td>\n",
       "      <td>0.431692</td>\n",
       "      <td>-1.542102</td>\n",
       "    </tr>\n",
       "    <tr>\n",
       "      <th>1</th>\n",
       "      <td>1499.241203</td>\n",
       "      <td>1153.038215</td>\n",
       "      <td>1503.707073</td>\n",
       "      <td>1503.707073</td>\n",
       "      <td>2.944311</td>\n",
       "      <td>1.507256</td>\n",
       "      <td>589.262390</td>\n",
       "      <td>569.403992</td>\n",
       "      <td>-0.132120</td>\n",
       "      <td>-1.639376</td>\n",
       "    </tr>\n",
       "    <tr>\n",
       "      <th>2</th>\n",
       "      <td>1520.357868</td>\n",
       "      <td>454.273074</td>\n",
       "      <td>1531.794487</td>\n",
       "      <td>1531.794487</td>\n",
       "      <td>2.643109</td>\n",
       "      <td>3.696218</td>\n",
       "      <td>318.797668</td>\n",
       "      <td>171.947754</td>\n",
       "      <td>1.541331</td>\n",
       "      <td>-2.154887</td>\n",
       "    </tr>\n",
       "    <tr>\n",
       "      <th>3</th>\n",
       "      <td>1463.723784</td>\n",
       "      <td>556.672130</td>\n",
       "      <td>1463.804979</td>\n",
       "      <td>1463.804979</td>\n",
       "      <td>3.114872</td>\n",
       "      <td>3.243064</td>\n",
       "      <td>285.016785</td>\n",
       "      <td>271.509338</td>\n",
       "      <td>1.744532</td>\n",
       "      <td>-1.498532</td>\n",
       "    </tr>\n",
       "    <tr>\n",
       "      <th>4</th>\n",
       "      <td>1422.351286</td>\n",
       "      <td>1018.004155</td>\n",
       "      <td>1425.646474</td>\n",
       "      <td>1425.646474</td>\n",
       "      <td>3.128751</td>\n",
       "      <td>1.728263</td>\n",
       "      <td>462.875916</td>\n",
       "      <td>559.529846</td>\n",
       "      <td>-0.715840</td>\n",
       "      <td>1.012423</td>\n",
       "    </tr>\n",
       "  </tbody>\n",
       "</table>\n",
       "</div>"
      ],
      "text/plain": [
       "       M_xdxdx     MT_xdxdx     mT_xdxdx     ET_xdxdx  Dphi_xdxdx  Deta_xdxdx  \\\n",
       "0  1533.652864  1003.817572  1533.695080  1533.695080    3.133986    1.973794   \n",
       "1  1499.241203  1153.038215  1503.707073  1503.707073    2.944311    1.507256   \n",
       "2  1520.357868   454.273074  1531.794487  1531.794487    2.643109    3.696218   \n",
       "3  1463.723784   556.672130  1463.804979  1463.804979    3.114872    3.243064   \n",
       "4  1422.351286  1018.004155  1425.646474  1425.646474    3.128751    1.728263   \n",
       "\n",
       "        pT_xd      pT_xdx    eta_xd   eta_xdx  \n",
       "0  507.201447  496.481354  0.431692 -1.542102  \n",
       "1  589.262390  569.403992 -0.132120 -1.639376  \n",
       "2  318.797668  171.947754  1.541331 -2.154887  \n",
       "3  285.016785  271.509338  1.744532 -1.498532  \n",
       "4  462.875916  559.529846 -0.715840  1.012423  "
      ]
     },
     "execution_count": 27,
     "metadata": {},
     "output_type": "execute_result"
    }
   ],
   "source": [
    "dataset_ckkwl[0].head()"
   ]
  },
  {
   "cell_type": "markdown",
   "metadata": {},
   "source": [
    "## Test"
   ]
  },
  {
   "cell_type": "code",
   "execution_count": 43,
   "metadata": {},
   "outputs": [
    {
     "data": {
      "text/plain": [
       "dtype('int64')"
      ]
     },
     "execution_count": 43,
     "metadata": {},
     "output_type": "execute_result"
    }
   ],
   "source": [
    "dataset_ckkwl[2]['N_jet'].astype('int64').dtypes"
   ]
  },
  {
   "cell_type": "code",
   "execution_count": 46,
   "metadata": {},
   "outputs": [
    {
     "data": {
      "text/plain": [
       "N_jet       int64\n",
       "pT_1      float64\n",
       "pT_2      float64\n",
       "pT_3      float64\n",
       "pT_4      float64\n",
       "eta_1     float64\n",
       "eta_2     float64\n",
       "eta_3     float64\n",
       "eta_4     float64\n",
       "phi_1     float64\n",
       "phi_2     float64\n",
       "phi_3     float64\n",
       "phi_4     float64\n",
       "mass_1    float64\n",
       "mass_2    float64\n",
       "mass_3    float64\n",
       "mass_4    float64\n",
       "dtype: object"
      ]
     },
     "execution_count": 46,
     "metadata": {},
     "output_type": "execute_result"
    }
   ],
   "source": [
    "dataset_ckkwl[2].astype({'N_jet': 'int64'}).dtypes"
   ]
  },
  {
   "cell_type": "code",
   "execution_count": null,
   "metadata": {},
   "outputs": [],
   "source": []
  }
 ],
 "metadata": {
  "interpreter": {
   "hash": "31f2aee4e71d21fbe5cf8b01ff0e069b9275f58929596ceb00d14d90e3e16cd6"
  },
  "kernelspec": {
   "display_name": "Python 3.8.9 64-bit",
   "language": "python",
   "name": "python3"
  },
  "language_info": {
   "codemirror_mode": {
    "name": "ipython",
    "version": 3
   },
   "file_extension": ".py",
   "mimetype": "text/x-python",
   "name": "python",
   "nbconvert_exporter": "python",
   "pygments_lexer": "ipython3",
   "version": "3.8.5"
  },
  "orig_nbformat": 4
 },
 "nbformat": 4,
 "nbformat_minor": 2
}
